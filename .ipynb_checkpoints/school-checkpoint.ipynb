{
 "metadata": {
  "name": ""
 },
 "nbformat": 3,
 "nbformat_minor": 0,
 "worksheets": [
  {
   "cells": [
    {
     "cell_type": "code",
     "collapsed": false,
     "input": [
      "from bs4 import BeautifulSoup\n",
      "import urllib2\n",
      "import re"
     ],
     "language": "python",
     "metadata": {},
     "outputs": [],
     "prompt_number": 1
    },
    {
     "cell_type": "code",
     "collapsed": false,
     "input": [
      "baseurl=\"http://kaoshi.edu.sina.com.cn/abroad/list.php?country=&type=&zhinanflag=&collegename=&page=\"\n",
      "# url = 0\n",
      "page = range(57,678)\n",
      "for url in page:\n",
      "    url = baseurl + str(url+1)\n",
      "    page=urllib2.urlopen(url)\n",
      "    soup = BeautifulSoup(page.read())\n",
      "    table = soup.find('table',attrs={'bgcolor':\"#ABBEE6\"})\n",
      "    rows = table.findAll(lambda tag: tag.name=='tr')\n",
      "    for row in rows[1:]:\n",
      "#         print '\\t'.join(row.text.split('\\n')[:-3])\n",
      "        url = row.find('a',attrs={'target':\"_blank\"}).get('href')\n",
      "#         print url\n",
      "        page=urllib2.urlopen(url)\n",
      "        esoup = BeautifulSoup(page.read())\n",
      "        ename = esoup.find('table',attrs={'width':\"98%\"}).text\n",
      "#         print ename\n",
      "        print '\\t'.join(ename.strip().split('\\r\\n'))"
     ],
     "language": "python",
     "metadata": {},
     "outputs": [
      {
       "output_type": "stream",
       "stream": "stdout",
       "text": [
        "\u54c8\u4f5b\u5927\u5b66(\u5251\u6865)\t                \u00a0Harvard University (Cambridge)\n",
        "\u97e6\u4f2f\u65af\u7279\u5927\u5b66(\u5723\u8def\u6613\u65af)\t                \u00a0Webster University (St. Louis)"
       ]
      },
      {
       "output_type": "stream",
       "stream": "stdout",
       "text": [
        "\n",
        "\u591a\u4f26\u591a\u5927\u5b66\t                \u00a0University of Toronto"
       ]
      },
      {
       "output_type": "stream",
       "stream": "stdout",
       "text": [
        "\n",
        "\u6089\u5c3c\u5927\u5b66\t                \u00a0The University of Sydney"
       ]
      },
      {
       "output_type": "stream",
       "stream": "stdout",
       "text": [
        "\n",
        "\u5357\u6d0b\u7406\u5de5\u5927\u5b66\t                \u00a0Nanyang Technological University"
       ]
      },
      {
       "output_type": "stream",
       "stream": "stdout",
       "text": [
        "\n",
        "\u6e05\u5dde\u56fd\u7acb\u6559\u80b2\u5927\u5b66\t                \u00a0Chongju National University of Education"
       ]
      },
      {
       "output_type": "stream",
       "stream": "stdout",
       "text": [
        "\n",
        "\u58a8\u5c14\u672c\u5927\u5b66\t                \u00a0The University of Melbourne"
       ]
      },
      {
       "output_type": "stream",
       "stream": "stdout",
       "text": [
        "\n",
        "\u9ebb\u7701\u7406\u5de5\u5b66\u9662(\u5251\u6865)\t                \u00a0Massachusetts Institute of Technology (Cambridge)"
       ]
      },
      {
       "output_type": "stream",
       "stream": "stdout",
       "text": [
        "\n",
        "\u65b0\u52a0\u5761\u56fd\u7acb\u5927\u5b66\t                \u00a0National University of Singapore"
       ]
      },
      {
       "output_type": "stream",
       "stream": "stdout",
       "text": [
        "\n",
        "\u9996\u5c14\u6559\u80b2\u5927\u5b66\t                \u00a0Seoul National University of Education"
       ]
      },
      {
       "output_type": "stream",
       "stream": "stdout",
       "text": [
        "\n",
        "\u8bfa\u4e01\u6c49\u5927\u5b66\t                \u00a0University of Nottingham"
       ]
      },
      {
       "output_type": "stream",
       "stream": "stdout",
       "text": [
        "\n",
        "\u5357\u52a0\u5dde\u5927\u5b66(\u6d1b\u6749\u77f6)\t                \u00a0University of Southern California (Los Angeles)"
       ]
      },
      {
       "output_type": "stream",
       "stream": "stdout",
       "text": [
        "\n",
        "\u6606\u58eb\u5170\u5927\u5b66\t                \u00a0The University of Queensland"
       ]
      },
      {
       "output_type": "stream",
       "stream": "stdout",
       "text": [
        "\n",
        "\u9ea6\u514b\u9a6c\u65af\u7279\u5927\u5b66\t                \u00a0McMaster University"
       ]
      },
      {
       "output_type": "stream",
       "stream": "stdout",
       "text": [
        "\n",
        "\u52a0\u5dde\u5927\u5b66\u4f2f\u514b\u5229\u5206\u6821(\u4f2f\u514b\u5229)\t                \u00a0University of California, Berkeley (Berkeley)"
       ]
      },
      {
       "output_type": "stream",
       "stream": "stdout",
       "text": [
        "\n",
        "\u6ed1\u94c1\u5362\u5927\u5b66\t                \u00a0University of Waterloo"
       ]
      },
      {
       "output_type": "stream",
       "stream": "stdout",
       "text": [
        "\n",
        "\u4eac\u90fd\u5927\u5b66\t                \u00a0Kyoto University"
       ]
      },
      {
       "output_type": "stream",
       "stream": "stdout",
       "text": [
        "\n",
        "\u7ef4\u591a\u5229\u4e9a\u5927\u5b66\t                \u00a0University of Victoria"
       ]
      },
      {
       "output_type": "stream",
       "stream": "stdout",
       "text": [
        "\n",
        "\u5bbe\u5915\u6cd5\u5c3c\u4e9a\u5dde\u7acb\u5927\u5b66(\u5927\u5b66\u56ed)\t                \u00a0The Pennsylvania State University (University Park)"
       ]
      },
      {
       "output_type": "stream",
       "stream": "stdout",
       "text": [
        "\n",
        "\u82f1\u5c5e\u54e5\u4f26\u6bd4\u4e9a\u5927\u5b66\t                \u00a0University of British Columbia"
       ]
      },
      {
       "output_type": "stream",
       "stream": "stdout",
       "text": [
        "\n",
        "\u4f0a\u5229\u8bfa\u65af\u5927\u5b66\u829d\u52a0\u54e5\u5206\u6821(\u829d\u52a0\u54e5)\t                \u00a0University of Illinois at Chicago (Chicago)"
       ]
      },
      {
       "output_type": "stream",
       "stream": "stdout",
       "text": [
        "\n",
        "\u54e5\u4f26\u6bd4\u4e9a\u5927\u5b66(\u7ebd\u7ea6)\t                \u00a0Columbia University (New York)"
       ]
      },
      {
       "output_type": "stream",
       "stream": "stdout",
       "text": [
        "\n",
        "\u7231\u4e01\u5821\u5927\u5b66\t                \u00a0University of Edinburgh"
       ]
      },
      {
       "output_type": "stream",
       "stream": "stdout",
       "text": [
        "\n",
        "\u4e1c\u4eac\u5927\u5b66\t                \u00a0The University of Tokyo"
       ]
      },
      {
       "output_type": "stream",
       "stream": "stdout",
       "text": [
        "\n",
        "\u5251\u6865\u5927\u5b66\t                \u00a0University of Cambridge"
       ]
      },
      {
       "output_type": "stream",
       "stream": "stdout",
       "text": [
        "\n",
        "\u6fb3\u5927\u5229\u4e9a\u56fd\u7acb\u5927\u5b66\t                \u00a0The Australian National University"
       ]
      },
      {
       "output_type": "stream",
       "stream": "stdout",
       "text": [
        "\n",
        "\u65b0\u5357\u5a01\u5c14\u58eb\u5927\u5b66\t                \u00a0The University of New South Wales"
       ]
      },
      {
       "output_type": "stream",
       "stream": "stdout",
       "text": [
        "\n",
        "\u52a0\u5dde\u5dde\u7acb\u5927\u5b66\u6d1b\u6749\u77f6\u5206\u6821(\u6d1b\u6749\u77f6)\t                \u00a0California State University (Los Angeles)"
       ]
      },
      {
       "output_type": "stream",
       "stream": "stdout",
       "text": [
        "\n",
        "\u67cf\u6797\u81ea\u7531\u5927\u5b66"
       ]
      },
      {
       "output_type": "stream",
       "stream": "stdout",
       "text": [
        "\n",
        "\u963f\u5c14\u4f2f\u5854\u5927\u5b66\t                \u00a0University of Alberta"
       ]
      },
      {
       "output_type": "stream",
       "stream": "stdout",
       "text": [
        "\n",
        "\u83ab\u65af\u79d1\u56fd\u7acb\u5927\u5b66\t                \u00a0Lomonosov Moscow State University"
       ]
      },
      {
       "output_type": "stream",
       "stream": "stdout",
       "text": [
        "\n",
        "\u6155\u5c3c\u9ed1\u5927\u5b66"
       ]
      },
      {
       "output_type": "stream",
       "stream": "stdout",
       "text": [
        "\n",
        "\u8c22\u83f2\u5c14\u5fb7\u5b66\u9662\t                \u00a0The Sheffield College"
       ]
      },
      {
       "output_type": "stream",
       "stream": "stdout",
       "text": [
        "\n",
        "\u5bbe\u5915\u6cd5\u5c3c\u4e9a\u5927\u5b66 (\u8d39\u57ce)\t                \u00a0University of Pennsylvania (Philadelphia)"
       ]
      },
      {
       "output_type": "stream",
       "stream": "stdout",
       "text": [
        "\n",
        "\u725b\u6d25\u5927\u5b66\t                \u00a0University of Oxford"
       ]
      },
      {
       "output_type": "stream",
       "stream": "stdout",
       "text": [
        "\n",
        "\u5bc6\u6b47\u6839\u5927\u5b66(\u5b89\u963f\u4f2f)\t                \u00a0University of Michigan (Ann Arbor)"
       ]
      },
      {
       "output_type": "stream",
       "stream": "stdout",
       "text": [
        "\n",
        "\u9ea6\u8003\u745e\u5927\u5b66\t                \u00a0Macquarie University"
       ]
      },
      {
       "output_type": "stream",
       "stream": "stdout",
       "text": [
        "\n",
        "\u6797\u767b\u5b66\u9662\t                \u00a0Linton College"
       ]
      },
      {
       "output_type": "stream",
       "stream": "stdout",
       "text": [
        "\n",
        "\u9ea6\u5409\u5c14\u5927\u5b66\t                \u00a0McGill University"
       ]
      },
      {
       "output_type": "stream",
       "stream": "stdout",
       "text": [
        "\n",
        "\u7ebd\u7ea6\u5927\u5b66(\u7ebd\u7ea6)\t                \u00a0New York University (New York)"
       ]
      },
      {
       "output_type": "stream",
       "stream": "stdout",
       "text": [
        "\n",
        "\u65af\u5766\u798f\u5927\u5b66(\u65af\u5766\u798f)\t                \u00a0Stanford University (Stanford)"
       ]
      },
      {
       "output_type": "stream",
       "stream": "stdout",
       "text": [
        "\n",
        "\u5965\u514b\u5170\u5927\u5b66\t                \u00a0The University of Auckland"
       ]
      },
      {
       "output_type": "stream",
       "stream": "stdout",
       "text": [
        "\n",
        "\u534e\u5a01\u5927\u5b66\t                \u00a0University of Warwick"
       ]
      },
      {
       "output_type": "stream",
       "stream": "stdout",
       "text": [
        "\n",
        "\u6ce2\u58eb\u987f\u5927\u5b66(\u6ce2\u58eb\u987f)\t                \u00a0Boston University (Boston)"
       ]
      },
      {
       "output_type": "stream",
       "stream": "stdout",
       "text": [
        "\n",
        "\u7ea6\u514b\u5927\u5b66\t                \u00a0York University"
       ]
      },
      {
       "output_type": "stream",
       "stream": "stdout",
       "text": [
        "\n",
        "\u4f26\u6566\u5927\u5b66\t                \u00a0University of London"
       ]
      },
      {
       "output_type": "stream",
       "stream": "stdout",
       "text": [
        "\n",
        "\u4fc4\u4ea5\u4fc4\u5dde\u7acb\u5927\u5b66(\u54e5\u4f26\u5e03)\t                \u00a0Ohio State University (Columbus)"
       ]
      },
      {
       "output_type": "stream",
       "stream": "stdout",
       "text": [
        "\n",
        "\u6e29\u54e5\u534e\u793e\u533a\u5b66\u9662\t                \u00a0Vancouver Community College"
       ]
      },
      {
       "output_type": "stream",
       "stream": "stdout",
       "text": [
        "\n",
        "\u4e9a\u741b\u5de5\u4e1a\u5927\u5b66"
       ]
      },
      {
       "output_type": "stream",
       "stream": "stdout",
       "text": [
        "\n",
        "\u897f\u5b89\u5927\u7565\u5927\u5b66\t                \u00a0University of Western Ontario"
       ]
      },
      {
       "output_type": "stream",
       "stream": "stdout",
       "text": [
        "\n",
        "\u5229\u7269\u6d66\u5927\u5b66\t                \u00a0University of Liverpool"
       ]
      },
      {
       "output_type": "stream",
       "stream": "stdout",
       "text": [
        "\n",
        "\u9a6c\u5fb7\u91cc\u81ea\u6cbb\u5927\u5b66"
       ]
      },
      {
       "output_type": "stream",
       "stream": "stdout",
       "text": [
        "\n",
        "\u675c\u4f26\u5927\u5b66\t                \u00a0University of Durham"
       ]
      },
      {
       "output_type": "stream",
       "stream": "stdout",
       "text": [
        "\n",
        "\u7ebd\u5361\u65af\u5c14\u5927\u5b66\t                \u00a0University of Newcastle upon Tyne"
       ]
      },
      {
       "output_type": "stream",
       "stream": "stdout",
       "text": [
        "\n",
        "\u5361\u5df4\u5c14\u8fbe-\u5df4\u5c14\u5361\u5c14\u56fd\u7acb\u5927\u5b66\t                \u00a0Kabardino-Balkarian State University"
       ]
      },
      {
       "output_type": "stream",
       "stream": "stdout",
       "text": [
        "\n",
        "\u897f\u8499\u5f17\u96f7\u6cfd\u5927\u5b66\t                \u00a0Simon Fraser University"
       ]
      },
      {
       "output_type": "stream",
       "stream": "stdout",
       "text": [
        "\n",
        "\u675c\u514b\u5927\u5b66(\u5fb7\u6c49\u59c6)\t                \u00a0Duke University (Durham)"
       ]
      },
      {
       "output_type": "stream",
       "stream": "stdout",
       "text": [
        "\n",
        "\u7ea6\u514b\u5927\u5b66\t                \u00a0University of York"
       ]
      },
      {
       "output_type": "stream",
       "stream": "stdout",
       "text": [
        "\n",
        "\u5fb7\u7d2f\u65af\u987f\u5de5\u4e1a\u5927\u5b66"
       ]
      },
      {
       "output_type": "stream",
       "stream": "stdout",
       "text": [
        "\n",
        "\u5eb7\u5948\u5c14\u5927\u5b66(\u4f0a\u8428\u5361)\t                \u00a0Cornell University (Ithaca)"
       ]
      },
      {
       "output_type": "stream",
       "stream": "stdout",
       "text": [
        "\n",
        "\u963f\u5fb7\u83b1\u5fb7\u5927\u5b66\t                \u00a0Adelaide University"
       ]
      },
      {
       "output_type": "stream",
       "stream": "stdout",
       "text": [
        "\n",
        "\u65e9\u7a3b\u7530\u5927\u5b66\t                \u00a0Waseda University"
       ]
      },
      {
       "output_type": "stream",
       "stream": "stdout",
       "text": [
        "\n",
        "\u963f\u59c6\u65af\u7279\u4e39\u5927\u5b66\t                \u00a0University of Amsterdam"
       ]
      },
      {
       "output_type": "stream",
       "stream": "stdout",
       "text": [
        "\n",
        "\u4f26\u6566\u653f\u6cbb\u7ecf\u6d4e\u5b66\u9662\t                \u00a0London School of Economics and Political Science"
       ]
      },
      {
       "output_type": "stream",
       "stream": "stdout",
       "text": [
        "\n",
        "\u5229\u5179\u5927\u5b66\t                \u00a0University of Leeds"
       ]
      },
      {
       "output_type": "stream",
       "stream": "stdout",
       "text": [
        "\n",
        "\u83ab\u7eb3\u4ec0\u5927\u5b66\t                \u00a0Monash University"
       ]
      },
      {
       "output_type": "stream",
       "stream": "stdout",
       "text": [
        "\n",
        "\u5df4\u65af\u5927\u5b66\t                \u00a0University of Bath"
       ]
      },
      {
       "output_type": "stream",
       "stream": "stdout",
       "text": [
        "\n",
        "\u9996\u5c14\u5927\u5b66\t                \u00a0Seoul National University"
       ]
      },
      {
       "output_type": "stream",
       "stream": "stdout",
       "text": [
        "\n",
        "\u5170\u65af\u5927\u5b66"
       ]
      },
      {
       "output_type": "stream",
       "stream": "stdout",
       "text": [
        "\n",
        "\u5df4\u9ece\u5341\u4e00\u5927"
       ]
      },
      {
       "output_type": "stream",
       "stream": "stdout",
       "text": [
        "\n",
        "\u5e03\u91cc\u65af\u6258\u5c14\u5927\u5b66\t                \u00a0University of Bristol"
       ]
      },
      {
       "output_type": "stream",
       "stream": "stdout",
       "text": [
        "\n",
        "\u4e4c\u666e\u8428\u62c9\u5927\u5b66\t                \u00a0Uppsala University"
       ]
      },
      {
       "output_type": "stream",
       "stream": "stdout",
       "text": [
        "\n",
        "\u8036\u9c81\u5927\u5b66(\u7ebd\u9ed1\u6587)\t                \u00a0Yale University (New Haven)"
       ]
      },
      {
       "output_type": "stream",
       "stream": "stdout",
       "text": [
        "\n",
        "\u96ea\u57ce\u5927\u5b66(\u96ea\u57ce)\t                \u00a0Syracuse University (Syracuse)"
       ]
      },
      {
       "output_type": "stream",
       "stream": "stdout",
       "text": [
        "\n",
        "\u6155\u5c3c\u9ed1\u5de5\u4e1a\u5927\u5b66"
       ]
      },
      {
       "output_type": "stream",
       "stream": "stdout",
       "text": [
        "\n",
        "\u5357\u5b89\u666e\u987f\u5927\u5b66\t                \u00a0University of Southampton"
       ]
      },
      {
       "output_type": "stream",
       "stream": "stdout",
       "text": [
        "\n",
        "\u8499\u7279\u514b\u83b1\u5c14\u5dde\u7acb\u5927\u5b66(\u4e0a\u8499\u7279\u514b\u83b1\u5c14)\t                \u00a0Montclair State University (Upper Montclair)"
       ]
      },
      {
       "output_type": "stream",
       "stream": "stdout",
       "text": [
        "\n",
        "\u4f2f\u660e\u7ff0\u5927\u5b66\t                \u00a0University of Birmingham"
       ]
      },
      {
       "output_type": "stream",
       "stream": "stdout",
       "text": [
        "\n",
        "\u6089\u5c3c\u79d1\u6280\u5927\u5b66\t                \u00a0University of Technology Sydney"
       ]
      },
      {
       "output_type": "stream",
       "stream": "stdout",
       "text": [
        "\n",
        "\u683c\u62c9\u65af\u54e5\u5927\u5b66\t                \u00a0University of Glasgow"
       ]
      },
      {
       "output_type": "stream",
       "stream": "stdout",
       "text": [
        "\n",
        "\u65b0\u52a0\u5761\u7ba1\u7406\u5927\u5b66\t                \u00a0Singapore Management University"
       ]
      },
      {
       "output_type": "stream",
       "stream": "stdout",
       "text": [
        "\n",
        "\u745e\u5c14\u68ee\u5927\u5b66\t                \u00a0Ryerson University"
       ]
      },
      {
       "output_type": "stream",
       "stream": "stdout",
       "text": [
        "\n",
        "\u82cf\u9ece\u4e16\u8054\u90a6\u7406\u5de5\u5927\u5b66"
       ]
      },
      {
       "output_type": "stream",
       "stream": "stdout",
       "text": [
        "\n",
        "\u4f5b\u7f57\u91cc\u8fbe\u5927\u5b66(\u76d6\u6069\u65af\u7ef4\u5c14)\t                \u00a0University of Florida (Gainesville)"
       ]
      },
      {
       "output_type": "stream",
       "stream": "stdout",
       "text": [
        "\n",
        "\u8499\u7279\u5229\u5c14\u5927\u5b66"
       ]
      },
      {
       "output_type": "stream",
       "stream": "stdout",
       "text": [
        "\n",
        "\u897f\u6fb3\u5927\u5b66\t                \u00a0The University of Western Australia"
       ]
      },
      {
       "output_type": "stream",
       "stream": "stdout",
       "text": [
        "\n",
        "\u6e29\u838e\u5927\u5b66\t                \u00a0University of Windsor"
       ]
      },
      {
       "output_type": "stream",
       "stream": "stdout",
       "text": [
        "\n",
        "\u5367\u9f99\u5c97\u5927\u5b66\t                \u00a0University of Wollongong"
       ]
      },
      {
       "output_type": "stream",
       "stream": "stdout",
       "text": [
        "\n",
        "\u5e03\u9c81\u514b\u5927\u5b66\t                \u00a0Brock University"
       ]
      },
      {
       "output_type": "stream",
       "stream": "stdout",
       "text": [
        "\n",
        "\u5168\u5357\u5927\u5b66\t                \u00a0Chonnam National University"
       ]
      },
      {
       "output_type": "stream",
       "stream": "stdout",
       "text": [
        "\n",
        "\u7687\u5bb6\u58a8\u5c14\u672c\u7406\u5de5\u5927\u5b66\t                \u00a0RMIT University"
       ]
      },
      {
       "output_type": "stream",
       "stream": "stdout",
       "text": [
        "\n",
        "\u6c49\u5821\u5927\u5b66"
       ]
      },
      {
       "output_type": "stream",
       "stream": "stdout",
       "text": [
        "\n",
        "\u6d77\u5fb7\u5821\u5927\u5b66"
       ]
      },
      {
       "output_type": "stream",
       "stream": "stdout",
       "text": [
        "\n",
        "\u6e25\u592a\u534e\u5927\u5b66\t                \u00a0University of Ottawa"
       ]
      },
      {
       "output_type": "stream",
       "stream": "stdout",
       "text": [
        "\n",
        "\u62c9\u592b\u5821\u5927\u5b66\t                \u00a0Loughborough University"
       ]
      },
      {
       "output_type": "stream",
       "stream": "stdout",
       "text": [
        "\n",
        "\u7f8e\u56fd\u5927\u5b66(\u534e\u76db\u987f)\t                \u00a0American University (Washington)"
       ]
      },
      {
       "output_type": "stream",
       "stream": "stdout",
       "text": [
        "\n",
        "\u67cf\u6797\u5de5\u4e1a\u5927\u5b66"
       ]
      },
      {
       "output_type": "stream",
       "stream": "stdout",
       "text": [
        "\n",
        "\u897f\u96c5\u56fe\u4e2d\u592e\u793e\u533a\u5b66\u9662(\u897f\u96c5\u56fe)\t                \u00a0Seattle Central Community College (Seattle)"
       ]
      },
      {
       "output_type": "stream",
       "stream": "stdout",
       "text": [
        "\n",
        "\u829d\u52a0\u54e5\u5927\u5b66(\u829d\u52a0\u54e5)\t                \u00a0University of Chicago (Chicago)"
       ]
      },
      {
       "output_type": "stream",
       "stream": "stdout",
       "text": [
        "\n",
        "\u5370\u7b2c\u5b89\u7eb3\u5927\u5b66\u5e03\u9c81\u660e\u987f\u5206\u6821\uff08\u5e03\u9c81\u660e\u987f\uff09\t                \u00a0Indiana University-Bloomington (Now: Indiana University Bloomington (Bloomington))"
       ]
      },
      {
       "output_type": "stream",
       "stream": "stdout",
       "text": [
        "\n",
        "\u8482\u5c14\u5821\u5927\u5b66\t                \u00a0Tilburg University"
       ]
      },
      {
       "output_type": "stream",
       "stream": "stdout",
       "text": [
        "\n",
        "\u4e1c\u5317\u5927\u5b66(\u6ce2\u58eb\u987f)\t                \u00a0Northeastern University (Boston)"
       ]
      },
      {
       "output_type": "stream",
       "stream": "stdout",
       "text": [
        "\n",
        "\u7ebd\u7ea6\u827a\u672f\u5b66\u9662(\u7ebd\u7ea6)\t                \u00a0The Art Institute of New York City (New York)"
       ]
      },
      {
       "output_type": "stream",
       "stream": "stdout",
       "text": [
        "\n",
        "\u7ebd\u5361\u65af\u5c14\u5927\u5b66\uff08\u6fb3\u5927\u5229\u4e9a\uff09\t                \u00a0The University of Newcastle"
       ]
      },
      {
       "output_type": "stream",
       "stream": "stdout",
       "text": [
        "\n",
        "\u52a0\u5dde\u5927\u5b66\u5723\u5730\u4e9a\u54e5\u5206\u6821\t                \u00a0University of California, San Diego (San Diego)"
       ]
      },
      {
       "output_type": "stream",
       "stream": "stdout",
       "text": [
        "\n",
        "\u4ee3\u5c14\u592b\u7279\u7406\u5de5\u5927\u5b66\t                \u00a0Delft University of Technology"
       ]
      },
      {
       "output_type": "stream",
       "stream": "stdout",
       "text": [
        "\n",
        "\u666e\u6797\u65af\u987f\u5927\u5b66(\u666e\u6797\u65af\u987f)\t                \u00a0Princeton University (Princeton)"
       ]
      },
      {
       "output_type": "stream",
       "stream": "stdout",
       "text": [
        "\n",
        "\u54e5\u5ef7\u6839\u5927\u5b66"
       ]
      },
      {
       "output_type": "stream",
       "stream": "stdout",
       "text": [
        "\n",
        "\u60e0\u7075\u987f\u7ef4\u591a\u5229\u4e9a\u5927\u5b66\t                \u00a0Victoria University of Wellington"
       ]
      },
      {
       "output_type": "stream",
       "stream": "stdout",
       "text": [
        "\n",
        "\u5df4\u9ece\u516d\u5927"
       ]
      },
      {
       "output_type": "stream",
       "stream": "stdout",
       "text": [
        "\n",
        "\u5357\u6d0b\u7406\u5de5\u5b66\u9662\t                \u00a0NanYang Polytechnic"
       ]
      },
      {
       "output_type": "stream",
       "stream": "stdout",
       "text": [
        "\n",
        "\u5e86\u5357\u60c5\u62a5\u5927\u5b66\t                \u00a0Kyungnam College of Information & Technology"
       ]
      },
      {
       "output_type": "stream",
       "stream": "stdout",
       "text": [
        "\n",
        "\u6885\u897f\u5927\u5b66\t                \u00a0Massey University"
       ]
      },
      {
       "output_type": "stream",
       "stream": "stdout",
       "text": [
        "\n",
        "\u7231\u8377\u534e\u5927\u5b66(\u7231\u8377\u534e\u5e02)\t                \u00a0University of Iowa (Iowa City)"
       ]
      },
      {
       "output_type": "stream",
       "stream": "stdout",
       "text": [
        "\n",
        "\u7b51\u6ce2\u5927\u5b66\t                \u00a0University of Tsukuba"
       ]
      },
      {
       "output_type": "stream",
       "stream": "stdout",
       "text": [
        "\n",
        "\u66fc\u6d77\u59c6\u5927\u5b66"
       ]
      },
      {
       "output_type": "stream",
       "stream": "stdout",
       "text": [
        "\n",
        "\u4e1c\u4eac\u5de5\u4e1a\u5927\u5b66\t                \u00a0Tokyo Institute of Technology"
       ]
      },
      {
       "output_type": "stream",
       "stream": "stdout",
       "text": [
        "\n",
        "\u8036\u62ff\u5927\u5b66"
       ]
      },
      {
       "output_type": "stream",
       "stream": "stdout",
       "text": [
        "\n",
        "\u97e9\u57ce\u5927\u5b66\t                \u00a0Hansung University"
       ]
      },
      {
       "output_type": "stream",
       "stream": "stdout",
       "text": [
        "\n",
        "\u9ebb\u7701\u5927\u5b66\u6ce2\u58eb\u987f\u5206\u6821(\u6ce2\u58eb\u987f)\t                \u00a0University of Massachusetts Boston (Boston)"
       ]
      },
      {
       "output_type": "stream",
       "stream": "stdout",
       "text": [
        "\n",
        "\u80af\u9ad8\u8fea\u4e9a\u5927\u5b66\t                \u00a0Concordia University"
       ]
      },
      {
       "output_type": "stream",
       "stream": "stdout",
       "text": [
        "\n",
        "\u5ef6\u4e16\u5927\u5b66\t                \u00a0Yonsei University"
       ]
      },
      {
       "output_type": "stream",
       "stream": "stdout",
       "text": [
        "\n",
        "\u632a\u5a01\u79d1\u6280\u5927\u5b66\t                \u00a0Norwegian University of Science and Technology, Trondheim"
       ]
      },
      {
       "output_type": "stream",
       "stream": "stdout",
       "text": [
        "\n",
        "\u8f66\u91cc\u96c5\u5bbe\u65af\u514b\u56fd\u7acb\u519c\u4e1a\u5de5\u7a0b\u5927\u5b66"
       ]
      },
      {
       "output_type": "stream",
       "stream": "stdout",
       "text": [
        "\n",
        "\u683c\u91cc\u83f2\u65af\u5927\u5b66\t                \u00a0Griffith University"
       ]
      },
      {
       "output_type": "stream",
       "stream": "stdout",
       "text": [
        "\n",
        "\u5361\u5c14\u52a0\u91cc\u5927\u5b66\t                \u00a0University of Calgary"
       ]
      },
      {
       "output_type": "stream",
       "stream": "stdout",
       "text": [
        "\n",
        "\u8fbe\u59c6\u65bd\u5854\u7279\u5de5\u4e1a\u5927\u5b66"
       ]
      },
      {
       "output_type": "stream",
       "stream": "stdout",
       "text": [
        "\n",
        "\u4e54\u6cbb\u534e\u76db\u987f\u5927\u5b66(\u534e\u76db\u987f)\t                \u00a0George Washington University (Washington)"
       ]
      },
      {
       "output_type": "stream",
       "stream": "stdout",
       "text": [
        "\n",
        "\u5357\u6fb3\u5927\u5b66\t                \u00a0University of South Australia"
       ]
      },
      {
       "output_type": "stream",
       "stream": "stdout",
       "text": [
        "\n",
        "\u5965\u5854\u54e5\u5927\u5b66\t                \u00a0University of Otago"
       ]
      },
      {
       "output_type": "stream",
       "stream": "stdout",
       "text": [
        "\n",
        "\u5efa\u56fd\u5927\u5b66\t                \u00a0Konkuk University"
       ]
      },
      {
       "output_type": "stream",
       "stream": "stdout",
       "text": [
        "\n",
        "\u5f17\u8d56\u5821\u5927\u5b66"
       ]
      },
      {
       "output_type": "stream",
       "stream": "stdout",
       "text": [
        "\n",
        "\u5361\u8fea\u592b\u5927\u5b66\t                \u00a0Cardiff University (Prifysgol Caerdydd)"
       ]
      },
      {
       "output_type": "stream",
       "stream": "stdout",
       "text": [
        "\n",
        "\u83b1\u987f\u5927\u5b66\t                \u00a0Leiden University"
       ]
      },
      {
       "output_type": "stream",
       "stream": "stdout",
       "text": [
        "\n",
        "\u83b1\u65af\u7279\u5927\u5b66\t                \u00a0University of Leicester"
       ]
      },
      {
       "output_type": "stream",
       "stream": "stdout",
       "text": [
        "\n",
        "\u8fea\u80af\u5927\u5b66\t                \u00a0Deakin University"
       ]
      },
      {
       "output_type": "stream",
       "stream": "stdout",
       "text": [
        "\n",
        "\u9686\u5fb7\u5927\u5b66\t                \u00a0Lund University"
       ]
      },
      {
       "output_type": "stream",
       "stream": "stdout",
       "text": [
        "\n",
        "\u52b3\u91cc\u57c3\u5927\u5b66\t                \u00a0Wilfrid Laurier University"
       ]
      },
      {
       "output_type": "stream",
       "stream": "stdout",
       "text": [
        "\n",
        "\u5c6f\u7279\u5927\u5b66\t                \u00a0University of Twente"
       ]
      },
      {
       "output_type": "stream",
       "stream": "stdout",
       "text": [
        "\n",
        "\u5361\u7f57\u6797\u65af\u5361\u5b66\u9662\t                \u00a0Karolinska Institute"
       ]
      },
      {
       "output_type": "stream",
       "stream": "stdout",
       "text": [
        "\n",
        "\u829d\u52a0\u54e5\u54e5\u4f26\u6bd4\u4e9a\u5b66\u9662(\u829d\u52a0\u54e5)\t                \u00a0Columbia College Chicago (Chicago)"
       ]
      },
      {
       "output_type": "stream",
       "stream": "stdout",
       "text": [
        "\n",
        "\u4f26\u6566\u56fd\u738b\u5b66\u9662\t                \u00a0King's College London"
       ]
      },
      {
       "output_type": "stream",
       "stream": "stdout",
       "text": [
        "\n",
        "\u52a0\u5dde\u5927\u5b66\u65e7\u91d1\u5c71\u5206\u6821(\u65e7\u91d1\u5c71)\t                \u00a0University of California, San Francisco (San Francisco)"
       ]
      },
      {
       "output_type": "stream",
       "stream": "stdout",
       "text": [
        "\n",
        "\u5723\u739b\u4e3d\u5927\u5b66\t                \u00a0Saint Mary's University"
       ]
      },
      {
       "output_type": "stream",
       "stream": "stdout",
       "text": [
        "\n",
        "\u534e\u76db\u987f\u5927\u5b66(\u897f\u96c5\u56fe)\t                \u00a0University of Washington (Seattle)"
       ]
      },
      {
       "output_type": "stream",
       "stream": "stdout",
       "text": [
        "\n",
        "\u591a\u7279\u8499\u5fb7\u5de5\u4e1a\u5927\u5b66"
       ]
      },
      {
       "output_type": "stream",
       "stream": "stdout",
       "text": [
        "\n",
        "\u4f0a\u5229\u8bfa\u65af\u5927\u5b66\u9999\u69df\u5206\u6821(\u9999\u69df)\t                \u00a0University of Illinois at Urbana-Champaign (Champaign)"
       ]
      },
      {
       "output_type": "stream",
       "stream": "stdout",
       "text": [
        "\n",
        "\u62c9\u7b79\u4f2f\u5927\u5b66\t                \u00a0La Trobe University"
       ]
      },
      {
       "output_type": "stream",
       "stream": "stdout",
       "text": [
        "\n",
        "\u5df4\u9ece\u5e08\u8303\u5b66\u9662"
       ]
      },
      {
       "output_type": "stream",
       "stream": "stdout",
       "text": [
        "\n",
        "\u9ebb\u7701\u5927\u5b66\u963f\u59c6\u8d6b\u65af\u7279\u5206\u6821(\u963f\u59c6\u65af\u7279)\t                \u00a0University of Massachusetts Amherst (Amherst)"
       ]
      },
      {
       "output_type": "stream",
       "stream": "stdout",
       "text": [
        "\n",
        "\u6de1\u9a6c\u9521\u7406\u5de5\u5b66\u9662\t                \u00a0Temasek Polytechnic"
       ]
      },
      {
       "output_type": "stream",
       "stream": "stdout",
       "text": [
        "\n",
        "\u8c22\u83f2\u5c14\u5fb7\u5927\u5b66\t                \u00a0University of Sheffield"
       ]
      },
      {
       "output_type": "stream",
       "stream": "stdout",
       "text": [
        "\n",
        "\u65b0\u52a0\u5761\u7406\u5de5\u5b66\u9662\t                \u00a0Singapore Polytechnic"
       ]
      },
      {
       "output_type": "stream",
       "stream": "stdout",
       "text": [
        "\n",
        "\u4e54\u6cbb\u4e9a\u7406\u5de5\u5b66\u9662(\u4e9a\u7279\u5170\u5927)\t                \u00a0Georgia Institute of Technology (Atlanta)"
       ]
      },
      {
       "output_type": "stream",
       "stream": "stdout",
       "text": [
        "\n",
        "\u52a0\u5dde\u5927\u5b66\u6b27\u6587\u5206\u6821(\u6b27\u6587)\t                \u00a0University of California, Irvine (Irvine)"
       ]
      },
      {
       "output_type": "stream",
       "stream": "stdout",
       "text": [
        "\n",
        "\u672c\u7279\u5229\u5b66\u9662\uff08\u6c83\u5c14\u745f\u59c6\uff09\uff08\u73b0\u540d\uff1a\u672c\u7279\u5229\u5927\u5b66\uff09\t                \u00a0Bentley College (Waltham) (Now: Bentley University)"
       ]
      },
      {
       "output_type": "stream",
       "stream": "stdout",
       "text": [
        "\n",
        "\u6c64\u59c6\u68ee\u6cb3\u5927\u5b66\t                \u00a0Thompson Rivers University"
       ]
      },
      {
       "output_type": "stream",
       "stream": "stdout",
       "text": [
        "\n",
        "\u5723\u5b89\u5fb7\u9c81\u65af\u5927\u5b66\t                \u00a0University of St Andrews"
       ]
      },
      {
       "output_type": "stream",
       "stream": "stdout",
       "text": [
        "\n",
        "\u82cf\u9ece\u4e16\u5927\u5b66"
       ]
      },
      {
       "output_type": "stream",
       "stream": "stdout",
       "text": [
        "\n",
        "\u5bc6\u6b47\u6839\u5dde\u7acb\u5927\u5b66(\u4e1c\u5170\u8f9b)\t                \u00a0Michigan State University (East Lansing)"
       ]
      },
      {
       "output_type": "stream",
       "stream": "stdout",
       "text": [
        "\n",
        "\u4e5d\u5dde\u5927\u5b66\t                \u00a0Kyushu University"
       ]
      },
      {
       "output_type": "stream",
       "stream": "stdout",
       "text": [
        "\n",
        "\u5a01\u65af\u5eb7\u661f\u5927\u5b66\u9ea6\u8fea\u900a\u5206\u6821(\u9ea6\u8fea\u900a)\t                \u00a0University of Wisconsin-Madison (Madison)"
       ]
      },
      {
       "output_type": "stream",
       "stream": "stdout",
       "text": [
        "\n",
        "\u5927\u962a\u5927\u5b66\t                \u00a0Osaka University"
       ]
      },
      {
       "output_type": "stream",
       "stream": "stdout",
       "text": [
        "\n",
        "\u65af\u56fe\u52a0\u7279\u5927\u5b66"
       ]
      },
      {
       "output_type": "stream",
       "stream": "stdout",
       "text": [
        "\n",
        "\u65b0\u897f\u5170\u56fd\u7acb\u7406\u5de5\u5b66\u9662\t                \u00a0UNITEC Institute of Technology"
       ]
      },
      {
       "output_type": "stream",
       "stream": "stdout",
       "text": [
        "\n",
        "\u5965\u514b\u5170\u7406\u5de5\u5927\u5b66\t                \u00a0Auckland University of Technology"
       ]
      },
      {
       "output_type": "stream",
       "stream": "stdout",
       "text": [
        "\n",
        "\u79d1\u5ef7\u7406\u5de5\u5927\u5b66\uff08\u73b0\u540d\uff1a\u79d1\u5ef7\u5927\u5b66\uff09\t                \u00a0Curtin University of Technology (Now: Curtin University)"
       ]
      },
      {
       "output_type": "stream",
       "stream": "stdout",
       "text": [
        "\n",
        "\u660e\u5c3c\u82cf\u8fbe\u5927\u5b66\u53cc\u57ce\u5206\u6821(\u660e\u5c3c\u963f\u6ce2\u5229\u65af)\t                \u00a0University of Minnesota-Twin Cities (Minneapolis)"
       ]
      },
      {
       "output_type": "stream",
       "stream": "stdout",
       "text": [
        "\n",
        "\u4e1c\u4eac\u6c34\u4ea7\u5927\u5b66\uff08\u73b0\u540d\uff1a\u4e1c\u4eac\u6d77\u6d0b\u5927\u5b66\uff09\t                \u00a0Tokyo University of Marine Science and Technology"
       ]
      },
      {
       "output_type": "stream",
       "stream": "stdout",
       "text": [
        "\n",
        "\u5fb7\u514b\u8428\u65af\u5dde\u7acb\u5927\u5b66(\u5723\u9a6c\u79d1\u65af)\t                \u00a0Texas State University (San Marcos)"
       ]
      },
      {
       "output_type": "stream",
       "stream": "stdout",
       "text": [
        "\n",
        "\u6c49\u5821-\u54c8\u5c14\u5821\u5de5\u4e1a\u5927\u5b66"
       ]
      },
      {
       "output_type": "stream",
       "stream": "stdout",
       "text": [
        "\n",
        "\u6797\u80af\u5927\u5b66\uff08\u65b0\u897f\u5170\uff09\t                \u00a0Lincoln University"
       ]
      },
      {
       "output_type": "stream",
       "stream": "stdout",
       "text": [
        "\n",
        "\u90fd\u67cf\u6797\u5927\u5b66\u5723\u4e09\u4e00\u5b66\u9662\t                \u00a0The University of Dublin, Trinity College (TCD)"
       ]
      },
      {
       "output_type": "stream",
       "stream": "stdout",
       "text": [
        "\n",
        "\u683c\u7f57\u5b81\u6839\u6c49\u65af\u5927\u5b66\t                \u00a0Hanze University Groningen"
       ]
      },
      {
       "output_type": "stream",
       "stream": "stdout",
       "text": [
        "\n",
        "\u6c49\u80af\u7ecf\u6d4e\u5b66\u9662\t                \u00a0Hanken School of Economics"
       ]
      },
      {
       "output_type": "stream",
       "stream": "stdout",
       "text": [
        "\n",
        "\u5e03\u4f26\u745e\u514b\u5de5\u4e1a\u5927\u5b66"
       ]
      },
      {
       "output_type": "stream",
       "stream": "stdout",
       "text": [
        "\n",
        "\u8428\u585e\u514b\u65af\u5927\u5b66\t                \u00a0University of Sussex"
       ]
      },
      {
       "output_type": "stream",
       "stream": "stdout",
       "text": [
        "\n",
        "\u5fb7\u514b\u8428\u65af\u5927\u5b66\u5965\u65af\u6c40\u5206\u6821(\u5965\u65af\u6c40)\t                \u00a0The University of Texas at Austin (Austin)"
       ]
      },
      {
       "output_type": "stream",
       "stream": "stdout",
       "text": [
        "\n",
        "\u6ce2\u9e3f\u9c81\u5c14\u5927\u5b66"
       ]
      },
      {
       "output_type": "stream",
       "stream": "stdout",
       "text": [
        "\n",
        "\u7ebd\u7ea6\u7406\u5de5\u5927\u5b66\t                \u00a0Polytechnic University of New York"
       ]
      },
      {
       "output_type": "stream",
       "stream": "stdout",
       "text": [
        "\n",
        "\u4e1c\u4eac\u5546\u8239\u5927\u5b66\uff08\u73b0\u540d\uff1a\u4e1c\u4eac\u6d77\u6d0b\u5927\u5b66\uff09\t                \u00a0Tokyo University of Marine Science and Technology"
       ]
      },
      {
       "output_type": "stream",
       "stream": "stdout",
       "text": [
        "\n",
        "\u74e6\u8d6b\u5b81\u6839\u5927\u5b66\t                \u00a0Wageningen University and Research Centre"
       ]
      },
      {
       "output_type": "stream",
       "stream": "stdout",
       "text": [
        "\n",
        "\u4e2d\u534e\u76db\u987f\u5927\u5b66(\u827e\u4f26\u65af\u5821)\t                \u00a0Central Washington University (Ellensburg)"
       ]
      },
      {
       "output_type": "stream",
       "stream": "stdout",
       "text": [
        "\n",
        "\u5e86\u7199\u7f51\u7edc\u5927\u5b66\t                \u00a0Kyungb Hee Cyber University"
       ]
      },
      {
       "output_type": "stream",
       "stream": "stdout",
       "text": [
        "\n",
        "\u51e1\u5c14\u8d5b\u5927\u5b66"
       ]
      },
      {
       "output_type": "stream",
       "stream": "stdout",
       "text": [
        "\n",
        "\u5965\u5c14\u80e1\u65af\u5927\u5b66\t                \u00a0Aarhus University"
       ]
      },
      {
       "output_type": "stream",
       "stream": "stdout",
       "text": [
        "\n",
        "\u90fd\u67cf\u6797\u5927\u5b66\u5b66\u9662\t                \u00a0University College of Dublin (UCD)"
       ]
      },
      {
       "output_type": "stream",
       "stream": "stdout",
       "text": [
        "\n",
        "\u9a6c\u6765\u897f\u4e9a\u6c99\u5df4\u5927\u5b66\t                \u00a0University of Malaysia Sabah"
       ]
      },
      {
       "output_type": "stream",
       "stream": "stdout",
       "text": [
        "\n",
        "\u6000\u5361\u6258\u5927\u5b66\t                \u00a0The University of Waikato"
       ]
      },
      {
       "output_type": "stream",
       "stream": "stdout",
       "text": [
        "\n",
        "\u7ebd\u7ea6\u57ce\u5e02\u5927\u5b66\u66fc\u54c8\u987f\u793e\u533a\u5b66\u9662(\u7ebd\u7ea6)\t                \u00a0CUNY - Borough of Manhattan Community College (New York)"
       ]
      },
      {
       "output_type": "stream",
       "stream": "stdout",
       "text": [
        "\n",
        "\u8fbe\u7279\u8305\u65af\u5b66\u9662(\u6c49\u8bfa\u5a01)\t                \u00a0Dartmouth College (Hanover)"
       ]
      },
      {
       "output_type": "stream",
       "stream": "stdout",
       "text": [
        "\n",
        "\u7ebd\u7ea6\u5dde\u7acb\u5927\u5b66\u5e03\u6cd5\u7f57\u5206\u6821(\u5e03\u6cd5\u7f57)\t                \u00a0State University of New York at Buffalo(Buffalo)"
       ]
      },
      {
       "output_type": "stream",
       "stream": "stdout",
       "text": [
        "\n",
        "\u7acb\u547d\u9986\u4e9a\u6d32\u592a\u5e73\u6d0b\u5927\u5b66\t                \u00a0Ritsumeikan Asia Pacific University"
       ]
      },
      {
       "output_type": "stream",
       "stream": "stdout",
       "text": [
        "\n",
        "\u5df4\u9ece\u653f\u6cbb\u5b66\u9662"
       ]
      },
      {
       "output_type": "stream",
       "stream": "stdout",
       "text": [
        "\n",
        "\u4f5b\u7f57\u91cc\u8fbe\u5dde\u7acb\u5927\u5b66(\u5854\u62c9\u54c8\u897f)\t                \u00a0Florida State University (Tallahassee)"
       ]
      },
      {
       "output_type": "stream",
       "stream": "stdout",
       "text": [
        "\n",
        "\u57c3\u514b\u65af\u7279\u5927\u5b66\t                \u00a0University of Exeter"
       ]
      },
      {
       "output_type": "stream",
       "stream": "stdout",
       "text": [
        "\n",
        "\u897f\u5357\u6cd5\u4f26\u5e94\u7528\u6280\u672f\u5927\u5b66"
       ]
      },
      {
       "output_type": "stream",
       "stream": "stdout",
       "text": [
        "\n",
        "\u6fb3\u5927\u5229\u4e9a\u5929\u4e3b\u6559\u5927\u5b66\t                \u00a0Australian Catholic University"
       ]
      },
      {
       "output_type": "stream",
       "stream": "stdout",
       "text": [
        "\n",
        "\u4e16\u7eaa\u5927\u5b66\u5b66\u9662\u5409\u9686\u5761\u6821\u533a\t                \u00a0SEGi University College  Kuala Lumpur"
       ]
      },
      {
       "output_type": "stream",
       "stream": "stdout",
       "text": [
        "\n",
        "\u8a79\u59c6\u65af\u5e93\u514b\u5927\u5b66\t                \u00a0James Cook University"
       ]
      },
      {
       "output_type": "stream",
       "stream": "stdout",
       "text": [
        "\n",
        "\u66bb\u56ed\u5927\u5b66\t                \u00a0Kyungwon University"
       ]
      },
      {
       "output_type": "stream",
       "stream": "stdout",
       "text": [
        "\n",
        "\u957f\u5d0e\u5927\u5b66\t                \u00a0Nagasaki University"
       ]
      },
      {
       "output_type": "stream",
       "stream": "stdout",
       "text": [
        "\n",
        "\u5df4\u9ece\u4e00\u5927"
       ]
      },
      {
       "output_type": "stream",
       "stream": "stdout",
       "text": [
        "\n",
        "\u4e1c\u4eac\u5916\u56fd\u8bed\u5927\u5b66\t                \u00a0Tokyo University of Foreign Studies"
       ]
      },
      {
       "output_type": "stream",
       "stream": "stdout",
       "text": [
        "\n",
        "\u4e1c\u5b89\u683c\u5229\u4e9a\u5927\u5b66\t                \u00a0University of East Anglia"
       ]
      },
      {
       "output_type": "stream",
       "stream": "stdout",
       "text": [
        "\n",
        "\u5a01\u65af\u5eb7\u661f\u5927\u5b66\u5bc6\u5c14\u6c83\u57fa\u5206\u6821(\u5bc6\u5c14\u6c83\u57fa)\t                \u00a0University of Wisconsin-Milwaukee (Milwaukee)"
       ]
      },
      {
       "output_type": "stream",
       "stream": "stdout",
       "text": [
        "\n",
        "\u5343\u53f6\u5927\u5b66\t                \u00a0Chiba University"
       ]
      },
      {
       "output_type": "stream",
       "stream": "stdout",
       "text": [
        "\n",
        "\u5fb7\u6210\u5973\u5b50\u5927\u5b66\t                \u00a0Duksung Women\u2019s University"
       ]
      },
      {
       "output_type": "stream",
       "stream": "stdout",
       "text": [
        "\n",
        "\u60e0\u7075\u987f\u7406\u5de5\u5b66\u9662\t                \u00a0Wellington Institute of Technology"
       ]
      },
      {
       "output_type": "stream",
       "stream": "stdout",
       "text": [
        "\n",
        "\u52a0\u5dde\u7406\u5de5\u5b66\u9662(\u5e15\u8428\u8fea\u7eb3)\t                \u00a0California Institute of Technology (Pasadena)"
       ]
      },
      {
       "output_type": "stream",
       "stream": "stdout",
       "text": [
        "\n",
        "\u52a0\u5dde\u5dde\u7acb\u7406\u5de5\u5927\u5b66(\u5723\u8def\u6613\u65af\u5965\u6bd4\u65af\u6ce2)\t                \u00a0California Polytechnic State University (San Luis Obispo)"
       ]
      },
      {
       "output_type": "stream",
       "stream": "stdout",
       "text": [
        "\n",
        "\u6ce2\u7279\u5170\u5dde\u7acb\u5927\u5b66(\u6ce2\u7279\u5170)\t                \u00a0Portland State University (Portland)"
       ]
      },
      {
       "output_type": "stream",
       "stream": "stdout",
       "text": [
        "\n",
        "\u65b0\u5e03\u4f26\u745e\u514b\u5927\u5b66\t                \u00a0University of New Brunswick"
       ]
      },
      {
       "output_type": "stream",
       "stream": "stdout",
       "text": [
        "\n",
        "\u72b9\u4ed6\u5927\u5b66(\u76d0\u6e56\u57ce)\t                \u00a0University of Utah (Salt Lake City)"
       ]
      },
      {
       "output_type": "stream",
       "stream": "stdout",
       "text": [
        "\n",
        "\u65b0\u7f57\u5927\u5b66\t                \u00a0Silla University"
       ]
      },
      {
       "output_type": "stream",
       "stream": "stdout",
       "text": [
        "\n",
        "\u5973\u738b\u5927\u5b66\t                \u00a0Queen's University"
       ]
      },
      {
       "output_type": "stream",
       "stream": "stdout",
       "text": [
        "\n",
        "\u5e86\u7199\u5927\u5b66\t                \u00a0Kyung Hee University"
       ]
      },
      {
       "output_type": "stream",
       "stream": "stdout",
       "text": [
        "\n",
        "\u6731\u62c9\u9686\u529f\u5927\u5b66\t                \u00a0Chulalongkorn University"
       ]
      },
      {
       "output_type": "stream",
       "stream": "stdout",
       "text": [
        "\n",
        "\u57c3\u56e0\u970d\u82ac\u7406\u5de5\u5927\u5b66\t                \u00a0Eindhoven University of Technology"
       ]
      },
      {
       "output_type": "stream",
       "stream": "stdout",
       "text": [
        "\n",
        "\u54e5\u672c\u54c8\u6839\u5546\u5b66\u9662\t                \u00a0Copenhagen Business School"
       ]
      },
      {
       "output_type": "stream",
       "stream": "stdout",
       "text": [
        "\n",
        "\u5df4\u9ece\u5341\u4e09\u5927"
       ]
      },
      {
       "output_type": "stream",
       "stream": "stdout",
       "text": [
        "\n",
        "\u5357\u7279\u4e2d\u592e\u7406\u5de5\u5b66\u6821"
       ]
      },
      {
       "output_type": "stream",
       "stream": "stdout",
       "text": [
        "\n",
        "\u79d1\u7f57\u62c9\u591a\u5927\u5b66\u4e39\u4f5b\u5206\u6821(\u4e39\u4f5b)\t                \u00a0University of Colorado at Denver (Denver)"
       ]
      },
      {
       "output_type": "stream",
       "stream": "stdout",
       "text": [
        "\n",
        "\u5361\u5c14\u987f\u5927\u5b66\t                \u00a0Carleton University"
       ]
      },
      {
       "output_type": "stream",
       "stream": "stdout",
       "text": [
        "\n",
        "\u5df4\u585e\u7f57\u90a3\u5927\u5b66"
       ]
      },
      {
       "output_type": "stream",
       "stream": "stdout",
       "text": [
        "\n",
        "\u7efc\u5408\u7406\u5de5\u5b66\u6821"
       ]
      },
      {
       "output_type": "stream",
       "stream": "stdout",
       "text": [
        "\n",
        "\u4e49\u5b89\u7406\u5de5\u5b66\u9662\t                \u00a0Ngee An Polytechnic"
       ]
      },
      {
       "output_type": "stream",
       "stream": "stdout",
       "text": [
        "\n",
        "\u9a6c\u6765\u4e9a\u5927\u5b66\t                \u00a0University of Malaya"
       ]
      },
      {
       "output_type": "stream",
       "stream": "stdout",
       "text": [
        "\n",
        "\u6797\u5948\u5927\u5b66\t                \u00a0Linnaeus University"
       ]
      },
      {
       "output_type": "stream",
       "stream": "stdout",
       "text": [
        "\n",
        "\u5c3c\u5c14\u68ee\u7406\u5de5\u5b66\u9662\t                \u00a0Nelson Marlborough Institute of Technology-Nelson Polytechnic"
       ]
      },
      {
       "output_type": "stream",
       "stream": "stdout",
       "text": [
        "\n",
        "\u83ab\u7eb3\u4ec0\u5927\u5b66\u9a6c\u6765\u897f\u4e9a\u5206\u6821\t                \u00a0Monash University Malaysia Campus"
       ]
      },
      {
       "output_type": "stream",
       "stream": "stdout",
       "text": [
        "\n",
        "\u57c3\u68ee\u7ecf\u6d4e\u7ba1\u7406\u5e94\u7528\u6280\u672f\u5927\u5b66"
       ]
      },
      {
       "output_type": "stream",
       "stream": "stdout",
       "text": [
        "\n",
        "\u574e\u7279\u4f2f\u96f7\u5927\u5b66\t                \u00a0University of Canterbury"
       ]
      },
      {
       "output_type": "stream",
       "stream": "stdout",
       "text": [
        "\n",
        "\u9a6c\u5c3c\u6258\u5df4\u5927\u5b66\t                \u00a0University of Manitoba"
       ]
      },
      {
       "output_type": "stream",
       "stream": "stdout",
       "text": [
        "\n",
        "\u7279\u62c9\u534e\u5dde\u7acb\u5927\u5b66(\u591a\u4f5b)\t                \u00a0Delaware State University (Dover)"
       ]
      },
      {
       "output_type": "stream",
       "stream": "stdout",
       "text": [
        "\n",
        "\u7279\u91cc\u5c14\u5927\u5b66"
       ]
      },
      {
       "output_type": "stream",
       "stream": "stdout",
       "text": [
        "\n",
        "\u6c83\u7279\u798f\u5fb7\u7406\u5de5\u5b66\u9662\t                \u00a0Waterford Institute of Technology"
       ]
      },
      {
       "output_type": "stream",
       "stream": "stdout",
       "text": [
        "\n",
        "\u4e1c\u5317\u5927\u5b66\t                \u00a0Tohoku University"
       ]
      },
      {
       "output_type": "stream",
       "stream": "stdout",
       "text": [
        "\n",
        "\u8f9b\u8f9b\u90a3\u63d0\u5927\u5b66(\u8f9b\u8f9b\u90a3\u63d0)\t                \u00a0University of Cincinnati (Cincinnati)"
       ]
      },
      {
       "output_type": "stream",
       "stream": "stdout",
       "text": [
        "\n",
        "\u514b\u83b1\u8499\u8d39\u6717\u4e00\u5927"
       ]
      },
      {
       "output_type": "stream",
       "stream": "stdout",
       "text": [
        "\n",
        "\u4ec1\u6d4e\u5927\u5b66\t                \u00a0Inje University"
       ]
      },
      {
       "output_type": "stream",
       "stream": "stdout",
       "text": [
        "\n",
        "\u5eb7\u6d85\u72c4\u683c\u5927\u5b66(\u65af\u6258\u65af)\t                \u00a0University of Connecticut (Storrs)"
       ]
      },
      {
       "output_type": "stream",
       "stream": "stdout",
       "text": [
        "\n",
        "\u6ce2\u5c14\u591a\u56db\u5927"
       ]
      },
      {
       "output_type": "stream",
       "stream": "stdout",
       "text": [
        "\n",
        "\u5317\u5361\u7f57\u83b1\u7eb3\u5dde\u7acb\u5927\u5b66(\u96f7\u5229)\t                \u00a0North Carolina State University (Raleigh)"
       ]
      },
      {
       "output_type": "stream",
       "stream": "stdout",
       "text": [
        "\n",
        "\u4e2d\u745e\u5178\u5927\u5b66\t                \u00a0Mid-Sweden University"
       ]
      },
      {
       "output_type": "stream",
       "stream": "stdout",
       "text": [
        "\n",
        "\u67e5\u5c14\u59c6\u65af\u7406\u5de5\u5927\u5b66\t                \u00a0Chalmers University of Technology"
       ]
      },
      {
       "output_type": "stream",
       "stream": "stdout",
       "text": [
        "\n",
        "\u8428\u798f\u514b\u5927\u5b66(\u6ce2\u58eb\u987f)\t                \u00a0Suffolk University (Boston)"
       ]
      },
      {
       "output_type": "stream",
       "stream": "stdout",
       "text": [
        "\n",
        "\u5e86\u5e94\u4e49\u587e\u5927\u5b66\t                \u00a0Keio University"
       ]
      },
      {
       "output_type": "stream",
       "stream": "stdout",
       "text": [
        "\n",
        "\u5317\u82f1\u5c5e\u54e5\u4f26\u6bd4\u4e9a\u5927\u5b66\t                \u00a0University of Northern British Columbia"
       ]
      },
      {
       "output_type": "stream",
       "stream": "stdout",
       "text": [
        "\n",
        "\u5b89\u54c8\u5c14\u7279\u5e94\u7528\u6280\u672f\u5927\u5b66"
       ]
      },
      {
       "output_type": "stream",
       "stream": "stdout",
       "text": [
        "\n",
        "\u7687\u5bb6\u7f8e\u672f\u5b66\u9662\t                \u00a0The Royal Academy of Art (KABK)"
       ]
      },
      {
       "output_type": "stream",
       "stream": "stdout",
       "text": [
        "\n",
        "\u6234\u5c14\u8c6a\u897f\u5927\u5b66\t                \u00a0Dalhousie University"
       ]
      },
      {
       "output_type": "stream",
       "stream": "stdout",
       "text": [
        "\n",
        "\u6ce2\u57ce\u9ad8\u7b49\u5546\u4e1a\u5b66\u6821"
       ]
      },
      {
       "output_type": "stream",
       "stream": "stdout",
       "text": [
        "\n",
        "\u4f0a\u5229\u8bfa\u65af\u7406\u5de5\u5b66\u9662(\u829d\u52a0\u54e5)\t                \u00a0Illinois Institute of Technology (Chicago)"
       ]
      },
      {
       "output_type": "stream",
       "stream": "stdout",
       "text": [
        "\n",
        "\u54e5\u4f26\u6bd4\u4e9a\u5b66\u9662(\u7d22\u8bfa\u62c9)\t                \u00a0Columbia College (Sonora)"
       ]
      },
      {
       "output_type": "stream",
       "stream": "stdout",
       "text": [
        "\n",
        "\u91cc\u6602\u4e8c\u5927"
       ]
      },
      {
       "output_type": "stream",
       "stream": "stdout",
       "text": [
        "\n",
        "\u5965\u5362\u5927\u5b66\t                \u00a0University of Oulu"
       ]
      },
      {
       "output_type": "stream",
       "stream": "stdout",
       "text": [
        "\n",
        "\u4e16\u754c\u6d77\u4e8b\u5927\u5b66\t                \u00a0World Maritime University"
       ]
      },
      {
       "output_type": "stream",
       "stream": "stdout",
       "text": [
        "\n",
        "\u4f2f\u5c14\u5c3c\u5927\u5b66"
       ]
      },
      {
       "output_type": "stream",
       "stream": "stdout",
       "text": [
        "\n",
        "\u7687\u5bb6\u7406\u5de5\u5b66\u9662\t                \u00a0Royal Institute of Technology"
       ]
      },
      {
       "output_type": "stream",
       "stream": "stdout",
       "text": [
        "\n",
        "\u666e\u6e21\u5927\u5b66\u5361\u9c81\u6885\u5206\u6821(\u54c8\u8499\u5fb7)\t                \u00a0Purdue University Calumet (Hammond)"
       ]
      },
      {
       "output_type": "stream",
       "stream": "stdout",
       "text": [
        "\n",
        "\u57fa\u7763\u57ce\u7406\u5de5\u5b66\u9662\t                \u00a0Christchurch Polytechnic Institute of Technology"
       ]
      },
      {
       "output_type": "stream",
       "stream": "stdout",
       "text": [
        "\n",
        "\u5171\u548c\u7406\u5de5\u5b66\u9662\t                \u00a0Republic Polytechnic"
       ]
      },
      {
       "output_type": "stream",
       "stream": "stdout",
       "text": [
        "\n",
        "\u5fb7\u4fdd\u7f57\u5927\u5b66(\u829d\u52a0\u54e5)\t                \u00a0DePaul University (Chicago)"
       ]
      },
      {
       "output_type": "stream",
       "stream": "stdout",
       "text": [
        "\n",
        "\u90fd\u67cf\u6797\u57ce\u5e02\u5927\u5b66\t                \u00a0Dublin City University (DCU)"
       ]
      },
      {
       "output_type": "stream",
       "stream": "stdout",
       "text": [
        "\n",
        "\u7ea6\u7ff0\u5e03\u6717\u5927\u5b66(\u897f\u7f57\u4e9a\u6cc9)\t                \u00a0John Brown University (Siloam Springs)"
       ]
      },
      {
       "output_type": "stream",
       "stream": "stdout",
       "text": [
        "\n",
        "\u5370\u7b2c\u5b89\u7eb3\u5927\u5b66-\u666e\u6e21\u5927\u5b66\u5370\u7b2c\u5b89\u7eb3\u6ce2\u5229\u65af\u5206\u6821(\u5370\u7b2c\u5b89\u7eb3\u6ce2\u5229\u65af)\t                \u00a0Indiana University-Purdue University at Indianapolis (Indianapolis)"
       ]
      },
      {
       "output_type": "stream",
       "stream": "stdout",
       "text": [
        "\n",
        "\u9a6c\u65af\u7279\u91cc\u8d6b\u7279\u7ba1\u7406\u5b66\u9662\t                \u00a0MSM (Maastricht School of Management)"
       ]
      },
      {
       "output_type": "stream",
       "stream": "stdout",
       "text": [
        "\n",
        "\u7231\u8377\u534e\u5dde\u7acb\u5927\u5b66(\u57c3\u59c6\u65af)\t                \u00a0Iowa State University (Ames)"
       ]
      },
      {
       "output_type": "stream",
       "stream": "stdout",
       "text": [
        "\n",
        "\u52a0\u5dde\u5927\u5b66\u6d1b\u6749\u77f6\u5206\u6821(\u6d1b\u6749\u77f6)\t                \u00a0University of California, Los Angeles (Los Angeles)"
       ]
      },
      {
       "output_type": "stream",
       "stream": "stdout",
       "text": [
        "\n",
        "\u79d1\u9686\u5927\u5b66"
       ]
      },
      {
       "output_type": "stream",
       "stream": "stdout",
       "text": [
        "\n",
        "\u4f11\u65af\u987f\u5927\u5b66(\u4f11\u65af\u987f)\t                \u00a0University of Houston (Houston)"
       ]
      },
      {
       "output_type": "stream",
       "stream": "stdout",
       "text": [
        "\n",
        "\u5361\u5185\u57fa\u6885\u9686\u5927\u5b66(\u5339\u5179\u5821)\t                \u00a0Carnegie Mellon University (Pittsburgh)"
       ]
      },
      {
       "output_type": "stream",
       "stream": "stdout",
       "text": [
        "\n",
        "\u5723\u8def\u6613\u65af\u534e\u76db\u987f\u5927\u5b66\t                \u00a0Washington University (St. Louis)"
       ]
      },
      {
       "output_type": "stream",
       "stream": "stdout",
       "text": [
        "\n",
        "\u56fe\u5362\u5179\u4e00\u5927"
       ]
      },
      {
       "output_type": "stream",
       "stream": "stdout",
       "text": [
        "\n",
        "\u57ce\u5e02\u6280\u672f\u5b66\u9662\uff08\u73b0\u540d\uff1a\u8d6b\u5c14\u8f9b\u57fa\u57ce\u5e02\u5e94\u7528\u79d1\u5b66\u5927\u5b66\uff09\t                \u00a0Metropolia Polytechnic (Now: Helsinki Metropolia University of Applied Sciences)"
       ]
      },
      {
       "output_type": "stream",
       "stream": "stdout",
       "text": [
        "\n",
        "\u542f\u660e\u5927\u5b66\t                \u00a0Keimyung University"
       ]
      },
      {
       "output_type": "stream",
       "stream": "stdout",
       "text": [
        "\n",
        "\u74e6\u8428\u5e94\u7528\u79d1\u5b66\u5927\u5b66\t                \u00a0Vaasa University of Applied Sciences"
       ]
      },
      {
       "output_type": "stream",
       "stream": "stdout",
       "text": [
        "\n",
        "\u8d6b\u5c14\u8f9b\u57fa\u5927\u5b66\t                \u00a0University of Helsinki"
       ]
      },
      {
       "output_type": "stream",
       "stream": "stdout",
       "text": [
        "\n",
        "\u5fa1\u8336\u6c34\u5973\u5b50\u5927\u5b66\t                \u00a0Ochanomizu University"
       ]
      },
      {
       "output_type": "stream",
       "stream": "stdout",
       "text": [
        "\n",
        "\u4eac\u90fd\u5973\u5b50\u5927\u5b66\t                \u00a0Kyoto Women's University"
       ]
      },
      {
       "output_type": "stream",
       "stream": "stdout",
       "text": [
        "\n",
        "\u7ef4\u591a\u5229\u4e9a\u5927\u5b66\uff08\u6fb3\u5927\u5229\u4e9a\uff09\t                \u00a0Victoria University"
       ]
      },
      {
       "output_type": "stream",
       "stream": "stdout",
       "text": [
        "\n",
        "\u4e4c\u5f97\u52d2\u652f\u827a\u672f\u5b66\u9662\t                \u00a0The Utrecht School of the Arts (HKU)"
       ]
      },
      {
       "output_type": "stream",
       "stream": "stdout",
       "text": [
        "\n",
        "\u827e\u514b\u65af-\u9a6c\u8d5b\u4e00\u5927"
       ]
      },
      {
       "output_type": "stream",
       "stream": "stdout",
       "text": [
        "\n",
        "\u5fe0\u5357\u5927\u5b66\t                \u00a0Chungnam National University"
       ]
      },
      {
       "output_type": "stream",
       "stream": "stdout",
       "text": [
        "\n",
        "\u827e\u6587\u601d\u5e94\u7528\u79d1\u5b66\u5927\u5b66\t                \u00a0Avans University of Applied Science"
       ]
      },
      {
       "output_type": "stream",
       "stream": "stdout",
       "text": [
        "\n",
        "\u5723\u5f7c\u5f97\u5821\u56fd\u7acb\u5927\u5b66\t                \u00a0St. Petersburg State University"
       ]
      },
      {
       "output_type": "stream",
       "stream": "stdout",
       "text": [
        "\n",
        "\u97e9\u5357\u5927\u5b66\t                \u00a0Han Nam University"
       ]
      },
      {
       "output_type": "stream",
       "stream": "stdout",
       "text": [
        "\n",
        "\u5229\u9ed8\u91cc\u514b\u5927\u5b66\t                \u00a0The University of Limerick (UL)"
       ]
      },
      {
       "output_type": "stream",
       "stream": "stdout",
       "text": [
        "\n",
        "\u65e7\u91d1\u5c71\u827a\u672f\u5b66\u9662(\u65e7\u91d1\u5c71)\t                \u00a0San Francisco Art Institute (San Francisco)"
       ]
      },
      {
       "output_type": "stream",
       "stream": "stdout",
       "text": [
        "\n",
        "\u7ebd\u7ea6\u57ce\u5e02\u5927\u5b66\u62c9\u74dc\u8fea\u4e9a\u793e\u533a\u5b66\u9662(\u957f\u5c9b)\t                \u00a0CUNY - LaGuardia Community College (Long Island Cty)"
       ]
      },
      {
       "output_type": "stream",
       "stream": "stdout",
       "text": [
        "\n",
        "\u6c49\u8bfa\u5a01\u5e94\u7528\u6280\u672f\u5927\u5b66"
       ]
      },
      {
       "output_type": "stream",
       "stream": "stdout",
       "text": [
        "\n",
        "\u6cd5\u5170\u514b\u798f\u5927\u5b66"
       ]
      },
      {
       "output_type": "stream",
       "stream": "stdout",
       "text": [
        "\n",
        "\u5766\u4f69\u96f7\u7406\u5de5\u5927\u5b66\t                \u00a0Tampere University of Technology"
       ]
      },
      {
       "output_type": "stream",
       "stream": "stdout",
       "text": [
        "\n",
        "\u62c9\u666e\u5170\u5927\u5b66\t                \u00a0University of Lapland"
       ]
      },
      {
       "output_type": "stream",
       "stream": "stdout",
       "text": [
        "\n",
        "\u4f2f\u6069\u8305\u65af\u5927\u5b66\t                \u00a0Bournemouth University"
       ]
      },
      {
       "output_type": "stream",
       "stream": "stdout",
       "text": [
        "\n",
        "\u585e\u5409-\u84ec\u56fe\u74e6\u5179\u5927\u5b66"
       ]
      },
      {
       "output_type": "stream",
       "stream": "stdout",
       "text": [
        "\n",
        "\u9a6c\u6765\u897f\u4e9a\u7406\u5de5\u5927\u5b66\t                \u00a0Technological University of Malaysia"
       ]
      },
      {
       "output_type": "stream",
       "stream": "stdout",
       "text": [
        "\n",
        "\u4f0d\u65af\u7279\u7406\u5de5\u5b66\u9662(\u4f0d\u65af\u7279)\t                \u00a0Worcester Polytechnic Institute (Worcester)"
       ]
      },
      {
       "output_type": "stream",
       "stream": "stdout",
       "text": [
        "\n",
        "\u9f50\u6839\u5927\u5b66\uff08\u73b0\u540d\uff1a\u9521\u6839\u5927\u5b66\uff09"
       ]
      },
      {
       "output_type": "stream",
       "stream": "stdout",
       "text": [
        "\n",
        "\u8bfa\u4e01\u6c49\u5927\u5b66\u9a6c\u6765\u897f\u4e9a\u5206\u6821\t                \u00a0The University of Nottingham in Malaysia"
       ]
      },
      {
       "output_type": "stream",
       "stream": "stdout",
       "text": [
        "\n",
        "\u8c22\u83f2\u5c14\u5fb7\u54c8\u5170\u59c6\u5927\u5b66\t                \u00a0Sheffield Hallam University"
       ]
      },
      {
       "output_type": "stream",
       "stream": "stdout",
       "text": [
        "\n",
        "\u5a01\u987f\u5b66\u9662\uff08\u5a01\u987f\uff09\t                \u00a0Wheaton College (Wheaton)"
       ]
      },
      {
       "output_type": "stream",
       "stream": "stdout",
       "text": [
        "\n",
        "\u4f26\u6566\u5927\u5b66\u739b\u4e3d\u7687\u540e\u5b66\u9662\t                \u00a0Queen Mary, University of London"
       ]
      },
      {
       "output_type": "stream",
       "stream": "stdout",
       "text": [
        "\n",
        "\u4e9a\u5229\u6851\u90a3\u5927\u5b66(\u56fe\u68ee)\t                \u00a0University of Arizona (Tucson)"
       ]
      },
      {
       "output_type": "stream",
       "stream": "stdout",
       "text": [
        "\n",
        "\u52c3\u5170\u767b\u5821\u5e94\u7528\u6280\u672f\u5927\u5b66"
       ]
      },
      {
       "output_type": "stream",
       "stream": "stdout",
       "text": [
        "\n",
        "\u4e1c\u5317\u5b66\u9662\u5927\u5b66\t                \u00a0Tohoku Gakuin University"
       ]
      },
      {
       "output_type": "stream",
       "stream": "stdout",
       "text": [
        "\n",
        "\u8428\u91cc\u5927\u5b66\t                \u00a0University of Surrey"
       ]
      },
      {
       "output_type": "stream",
       "stream": "stdout",
       "text": [
        "\n",
        "\u666e\u6e21\u5927\u5b66\u897f\u62c9\u6cd5\u53f6\u5206\u6821(\u897f\u62c9\u6cd5\u53f6)\t                \u00a0Purdue University (West Lafayette)"
       ]
      },
      {
       "output_type": "stream",
       "stream": "stdout",
       "text": [
        "\n",
        "\u916a\u519c\u5b66\u56ed\u5927\u5b66\t                \u00a0Rakuno Gakuen University"
       ]
      },
      {
       "output_type": "stream",
       "stream": "stdout",
       "text": [
        "\n",
        "\u65e5\u5185\u74e6\u9ad8\u7ea7\u56fd\u9645\u5173\u7cfb\u5b66\u9662"
       ]
      },
      {
       "output_type": "stream",
       "stream": "stdout",
       "text": [
        "\n",
        "\u7ebd\u7ea6\u5dde\u7acb\u5927\u5b66\u5965\u5c14\u5df4\u5c3c\u5206\u6821(\u5965\u5c14\u5df4\u5c3c)\t                \u00a0State University of New York at Albany(Albany)"
       ]
      },
      {
       "output_type": "stream",
       "stream": "stdout",
       "text": [
        "\n",
        "\u5766\u4f69\u96f7\u5927\u5b66\t                \u00a0University of Tampere"
       ]
      },
      {
       "output_type": "stream",
       "stream": "stdout",
       "text": [
        "\n",
        "\u8428\u7701\u5927\u5b66\t                \u00a0University of Saskatchewan"
       ]
      },
      {
       "output_type": "stream",
       "stream": "stdout",
       "text": [
        "\n",
        "\u7f8e\u56fd\u7535\u5f71\u5b66\u9662(\u6d1b\u6749\u77f6)\t                \u00a0The American Film Institute (Los Angeles)"
       ]
      },
      {
       "output_type": "stream",
       "stream": "stdout",
       "text": [
        "\n",
        "\u4e8e\u97e6\u65af\u5c48\u6765\u5e94\u7528\u79d1\u5b66\u5927\u5b66\t                \u00a0jamk university of applied sciences"
       ]
      },
      {
       "output_type": "stream",
       "stream": "stdout",
       "text": [
        "\n",
        "\u9a6c\u6765\u897f\u4e9a\u7406\u79d1\u5927\u5b66\t                \u00a0University of Science, Malaysia"
       ]
      },
      {
       "output_type": "stream",
       "stream": "stdout",
       "text": [
        "\n",
        "\u5723\u52a0\u4f26\u5927\u5b66"
       ]
      },
      {
       "output_type": "stream",
       "stream": "stdout",
       "text": [
        "\n",
        "\u5df4\u9ece\u5341\u5927"
       ]
      },
      {
       "output_type": "stream",
       "stream": "stdout",
       "text": [
        "\n",
        "\u7ebd\u7ea6\u5dde\u7acb\u5927\u5b66\u77f3\u6eaa\u5206\u6821(\u65af\u6258\u5c3c\u5e03\u9c81\u514b)\t                \u00a0State University of New York at Stony Brook (Stony Brook)"
       ]
      },
      {
       "output_type": "stream",
       "stream": "stdout",
       "text": [
        "\n",
        "\u65b9\u5824\u65af\u5e94\u7528\u79d1\u5b66\u5927\u5b66\t                \u00a0Fontys University of Applied Sciences"
       ]
      },
      {
       "output_type": "stream",
       "stream": "stdout",
       "text": [
        "\n",
        "\u5965\u7ef4\u8036\u591a\u5927\u5b66"
       ]
      },
      {
       "output_type": "stream",
       "stream": "stdout",
       "text": [
        "\n",
        "\u9a6c\u683c\u5fb7\u5821\u5927\u5b66"
       ]
      },
      {
       "output_type": "stream",
       "stream": "stdout",
       "text": [
        "\n",
        "\u514b\u83b1\u5c14\u8499\u7279\u7814\u7a76\u751f\u5927\u5b66(\u514b\u83b1\u5c14\u8499\u7279)\t                \u00a0Claremont Graduate University (Claremont)"
       ]
      },
      {
       "output_type": "stream",
       "stream": "stdout",
       "text": [
        "\n",
        "\u4e39\u9ea6\u6280\u672f\u5927\u5b66\t                \u00a0Technical University of Denmark"
       ]
      },
      {
       "output_type": "stream",
       "stream": "stdout",
       "text": [
        "\n",
        "\u5fe0\u5317\u5927\u5b66\t                \u00a0Chungbuk National University"
       ]
      },
      {
       "output_type": "stream",
       "stream": "stdout",
       "text": [
        "\n",
        "\u963f\u80af\u8272\u5dde\u7acb\u5927\u5b66\t                \u00a0Arkansas State University (State University)"
       ]
      },
      {
       "output_type": "stream",
       "stream": "stdout",
       "text": [
        "\n",
        "\u5fb7\u96f7\u585e\u5c14\u5927\u5b66(\u8d39\u57ce)\t                \u00a0Drexel University (Philadelphia)"
       ]
      },
      {
       "output_type": "stream",
       "stream": "stdout",
       "text": [
        "\n",
        "\u745e\u5178\u519c\u4e1a\u79d1\u5b66\u5927\u5b66\t                \u00a0The Swedish University of Agricultural Sciences"
       ]
      },
      {
       "output_type": "stream",
       "stream": "stdout",
       "text": [
        "\n",
        "\u65e7\u91d1\u5c71\u97f3\u4e50\u5b66\u9662(\u65e7\u91d1\u5c71)\t                \u00a0San Francisco Conservatory of Music (San Francisco)"
       ]
      },
      {
       "output_type": "stream",
       "stream": "stdout",
       "text": [
        "\n",
        "\u7ebd\u7ea6\u5dde\u7acb\u5927\u5b66\u5e1d\u56fd\u5dde\u7acb\u5b66\u9662(\u8428\u62c9\u6258\u52a0\u6cc9)\t                \u00a0SUNY Empire State College (Saratoga Springs)"
       ]
      },
      {
       "output_type": "stream",
       "stream": "stdout",
       "text": [
        "\n",
        "\u8428\u5c14\u5e03\u5415\u80af\u5927\u5b66"
       ]
      },
      {
       "output_type": "stream",
       "stream": "stdout",
       "text": [
        "\n",
        "\u4f26\u6566\u57ce\u5e02\u5927\u5b66\t                \u00a0London Metropolitan University"
       ]
      },
      {
       "output_type": "stream",
       "stream": "stdout",
       "text": [
        "\n",
        "\u9ad8\u77e5\u5927\u5b66\t                \u00a0Kochi University"
       ]
      },
      {
       "output_type": "stream",
       "stream": "stdout",
       "text": [
        "\n",
        "\u7ebd\u82ac\u5170\u7eaa\u5ff5\u5927\u5b66\t                \u00a0Memorial University of Newfoundland"
       ]
      },
      {
       "output_type": "stream",
       "stream": "stdout",
       "text": [
        "\n",
        "\u6c49\u6069\u5e94\u7528\u79d1\u5b66\u5927\u5b66"
       ]
      },
      {
       "output_type": "stream",
       "stream": "stdout",
       "text": [
        "\n",
        "\u5317\u5361\u7f57\u83b1\u7eb3\u5927\u5b66\u590f\u6d1b\u7279\u5206\u6821(\u590f\u6d1b\u7279)\t                \u00a0The University of North Carolina at Charlotte (Charlotte)"
       ]
      },
      {
       "output_type": "stream",
       "stream": "stdout",
       "text": [
        "\n",
        "\u683c\u91cc\u83f2\u65af\u5b66\u9662\t                \u00a0Griffith College"
       ]
      },
      {
       "output_type": "stream",
       "stream": "stdout",
       "text": [
        "\n",
        "\u73af\u7403\u7406\u5de5\u5b66\u9662(\u5317\u5e15\u83ab\u65af\u987f\uff0c\u65fa\u683c\u52aa\u4f0a\uff0c\u739b\u65af\u7279\u987f)\t                \u00a0Universal College of Learning (Levin, Masterton, Palmerston North, Wanganui)"
       ]
      },
      {
       "output_type": "stream",
       "stream": "stdout",
       "text": [
        "\n",
        "\u54e5\u672c\u54c8\u6839\u5927\u5b66\t                \u00a0University of Copenhagen"
       ]
      },
      {
       "output_type": "stream",
       "stream": "stdout",
       "text": [
        "\n",
        "\u4e39\u4f5b\u5927\u5b66(\u4e39\u4f5b)\t                \u00a0University of Denver (Denver)"
       ]
      },
      {
       "output_type": "stream",
       "stream": "stdout",
       "text": [
        "\n",
        "\u54c8\u52d2\u59c6\u65af\u5854\u5fb7\u5927\u5b66\t                \u00a0Halmstad University"
       ]
      },
      {
       "output_type": "stream",
       "stream": "stdout",
       "text": [
        "\n",
        "\u9a6c\u5fb7\u91cc\u7406\u5de5\u5927\u5b66"
       ]
      },
      {
       "output_type": "stream",
       "stream": "stdout",
       "text": [
        "\n",
        "\u65af\u8482\u6587\u65af\u7406\u5de5\u5b66\u9662(\u970d\u6ce2\u80af)\t                \u00a0Stevens Institute of Technology (Hoboken)"
       ]
      },
      {
       "output_type": "stream",
       "stream": "stdout",
       "text": [
        "\n",
        "\u6cd5\u5170\u514b\u798f\u8d22\u7ecf\u7ba1\u7406\u5927\u5b66"
       ]
      },
      {
       "output_type": "stream",
       "stream": "stdout",
       "text": [
        "\n",
        "\u7c73\u5170\u7406\u5de5\u5927\u5b66"
       ]
      },
      {
       "output_type": "stream",
       "stream": "stdout",
       "text": [
        "\n",
        "\u9a6c\u5fb7\u91cc\u5b8c\u5168\u5927\u5b66"
       ]
      },
      {
       "output_type": "stream",
       "stream": "stdout",
       "text": [
        "\n",
        "\u5361\u5c14\u65af\u9c81\u5384\u5de5\u4e1a\u5927\u5b66\uff08\u73b0\u540d\uff1a\u5361\u5c14\u65af\u9c81\u5384\u7406\u5de5\u5b66\u9662\uff09"
       ]
      },
      {
       "output_type": "stream",
       "stream": "stdout",
       "text": [
        "\n",
        "\u963f\u5229\u574e\u7279\u5927\u5b66\t                \u00a0University of Alicante"
       ]
      },
      {
       "output_type": "stream",
       "stream": "stdout",
       "text": [
        "\n",
        "\u897f\u5317\u5927\u5b66(\u57c3\u6587\u65af\u901a)\t                \u00a0Northwestern University (Evanston)"
       ]
      },
      {
       "output_type": "stream",
       "stream": "stdout",
       "text": [
        "\n",
        "\u80af\u7279\u5927\u5b66\t                \u00a0University of Kent"
       ]
      },
      {
       "output_type": "stream",
       "stream": "stdout",
       "text": [
        "\n",
        "\u4e4c\u5c14\u59c6\u5927\u5b66"
       ]
      },
      {
       "output_type": "stream",
       "stream": "stdout",
       "text": [
        "\n",
        "\u5361\u585e\u5c14\u5927\u5b66"
       ]
      },
      {
       "output_type": "stream",
       "stream": "stdout",
       "text": [
        "\n",
        "\u7279\u62c9\u534e\u5927\u5b66(\u7ebd\u534e\u514b)\t                \u00a0University of Delaware (Newark)"
       ]
      },
      {
       "output_type": "stream",
       "stream": "stdout",
       "text": [
        "\n",
        "\u52a0\u5dde\u5dde\u7acb\u5927\u5b66\u5f17\u96f7\u65af\u8bfa\u5206\u6821(\u5f17\u96f7\u65af\u8bfa)\t                \u00a0California State University (Fresno)"
       ]
      },
      {
       "output_type": "stream",
       "stream": "stdout",
       "text": [
        "\n",
        "\u57c3\u5c14\u6717\u6839-\u7ebd\u4f26\u5821\u5927\u5b66"
       ]
      },
      {
       "output_type": "stream",
       "stream": "stdout",
       "text": [
        "\n",
        "\u7687\u5bb6\u8def\u5927\u5b66\t                \u00a0Royal Roads University"
       ]
      },
      {
       "output_type": "stream",
       "stream": "stdout",
       "text": [
        "\n",
        "\u5170\u5e03\u65af\u5927\u5b66(\u6770\u514b\u900a)\t                \u00a0Lambuth University (Jackson)"
       ]
      },
      {
       "output_type": "stream",
       "stream": "stdout",
       "text": [
        "\n",
        "\u897f\u5bc6\u6b47\u6839\u5927\u5b66(\u5361\u62c9\u9a6c\u7956)\t                \u00a0Western Michigan University (Kalamazoo)"
       ]
      },
      {
       "output_type": "stream",
       "stream": "stdout",
       "text": [
        "\n",
        "\u7f57\u9a6c\u81ea\u7531\u7f8e\u672f\u5b66\u9662"
       ]
      },
      {
       "output_type": "stream",
       "stream": "stdout",
       "text": [
        "\n",
        "\u6c49\u5821\u5e94\u7528\u6280\u672f\u5927\u5b66"
       ]
      },
      {
       "output_type": "stream",
       "stream": "stdout",
       "text": [
        "\n",
        "\u79d1\u514b\u5927\u5b66\u5b66\u9662\t                \u00a0University College of Cork (UCC)"
       ]
      },
      {
       "output_type": "stream",
       "stream": "stdout",
       "text": [
        "\n",
        "\u9e7f\u7279\u4e39\u97f3\u4e50\u620f\u5267\u5b66\u9662"
       ]
      },
      {
       "output_type": "stream",
       "stream": "stdout",
       "text": [
        "\n",
        "\u56fd\u7acb\u56ed\u827a\u5b66\u9662"
       ]
      },
      {
       "output_type": "stream",
       "stream": "stdout",
       "text": [
        "\n",
        "\u963f\u5c14\u5361\u62c9\u5927\u5b66\t                \u00a0University of ALCAL\u00e1"
       ]
      },
      {
       "output_type": "stream",
       "stream": "stdout",
       "text": [
        "\n",
        "\u4f0f\u5c14\u52a0\u683c\u52d2\u56fd\u7acb\u533b\u79d1\u5927\u5b66"
       ]
      },
      {
       "output_type": "stream",
       "stream": "stdout",
       "text": [
        "\n",
        "\u5409\u68ee\u5927\u5b66"
       ]
      },
      {
       "output_type": "stream",
       "stream": "stdout",
       "text": [
        "\n",
        "\u514b\u5170\u83f2\u5c14\u5fb7\u5927\u5b66\t                \u00a0Cranfield University"
       ]
      },
      {
       "output_type": "stream",
       "stream": "stdout",
       "text": [
        "\n",
        "\u683c\u62c9\u7eb3\u8fbe\u5927\u5b66"
       ]
      },
      {
       "output_type": "stream",
       "stream": "stdout",
       "text": [
        "\n",
        "\u8d1d\u5c14\u6cd5\u65af\u7279\u5973\u738b\u5927\u5b66\t                \u00a0Queen's University of Belfast"
       ]
      },
      {
       "output_type": "stream",
       "stream": "stdout",
       "text": [
        "\n",
        "\u79d1\u5b66\u7ecf\u6d4e\u4e0e\u7ba1\u7406\u5b66\u9662\uff08\u91cc\u5c14\uff09"
       ]
      },
      {
       "output_type": "stream",
       "stream": "stdout",
       "text": [
        "\n",
        "\u666e\u8328\u8305\u65af\u5927\u5b66\t                \u00a0University of Portsmouth"
       ]
      },
      {
       "output_type": "stream",
       "stream": "stdout",
       "text": [
        "\n",
        "\u8003\u6587\u5782\u5927\u5b66\t                \u00a0Coventry University"
       ]
      },
      {
       "output_type": "stream",
       "stream": "stdout",
       "text": [
        "\n",
        "\u89c6\u89c9\u827a\u672f\u5b66\u6821(\u7ebd\u7ea6)\t                \u00a0School of Visual Arts (New York)"
       ]
      },
      {
       "output_type": "stream",
       "stream": "stdout",
       "text": [
        "\n",
        "\u65e7\u91d1\u5c71\u5927\u5b66(\u65e7\u91d1\u5c71)\t                \u00a0University of San Francisco (San Francisco)"
       ]
      },
      {
       "output_type": "stream",
       "stream": "stdout",
       "text": [
        "\n",
        "\u6d1b\u6851\u8054\u90a6\u7406\u5de5\u5927\u5b66"
       ]
      },
      {
       "output_type": "stream",
       "stream": "stdout",
       "text": [
        "\n",
        "\u6cf0\u666e\u8fea\u5c3c\u7406\u5de5\u5b66\u9662\t                \u00a0Tai Poutini Polytechnic"
       ]
      },
      {
       "output_type": "stream",
       "stream": "stdout",
       "text": [
        "\n",
        "VIA\u5927\u5b66\u5b66\u9662\t                \u00a0VIA University College"
       ]
      },
      {
       "output_type": "stream",
       "stream": "stdout",
       "text": [
        "\n",
        "\u65af\u7279\u7075\u5927\u5b66\t                \u00a0University of Stirling"
       ]
      },
      {
       "output_type": "stream",
       "stream": "stdout",
       "text": [
        "\n",
        "\u5bc6\u897f\u897f\u6bd4\u5dde\u7acb\u5927\u5b66\t                \u00a0Mississippi State University (Mississippi State)"
       ]
      },
      {
       "output_type": "stream",
       "stream": "stdout",
       "text": [
        "\n",
        "\u5229\u83ab\u745e\u514b\u7406\u5de5\u5b66\u9662\t                \u00a0Limerick Institute of Technology"
       ]
      },
      {
       "output_type": "stream",
       "stream": "stdout",
       "text": [
        "\n",
        "\u97e6\u6069\u5dde\u7acb\u5927\u5b66(\u5e95\u7279\u5f8b)\t                \u00a0Wayne State University (Detroit)"
       ]
      },
      {
       "output_type": "stream",
       "stream": "stdout",
       "text": [
        "\n",
        "\u9ad8\u5a01\u7406\u5de5\u5b66\u9662\t                \u00a0Galway-Mayo Institute of Technology"
       ]
      },
      {
       "output_type": "stream",
       "stream": "stdout",
       "text": [
        "\n",
        "\u963f\u65af\u9686\u7406\u5de5\u5b66\u9662\t                \u00a0Athlone Institute of Technology"
       ]
      },
      {
       "output_type": "stream",
       "stream": "stdout",
       "text": [
        "\n",
        "\u675c\u4f0a\u65af\u5821-\u57c3\u68ee\u5927\u5b66/\u57c3\u68ee\uff08\u73b0\u540d\uff1a\u675c\u4f0a\u65af\u5821-\u57c3\u68ee\u5927\u5b66\uff09"
       ]
      },
      {
       "output_type": "stream",
       "stream": "stdout",
       "text": [
        "\n",
        "\u65af\u83b1\u6208\u7406\u5de5\u5b66\u9662\uff08\u65af\u83b1\u6208\uff09\t                \u00a0Institute of Technology, Sligo"
       ]
      },
      {
       "output_type": "stream",
       "stream": "stdout",
       "text": [
        "\n",
        "\u5df4\u91cc\u5927\u5b66"
       ]
      },
      {
       "output_type": "stream",
       "stream": "stdout",
       "text": [
        "\n",
        "\u9a6c\u6765\u897f\u4e9a\u56fd\u6c11\u5927\u5b66\t                \u00a0National University of Malaysia"
       ]
      },
      {
       "output_type": "stream",
       "stream": "stdout",
       "text": [
        "\n",
        "\u9a6c\u6765\u897f\u4e9a\u4e9a\u592a\u79d1\u6280\u5927\u5b66\t                \u00a0APIIT Technology Park Malaysia"
       ]
      },
      {
       "output_type": "stream",
       "stream": "stdout",
       "text": [
        "\n",
        "\u6155\u5c3c\u9ed1\u5e94\u7528\u6280\u672f\u5927\u5b66"
       ]
      },
      {
       "output_type": "stream",
       "stream": "stdout",
       "text": [
        "\n",
        "\u97e9\u56fd\u6559\u5458\u5927\u5b66\t                \u00a0Korea National University of Education"
       ]
      },
      {
       "output_type": "stream",
       "stream": "stdout",
       "text": [
        "\n",
        "\u5317\u963f\u5c14\u4f2f\u5854\u7406\u5de5\u5b66\u9662\t                \u00a0Northern Alberta Institute of Technology"
       ]
      },
      {
       "output_type": "stream",
       "stream": "stdout",
       "text": [
        "\n",
        "\u4e2d\u592e\u6606\u58eb\u5170\u5927\u5b66\t                \u00a0Central Queensl and University"
       ]
      },
      {
       "output_type": "stream",
       "stream": "stdout",
       "text": [
        "\n",
        "\u56fd\u7acb\u827a\u672f\u4e0e\u8bbe\u8ba1\u5927\u5b66\u5b66\u9662\t                \u00a0University College of Arts, Crafts and Design"
       ]
      },
      {
       "output_type": "stream",
       "stream": "stdout",
       "text": [
        "\n",
        "\u591a\u7279\u8499\u5fb7\u56fd\u9645\u7ba1\u7406\u5b66\u9662"
       ]
      },
      {
       "output_type": "stream",
       "stream": "stdout",
       "text": [
        "\n",
        "\u7f57\u74e6\u6d85\u7c73\u5e94\u7528\u79d1\u5b66\u5927\u5b66\t                \u00a0Rovaniemi University of Applied Sciences"
       ]
      },
      {
       "output_type": "stream",
       "stream": "stdout",
       "text": [
        "\n",
        "\u5df4\u9ece\u9ad8\u7b49\u5546\u4e1a\u5b66\u6821"
       ]
      },
      {
       "output_type": "stream",
       "stream": "stdout",
       "text": [
        "\n",
        "\u5361\u5c14\u65af\u5854\u5fb7\u5927\u5b66\t                \u00a0Karlstad University"
       ]
      },
      {
       "output_type": "stream",
       "stream": "stdout",
       "text": [
        "\n",
        "\u90fd\u67cf\u6797\u7406\u5de5\u5b66\u9662\t                \u00a0Dublin Institute of Technology"
       ]
      },
      {
       "output_type": "stream",
       "stream": "stdout",
       "text": [
        "\n",
        "\u7ebd\u7ea6\u57ce\u5e02\u5927\u5b66\u4ea8\u7279\u5b66\u9662(\u7ebd\u7ea6)\t                \u00a0CUNY - Hunter College (New York)"
       ]
      },
      {
       "output_type": "stream",
       "stream": "stdout",
       "text": [
        "\n",
        "\u535a\u74e6\u7acb\u5b66\u9662\t                \u00a0Bow Valley College"
       ]
      },
      {
       "output_type": "stream",
       "stream": "stdout",
       "text": [
        "\n",
        "\u65e5\u5185\u74e6\u5927\u5b66"
       ]
      },
      {
       "output_type": "stream",
       "stream": "stdout",
       "text": [
        "\n",
        "\u725b\u6d25\u5e03\u9c81\u514b\u65af\u5927\u5b66\t                \u00a0Oxford Brookes University, ICELS"
       ]
      },
      {
       "output_type": "stream",
       "stream": "stdout",
       "text": [
        "\n",
        "\u4e1c\u90e8\u7406\u5de5\u5b66\u9662\t                \u00a0Eastern Institute of Technology (Hawkes Bay)"
       ]
      },
      {
       "output_type": "stream",
       "stream": "stdout",
       "text": [
        "\n",
        "\u5fb7\u514b\u8428\u65af\u5927\u5b66\u8fbe\u62c9\u65af\u5206\u6821(\u91cc\u67e5\u5fb7\u900a)\t                \u00a0University of Texas at Dallas (Richardson)"
       ]
      },
      {
       "output_type": "stream",
       "stream": "stdout",
       "text": [
        "\n",
        "\u5357\u52a0\u5dde\u5efa\u7b51\u5b66\u9662(\u6d1b\u6749\u77f6)\t                \u00a0Southern California Institute of Architecture (Los Angeles)"
       ]
      },
      {
       "output_type": "stream",
       "stream": "stdout",
       "text": [
        "\n",
        "\u5854\u62c9\u7406\u5de5\u5b66\u9662\t                \u00a0Institute of Technology, Tallaght"
       ]
      },
      {
       "output_type": "stream",
       "stream": "stdout",
       "text": [
        "\n",
        "\u4e1c\u4e9a\u5e7f\u64ad\u827a\u672f\u5927\u5b66\t                \u00a0Dong-Ah Broadcasting College"
       ]
      },
      {
       "output_type": "stream",
       "stream": "stdout",
       "text": [
        "\n",
        "\u5df4\u585e\u5c14\u5927\u5b66"
       ]
      },
      {
       "output_type": "stream",
       "stream": "stdout",
       "text": [
        "\n",
        "\u54e5\u5fb7\u5821\u5927\u5b66\t                \u00a0Goteborg University"
       ]
      },
      {
       "output_type": "stream",
       "stream": "stdout",
       "text": [
        "\n",
        "\u5361\u83ab\u68ee\u5b66\u9662\t                \u00a0Camosun College"
       ]
      },
      {
       "output_type": "stream",
       "stream": "stdout",
       "text": [
        "\n",
        "\u963f\u514b\u4f26\u5927\u5b66(\u963f\u514b\u4f26)\t                \u00a0University of Akron (Akron)"
       ]
      },
      {
       "output_type": "stream",
       "stream": "stdout",
       "text": [
        "\n",
        "\u827a\u672f\u4e2d\u5fc3\u8bbe\u8ba1\u5b66\u9662(\u5e15\u8428\u8fea\u7eb3)\t                \u00a0Art Center College of Design (Pasadena)"
       ]
      },
      {
       "output_type": "stream",
       "stream": "stdout",
       "text": [
        "\n",
        "\u4e54\u6cbb\u4e9a\u5927\u5b66 (\u96c5\u5178)\t                \u00a0The University of Georgia (Athens)"
       ]
      },
      {
       "output_type": "stream",
       "stream": "stdout",
       "text": [
        "\n",
        "\u5357\u65b9\u7406\u5de5\u5b66\u9662\t                \u00a0Southern Institute of Technology"
       ]
      },
      {
       "output_type": "stream",
       "stream": "stdout",
       "text": [
        "\n",
        "\u7d22\u5c14\u5179\u4f2f\u91cc\u5927\u5b66(\u7d22\u5c14\u5179\u4f2f\u91cc)\t                \u00a0Salisbury University (Salisbury)"
       ]
      },
      {
       "output_type": "stream",
       "stream": "stdout",
       "text": [
        "\n",
        "\u5e03\u4eac\u7406\u5de5\u5b66\u9662\t                \u00a0Blekinge Institute of Technology"
       ]
      },
      {
       "output_type": "stream",
       "stream": "stdout",
       "text": [
        "\n",
        "\u9a6c\u52aa\u8003\u7406\u5de5\u5b66\u9662\t                \u00a0Manukau Institute of Technology"
       ]
      },
      {
       "output_type": "stream",
       "stream": "stdout",
       "text": [
        "\n",
        "\u827e\u7ef4\u62c9\u5927\u5b66(\u582a\u8428\u65af\u5e02)\t                \u00a0Avila University (Kansas City)"
       ]
      },
      {
       "output_type": "stream",
       "stream": "stdout",
       "text": [
        "\n",
        "\u83b1\u7279\u80af\u5c3c\u7406\u5de5\u5b66\u9662\t                \u00a0Letterkenny Institute of Technology"
       ]
      },
      {
       "output_type": "stream",
       "stream": "stdout",
       "text": [
        "\n",
        "\u6258\u9a6c\u65af\u6770\u6590\u900a\u5927\u5b66(\u8d39\u57ce)\t                \u00a0Thomas Jefferson University (Philadelphia)"
       ]
      },
      {
       "output_type": "stream",
       "stream": "stdout",
       "text": [
        "\n",
        "\u963f\u5c14\u6885\u91cc\u4e9a\u5927\u5b66"
       ]
      },
      {
       "output_type": "stream",
       "stream": "stdout",
       "text": [
        "\n",
        "\u57c3\u535a\u5b66\u672f\u5927\u5b66\t                \u00a0\u00c5bo Akademi University"
       ]
      },
      {
       "output_type": "stream",
       "stream": "stdout",
       "text": [
        "\n",
        "\u52a0\u5dde\u5927\u5b66\u5723\u514b\u9c81\u65af\u5206\u6821(\u5723\u514b\u9c81\u65af)\t                \u00a0University of California, Santa Cruz (Santa Cruz)"
       ]
      },
      {
       "output_type": "stream",
       "stream": "stdout",
       "text": [
        "\n",
        "\u9a6c\u6765\u897f\u4e9a\u5e03\u7279\u62c9\u5927\u5b66\t                \u00a0Putra University,Malaysia"
       ]
      },
      {
       "output_type": "stream",
       "stream": "stdout",
       "text": [
        "\n",
        "\u7684\u91cc\u96c5\u65af\u7279\u5927\u5b66"
       ]
      },
      {
       "output_type": "stream",
       "stream": "stdout",
       "text": [
        "\n",
        "\u8d1d\u514b\u66fc\u65af\u8bbe\u8ba1\u5b66\u9662\t                \u00a0Beckmans College of Design"
       ]
      },
      {
       "output_type": "stream",
       "stream": "stdout",
       "text": [
        "\n",
        "\u5362\u585e\u6069\u5927\u5b66"
       ]
      },
      {
       "output_type": "stream",
       "stream": "stdout",
       "text": [
        "\n",
        "\u9a6c\u62c9\u8fbe\u4f26\u5927\u5b66\t                \u00a0M\u00e4lardalen University"
       ]
      },
      {
       "output_type": "stream",
       "stream": "stdout",
       "text": [
        "\n",
        "\u9e7f\u7279\u4e39\u4f0a\u62c9\u65af\u8c1f\u5927\u5b66\t                \u00a0Erasmus University Rotterdam, EUR"
       ]
      },
      {
       "output_type": "stream",
       "stream": "stdout",
       "text": [
        "\n",
        "\u7279\u62c9\u5229\u7406\u5de5\u5b66\u9662\uff08\u7279\u62c9\u5229\uff09\t                \u00a0Institute of Technology, Tralee"
       ]
      },
      {
       "output_type": "stream",
       "stream": "stdout",
       "text": [
        "\n",
        "\u7f57\u65af\u57fa\u52d2\u5927\u5b66\t                \u00a0Roskilde University"
       ]
      },
      {
       "output_type": "stream",
       "stream": "stdout",
       "text": [
        "\n",
        "\u7f57\u65af\u6258\u514b\u5927\u5b66"
       ]
      },
      {
       "output_type": "stream",
       "stream": "stdout",
       "text": [
        "\n",
        "\u96f7\u6839\u65af\u5821\u5927\u5b66"
       ]
      },
      {
       "output_type": "stream",
       "stream": "stdout",
       "text": [
        "\n",
        "\u6cd5\u5170\u514b\u798f\u5e94\u7528\u6280\u672f\u5927\u5b66"
       ]
      },
      {
       "output_type": "stream",
       "stream": "stdout",
       "text": [
        "\n",
        "\u7ebd\u7ea6\u57ce\u5e02\u5927\u5b66\u57ce\u5e02\u5b66\u9662(\u7ebd\u7ea6)\t                \u00a0CUNY - City College (New York)"
       ]
      },
      {
       "output_type": "stream",
       "stream": "stdout",
       "text": [
        "\n",
        "\u6e29\u5c3c\u4f2f\u5927\u5b66\t                \u00a0University of Winnipeg"
       ]
      },
      {
       "output_type": "stream",
       "stream": "stdout",
       "text": [
        "\n",
        "\u56fd\u9645\u4f4f\u623f\u4e0e\u57ce\u5e02\u53d1\u5c55\u7814\u7a76\u9662"
       ]
      },
      {
       "output_type": "stream",
       "stream": "stdout",
       "text": [
        "\n",
        "\u745e\u5178\u4f53\u80b2\u4e0e\u5065\u5eb7\u79d1\u5b66\u5b66\u9662\t                \u00a0The Swedish School of Sport and Health Sciences"
       ]
      },
      {
       "output_type": "stream",
       "stream": "stdout",
       "text": [
        "\n",
        "\u52a0\u56fe\u7acb\u4e0a\u667a\u5927\u5b66\t                \u00a0Catholic Sangji College"
       ]
      },
      {
       "output_type": "stream",
       "stream": "stdout",
       "text": [
        "\n",
        "\u65b0\u58a8\u897f\u54e5\u5927\u5b66(\u963f\u5c14\u4f2f\u514b\u57fa)\t                \u00a0University of New Mexico (Albuquerque)"
       ]
      },
      {
       "output_type": "stream",
       "stream": "stdout",
       "text": [
        "\n",
        "\u5357\u4e39\u9ea6\u5927\u5b66\t                \u00a0University of Southern Denmark"
       ]
      },
      {
       "output_type": "stream",
       "stream": "stdout",
       "text": [
        "\n",
        "\u6210\u5747\u9986\u5927\u5b66\t                \u00a0Sung Kyun Kwan University"
       ]
      },
      {
       "output_type": "stream",
       "stream": "stdout",
       "text": [
        "\n",
        "\u8ffd\u624b\u95e8\u5b66\u9662\u5927\u5b66\t                \u00a0Otemon Gakuin University"
       ]
      },
      {
       "output_type": "stream",
       "stream": "stdout",
       "text": [
        "\n",
        "\u5965\u5854\u54e5\u7406\u5de5\u5b66\u9662\t                \u00a0Otago Polytechnic"
       ]
      },
      {
       "output_type": "stream",
       "stream": "stdout",
       "text": [
        "\n",
        "\u8d6b\u5c14\u5927\u5b66\t                \u00a0University of Hull"
       ]
      },
      {
       "output_type": "stream",
       "stream": "stdout",
       "text": [
        "\n",
        "\u97e9\u6c5f\u5b66\u9662\t                \u00a0Han Chiang College"
       ]
      },
      {
       "output_type": "stream",
       "stream": "stdout",
       "text": [
        "\n",
        "\u5229\u5179\u5927\u5b66\u8bed\u8a00\u4e2d\u5fc3\t                \u00a0University of Leeds Language Centre"
       ]
      },
      {
       "output_type": "stream",
       "stream": "stdout",
       "text": [
        "\n",
        "\u91d1\u9a6c\u626c\u9ad8\u7b49\u6559\u80b2\u5b66\u9662\t                \u00a0Kemayan Advance Tertiary College"
       ]
      },
      {
       "output_type": "stream",
       "stream": "stdout",
       "text": [
        "\n",
        "\u97e9\u56fd\u6280\u672f\u6559\u80b2\u5927\u5b66\t                \u00a0Korea University of Technology and Education"
       ]
      },
      {
       "output_type": "stream",
       "stream": "stdout",
       "text": [
        "\n",
        "\u745e\u58eb\u897f\u5317\u9ad8\u7b49\u4e13\u4e1a\u5b66\u9662"
       ]
      },
      {
       "output_type": "stream",
       "stream": "stdout",
       "text": [
        "\n",
        "\u6cfd\u5170\u5e94\u7528\u79d1\u5b66\u5927\u5b66\t                \u00a0HZ University of Applied Sciences"
       ]
      },
      {
       "output_type": "stream",
       "stream": "stdout",
       "text": [
        "\n",
        "\u5317\u5361\u7d2f\u5229\u963f\u5e94\u7528\u79d1\u5b66\u5927\u5b66\t                \u00a0North Karelia University of Applied Sciences"
       ]
      },
      {
       "output_type": "stream",
       "stream": "stdout",
       "text": [
        "\n",
        "\u9a6c\u91cc\u5170\u5927\u5b66-\u5927\u5b66\u5b66\u9662\u5206\u6821(\u5b89\u6234\u5c14\u83f2)\t                \u00a0University of Maryland University College (Adelphi)"
       ]
      },
      {
       "output_type": "stream",
       "stream": "stdout",
       "text": [
        "\n",
        "\u963f\u62c9\u5df4\u9a6c\u5dde\u7acb\u5927\u5b66(\u8499\u54e5\u9a6c\u5229\u5e02)\t                \u00a0Alabama State University (Montgomery)"
       ]
      },
      {
       "output_type": "stream",
       "stream": "stdout",
       "text": [
        "\n",
        "\u4ee3\u987f\u5927\u5b66(\u4ee3\u987f)\t                \u00a0University of Dayton (Dayton)"
       ]
      },
      {
       "output_type": "stream",
       "stream": "stdout",
       "text": [
        "\n",
        "\u5a01\u5c3c\u65af\u4e1c\u65b9\u5927\u5b66"
       ]
      },
      {
       "output_type": "stream",
       "stream": "stdout",
       "text": [
        "\n",
        "\u4e1c\u6d1b\u6749\u77f6\u5b66\u9662(\u8499\u7279\u5229\u516c\u56ed)\t                \u00a0East Los Angeles College (Monterey Park)"
       ]
      },
      {
       "output_type": "stream",
       "stream": "stdout",
       "text": [
        "\n",
        "\u4e4c\u5c14\u6bd4\u8bfa\u7f8e\u672f\u5b66\u9662"
       ]
      },
      {
       "output_type": "stream",
       "stream": "stdout",
       "text": [
        "\n",
        "\u52a0\u5dde\u5927\u5b66\u5723\u82ad\u82ad\u62c9\u5206\u6821(\u5723\u82ad\u82ad\u62c9)\t                \u00a0University of California, Santa Barbara (Santa Barbara)"
       ]
      },
      {
       "output_type": "stream",
       "stream": "stdout",
       "text": [
        "\n",
        "\u5965\u5c14\u5821\u5927\u5b66\t                \u00a0Aalborg University"
       ]
      },
      {
       "output_type": "stream",
       "stream": "stdout",
       "text": [
        "\n",
        "\u582a\u57f9\u62c9\u5927\u5b66\t                \u00a0University of Canberra"
       ]
      },
      {
       "output_type": "stream",
       "stream": "stdout",
       "text": [
        "\n",
        "\u827e\u7c73\u4e3d\u5361\u5c14\u827a\u672f\u4e0e\u8bbe\u8ba1\u5927\u5b66\t                \u00a0Emily Carr University of Art and Design"
       ]
      },
      {
       "output_type": "stream",
       "stream": "stdout",
       "text": [
        "\n",
        "\u5bcc\u7279\u65fa\u6839\u5e94\u7528\u6280\u672f\u5927\u5b66"
       ]
      },
      {
       "output_type": "stream",
       "stream": "stdout",
       "text": [
        "\n",
        "\u5b89\u5927\u7565\u7406\u5de5\u5927\u5b66\t                \u00a0University of Ontario Institute of Technology"
       ]
      },
      {
       "output_type": "stream",
       "stream": "stdout",
       "text": [
        "\n",
        "\u5fb7\u514b\u8428\u65af\u5927\u5b66\u4f11\u65af\u987f\u5065\u5eb7\u79d1\u5b66\u4e2d\u5fc3(\u4f11\u65af\u987f)\t                \u00a0The University of Texas Health Science Center at Houston (Houston)"
       ]
      },
      {
       "output_type": "stream",
       "stream": "stdout",
       "text": [
        "\n",
        "\u6566\u8fbe\u514b\u7406\u5de5\u5b66\u9662\t                \u00a0Dundalk Institute of Technology"
       ]
      },
      {
       "output_type": "stream",
       "stream": "stdout",
       "text": [
        "\n",
        "\u5317\u6d77\u9053\u5927\u5b66\t                \u00a0Hokkaido University"
       ]
      },
      {
       "output_type": "stream",
       "stream": "stdout",
       "text": [
        "\n",
        "\u96f7\u4e01\u5927\u5b66\t                \u00a0University of Reading"
       ]
      },
      {
       "output_type": "stream",
       "stream": "stdout",
       "text": [
        "\n",
        "\u54e5\u7279\u5170\u5927\u5b66\t                \u00a0Gotland University"
       ]
      },
      {
       "output_type": "stream",
       "stream": "stdout",
       "text": [
        "\n",
        "\u534e\u76db\u987f\u5dde\u7acb\u5927\u5b66(\u666e\u5c14\u66fc)\t                \u00a0Washington State University (Pullman)"
       ]
      },
      {
       "output_type": "stream",
       "stream": "stdout",
       "text": [
        "\n",
        "\u65af\u7279\u62c9\u65af\u514b\u83b1\u5fb7\u5927\u5b66\t                \u00a0University of Strathclyde"
       ]
      },
      {
       "output_type": "stream",
       "stream": "stdout",
       "text": [
        "\n",
        "\u7f8e\u56e0\u5179\u5927\u5b66"
       ]
      },
      {
       "output_type": "stream",
       "stream": "stdout",
       "text": [
        "\n",
        "\u7ea2\u6cb3\u5b66\u9662\t                \u00a0Red River College"
       ]
      },
      {
       "output_type": "stream",
       "stream": "stdout",
       "text": [
        "\n",
        "\u829d\u52a0\u54e5\u6d1b\u7ea6\u62c9\u5927\u5b66(\u829d\u52a0\u54e5)\t                \u00a0Loyola University of Chicago (Chicago)"
       ]
      },
      {
       "output_type": "stream",
       "stream": "stdout",
       "text": [
        "\n",
        "\u660e\u65af\u7279\u5927\u5b66"
       ]
      },
      {
       "output_type": "stream",
       "stream": "stdout",
       "text": [
        "\n",
        "\u9b41\u5317\u514b\u5927\u5b66\uff1a\u56fd\u7acb\u516c\u5171\u7ba1\u7406\u5b66\u9662"
       ]
      },
      {
       "output_type": "stream",
       "stream": "stdout",
       "text": [
        "\n",
        "\u9a6c\u6765\u897f\u4e9a\u5317\u65b9\u5927\u5b66\t                \u00a0Northern University of Malaysia"
       ]
      },
      {
       "output_type": "stream",
       "stream": "stdout",
       "text": [
        "\n",
        "\u4fc4\u4ea5\u4fc4\u5927\u5b66(\u963f\u68ee\u65af)\t                \u00a0Ohio University (Athens)"
       ]
      },
      {
       "output_type": "stream",
       "stream": "stdout",
       "text": [
        "\n",
        "\u4e1c\u5357\u4fc4\u514b\u62c9\u8377\u9a6c\u5dde\u7acb\u5927\u5b66(\u675c\u5170\u7279)\t                \u00a0Southeastern Oklahoma State University (Durant)"
       ]
      },
      {
       "output_type": "stream",
       "stream": "stdout",
       "text": [
        "\n",
        "\u6ce2\u5c14\u591a\u4e00\u5927"
       ]
      },
      {
       "output_type": "stream",
       "stream": "stdout",
       "text": [
        "\n",
        "\u675c\u80af\u5927\u5b66(\u5339\u5179\u5821)\t                \u00a0Duquesne University (Pittsburgh)"
       ]
      },
      {
       "output_type": "stream",
       "stream": "stdout",
       "text": [
        "\n",
        "\u683c\u6797\u5a01\u6cbb\u5927\u5b66\t                \u00a0University of Greenwich"
       ]
      },
      {
       "output_type": "stream",
       "stream": "stdout",
       "text": [
        "\n",
        "\u6606\u58eb\u5170\u7406\u5de5\u5927\u5b66\t                \u00a0Queensland University of Technology"
       ]
      },
      {
       "output_type": "stream",
       "stream": "stdout",
       "text": [
        "\n",
        "\u5361\u6bd5\u5170\u8bfa\u5927\u5b66\t                \u00a0Capilano University"
       ]
      },
      {
       "output_type": "stream",
       "stream": "stdout",
       "text": [
        "\n",
        "\u9ad8\u4e3d\u5927\u5b66\t                \u00a0Korea University"
       ]
      },
      {
       "output_type": "stream",
       "stream": "stdout",
       "text": [
        "\n",
        "\u4e2d\u4fc4\u514b\u62c9\u8377\u9a6c\u5927\u5b66(\u57c3\u5fb7\u8499)\t                \u00a0University of Central Oklahoma (Edmond)"
       ]
      },
      {
       "output_type": "stream",
       "stream": "stdout",
       "text": [
        "\n",
        "\u666e\u5229\u8305\u65af\u5927\u5b66\t                \u00a0University of Plymouth"
       ]
      },
      {
       "output_type": "stream",
       "stream": "stdout",
       "text": [
        "\n",
        "\u8428\u52d2\u8bfa\u97f3\u4e50\u5b66\u9662"
       ]
      },
      {
       "output_type": "stream",
       "stream": "stdout",
       "text": [
        "\n",
        "\u5317\u5361\u7f57\u83b1\u7eb3\u5927\u5b66\u67e5\u4f69\u5c14\u5c71\u5206\u6821(\u67e5\u4f69\u5c14\u5c71)\t                \u00a0University of North Carolina at Chapel Hill (Chapel Hill)"
       ]
      },
      {
       "output_type": "stream",
       "stream": "stdout",
       "text": [
        "\n",
        "\u4e54\u6cbb\u5e03\u6717\u5e94\u7528\u827a\u672f\u53ca\u6280\u672f\u5b66\u9662\t                \u00a0George Brown College of Applied Arts and Technology"
       ]
      },
      {
       "output_type": "stream",
       "stream": "stdout",
       "text": [
        "\n",
        "\u4e1c\u5357\u5927\u5b66(\u534e\u76db\u987f)\t                \u00a0Southeastern University (Washington)"
       ]
      },
      {
       "output_type": "stream",
       "stream": "stdout",
       "text": [
        "\n",
        "\u6d1b\u6851\u5927\u5b66"
       ]
      },
      {
       "output_type": "stream",
       "stream": "stdout",
       "text": [
        "\n",
        "\u5f17\u5409\u5c3c\u4e9a\u5dde\u7acb\u5927\u5b66(\u5f7c\u5f97\u65af\u5821)\t                \u00a0Virginia State University (Petersburg)"
       ]
      },
      {
       "output_type": "stream",
       "stream": "stdout",
       "text": [
        "\n",
        "\u4f5b\u7f57\u897f\u8bfa\u5185\u97f3\u4e50\u5b66\u9662"
       ]
      },
      {
       "output_type": "stream",
       "stream": "stdout",
       "text": [
        "\n",
        "\u6ce2\u6069-\u83b1\u8335-\u9521\u683c\u5e94\u7528\u6280\u672f\u5927\u5b66"
       ]
      },
      {
       "output_type": "stream",
       "stream": "stdout",
       "text": [
        "\n",
        "\u8fc8\u963f\u5bc6\u5927\u5b66(\u79d1\u52d2\u5c14\u76d6\u5e03\u5c14\u65af)\t                \u00a0University of Miami (Coral Gables)"
       ]
      },
      {
       "output_type": "stream",
       "stream": "stdout",
       "text": [
        "\n",
        "\u8377\u5170\u5e94\u7528\u79d1\u5b66\u5927\u5b66\u8fea\u95e8\u5b66\u9662"
       ]
      },
      {
       "output_type": "stream",
       "stream": "stdout",
       "text": [
        "\n",
        "\u4f26\u6566\u5b66\u9662\uff08\u73b0\u540d\uff1a\u4f26\u6566\u827a\u672f\u5927\u5b66\uff09\t                \u00a0The London Institute (Now: University of the Arts London)"
       ]
      },
      {
       "output_type": "stream",
       "stream": "stdout",
       "text": [
        "\n",
        "\u79d1\u9686\u5fb7\u56fd\u4f53\u80b2\u5b66\u9662"
       ]
      },
      {
       "output_type": "stream",
       "stream": "stdout",
       "text": [
        "\n",
        "\u9a6c\u6765\u897f\u4e9a\u7cbe\u82f1\u5927\u5b66\u5b66\u9662\t                \u00a0Help University College"
       ]
      },
      {
       "output_type": "stream",
       "stream": "stdout",
       "text": [
        "\n",
        "\u83ab\u65af\u79d1\u56fd\u7acb\u7cbe\u7ec6\u5316\u5de5\u5927\u5b66"
       ]
      },
      {
       "output_type": "stream",
       "stream": "stdout",
       "text": [
        "\n",
        "\u8377\u5170\u804c\u4e1a\u519c\u4e1a\u5927\u5b66\t                \u00a0Droten professional Agricultural University"
       ]
      },
      {
       "output_type": "stream",
       "stream": "stdout",
       "text": [
        "\n",
        "\u5357\u65b9\u5927\u5b66\u5b66\u9662\uff08\u73b0\u540d\uff1a\u5357\u4e39\u9ea6\u5927\u5b66\u5b66\u9662\uff09\t                \u00a0University College South(Now: University College South Denmark)"
       ]
      },
      {
       "output_type": "stream",
       "stream": "stdout",
       "text": [
        "\n",
        "\u6cf0\u62c9\u5a01\u5e1d\u7406\u5de5\u5b66\u9662(\u5409\u65af\u672c)\t                \u00a0Tairawhiti Polytechnic\uff08Gisborne\uff09"
       ]
      },
      {
       "output_type": "stream",
       "stream": "stdout",
       "text": [
        "\n",
        "\u9b41\u5317\u514b\u5927\u5b66\u8499\u7279\u5229\u5c14\u6821\u533a"
       ]
      },
      {
       "output_type": "stream",
       "stream": "stdout",
       "text": [
        "\n",
        "\u795e\u6237\u5973\u5b50\u5927\u5b66\t                \u00a0Kobe Women's University"
       ]
      },
      {
       "output_type": "stream",
       "stream": "stdout",
       "text": [
        "\n",
        "\u6885\u6cfd\u5821\u5e94\u7528\u6280\u672f\u5927\u5b66"
       ]
      },
      {
       "output_type": "stream",
       "stream": "stdout",
       "text": [
        "\n",
        "\u963f\u65af\u987f\u5927\u5b66\t                \u00a0Aston University"
       ]
      },
      {
       "output_type": "stream",
       "stream": "stdout",
       "text": [
        "\n",
        "\u54c8\u5fb7\u65af\u83f2\u5c14\u5fb7\u5927\u5b66\t                \u00a0University of Huddersfield"
       ]
      },
      {
       "output_type": "stream",
       "stream": "stdout",
       "text": [
        "\n",
        "\u9053\u683c\u62c9\u65af\u5b66\u9662\t                \u00a0Douglas College"
       ]
      },
      {
       "output_type": "stream",
       "stream": "stdout",
       "text": [
        "\n",
        "\u897f\u8d1d\u67f3\u65af\u5b66\u9662\t                \u00a0Sibelius Academy"
       ]
      },
      {
       "output_type": "stream",
       "stream": "stdout",
       "text": [
        "\n",
        "\u5723\u4fdd\u7f57\u5927\u5b66\t                \u00a0Saint Paul University"
       ]
      },
      {
       "output_type": "stream",
       "stream": "stdout",
       "text": [
        "\n",
        "\u8428\u62c9\u66fc\u5361\u5927\u5b66"
       ]
      },
      {
       "output_type": "stream",
       "stream": "stdout",
       "text": [
        "\n",
        "\u660e\u5c3c\u82cf\u8fbe\u5dde\u7acb\u5927\u5b66\u66fc\u5361\u6258\u5206\u6821(\u66fc\u5361\u6258)\t                \u00a0Minnesota State University, Mankato (Mankato)"
       ]
      },
      {
       "output_type": "stream",
       "stream": "stdout",
       "text": [
        "\n",
        "\u6768\u767e\u7ff0\u5927\u5b66(\u666e\u7f57\u6c83)\t                \u00a0Brigham Young University (Provo)"
       ]
      },
      {
       "output_type": "stream",
       "stream": "stdout",
       "text": [
        "\n",
        "\u51ef\u65af\u897f\u50a8\u5927\u5b66(\u514b\u5229\u592b\u5170)\t                \u00a0Case Western Reserve University (Cleveland)"
       ]
      },
      {
       "output_type": "stream",
       "stream": "stdout",
       "text": [
        "\n",
        "\u7ebd\u7ea6\u5dde\u7acb\u5927\u5b66\u6d77\u4e8b\u5b66\u9662(\u5e03\u6717\u514b\u65af)\t                \u00a0SUNY Maritime College (Bronx)"
       ]
      },
      {
       "output_type": "stream",
       "stream": "stdout",
       "text": [
        "\n",
        "\u52a0\u5dde\u5927\u5b66\u6234\u7ef4\u65af\u5206\u6821(\u6234\u7ef4\u65af)\t                \u00a0University of California, Davis (Davis)"
       ]
      },
      {
       "output_type": "stream",
       "stream": "stdout",
       "text": [
        "\n",
        "\u65af\u5fb7\u54e5\u5c14\u6469\u7ecf\u6d4e\u5b66\u9662\t                \u00a0Stockholm School of Economics"
       ]
      },
      {
       "output_type": "stream",
       "stream": "stdout",
       "text": [
        "\n",
        "\u7c73\u5170\u8bed\u8a00\u4e0e\u4f20\u64ad\u81ea\u7531\u5927\u5b66"
       ]
      },
      {
       "output_type": "stream",
       "stream": "stdout",
       "text": [
        "\n",
        "\u54c8\u6069\u5927\u5b66"
       ]
      },
      {
       "output_type": "stream",
       "stream": "stdout",
       "text": [
        "\n",
        "\u5df4\u9ece\u4e94\u5927"
       ]
      },
      {
       "output_type": "stream",
       "stream": "stdout",
       "text": [
        "\n",
        "\u8054\u90a6\u4f9b\u6c34\u3001\u5e9f\u6c34\u5904\u7406\u4e0e\u6c34\u4f53\u4fdd\u62a4\u7814\u7a76\u6240"
       ]
      },
      {
       "output_type": "stream",
       "stream": "stdout",
       "text": [
        "\n",
        "\u5317\u4e39\u9ea6\u5927\u5b66\u5b66\u9662\t                \u00a0University College of Northern Denmark"
       ]
      },
      {
       "output_type": "stream",
       "stream": "stdout",
       "text": [
        "\n",
        "\u8d1d\u585e\u5c14\u5b66\u9662(\u5723\u4fdd\u7f57)\t                \u00a0Bethel College (St. Paul)"
       ]
      },
      {
       "output_type": "stream",
       "stream": "stdout",
       "text": [
        "\n",
        "\u6155\u5c3c\u9ed1\u5546\u5b66\u9662"
       ]
      },
      {
       "output_type": "stream",
       "stream": "stdout",
       "text": [
        "\n",
        "\u963f\u4f26\u5e94\u7528\u6280\u672f\u5927\u5b66"
       ]
      },
      {
       "output_type": "stream",
       "stream": "stdout",
       "text": [
        "\n",
        "\u5df4\u9ece\u4e09\u5927"
       ]
      },
      {
       "output_type": "stream",
       "stream": "stdout",
       "text": [
        "\n",
        "\u7231\u5fb7\u534e\u738b\u5b50\u5c9b\u5927\u5b66\t                \u00a0University of Prince Edward Island"
       ]
      },
      {
       "output_type": "stream",
       "stream": "stdout",
       "text": [
        "\n",
        "\u5723\u62c9\u6590\u5c14\u751f\u547d\u5065\u5eb7\u5927\u5b66"
       ]
      },
      {
       "output_type": "stream",
       "stream": "stdout",
       "text": [
        "\n",
        "\u76ae\u5c14\u5df4\u62c9\u6280\u672f\u4e0e\u7ee7\u7eed\u6559\u80b2\u5b66\u9662\t                \u00a0Pilbara TAFE"
       ]
      },
      {
       "output_type": "stream",
       "stream": "stdout",
       "text": [
        "\n",
        "\u572d\u5c14\u592b\u5927\u5b66\t                \u00a0University of Guelph"
       ]
      },
      {
       "output_type": "stream",
       "stream": "stdout",
       "text": [
        "\n",
        "\u56fe\u5c14\u5e93\u5927\u5b66\t                \u00a0University of Turku"
       ]
      },
      {
       "output_type": "stream",
       "stream": "stdout",
       "text": [
        "\n",
        "\u4f11\u65af\u987f\u5927\u5b66\u6e05\u6e56\u5206\u6821(\u4f11\u65af\u987f)\t                \u00a0University of Houston - Clear Lake (Houston)"
       ]
      },
      {
       "output_type": "stream",
       "stream": "stdout",
       "text": [
        "\n",
        "\u4e9a\u5229\u6851\u90a3\u5dde\u7acb\u5927\u5b66(\u5766\u4f69)\t                \u00a0Arizona State University (Tempe)"
       ]
      },
      {
       "output_type": "stream",
       "stream": "stdout",
       "text": [
        "\n",
        "\u9a6c\u5c14\u5821\u5927\u5b66\uff08\u73b0\u540d\uff1a\u9a6c\u5821\u5927\u5b66\uff09"
       ]
      },
      {
       "output_type": "stream",
       "stream": "stdout",
       "text": [
        "\n",
        "\u9ad8\u7b49\u5546\u4e1a\u5b66\u9662"
       ]
      },
      {
       "output_type": "stream",
       "stream": "stdout",
       "text": [
        "\n",
        "\u5766\u4f69\u96f7\u5e94\u7528\u79d1\u5b66\u5927\u5b66\t                \u00a0TAMK University of Applied Sciences"
       ]
      },
      {
       "output_type": "stream",
       "stream": "stdout",
       "text": [
        "\n",
        "\u6c49\u535a\u7406\u5de5\u5b66\u9662\t                \u00a0Humber College Institute of Technology and Advanced Learning"
       ]
      },
      {
       "output_type": "stream",
       "stream": "stdout",
       "text": [
        "\n",
        "\u591a\u5a92\u4f53\u5927\u5b66\u8d5b\u67cf\u518d\u4e5f\u6821\u533a\t                \u00a0Multimedia University Cyberjaya Campus"
       ]
      },
      {
       "output_type": "stream",
       "stream": "stdout",
       "text": [
        "\n",
        "\u7a46\u5c14\u897f\u4e9a\u5927\u5b66"
       ]
      },
      {
       "output_type": "stream",
       "stream": "stdout",
       "text": [
        "\n",
        "\u7687\u5bb6\u97f3\u4e50\u5b66\u9662RAM\t                \u00a0Royal Academy of Music"
       ]
      },
      {
       "output_type": "stream",
       "stream": "stdout",
       "text": [
        "\n",
        "\u683c\u62c9\u6469\u6839\u5927\u5b66\t                \u00a0University of Glamorgan (Prifysgol Morgannwg)"
       ]
      },
      {
       "output_type": "stream",
       "stream": "stdout",
       "text": [
        "\n",
        "\u5bc6\u82cf\u91cc\u5927\u5b66\u54e5\u4f26\u6bd4\u4e9a\u5206\u6821(\u54e5\u4f26\u6bd4\u4e9a)\t                \u00a0University of Missouri-Columbia (Columbia)"
       ]
      },
      {
       "output_type": "stream",
       "stream": "stdout",
       "text": [
        "\n",
        "\u514b\u52b3\u65af\u5854\u5c14\u5de5\u4e1a\u5927\u5b66"
       ]
      },
      {
       "output_type": "stream",
       "stream": "stdout",
       "text": [
        "\n",
        "\u514b\u5170\u5e03\u9c81\u514b\u827a\u672f\u5b66\u9662(\u5e03\u5362\u59c6\u83f2\u5c14\u5fb7\u5c71)\t                \u00a0Cranbrook Academy of Art (Bloomfield Hills)"
       ]
      },
      {
       "output_type": "stream",
       "stream": "stdout",
       "text": [
        "\n",
        "\u6ce2\u6069\u5927\u5b66"
       ]
      },
      {
       "output_type": "stream",
       "stream": "stdout",
       "text": [
        "\n",
        "\u4f26\u6566\u5927\u5b66\u7687\u5bb6\u970d\u6d1b\u5a01\u5b66\u9662\t                \u00a0Royal Holloway, University of London"
       ]
      },
      {
       "output_type": "stream",
       "stream": "stdout",
       "text": [
        "\n",
        "\u52a0\u5dde\u5dde\u7acb\u5927\u5b66\u5bcc\u52d2\u6566\u5206\u6821(\u5bcc\u52d2\u6566)\t                \u00a0California State University (Fullerton)"
       ]
      },
      {
       "output_type": "stream",
       "stream": "stdout",
       "text": [
        "\n",
        "\u6797\u56fd\u8363\u521b\u610f\u5de5\u827a\u5927\u5b66\u5b66\u9662\t                \u00a0Limkokwing College University of Creative Technology"
       ]
      },
      {
       "output_type": "stream",
       "stream": "stdout",
       "text": [
        "\n",
        "\u4f69\u9c81\u8d3e\u5f7c\u57c3\u7279\u7f57\u2022\u51e1\u52aa\u6d4e\u7f8e\u672f\u5b66\u9662"
       ]
      },
      {
       "output_type": "stream",
       "stream": "stdout",
       "text": [
        "\n",
        "\u52b3\u4f26\u68ee\u5927\u5b66\t                \u00a0Laurentian University"
       ]
      },
      {
       "output_type": "stream",
       "stream": "stdout",
       "text": [
        "\n",
        "\u83b1\u6602\u5927\u5b66"
       ]
      },
      {
       "output_type": "stream",
       "stream": "stdout",
       "text": [
        "\n",
        "\u7c73\u5170\u6bd4\u53ef\u5361\u5927\u5b66"
       ]
      },
      {
       "output_type": "stream",
       "stream": "stdout",
       "text": [
        "\n",
        "\u5854\u79d1\u9a6c\u793e\u533a\u5b66\u9662(\u5854\u79d1\u9a6c)\t                \u00a0Tacoma Community College (Tacoma)"
       ]
      },
      {
       "output_type": "stream",
       "stream": "stdout",
       "text": [
        "\n",
        "\u6c49\u8bfa\u5a01\u5927\u5b66"
       ]
      },
      {
       "output_type": "stream",
       "stream": "stdout",
       "text": [
        "\n",
        "\u7eb3\u74e6\u62c9\u516c\u7acb\u5927\u5b66"
       ]
      },
      {
       "output_type": "stream",
       "stream": "stdout",
       "text": [
        "\n",
        "\u963f\u5361\u8fea\u4e9a\u5927\u5b66\t                \u00a0Acadia University"
       ]
      },
      {
       "output_type": "stream",
       "stream": "stdout",
       "text": [
        "\n",
        "\u5149\u5dde\u79d1\u5b66\u6280\u672f\u9662\t                \u00a0Gwangju Institute of Science & Technology"
       ]
      },
      {
       "output_type": "stream",
       "stream": "stdout",
       "text": [
        "\n",
        "\u7ebd\u6c99\u6cf0\u5c14\u5927\u5b66"
       ]
      },
      {
       "output_type": "stream",
       "stream": "stdout",
       "text": [
        "\n",
        "\u7ebd\u5361\u65af\u5c14\u8bfa\u68ee\u6bd4\u4e9a\u5927\u5b66\t                \u00a0University of Northumbria at Newcastle"
       ]
      },
      {
       "output_type": "stream",
       "stream": "stdout",
       "text": [
        "\n",
        "\u65b0\u5965\u5c14\u826f\u6d1b\u7ea6\u62c9\u5927\u5b66 (\u65b0\u5965\u5c14\u826f)\t                \u00a0Loyola University New Orleans (New Orleans)"
       ]
      },
      {
       "output_type": "stream",
       "stream": "stdout",
       "text": [
        "\n",
        "\u54e5\u672c\u54c8\u6839\u5de5\u7a0b\u5b66\u9662\t                \u00a0Copenhagen University College of Engineering"
       ]
      },
      {
       "output_type": "stream",
       "stream": "stdout",
       "text": [
        "\n",
        "\u4e1c\u5357\u5bc6\u82cf\u91cc\u5dde\u7acb\u5927\u5b66(\u5409\u62c9\u591a\u89d2)\t                \u00a0Southeast Missouri State University (Cape Girardeau)"
       ]
      },
      {
       "output_type": "stream",
       "stream": "stdout",
       "text": [
        "\n",
        "\u4e8e\u97e6\u65af\u5c48\u83b1\u5927\u5b66\t                \u00a0University of Jyv\u00e4skyl\u00e4"
       ]
      },
      {
       "output_type": "stream",
       "stream": "stdout",
       "text": [
        "\n",
        "\u9b4f\u739b\u5927\u5b66"
       ]
      },
      {
       "output_type": "stream",
       "stream": "stdout",
       "text": [
        "\n",
        "\u6bd4\u8428\u5723\u5b89\u5a1c\u9ad8\u7b49\u5b66\u6821"
       ]
      },
      {
       "output_type": "stream",
       "stream": "stdout",
       "text": [
        "\n",
        "\u5207\u5217\u6ce2\u97e6\u8328\u56fd\u7acb\u5927\u5b66\t                \u00a0Cherepovets State University"
       ]
      },
      {
       "output_type": "stream",
       "stream": "stdout",
       "text": [
        "\n",
        "\u851a\u5c71\u5927\u5b66\t                \u00a0University of Ulsan"
       ]
      },
      {
       "output_type": "stream",
       "stream": "stdout",
       "text": [
        "\n",
        "\u5df4\u5229\u963f\u91cc\u5927\u5b66"
       ]
      },
      {
       "output_type": "stream",
       "stream": "stdout",
       "text": [
        "\n",
        "\u7ef4\u5c14\u9053\u5de5\u7a0b\u5e94\u7528\u6280\u672f\u5927\u5b66"
       ]
      },
      {
       "output_type": "stream",
       "stream": "stdout",
       "text": [
        "\n",
        "\u6851\u5fb7\u5170\u5927\u5b66\t                \u00a0University of Sunderland"
       ]
      },
      {
       "output_type": "stream",
       "stream": "stdout",
       "text": [
        "\n",
        "\u7ef4\u5c14\u8328\u5821\u5927\u5b66"
       ]
      },
      {
       "output_type": "stream",
       "stream": "stdout",
       "text": [
        "\n",
        "\u6885\u897f\u8d6b\u65af\u7279\u5b66\u9662(\u4f0a\u5229)\t                \u00a0Mercyhurst College (Erie)"
       ]
      },
      {
       "output_type": "stream",
       "stream": "stdout",
       "text": [
        "\n",
        "\u54c8\u52d2\uff0d\u7ef4\u817e\u8d1d\u683c\u5927\u5b66"
       ]
      },
      {
       "output_type": "stream",
       "stream": "stdout",
       "text": [
        "\n",
        "\u9093\u83b1\u91cc\u6587\u827a\u7406\u5de5\u5b66\u9662\t                \u00a0Dun Laoghaire Institute of Art, Design, and Technology"
       ]
      },
      {
       "output_type": "stream",
       "stream": "stdout",
       "text": [
        "\n",
        "\u5e15\u8428\u8fea\u7eb3\u57ce\u5e02\u5b66\u9662(\u5e15\u8428\u8fea\u7eb3)\t                \u00a0Pasadena City College (Pasadena)"
       ]
      },
      {
       "output_type": "stream",
       "stream": "stdout",
       "text": [
        "\n",
        "\u4f11\u65af\u987f\u793e\u533a\u5b66\u9662(\u4f11\u65af\u987f)\t                \u00a0Houston Community College (Houston)"
       ]
      },
      {
       "output_type": "stream",
       "stream": "stdout",
       "text": [
        "\n",
        "\u83ab\u65af\u79d1\u56fd\u7acb\u8bed\u8a00\u5927\u5b66\t                \u00a0Moscow State Linguistic University"
       ]
      },
      {
       "output_type": "stream",
       "stream": "stdout",
       "text": [
        "\n",
        "\u5927\u771f\u5927\u5b66\t                \u00a0Dae Jin University"
       ]
      },
      {
       "output_type": "stream",
       "stream": "stdout",
       "text": [
        "\n",
        "\u5723\u7ea6\u7ff0\u5927\u5b66(\u7259\u4e70\u52a0)\t                \u00a0St. John's University (Jamaica)"
       ]
      },
      {
       "output_type": "stream",
       "stream": "stdout",
       "text": [
        "\n",
        "\u6d77\u6885\u4e00\u4e16\u5927\u5b66"
       ]
      },
      {
       "output_type": "stream",
       "stream": "stdout",
       "text": [
        "\n",
        "\u7406\u6d77\u5927\u5b66(\u4f2f\u5229\u6052)\t                \u00a0Lehigh University (Bethlehem)"
       ]
      },
      {
       "output_type": "stream",
       "stream": "stdout",
       "text": [
        "\n",
        "\u5317\u9ed1\u68ee\u5e94\u7528\u6280\u672f\u5927\u5b66"
       ]
      },
      {
       "output_type": "stream",
       "stream": "stdout",
       "text": [
        "\n",
        "\u65e5\u672c\u5927\u5b66\t                \u00a0Nihon University"
       ]
      },
      {
       "output_type": "stream",
       "stream": "stdout",
       "text": [
        "\n",
        "\u56fd\u7acb\u660c\u539f\u5927\u5b66\t                \u00a0Changwon National University"
       ]
      },
      {
       "output_type": "stream",
       "stream": "stdout",
       "text": [
        "\n",
        "\u6ee8\u6d77\u56fd\u7acb\u519c\u5b66\u9662\uff08\u4e4c\u82cf\u91cc\u65af\u514b\uff09"
       ]
      },
      {
       "output_type": "stream",
       "stream": "stdout",
       "text": [
        "\n",
        "\u6fb3\u5927\u5229\u4e9a\u6d77\u4e8b\u5b66\u9662\t                \u00a0Australian Maritime College"
       ]
      },
      {
       "output_type": "stream",
       "stream": "stdout",
       "text": [
        "\n",
        "\u963f\u5c14\u6cf0\u56fd\u7acb\u519c\u4e1a\u5927\u5b66"
       ]
      },
      {
       "output_type": "stream",
       "stream": "stdout",
       "text": [
        "\n",
        "\u6d77\u95e8\u7406\u5de5\u5b66\u9662\t                \u00a0H\u00e4me Polytechnic"
       ]
      },
      {
       "output_type": "stream",
       "stream": "stdout",
       "text": [
        "\n",
        "\u65c5\u6e38\u7269\u6d41\u5e94\u7528\u79d1\u5b66\u5927\u5b66\t                \u00a0NHTV Breda University of Applied Sciences"
       ]
      },
      {
       "output_type": "stream",
       "stream": "stdout",
       "text": [
        "\n",
        "\u57c3\u56e0\u970d\u82ac\u8bbe\u8ba1\u5b66\u9662\t                \u00a0Design Academy Eindhoven"
       ]
      },
      {
       "output_type": "stream",
       "stream": "stdout",
       "text": [
        "\n",
        "\u4f69\u65af\u5927\u5b66(\u7ebd\u7ea6)\t                \u00a0Pace University (New York)"
       ]
      },
      {
       "output_type": "stream",
       "stream": "stdout",
       "text": [
        "\n",
        "\u7c73\u7279\u97e6\u8fbe\u5e94\u7528\u6280\u672f\u5927\u5b66"
       ]
      },
      {
       "output_type": "stream",
       "stream": "stdout",
       "text": [
        "\n",
        "\u52d2\u4f50\u5361\u62c9\u5e03\u91cc\u4e9a\u5730\u4e2d\u6d77\u5927\u5b66"
       ]
      },
      {
       "output_type": "stream",
       "stream": "stdout",
       "text": [
        "\n",
        "\u5339\u5179\u5821\u5927\u5b66 (\u5339\u5179\u5821)\t                \u00a0University of Pittsburgh (Pittsburgh)"
       ]
      },
      {
       "output_type": "stream",
       "stream": "stdout",
       "text": [
        "\n",
        "\u8377\u5170\u5e94\u7528\u79d1\u5b66\u5927\u5b66\u4ee3\u5c14\u592b\u7279\u5b66\u9662\t                \u00a0INHolland university of applied sciences,Delft"
       ]
      },
      {
       "output_type": "stream",
       "stream": "stdout",
       "text": [
        "\n",
        "\u5317\u9ad8\u52a0\u7d22\u56fd\u5bb6\u884c\u653f\u5b66\u9662\uff08\u987f\u6cb3\u7f57\u65af\u6258\u592b\uff09"
       ]
      },
      {
       "output_type": "stream",
       "stream": "stdout",
       "text": [
        "\n",
        "\u4e9a\u5386\u5c71\u5fb7\u91cc\u4e9a\u97f3\u4e50\u5b66\u9662"
       ]
      },
      {
       "output_type": "stream",
       "stream": "stdout",
       "text": [
        "\n",
        "\u67e5\u666e\u66fc\u5927\u5b66(\u5965\u5170\u6cbb)\t                \u00a0Chapman University (Orange)"
       ]
      },
      {
       "output_type": "stream",
       "stream": "stdout",
       "text": [
        "\n",
        "\u9ad8\u795e\u5927\u5b66\t                \u00a0Kosin University"
       ]
      },
      {
       "output_type": "stream",
       "stream": "stdout",
       "text": [
        "\n",
        "\u5927\u962a\u5e02\u7acb\u5927\u5b66\t                \u00a0Osaka City University"
       ]
      },
      {
       "output_type": "stream",
       "stream": "stdout",
       "text": [
        "\n",
        "\u65af\u6587\u672c\u79d1\u6280\u5927\u5b66\t                \u00a0Swinburne University of Technology"
       ]
      },
      {
       "output_type": "stream",
       "stream": "stdout",
       "text": [
        "\n",
        "\u4e54\u6cbb\u4e9a\u5dde\u7acb\u5927\u5b66(\u4e9a\u7279\u5170\u5927)\t                \u00a0Georgia State University (Atlanta)"
       ]
      },
      {
       "output_type": "stream",
       "stream": "stdout",
       "text": [
        "\n",
        "\u738b\u5b50\u5b66\u9662\t                \u00a0Putra International College"
       ]
      },
      {
       "output_type": "stream",
       "stream": "stdout",
       "text": [
        "\n",
        "\u675c\u585e\u5c14\u591a\u592b\u7f57\u4f2f\u7279-\u8212\u66fc\u97f3\u4e50\u5b66\u9662"
       ]
      },
      {
       "output_type": "stream",
       "stream": "stdout",
       "text": [
        "\n",
        "\u9a6c\u91cc\u5170\u5927\u5b66\u5b66\u9662\u56ed\u5206\u6821\uff08\u5b66\u9662\u56ed\uff09\t                \u00a0University of Maryland, College Park (College Park)"
       ]
      },
      {
       "output_type": "stream",
       "stream": "stdout",
       "text": [
        "\n",
        "\u6c49\u9633\u5927\u5b66\t                \u00a0Hanyang University"
       ]
      },
      {
       "output_type": "stream",
       "stream": "stdout",
       "text": [
        "\n",
        "\u9a6c\u6765\u897f\u4e9a\u4fe1\u606f\u5b66\u9662\t                \u00a0Informatics College Malaysia"
       ]
      },
      {
       "output_type": "stream",
       "stream": "stdout",
       "text": [
        "\n",
        "\u5e03\u83b1\u5fb7\u798f\u5fb7\u5927\u5b66\t                \u00a0University of Bradford"
       ]
      },
      {
       "output_type": "stream",
       "stream": "stdout",
       "text": [
        "\n",
        "\u7f57\u5fb7\u5c9b\u5927\u5b66(\u91d1\u65af\u6566)\t                \u00a0University of Rhode Island (Kingston)"
       ]
      },
      {
       "output_type": "stream",
       "stream": "stdout",
       "text": [
        "\n",
        "\u7d22\u5fb7\u8131\u6069\u5927\u5b66\t                \u00a0S\u00f6dert\u00f6rn University College"
       ]
      },
      {
       "output_type": "stream",
       "stream": "stdout",
       "text": [
        "\n",
        "\u5357\u963f\u5c14\u4f2f\u5854\u7406\u5de5\u5b66\u9662\t                \u00a0Southern Alberta Institute of Technology"
       ]
      },
      {
       "output_type": "stream",
       "stream": "stdout",
       "text": [
        "\n",
        "\u5e93\u5965\u76ae\u5965\u5927\u5b66\uff08\u73b0\u540d\uff1a\u4e1c\u82ac\u5170\u5927\u5b66\uff08\u5e93\u5965\u76ae\u5965\uff09\uff09\t                \u00a0University of Kuopio (Now: University of Eastern Finland (Kuopio))"
       ]
      },
      {
       "output_type": "stream",
       "stream": "stdout",
       "text": [
        "\n",
        "\u5df4\u9ece\u56db\u5927"
       ]
      },
      {
       "output_type": "stream",
       "stream": "stdout",
       "text": [
        "\n",
        "\u9a6c\u683c\u5c3c\u6258\u6208\u5c14\u65af\u514b\u56fd\u7acb\u5927\u5b66\t                \u00a0Magnitogorsk State University"
       ]
      },
      {
       "output_type": "stream",
       "stream": "stdout",
       "text": [
        "\n",
        "\u5e93\u7279\u2022\u535a\u4ec0\u5b66\u9662"
       ]
      },
      {
       "output_type": "stream",
       "stream": "stdout",
       "text": [
        "\n",
        "\u5929\u666e\u5927\u5b66(\u8d39\u57ce)\t                \u00a0Temple University (Philadelphia)"
       ]
      },
      {
       "output_type": "stream",
       "stream": "stdout",
       "text": [
        "\n",
        "\u7687\u5bb6\u5916\u79d1\u533b\u5b66\u9662\t                \u00a0Royal College of Surgeons"
       ]
      },
      {
       "output_type": "stream",
       "stream": "stdout",
       "text": [
        "\n",
        "\u65af\u7279\u62c9\u65af\u5821\u6b27\u6d32\u9ad8\u7b49\u5546\u4e1a\u9662"
       ]
      },
      {
       "output_type": "stream",
       "stream": "stdout",
       "text": [
        "\n",
        "\u4fc4\u52d2\u5188\u5927\u5b66(\u5c24\u91d1)\t                \u00a0University of Oregon (Eugene)"
       ]
      },
      {
       "output_type": "stream",
       "stream": "stdout",
       "text": [
        "\n",
        "\u5357\u5341\u5b57\u661f\u5927\u5b66\t                \u00a0Southern Cross University"
       ]
      },
      {
       "output_type": "stream",
       "stream": "stdout",
       "text": [
        "\n",
        "\u65b0\u6cfd\u897f\u7406\u5de5\u5b66\u9662(\u7ebd\u534e\u514b)\t                \u00a0New Jersey Institute of Technology (Newark)"
       ]
      },
      {
       "output_type": "stream",
       "stream": "stdout",
       "text": [
        "\n",
        "\u6ce2\u5c14\u591a\u7ecf\u6d4e\u7ba1\u7406\u5b66\u6821"
       ]
      },
      {
       "output_type": "stream",
       "stream": "stdout",
       "text": [
        "\n",
        "\u79d1\u7279\u5e03\u65af\u52c3\u5170\u767b\u5821\u5de5\u4e1a\u5927\u5b66"
       ]
      },
      {
       "output_type": "stream",
       "stream": "stdout",
       "text": [
        "\n",
        "\u91d1\u6cfd\u7f8e\u672f\u5de5\u827a\u5927\u5b66\t                \u00a0Kanazawa College of Art"
       ]
      },
      {
       "output_type": "stream",
       "stream": "stdout",
       "text": [
        "\n",
        "\u52a0\u5dde\u5dde\u7acb\u5927\u5b66\u5317\u5cad\u5206\u6821(\u5317\u5cad)\t                \u00a0California State University (Northridge)"
       ]
      },
      {
       "output_type": "stream",
       "stream": "stdout",
       "text": [
        "\n",
        "\u4f0a\u5c14\u6885\u7459\u5de5\u4e1a\u5927\u5b66"
       ]
      },
      {
       "output_type": "stream",
       "stream": "stdout",
       "text": [
        "\n",
        "\u540d\u53e4\u5c4b\u5927\u5b66\t                \u00a0Nagoya University"
       ]
      },
      {
       "output_type": "stream",
       "stream": "stdout",
       "text": [
        "\n",
        "\u82cf\u5c14\u53e4\u7279\u56fd\u7acb\u5e08\u8303\u5b66\u9662"
       ]
      },
      {
       "output_type": "stream",
       "stream": "stdout",
       "text": [
        "\n",
        "\u4f26\u6566\u5546\u5b66\u9662\t                \u00a0London Business School"
       ]
      },
      {
       "output_type": "stream",
       "stream": "stdout",
       "text": [
        "\n",
        "\u4eac\u90fd\u9020\u5f62\u827a\u672f\u5927\u5b66\t                \u00a0Kyoto University of Art and Design"
       ]
      },
      {
       "output_type": "stream",
       "stream": "stdout",
       "text": [
        "\n",
        "\u5965\u672c\u5927\u5b66\u8499\u54e5\u9a6c\u5229\u5206\u6821(\u8499\u54e5\u9a6c\u5229)\t                \u00a0Auburn University at Montgomery (Montgomery)"
       ]
      },
      {
       "output_type": "stream",
       "stream": "stdout",
       "text": [
        "\n",
        "\u5854\u65af\u9a6c\u5c3c\u4e9a\u5927\u5b66\t                \u00a0University of Tasmania"
       ]
      },
      {
       "output_type": "stream",
       "stream": "stdout",
       "text": [
        "\n",
        "\u5357\u65b9\u5dde\u7acb\u7406\u5de5\u5927\u5b66(\u739b\u4e3d\u57c3\u5854)\t                \u00a0Southern Polytechnic State University (Marietta)"
       ]
      },
      {
       "output_type": "stream",
       "stream": "stdout",
       "text": [
        "\n",
        "\u540d\u53e4\u5c4b\u7ecf\u6d4e\u5927\u5b66\t                \u00a0Nagoya Keizai University"
       ]
      },
      {
       "output_type": "stream",
       "stream": "stdout",
       "text": [
        "\n",
        "\u5965\u65af\u7eb3\u5e03\u5415\u514b\u5e94\u7528\u6280\u672f\u5927\u5b66"
       ]
      },
      {
       "output_type": "stream",
       "stream": "stdout",
       "text": [
        "\n",
        "\u5b89\u5927\u7565\u827a\u672f\u8bbe\u8ba1\u5b66\u9662\t                \u00a0Ontario College of Art & Design"
       ]
      },
      {
       "output_type": "stream",
       "stream": "stdout",
       "text": [
        "\n",
        "\u53cc\u5fb7\u79d1\u6280\u5927\u5b66\u5b66\u9662\t                \u00a0International University College of Technology Twintech"
       ]
      },
      {
       "output_type": "stream",
       "stream": "stdout",
       "text": [
        "\n",
        "\u54e5\u672c\u54c8\u6839\u4fe1\u606f\u6280\u672f\u5927\u5b66\t                \u00a0IT University of Copenhagen"
       ]
      },
      {
       "output_type": "stream",
       "stream": "stdout",
       "text": [
        "\n",
        "\u52a0\u5dde\u827a\u672f\u5b66\u9662\u65e7\u91d1\u5c71\u5206\u6821(\u65e7\u91d1\u5c71)\t                \u00a0The Art Institute of California - San Francisco (San Francisco)"
       ]
      },
      {
       "output_type": "stream",
       "stream": "stdout",
       "text": [
        "\n",
        "\u5357\u4f0a\u5229\u8bfa\u65af\u5927\u5b66\u5361\u672c\u4ee3\u5c14\u5206\u6821(\u5361\u672c\u4ee3\u5c14)\t                \u00a0Southern Illinois University-Carbondale (Carbondale)"
       ]
      },
      {
       "output_type": "stream",
       "stream": "stdout",
       "text": [
        "\n",
        "\u5a01\u5c14\u58eb\u5b66\u9662\u5927\u5b66\uff0c\u5361\u8fea\u592b\t                \u00a0University of Wales Institute, Cardiff ( Wales  (Prifysgol Cymru)) (Now: University of Wales Institute Cardiff (Athrofa Prifysgol Cymru Caerdydd))"
       ]
      },
      {
       "output_type": "stream",
       "stream": "stdout",
       "text": [
        "\n",
        "\u9f99\u6bd4\u4e9a\u5927\u5b66\t                \u00a0Edinburgh Napier University"
       ]
      },
      {
       "output_type": "stream",
       "stream": "stdout",
       "text": [
        "\n",
        "\u52a0\u62ff\u5927\u7687\u5bb6\u519b\u4e8b\u5b66\u9662\t                \u00a0Royal Military College Canada"
       ]
      },
      {
       "output_type": "stream",
       "stream": "stdout",
       "text": [
        "\n",
        "\u5df4\u4f26\u897f\u4e9a\u5927\u5b66"
       ]
      },
      {
       "output_type": "stream",
       "stream": "stdout",
       "text": [
        "\n",
        "\u5415\u8d1d\u514b\u5e94\u7528\u6280\u672f\u5927\u5b66"
       ]
      },
      {
       "output_type": "stream",
       "stream": "stdout",
       "text": [
        "\n",
        "\u52a0\u5c14\u8fbe\u6e56\u7554\u97f3\u4e50\u5b66\u9662"
       ]
      },
      {
       "output_type": "stream",
       "stream": "stdout",
       "text": [
        "\n",
        "\u5361\u7f57\u2022\u5361\u5854\u5185\u5965\u5927\u5b66"
       ]
      },
      {
       "output_type": "stream",
       "stream": "stdout",
       "text": [
        "\n",
        "\u63d0\u5951\u8bfa\u5927\u5b66"
       ]
      },
      {
       "output_type": "stream",
       "stream": "stdout",
       "text": [
        "\n",
        "\u8036\u592b\u52d2\u5927\u5b66\t                \u00a0University of G\u00e4vle"
       ]
      },
      {
       "output_type": "stream",
       "stream": "stdout",
       "text": [
        "\n",
        "\u514b\u5229\u592b\u5170\u97f3\u4e50\u5b66\u9662(\u514b\u5229\u592b\u5170)\t                \u00a0Cleveland Institute of Music (Cleveland)"
       ]
      },
      {
       "output_type": "stream",
       "stream": "stdout",
       "text": [
        "\n",
        "\u51ef\u7279\u6797\u5927\u5b66(\u5f17\u6797\u7279)\t                \u00a0Kettering University (Flint)"
       ]
      },
      {
       "output_type": "stream",
       "stream": "stdout",
       "text": [
        "\n",
        "\u9a6c\u91cc\u5170\u5927\u5b66\u5df4\u5c14\u7684\u6469\u5206\u6821(\u5df4\u5c14\u7684\u6469)\t                \u00a0University of Maryland, Baltimore (Baltimore)"
       ]
      },
      {
       "output_type": "stream",
       "stream": "stdout",
       "text": [
        "\n",
        "\u6881\u5c71\u5927\u5b66\t                \u00a0Yangsan College"
       ]
      },
      {
       "output_type": "stream",
       "stream": "stdout",
       "text": [
        "\n",
        "\u5f7c\u5f97\u5821\u56fd\u7acb\u4ea4\u901a\u5927\u5b66"
       ]
      },
      {
       "output_type": "stream",
       "stream": "stdout",
       "text": [
        "\n",
        "\u7279\u62c9\u5e15\u5c3c\u97f3\u4e50\u5b66\u9662"
       ]
      },
      {
       "output_type": "stream",
       "stream": "stdout",
       "text": [
        "\n",
        "\u5927\u962a\u533b\u79d1\u5927\u5b66\t                \u00a0Osaka Medical College"
       ]
      },
      {
       "output_type": "stream",
       "stream": "stdout",
       "text": [
        "\n",
        "\u9b41\u5317\u514b\u5927\u5b66\uff1a\u9ad8\u7b49\u6280\u672f\u5b66\u9662"
       ]
      },
      {
       "output_type": "stream",
       "stream": "stdout",
       "text": [
        "\n",
        "\u65f6\u88c5\u6280\u672f\u5b66\u9662(\u7ebd\u7ea6)\t                \u00a0Fashion Institute of Technology (New York)"
       ]
      },
      {
       "output_type": "stream",
       "stream": "stdout",
       "text": [
        "\n",
        "\u94f6\u884c\u8857\u6559\u80b2\u5b66\u9662(\u7ebd\u7ea6)\t                \u00a0Bank Street College of Education (New York)"
       ]
      },
      {
       "output_type": "stream",
       "stream": "stdout",
       "text": [
        "\n",
        "\u97e6\u5c14\u74e6\u5927\u5b66"
       ]
      },
      {
       "output_type": "stream",
       "stream": "stdout",
       "text": [
        "\n",
        "\u5723\u5f7c\u5f97\u5821\u56fd\u7acb\u5de5\u4e1a\u827a\u672f\u5927\u5b66"
       ]
      },
      {
       "output_type": "stream",
       "stream": "stdout",
       "text": [
        "\n",
        "\u5723\u6587\u68ee\u7279\u5c71\u5927\u5b66\t                \u00a0Mount Saint Vincent University"
       ]
      },
      {
       "output_type": "stream",
       "stream": "stdout",
       "text": [
        "\n",
        "\u683c\u7f57\u5b81\u6839\u5927\u5b66\t                \u00a0University of Groningen"
       ]
      },
      {
       "output_type": "stream",
       "stream": "stdout",
       "text": [
        "\n",
        "\u57c3\u68ee\u5bcc\u514b\u65fa\u6839\u97f3\u4e50\u5b66\u9662"
       ]
      },
      {
       "output_type": "stream",
       "stream": "stdout",
       "text": [
        "\n",
        "\u5723\u4f55\u585e\u5dde\u7acb\u5927\u5b66(\u5723\u4f55\u585e)\t                \u00a0San Jose State University (San Jose)"
       ]
      },
      {
       "output_type": "stream",
       "stream": "stdout",
       "text": [
        "\n",
        "\u4e00\u6865\u5927\u5b66\t                \u00a0Hitotsubashi University"
       ]
      },
      {
       "output_type": "stream",
       "stream": "stdout",
       "text": [
        "\n",
        "\u5927\u5ce1\u8c37\u5927\u5b66(\u51e4\u51f0\u57ce)\t                \u00a0Grand Canyon University (Phoenix)"
       ]
      },
      {
       "output_type": "stream",
       "stream": "stdout",
       "text": [
        "\n",
        "\u5927\u962a\u4ea7\u4e1a\u5927\u5b66\t                \u00a0Osaka Sangyo University"
       ]
      },
      {
       "output_type": "stream",
       "stream": "stdout",
       "text": [
        "\n",
        "\u8054\u90a6\u68ee\u6797\u3001\u96ea\u4e0e\u666f\u89c2\u7814\u7a76\u6240"
       ]
      },
      {
       "output_type": "stream",
       "stream": "stdout",
       "text": [
        "\n",
        "\u8428\u52d2\u8bfa\u5927\u5b66"
       ]
      },
      {
       "output_type": "stream",
       "stream": "stdout",
       "text": [
        "\n",
        "\u66fc\u5f7b\u65af\u7279\u57ce\u5e02\u5927\u5b66\uff08\u4e5f\u79f0\u66fc\u5f7b\u65af\u7279\u90fd\u5e02\u5927\u5b66\uff09\t                \u00a0Manchester Metropolitan University"
       ]
      },
      {
       "output_type": "stream",
       "stream": "stdout",
       "text": [
        "\n",
        "\u897f\u5f17\u5409\u5c3c\u4e9a\u5927\u5b66(\u6469\u6839\u57ce)\t                \u00a0West Virginia University (Morgantown)"
       ]
      },
      {
       "output_type": "stream",
       "stream": "stdout",
       "text": [
        "\n",
        "\u60e0\u6d1b\u514b\u5b66\u9662(\u6ce2\u58eb\u987f)\t                \u00a0Wheelock College (Boston)"
       ]
      },
      {
       "output_type": "stream",
       "stream": "stdout",
       "text": [
        "\n",
        "\u798f\u5188\u5de5\u4e1a\u5927\u5b66\t                \u00a0Fukuoka Institute of Technology"
       ]
      },
      {
       "output_type": "stream",
       "stream": "stdout",
       "text": [
        "\n",
        "\u666e\u798f\u5c14\u8328\u6d77\u59c6\u5e94\u7528\u6280\u672f\u5927\u5b66"
       ]
      },
      {
       "output_type": "stream",
       "stream": "stdout",
       "text": [
        "\n",
        "\u8377\u5170\u8054\u5408\u56fd\u6559\u79d1\u6587\u7ec4\u7ec7\u56fd\u9645\u6c34\u6559\u80b2\u5b66\u9662\t                \u00a0UNESCO-IHE Institute for Water Education"
       ]
      },
      {
       "output_type": "stream",
       "stream": "stdout",
       "text": [
        "\n",
        "\u798f\u5fb7\u6c49\u59c6\u5927\u5b66(\u5e03\u6717\u514b\u65af)\t                \u00a0Fordham University (Bronx)"
       ]
      },
      {
       "output_type": "stream",
       "stream": "stdout",
       "text": [
        "\n",
        "\u90a6\u514b\u5c71\u793e\u533a\u5b66\u9662(\u6ce2\u58eb\u987f)\t                \u00a0Bunker Hill Community College (Boston)"
       ]
      },
      {
       "output_type": "stream",
       "stream": "stdout",
       "text": [
        "\n",
        "\u660e\u5c3c\u82cf\u8fbe\u5927\u5b66\u83ab\u91cc\u65af\u5206\u6821(\u83ab\u91cc\u65af)\t                \u00a0University of Minnesota-Morris (Morris)"
       ]
      },
      {
       "output_type": "stream",
       "stream": "stdout",
       "text": [
        "\n",
        "\u5965\u767b\u5821\u5927\u5b66"
       ]
      },
      {
       "output_type": "stream",
       "stream": "stdout",
       "text": [
        "\n",
        "\u6570\u5b57\u597d\u83b1\u575e\u5927\u5b66\t                \u00a0Digital Hollywood University"
       ]
      },
      {
       "output_type": "stream",
       "stream": "stdout",
       "text": [
        "\n",
        "\u5f17\u6797\u5fb7\u65af\u5927\u5b66\t                \u00a0Flinders University"
       ]
      },
      {
       "output_type": "stream",
       "stream": "stdout",
       "text": [
        "\n",
        "\u4e9a\u7ec6\u4e9a\u5927\u5b66\t                \u00a0Asia University"
       ]
      },
      {
       "output_type": "stream",
       "stream": "stdout",
       "text": [
        "\n",
        "\u514b\u91cc\u65af\u8482\u5b89\u65af\u5854\u5fb7\u5927\u5b66\u5b66\u9662\t                \u00a0Kristianstad University College"
       ]
      },
      {
       "output_type": "stream",
       "stream": "stdout",
       "text": [
        "\n",
        "\u62c9\u65af\u4f69\u5947\u4e9a\u97f3\u4e50\u5b66\u9662"
       ]
      },
      {
       "output_type": "stream",
       "stream": "stdout",
       "text": [
        "\n",
        "\u5173\u897f\u5b66\u9662\u5927\u5b66\t                \u00a0Kwansei Gakuin University"
       ]
      },
      {
       "output_type": "stream",
       "stream": "stdout",
       "text": [
        "\n",
        "\u745e\u9038\u5927\u5b66\t                \u00a0Seoil College"
       ]
      },
      {
       "output_type": "stream",
       "stream": "stdout",
       "text": [
        "\n",
        "\u5e7f\u5c9b\u5927\u5b66\t                \u00a0Hiroshima University"
       ]
      },
      {
       "output_type": "stream",
       "stream": "stdout",
       "text": [
        "\n",
        "\u6bd4\u52d2\u8d39\u5c14\u5fb7\u5927\u5b66"
       ]
      },
      {
       "output_type": "stream",
       "stream": "stdout",
       "text": [
        "\n",
        "\u6c49\u5821\u9020\u578b\u827a\u672f\u5b66\u9662"
       ]
      },
      {
       "output_type": "stream",
       "stream": "stdout",
       "text": [
        "\n",
        "\u6d77\u5c14\u5e03\u9686\u5e94\u7528\u6280\u672f\u5927\u5b66"
       ]
      },
      {
       "output_type": "stream",
       "stream": "stdout",
       "text": [
        "\n",
        "\u6cd5\u4f26\u8fbe\u5c14WHU\u7ba1\u7406\u5b66\u9662"
       ]
      },
      {
       "output_type": "stream",
       "stream": "stdout",
       "text": [
        "\n",
        "\u7ebd\u7ea6\u57ce\u5e02\u5927\u5b66\u7814\u7a76\u751f\u9662\u548c\u5927\u5b66\u4e2d\u5fc3(\u7ebd\u7ea6)\t                \u00a0CUNY - Graduate School and University Center (New York)"
       ]
      },
      {
       "output_type": "stream",
       "stream": "stdout",
       "text": [
        "\n",
        "\u4e1c\u4eac\u827a\u672f\u5927\u5b66\t                \u00a0Tokyo National University of Fine Arts and Music"
       ]
      },
      {
       "output_type": "stream",
       "stream": "stdout",
       "text": [
        "\n",
        "\u8428\u62c9\u6208\u6492\u5927\u5b66"
       ]
      },
      {
       "output_type": "stream",
       "stream": "stdout",
       "text": [
        "\n",
        "\u6a2a\u6d5c\u56fd\u7acb\u5927\u5b66\t                \u00a0Yokohama National University"
       ]
      },
      {
       "output_type": "stream",
       "stream": "stdout",
       "text": [
        "\n",
        "\u83b1\u6bd4\u9521\u5927\u5b66"
       ]
      },
      {
       "output_type": "stream",
       "stream": "stdout",
       "text": [
        "\n",
        "\u5df4\u9ece\u516b\u5927"
       ]
      },
      {
       "output_type": "stream",
       "stream": "stdout",
       "text": [
        "\n",
        "\u7f57\u65af\u54c8\u66fc\u7406\u5de5\u5b66\u9662(\u7279\u96f7\u970d\u7279)\t                \u00a0Rose-Hulman Institute of Technology (Terre Haute)"
       ]
      },
      {
       "output_type": "stream",
       "stream": "stdout",
       "text": [
        "\n",
        "\u582a\u8428\u65af\u5dde\u7acb\u5927\u5b66(\u66fc\u54c8\u987f)\t                \u00a0Kansas State University (Manhattan)"
       ]
      },
      {
       "output_type": "stream",
       "stream": "stdout",
       "text": [
        "\n",
        "\u6602\u70ed\u5927\u5b66"
       ]
      },
      {
       "output_type": "stream",
       "stream": "stdout",
       "text": [
        "\n",
        "\u8482\u5bbe\u6839\u5927\u5b66"
       ]
      },
      {
       "output_type": "stream",
       "stream": "stdout",
       "text": [
        "\n",
        "\u67cf\u6797\u5de5\u7a0b\u548c\u7ecf\u6d4e\u5e94\u7528\u6280\u672f\u5927\u5b66"
       ]
      },
      {
       "output_type": "stream",
       "stream": "stdout",
       "text": [
        "\n",
        "\u897f\u4e09\u4e00\u5927\u5b66\t                \u00a0Trinity Western University"
       ]
      },
      {
       "output_type": "stream",
       "stream": "stdout",
       "text": [
        "\n",
        "\u5df4\u9ece\u56fd\u9645\u5546\u4e1a\u9500\u552e\u5b66\u9662"
       ]
      },
      {
       "output_type": "stream",
       "stream": "stdout",
       "text": [
        "\n",
        "\u96f7\u5fb7\u5170\u5179\u5927\u5b66(\u96f7\u5fb7\u5170\u5179)\t                \u00a0University of Redlands (Redlands)"
       ]
      },
      {
       "output_type": "stream",
       "stream": "stdout",
       "text": [
        "\n",
        "\u4f5b\u7f57\u4f26\u8428\u7f8e\u672f\u5b66\u9662"
       ]
      },
      {
       "output_type": "stream",
       "stream": "stdout",
       "text": [
        "\n",
        "\u6d77\u5fb7\u5821\u5e94\u7528\u6280\u672f\u5927\u5b66"
       ]
      },
      {
       "output_type": "stream",
       "stream": "stdout",
       "text": [
        "\n",
        "\u514b\u4e9a\u8bfa\u5b66\u9662\t                \u00a0Keyano College"
       ]
      },
      {
       "output_type": "stream",
       "stream": "stdout",
       "text": [
        "\n",
        "\u660e\u5c3c\u82cf\u8fbe\u7406\u5de5\u5b66\u9662(\u660e\u5c3c\u963f\u6ce2\u5229\u65af)\t                \u00a0Minnesota Institute of Technologies (Minneapolis)"
       ]
      },
      {
       "output_type": "stream",
       "stream": "stdout",
       "text": [
        "\n",
        "\u65e5\u672c\u5929\u666e\u5927\u5b66\t                \u00a0Temple University Japan"
       ]
      },
      {
       "output_type": "stream",
       "stream": "stdout",
       "text": [
        "\n",
        "\u79d1\u5947\u65af\u5b66\u9662(\u9053\u683c\u62c9\u65af)\t                \u00a0Cochise College (Douglas)"
       ]
      },
      {
       "output_type": "stream",
       "stream": "stdout",
       "text": [
        "\n",
        "\u5e03\u83b1\u987f\u5927\u5b66\t                \u00a0University of Brighton"
       ]
      },
      {
       "output_type": "stream",
       "stream": "stdout",
       "text": [
        "\n",
        "\u4e0d\u5217\u98a0\u6d77\u89d2\u5927\u5b66\t                \u00a0Cape Breton University"
       ]
      },
      {
       "output_type": "stream",
       "stream": "stdout",
       "text": [
        "\n",
        "\u65b0\u65af\u79d1\u820d\u519c\u5b66\u9662\t                \u00a0Nova Scotia Agricultural College"
       ]
      },
      {
       "output_type": "stream",
       "stream": "stdout",
       "text": [
        "\n",
        "\u829d\u52a0\u54e5\u804c\u4e1a\u5fc3\u7406\u5b66\u6821(\u829d\u52a0\u54e5)\t                \u00a0Chicago School of Professional Psychology (Chicago)"
       ]
      },
      {
       "output_type": "stream",
       "stream": "stdout",
       "text": [
        "\n",
        "\u5a01\u5ec9\u5e15\u7279\u68ee\u5927\u5b66(\u97e6\u6069)\t                \u00a0William Paterson University of New Jersey (Wayne)"
       ]
      },
      {
       "output_type": "stream",
       "stream": "stdout",
       "text": [
        "\n",
        "\u57c3\u65af\u6797\u6839\u5e94\u7528\u6280\u672f\u5927\u5b66"
       ]
      },
      {
       "output_type": "stream",
       "stream": "stdout",
       "text": [
        "\n",
        "\u5723\u6bcd\u5927\u5b66(\u5723\u6bcd\u5e02)\t                \u00a0University of Notre Dame (Notre Dame)"
       ]
      },
      {
       "output_type": "stream",
       "stream": "stdout",
       "text": [
        "\n",
        "\u7ebd\u4f26\u5821\u5e94\u7528\u6280\u672f\u5927\u5b66"
       ]
      },
      {
       "output_type": "stream",
       "stream": "stdout",
       "text": [
        "\n",
        "\u7c73\u5fb7\u585e\u514b\u65af\u5927\u5b66\t                \u00a0Middlesex University"
       ]
      },
      {
       "output_type": "stream",
       "stream": "stdout",
       "text": [
        "\n",
        "\u51b2\u7ef3\u56fd\u9645\u5927\u5b66\t                \u00a0Okinawa International University"
       ]
      },
      {
       "output_type": "stream",
       "stream": "stdout",
       "text": [
        "\n",
        "\u91cc\u6602\u4e00\u5927"
       ]
      },
      {
       "output_type": "stream",
       "stream": "stdout",
       "text": [
        "\n",
        "\u91cc\u8d3e\u7eb3\u5927\u5b66\t                \u00a0University of Regina"
       ]
      },
      {
       "output_type": "stream",
       "stream": "stdout",
       "text": [
        "\n",
        "\u5965\u65af\u7eb3\u5e03\u5415\u514b\u5927\u5b66"
       ]
      },
      {
       "output_type": "stream",
       "stream": "stdout",
       "text": [
        "\n",
        "\u65af\u514b\u5170\u987f\u5927\u5b66 (\u65af\u514b\u5170\u987f)\t                \u00a0The University of Scranton (Scranton)"
       ]
      },
      {
       "output_type": "stream",
       "stream": "stdout",
       "text": [
        "\n",
        "\u4e54\u6cbb\u4e9a\u5e94\u7528\u827a\u672f\u53ca\u6280\u672f\u5b66\u9662\t                \u00a0Georgian College of Applied Arts and Technology"
       ]
      },
      {
       "output_type": "stream",
       "stream": "stdout",
       "text": [
        "\n",
        "\u90fd\u7075\u7406\u5de5\u5927\u5b66"
       ]
      },
      {
       "output_type": "stream",
       "stream": "stdout",
       "text": [
        "\n",
        "\u592a\u5e73\u6d0b\u56fd\u9645\u9152\u5e97\u7ba1\u7406\u5b66\u9662\t                \u00a0Pacific International Hotel Management School"
       ]
      },
      {
       "output_type": "stream",
       "stream": "stdout",
       "text": [
        "\n",
        "\u79d1\u62c9\u65af\u8bfa\u4e9a\u5c14\u65af\u514b\u56fd\u7acb\u5efa\u7b51\u5b66\u9662"
       ]
      },
      {
       "output_type": "stream",
       "stream": "stdout",
       "text": [
        "\n",
        "\u963f\u5229\u57fa\u5c3c\u5b66\u9662(\u7c73\u5fb7\u7ef4\u5c14)\t                \u00a0Allegheny College (Meadville)"
       ]
      },
      {
       "output_type": "stream",
       "stream": "stdout",
       "text": [
        "\n",
        "\u8d39\u5c14\u83f2\u5c14\u5fb7\u5927\u5b66(\u8d39\u5c14\u83f2\u5c14\u5fb7)\t                \u00a0Fairfield University (Fairfield)"
       ]
      },
      {
       "output_type": "stream",
       "stream": "stdout",
       "text": [
        "\n",
        "\u65b0\u5b66\u9662\u5927\u5b66\uff08\u7ebd\u7ea6\uff09\uff08\u73b0\u540d\uff1a\u65b0\u5b66\u9662\uff09\t                \u00a0New School University (New York) (Now: The New School)"
       ]
      },
      {
       "output_type": "stream",
       "stream": "stdout",
       "text": [
        "\n",
        "\u5188\u5c71\u5927\u5b66\t                \u00a0Okayama University"
       ]
      },
      {
       "output_type": "stream",
       "stream": "stdout",
       "text": [
        "\n",
        "\u96f7\u6069\u653f\u6cbb\u5b66\u9662"
       ]
      },
      {
       "output_type": "stream",
       "stream": "stdout",
       "text": [
        "\n",
        "\u97e9\u56fd\u52a0\u56fe\u7acb\u5927\u5b66\t                \u00a0The Catholic University of Korea"
       ]
      },
      {
       "output_type": "stream",
       "stream": "stdout",
       "text": [
        "\n",
        "\u5965\u5c14\u80e1\u65af\u7687\u5bb6\u97f3\u4e50\u5b66\u9662\t                \u00a0Royal Academy of Music, Aarhus"
       ]
      },
      {
       "output_type": "stream",
       "stream": "stdout",
       "text": [
        "\n",
        "\u7231\u5c14\u5170\u56fd\u7acb\u9ad8\u5a01\u5927\u5b66\t                \u00a0National University of Ireland Galway (NUI GAL)"
       ]
      },
      {
       "output_type": "stream",
       "stream": "stdout",
       "text": [
        "\n",
        "\u65af\u56fe\u52a0\u7279\u56fd\u7acb\u97f3\u4e50\u548c\u8868\u6f14\u827a\u672f\u5b66\u9662"
       ]
      },
      {
       "output_type": "stream",
       "stream": "stdout",
       "text": [
        "\n",
        "\u6fb3\u5927\u5229\u4e9a\u56fd\u9632\u5b66\u9662\t                \u00a0Australian Defence Force Academy"
       ]
      },
      {
       "output_type": "stream",
       "stream": "stdout",
       "text": [
        "\n",
        "\u7279\u9c81\u74e6\u9ad8\u7b49\u5546\u4e1a\u5b66\u6821"
       ]
      },
      {
       "output_type": "stream",
       "stream": "stdout",
       "text": [
        "\n",
        "\u6155\u5c3c\u9ed1\u97f3\u4e50\u548c\u620f\u5267\u5b66\u9662"
       ]
      },
      {
       "output_type": "stream",
       "stream": "stdout",
       "text": [
        "\n",
        "\u76d6\u5c14\u68ee\u57fa\u5174\u5e94\u7528\u6280\u672f\u5927\u5b66"
       ]
      },
      {
       "output_type": "stream",
       "stream": "stdout",
       "text": [
        "\n",
        "\u6b27\u798f\u5e94\u7528\u6280\u672f\u5927\u5b66"
       ]
      },
      {
       "output_type": "stream",
       "stream": "stdout",
       "text": [
        "\n",
        "\u79d1\u7f57\u62c9\u591a\u5dde\u7acb\u5927\u5b66(\u67ef\u6797\u65af\u5821)\t                \u00a0Colorado State University (Fort Collins)"
       ]
      },
      {
       "output_type": "stream",
       "stream": "stdout",
       "text": [
        "\n",
        "\u585e\u9a6c\u5e94\u7528\u79d1\u5b66\u5927\u5b66\t                \u00a0Saimaa University of Applied Sciences"
       ]
      },
      {
       "output_type": "stream",
       "stream": "stdout",
       "text": [
        "\n",
        "\u8bfa\u7ef4\u963f\u6280\u672f\u5b66\u9662\uff08\u73b0\u540d\uff1a\u8bfa\u7ef4\u963f\u5e94\u7528\u6280\u672f\u5927\u5b66\uff09\t                \u00a0Novia Polytechnic (Now: Novia University Of Applied Sciences)"
       ]
      },
      {
       "output_type": "stream",
       "stream": "stdout",
       "text": [
        "\n",
        "\u4e1c\u4f26\u6566\u5927\u5b66\t                \u00a0University of East London"
       ]
      },
      {
       "output_type": "stream",
       "stream": "stdout",
       "text": [
        "\n",
        "\u67e5\u5c14\u65af\u7279\u5927\u5b66\t                \u00a0Charles Sturt University"
       ]
      },
      {
       "output_type": "stream",
       "stream": "stdout",
       "text": [
        "\n",
        "\u4e1c\u4eac\u5de5\u827a\u5927\u5b66\t                \u00a0Tokyo Polytechnic University"
       ]
      },
      {
       "output_type": "stream",
       "stream": "stdout",
       "text": [
        "\n",
        "\u6e56\u9996\u5927\u5b66\t                \u00a0Lakehead University"
       ]
      },
      {
       "output_type": "stream",
       "stream": "stdout",
       "text": [
        "\n",
        "\u5df4\u9ece\u4e03\u5927"
       ]
      },
      {
       "output_type": "stream",
       "stream": "stdout",
       "text": [
        "\n",
        "\u5e15\u5fb7\u535a\u6069\u5927\u5b66"
       ]
      },
      {
       "output_type": "stream",
       "stream": "stdout",
       "text": [
        "\n",
        "\u65b0\u5580\u91cc\u591a\u5c3c\u4e9a\u5b66\u9662\t                \u00a0College of New Caledonia"
       ]
      },
      {
       "output_type": "stream",
       "stream": "stdout",
       "text": [
        "\n",
        "\u56fd\u9645\u4f5b\u6559\u5b66\u5927\u5b66\u9662\u5927\u5b66\t                \u00a0International College for Postgraduate Buddhist Studies"
       ]
      },
      {
       "output_type": "stream",
       "stream": "stdout",
       "text": [
        "\n",
        "\u5eb7\u65af\u5766\u8328\u5927\u5b66"
       ]
      },
      {
       "output_type": "stream",
       "stream": "stdout",
       "text": [
        "\n",
        "\u5723\u5e15\u7279\u91cc\u514b\u5b66\u9662\t                \u00a0St. Patrick College"
       ]
      },
      {
       "output_type": "stream",
       "stream": "stdout",
       "text": [
        "\n",
        "\u7ebd\u7ea6\u5dde\u7acb\u5927\u5b66\u79d1\u7279\u5170\u5206\u6821(\u79d1\u7279\u5170)\t                \u00a0State University of New York-Cortland (Cortland)"
       ]
      },
      {
       "output_type": "stream",
       "stream": "stdout",
       "text": [
        "\n",
        "\u5361\u666e\u65af\u5b66\u9662\u58a8\u6bd4\u5c14\u5206\u6821\uff08\u58a8\u6bd4\u5c14\uff09\uff08\u73b0\u540d\uff1a\u5bcc\u901a\u5b66\u9662\u58a8\u6bd4\u5c14\u5206\u6821\uff09\t                \u00a0Capps College (Mobile) (Now: Fortis College (Mobile))"
       ]
      },
      {
       "output_type": "stream",
       "stream": "stdout",
       "text": [
        "\n",
        "\u8499\u7279\u5229\u5c14\u9ad8\u7b49\u5546\u4e1a\u5b66\u6821"
       ]
      },
      {
       "output_type": "stream",
       "stream": "stdout",
       "text": [
        "\n",
        "\u4f2f\u5c14\u5c3c\u9ad8\u7b49\u4e13\u4e1a\u5b66\u9662"
       ]
      },
      {
       "output_type": "stream",
       "stream": "stdout",
       "text": [
        "\n",
        "\u745e\u76c6\u5b66\u9662(\u745e\u76c6)\t                \u00a0Ripon College (Ripon)"
       ]
      },
      {
       "output_type": "stream",
       "stream": "stdout",
       "text": [
        "\n",
        "\u5c71\u53e3\u5927\u5b66\t                \u00a0Yamaguchi University"
       ]
      },
      {
       "output_type": "stream",
       "stream": "stdout",
       "text": [
        "\n",
        "\u7b2c\u4e00\u7ecf\u6d4e\u5927\u5b66\uff08\u73b0\u540d\uff1a\u798f\u5188\u7ecf\u6d4e\u5927\u5b66\uff09\t                \u00a0Fukuoka University of Economics"
       ]
      },
      {
       "output_type": "stream",
       "stream": "stdout",
       "text": [
        "\n",
        "\u83ab\u65af\u79d1\u52a8\u529b\u5b66\u9662\t                \u00a0Moscow Power Engineering Institute"
       ]
      },
      {
       "output_type": "stream",
       "stream": "stdout",
       "text": [
        "\n",
        "\u540d\u53e4\u5c4b\u5de5\u4e1a\u5927\u5b66\t                \u00a0Nagoya Institute of Technology"
       ]
      },
      {
       "output_type": "stream",
       "stream": "stdout",
       "text": [
        "\n",
        "\u683c\u8d56\u592b\u65af\u74e6\u5c14\u5fb7\u5927\u5b66"
       ]
      },
      {
       "output_type": "stream",
       "stream": "stdout",
       "text": [
        "\n",
        "\u65b0\u65af\u79d1\u820d\u827a\u672f\u4e0e\u8bbe\u8ba1\u5927\u5b66\t                \u00a0NSCAD University"
       ]
      },
      {
       "output_type": "stream",
       "stream": "stdout",
       "text": [
        "\n",
        "\u74e6\u5c14\u5e15\u83b1\u7d22\u5927\u5b66(\u74e6\u5c14\u5e15\u83b1\u7d22)\t                \u00a0Valparaiso University (Valparaiso)"
       ]
      },
      {
       "output_type": "stream",
       "stream": "stdout",
       "text": [
        "\n",
        "\u897f\u65e5\u5fb7\u5170\u5927\u5b66\u5b66\u9662\uff08\u73b0\u540d\uff1a\u5357\u4e39\u9ea6\u5927\u5b66\u5b66\u9662\uff09\t                \u00a0West Jutland University College(Now: University College South Denmark)"
       ]
      },
      {
       "output_type": "stream",
       "stream": "stdout",
       "text": [
        "\n",
        "\u4e1c\u4eac\u7406\u79d1\u5927\u5b66\t                \u00a0Tokyo University of Science"
       ]
      },
      {
       "output_type": "stream",
       "stream": "stdout",
       "text": [
        "\n",
        "\u6000\u5361\u6258\u7406\u5de5\u5b66\u9662\t                \u00a0Waikato Institute of Technology"
       ]
      },
      {
       "output_type": "stream",
       "stream": "stdout",
       "text": [
        "\n",
        "\u5eb7\u65af\u5766\u8328\u5e94\u7528\u6280\u672f\u5927\u5b66"
       ]
      },
      {
       "output_type": "stream",
       "stream": "stdout",
       "text": [
        "\n",
        "\u5e03\u5170\u4ee3\u65af\u5927\u5b66(\u6c83\u5c14\u745f\u59c6)\t                \u00a0Brandeis University (Waltham)"
       ]
      },
      {
       "output_type": "stream",
       "stream": "stdout",
       "text": [
        "\n",
        "\u8499\u6ce2\u5229\u57c3\u4e09\u5927"
       ]
      },
      {
       "output_type": "stream",
       "stream": "stdout",
       "text": [
        "\n",
        "\u5927\u962a\u7ecf\u6d4e\u6cd5\u79d1\u5927\u5b66\t                \u00a0Osaka University of Economics and Law"
       ]
      },
      {
       "output_type": "stream",
       "stream": "stdout",
       "text": [
        "\n",
        "\u8fc8\u963f\u5bc6\u8fbe\u5fb7\u5b66\u9662(\u8fc8\u963f\u5bc6)\t                \u00a0Miami-Dade College (Miami)"
       ]
      },
      {
       "output_type": "stream",
       "stream": "stdout",
       "text": [
        "\n",
        "\u8bfa\u4e01\u6c49\u7279\u4f26\u7279\u5927\u5b66\t                \u00a0Nottingham Trent University"
       ]
      },
      {
       "output_type": "stream",
       "stream": "stdout",
       "text": [
        "\n",
        "\u5954\u8428\u56fd\u7acb\u5efa\u7b51\u5927\u5b66\t                \u00a0Penza State University of Architecture and Construction"
       ]
      },
      {
       "output_type": "stream",
       "stream": "stdout",
       "text": [
        "\n",
        "\u65af\u56fe\u52a0\u7279\u56fd\u7acb\u9020\u578b\u827a\u672f\u5b66\u9662"
       ]
      },
      {
       "output_type": "stream",
       "stream": "stdout",
       "text": [
        "\n",
        "\u5e86\u5357\u9053\u7acb\u5c45\u660c\u5927\u5b66\t                \u00a0Geochang Provincial College"
       ]
      },
      {
       "output_type": "stream",
       "stream": "stdout",
       "text": [
        "\n",
        "\u5df4\u9ece\u4e8c\u5927"
       ]
      },
      {
       "output_type": "stream",
       "stream": "stdout",
       "text": [
        "\n",
        "\u4e0a\u667a\u5927\u5b66\t                \u00a0Sophia University"
       ]
      },
      {
       "output_type": "stream",
       "stream": "stdout",
       "text": [
        "\n",
        "\u54c8\u7279\u798f\u5fb7\u90e1\u5927\u5b66\uff08\u4e5f\u79f0\u8d6b\u7279\u798f\u5fb7\u90e1\u5927\u5b66\uff09\t                \u00a0University of Hertfordshire"
       ]
      },
      {
       "output_type": "stream",
       "stream": "stdout",
       "text": [
        "\n",
        "\u5e86\u5c1a\u5927\u5b66\t                \u00a0Gyeongsang National University"
       ]
      },
      {
       "output_type": "stream",
       "stream": "stdout",
       "text": [
        "\n",
        "\u6ce2\u58eb\u987f\u97f3\u4e50\u5b66\u9662(\u6ce2\u58eb\u987f)\t                \u00a0Boston Conservatory (Boston)"
       ]
      },
      {
       "output_type": "stream",
       "stream": "stdout",
       "text": [
        "\n",
        "\u7f57\u5f7b\u65af\u7279\u5927\u5b66(\u7f57\u5f7b\u65af\u7279)\t                \u00a0University of Rochester (Rochester)"
       ]
      },
      {
       "output_type": "stream",
       "stream": "stdout",
       "text": [
        "\n",
        "\u7687\u5bb6\u827a\u672f\u5b66\u9662\t                \u00a0Royal College of Art"
       ]
      },
      {
       "output_type": "stream",
       "stream": "stdout",
       "text": [
        "\n",
        "\u5973\u5b50\u7f8e\u672f\u5927\u5b66\t                \u00a0Joshibi University of Art and Design"
       ]
      },
      {
       "output_type": "stream",
       "stream": "stdout",
       "text": [
        "\n",
        "\u51ef\u6492\u65af\u52b3\u6ed5\u5de5\u4e1a\u5927\u5b66"
       ]
      },
      {
       "output_type": "stream",
       "stream": "stdout",
       "text": [
        "\n",
        "\u57c3\u585e\u514b\u65af\u5927\u5b66\t                \u00a0University of Essex"
       ]
      },
      {
       "output_type": "stream",
       "stream": "stdout",
       "text": [
        "\n",
        "\u843d\u57fa\u5b66\u9662\t                \u00a0College of the Rockies"
       ]
      },
      {
       "output_type": "stream",
       "stream": "stdout",
       "text": [
        "\n",
        "\u683c\u52d2\u8bfa\u5e03\u5c14\u4e09\u5927"
       ]
      },
      {
       "output_type": "stream",
       "stream": "stdout",
       "text": [
        "\n",
        "\u4e9a\u5386\u5c71\u5927\u56fd\u9645\u5b66\u6821\t                \u00a0Alexanders International School"
       ]
      },
      {
       "output_type": "stream",
       "stream": "stdout",
       "text": [
        "\n",
        "\u57c3\u5c14\u5207\u7c73\u76d6\u5c14\u2022\u57c3\u5c14\u5357\u5fb7\u65af\u5927\u5b66"
       ]
      },
      {
       "output_type": "stream",
       "stream": "stdout",
       "text": [
        "\n",
        "\u4fc4\u7f57\u65af\u56fd\u7acb\u77f3\u6cb9\u5929\u7136\u6c14\u5927\u5b66\uff08\u83ab\u65af\u79d1\uff09\t                \u00a0Gubkin Russian State University of Oil and Gas"
       ]
      },
      {
       "output_type": "stream",
       "stream": "stdout",
       "text": [
        "\n",
        "\u5df4\u9ece\u4e2d\u592e\u7406\u5de5\u5b66\u6821"
       ]
      },
      {
       "output_type": "stream",
       "stream": "stdout",
       "text": [
        "\n",
        "\u62d3\u6b96\u5927\u5b66\t                \u00a0Takushoku University"
       ]
      },
      {
       "output_type": "stream",
       "stream": "stdout",
       "text": [
        "\n",
        "\u897f\u82f1\u683c\u5170\u5927\u5b66\uff08\u5e03\u91cc\u65af\u6258\u5c14\uff09\t                \u00a0University of the West of England , Bristol"
       ]
      },
      {
       "output_type": "stream",
       "stream": "stdout",
       "text": [
        "\n",
        "\u6000\u963f\u91cc\u5947\u7406\u5de5\u5b66\u9662\t                \u00a0Waiariki Institute of Technology"
       ]
      },
      {
       "output_type": "stream",
       "stream": "stdout",
       "text": [
        "\n",
        "\u5317\u8428\u6e25\u5e94\u7528\u79d1\u5b66\u5927\u5b66\t                \u00a0Savonia University of Applied Sciences"
       ]
      },
      {
       "output_type": "stream",
       "stream": "stdout",
       "text": [
        "\n",
        "\u4f26\u6566\u5357\u5cb8\u5927\u5b66\t                \u00a0London South Bank University"
       ]
      },
      {
       "output_type": "stream",
       "stream": "stdout",
       "text": [
        "\n",
        "\u5bc6\u82cf\u91cc\u5927\u5b66\u582a\u8428\u65af\u5206\u6821(\u582a\u8428\u65af\u5e02)\t                \u00a0University of Missouri-Kansas City (Kansas City)"
       ]
      },
      {
       "output_type": "stream",
       "stream": "stdout",
       "text": [
        "\n",
        "\u9ad8\u7b49\u7ba1\u7406\u5b66\u6821"
       ]
      },
      {
       "output_type": "stream",
       "stream": "stdout",
       "text": [
        "\n",
        "\u5f00\u59c6\u5c3c\u8328\u5de5\u4e1a\u5927\u5b66"
       ]
      },
      {
       "output_type": "stream",
       "stream": "stdout",
       "text": [
        "\n",
        "\u4e54\u6cbb\u6566\u5927\u5b66(\u534e\u76db\u987f)\t                \u00a0Georgetown University (Washington)"
       ]
      },
      {
       "output_type": "stream",
       "stream": "stdout",
       "text": [
        "\n",
        "\u91d1\u6cfd\u5927\u5b66\t                \u00a0Kanazawa University"
       ]
      },
      {
       "output_type": "stream",
       "stream": "stdout",
       "text": [
        "\n",
        "\u5f17\u5409\u5c3c\u4e9a\u7406\u5de5\u5b66\u9662\u4e0e\u5dde\u7acb\u5927\u5b66(\u9ed1\u5821)\t                \u00a0Virginia Polytechnic Institute and State University (Blacksburg)"
       ]
      },
      {
       "output_type": "stream",
       "stream": "stdout",
       "text": [
        "\n",
        "\u79d1\u7f57\u62c9\u591a\u77ff\u4e1a\u5b66\u9662(\u53e4\u767b)\t                \u00a0Colorado School of Mines (Golden)"
       ]
      },
      {
       "output_type": "stream",
       "stream": "stdout",
       "text": [
        "\n",
        "\u91cc\u6602\u7ecf\u6d4e\u7ba1\u7406\u5b66\u6821"
       ]
      },
      {
       "output_type": "stream",
       "stream": "stdout",
       "text": [
        "\n",
        "\u5c71\u68a8\u5b66\u9662\u5927\u5b66\t                \u00a0Yamanashi Gakuin University"
       ]
      },
      {
       "output_type": "stream",
       "stream": "stdout",
       "text": [
        "\n",
        "\u5fb7\u8499\u7279\u798f\u7279\u5927\u5b66\t                \u00a0De Montfort University"
       ]
      },
      {
       "output_type": "stream",
       "stream": "stdout",
       "text": [
        "\n",
        "\u5965\u514b\u5170\u5546\u5b66\u9662\t                \u00a0Auckland Institute of Studies at St Helens"
       ]
      },
      {
       "output_type": "stream",
       "stream": "stdout",
       "text": [
        "\n",
        "\u963f\u4f2f\u4e01\u5927\u5b66\t                \u00a0University of Aberdeen"
       ]
      },
      {
       "output_type": "stream",
       "stream": "stdout",
       "text": [
        "\n",
        "\u5f17\u8d56\u5821\u56fd\u7acb\u97f3\u4e50\u5b66\u9662"
       ]
      },
      {
       "output_type": "stream",
       "stream": "stdout",
       "text": [
        "\n",
        "\u5bbd\u7279\u5170\u5927\u5b66\u5b66\u9662\t                \u00a0Kwantlen Polytechnic University"
       ]
      },
      {
       "output_type": "stream",
       "stream": "stdout",
       "text": [
        "\n",
        "\u6c38\u8fdb\u4e13\u95e8\u5927\u5b66\t                \u00a0Yeungjin College"
       ]
      },
      {
       "output_type": "stream",
       "stream": "stdout",
       "text": [
        "\n",
        "\u97e9\u4e1c\u5927\u5b66\t                \u00a0Handong University"
       ]
      },
      {
       "output_type": "stream",
       "stream": "stdout",
       "text": [
        "\n",
        "\u52a0\u7684\u65af\u5927\u5b66"
       ]
      },
      {
       "output_type": "stream",
       "stream": "stdout",
       "text": [
        "\n",
        "\u6c83\u5c14\u59c6\u65af\u5e94\u7528\u6280\u672f\u5927\u5b66"
       ]
      },
      {
       "output_type": "stream",
       "stream": "stdout",
       "text": [
        "\n",
        "\u5185\u5e03\u62c9\u65af\u52a0\u5927\u5b66\u533b\u5b66\u4e2d\u5fc3(\u5965\u9a6c\u54c8)\t                \u00a0University of Nebraska Medical Center (Omaha)"
       ]
      },
      {
       "output_type": "stream",
       "stream": "stdout",
       "text": [
        "\n",
        "\u897f\u6089\u5c3c\u6280\u672f\u4e0e\u7ee7\u7eed\u6559\u80b2\u5b66\u9662\t                \u00a0Western Sydney Institute of TAFE"
       ]
      },
      {
       "output_type": "stream",
       "stream": "stdout",
       "text": [
        "\n",
        "\u57c3\u592b\u91cc\u5927\u5b66"
       ]
      },
      {
       "output_type": "stream",
       "stream": "stdout",
       "text": [
        "\n",
        "\u67cf\u6797\u65af\u6cf0\u6069\u62dc\u65af\u5927\u5b66"
       ]
      },
      {
       "output_type": "stream",
       "stream": "stdout",
       "text": [
        "\n",
        "\u4e3b\u6559\u5927\u5b66\t                \u00a0Bishop's University"
       ]
      },
      {
       "output_type": "stream",
       "stream": "stdout",
       "text": [
        "\n",
        "\u54e5\u672c\u54c8\u6839\u57ce\u5e02\u5927\u5b66\u5b66\u9662\t                \u00a0The Multidisciplinary University College of Copenhagen"
       ]
      },
      {
       "output_type": "stream",
       "stream": "stdout",
       "text": [
        "\n",
        "\u5927\u962a\u827a\u672f\u5927\u5b66\t                \u00a0Osaka University of Arts"
       ]
      },
      {
       "output_type": "stream",
       "stream": "stdout",
       "text": [
        "\n",
        "\u7f57\u4f0a\u7279\u6797\u6839\u5de5\u7a0b\u548c\u7ecf\u6d4e\u5b66\u9662\uff08\u73b0\u540d\uff1a\u7f57\u4f0a\u7279\u6797\u6839\u5e94\u7528\u6280\u672f\u5927\u5b66\uff09"
       ]
      },
      {
       "output_type": "stream",
       "stream": "stdout",
       "text": [
        "\n",
        "\u9996\u5c14\u827a\u672f\u5927\u5b66\t                \u00a0Seoul Institute of the Arts"
       ]
      },
      {
       "output_type": "stream",
       "stream": "stdout",
       "text": [
        "\n",
        "\u574e\u57f9\u95e8\u6280\u672f\u4e0e\u7ee7\u7eed\u6559\u80b2\u5b66\u9662\t                \u00a0Kangan Batman Institute of TAFE"
       ]
      },
      {
       "output_type": "stream",
       "stream": "stdout",
       "text": [
        "\n",
        "\u514b\u83b1\u8499\u8d39\u6717\u4e8c\u5927"
       ]
      },
      {
       "output_type": "stream",
       "stream": "stdout",
       "text": [
        "\n",
        "\u574e\u5185\u62c9\u53d1\u578b\u8bbe\u8ba1\u5b66\u6821\u57c3\u5c14\u59c6\u8d6b\u65af\u7279\u5206\u6821(\u57c3\u5c14\u59c6\u8d6b\u65af\u7279)\t                \u00a0Cannella School of Hair Design (Elmhurst)"
       ]
      },
      {
       "output_type": "stream",
       "stream": "stdout",
       "text": [
        "\n",
        "\u91cc\u5c14\u9ad8\u7b49\u5546\u4e1a\u5b66\u6821"
       ]
      },
      {
       "output_type": "stream",
       "stream": "stdout",
       "text": [
        "\n",
        "\u5c3c\u4e9a\u52a0\u62c9\u5e94\u7528\u827a\u672f\u53ca\u6280\u672f\u5b66\u9662\t                \u00a0Niagara College of Applied Arts and Technology"
       ]
      },
      {
       "output_type": "stream",
       "stream": "stdout",
       "text": [
        "\n",
        "\u8fbe\u59c6\u65bd\u5854\u7279\u79c1\u7acb\u51fd\u6388\u5e94\u7528\u6280\u672f\u5927\u5b66\uff08\u73b0\u540d\uff1a\u5a01\u5ec9\u6bd5\u5e0c\u7eb3\u5b66\u9662\uff09"
       ]
      },
      {
       "output_type": "stream",
       "stream": "stdout",
       "text": [
        "\n",
        "\u80af\u666e\u6ed5\u5e94\u7528\u6280\u672f\u5927\u5b66"
       ]
      },
      {
       "output_type": "stream",
       "stream": "stdout",
       "text": [
        "\n",
        "\u91dc\u5c71\u6559\u80b2\u5927\u5b66\t                \u00a0Busan National University of Education"
       ]
      },
      {
       "output_type": "stream",
       "stream": "stdout",
       "text": [
        "\n",
        "\u97e6\u5c14\u65af\u5229\u5b66\u9662(\u97e6\u5c14\u65af\u5229)\t                \u00a0Wellesley College (Wellesley)"
       ]
      },
      {
       "output_type": "stream",
       "stream": "stdout",
       "text": [
        "\n",
        "\u57c3\u5c14\u798f\u7279\u5e94\u7528\u6280\u672f\u5927\u5b66"
       ]
      },
      {
       "output_type": "stream",
       "stream": "stdout",
       "text": [
        "\n",
        "\u57c3\u8fea\u65af\u79d1\u6587\u5927\u5b66\t                \u00a0Edith Cowan University"
       ]
      },
      {
       "output_type": "stream",
       "stream": "stdout",
       "text": [
        "\n",
        "\u65af\u5fb7\u54e5\u5c14\u6469\u5927\u5b66\t                \u00a0Stockholm University"
       ]
      },
      {
       "output_type": "stream",
       "stream": "stdout",
       "text": [
        "\n",
        "\u5965\u65af\u9646\u5927\u5b66\t                \u00a0University of Oslo"
       ]
      },
      {
       "output_type": "stream",
       "stream": "stdout",
       "text": [
        "\n",
        "\u79d1\u9686\u5e94\u7528\u6280\u672f\u5927\u5b66"
       ]
      },
      {
       "output_type": "stream",
       "stream": "stdout",
       "text": [
        "\n",
        "\u5317\u5bc6\u6b47\u6839\u5927\u5b66(\u9a6c\u51ef\u7279)\t                \u00a0Northern Michigan University (Marquette)"
       ]
      },
      {
       "output_type": "stream",
       "stream": "stdout",
       "text": [
        "\n",
        "\u8f9b\u5c3c\u52a0\u5e94\u7528\u827a\u672f\u53ca\u6280\u672f\u5b66\u9662\t                \u00a0Seneca College of Applied Arts and Technology"
       ]
      },
      {
       "output_type": "stream",
       "stream": "stdout",
       "text": [
        "\n",
        "\u4ec1\u8377\u5927\u5b66\t                \u00a0Inha University"
       ]
      },
      {
       "output_type": "stream",
       "stream": "stdout",
       "text": [
        "\n",
        "\u5bc6\u82cf\u91cc\u5dde\u7acb\u5927\u5b66\uff08\u6625\u7530\uff09\t                \u00a0Missouri State University (Springfield)"
       ]
      },
      {
       "output_type": "stream",
       "stream": "stdout",
       "text": [
        "\n",
        "\u798f\u5c14\u8305\u65af\u5927\u5b66\u5b66\u9662\t                \u00a0University College Falmouth"
       ]
      },
      {
       "output_type": "stream",
       "stream": "stdout",
       "text": [
        "\n",
        "\u5de8\u6d4e\u5927\u5b66\t                \u00a0Koje College"
       ]
      },
      {
       "output_type": "stream",
       "stream": "stdout",
       "text": [
        "\n",
        "\u4f26\u6566\u827a\u672f\u5927\u5b66\t                \u00a0University of the Arts, London (Merged with Wimbledon School of Art)"
       ]
      },
      {
       "output_type": "stream",
       "stream": "stdout",
       "text": [
        "\n",
        "\u5361\u5c14\u65af\u9c81\u5384\u5e08\u8303\u5b66\u9662"
       ]
      },
      {
       "output_type": "stream",
       "stream": "stdout",
       "text": [
        "\n",
        "\u82cf\u5fc5\u5229\u5c14\u6e56\u5dde\u7acb\u5927\u5b66(\u5723\u739b\u4e3d\u5c71)\t                \u00a0Lake Superior State University (Sault Ste. Marie)"
       ]
      },
      {
       "output_type": "stream",
       "stream": "stdout",
       "text": [
        "\n",
        "\u8328\u7ef4\u8003\u897f\u8428\u514b\u68ee\u5e94\u7528\u6280\u672f\u5927\u5b66"
       ]
      },
      {
       "output_type": "stream",
       "stream": "stdout",
       "text": [
        "\n",
        "\u97e9\u5df4\u5927\u5b66\t                \u00a0Hanbat National University"
       ]
      },
      {
       "output_type": "stream",
       "stream": "stdout",
       "text": [
        "\n",
        "\u54e5\u4f26\u5e03\u5dde\u7acb\u5927\u5b66(\u54e5\u4f26\u5e03)\t                \u00a0Columbus State University (Columbus)"
       ]
      },
      {
       "output_type": "stream",
       "stream": "stdout",
       "text": [
        "\n",
        "\u5175\u5e93\u53bf\u7acb\u5927\u5b66\t                \u00a0University of Hyogo"
       ]
      },
      {
       "output_type": "stream",
       "stream": "stdout",
       "text": [
        "\n",
        "\u8036\u62ff\u5e94\u7528\u6280\u672f\u5927\u5b66"
       ]
      },
      {
       "output_type": "stream",
       "stream": "stdout",
       "text": [
        "\n",
        "\u897f\u6089\u5c3c\u5927\u5b66\t                \u00a0University of Western Sydney"
       ]
      },
      {
       "output_type": "stream",
       "stream": "stdout",
       "text": [
        "\n",
        "\u65e5\u672c\u798f\u5229\u5927\u5b66\t                \u00a0Nihon Fukushi University"
       ]
      },
      {
       "output_type": "stream",
       "stream": "stdout",
       "text": [
        "\n",
        "\u7ebd\u7ea6\u5dde\u7acb\u5927\u5b66\u5bbe\u6c49\u987f\u5206\u6821(\u5bbe\u6c49\u987f)\t                \u00a0State University of New York at Binghamton  (Binghamton)"
       ]
      },
      {
       "output_type": "stream",
       "stream": "stdout",
       "text": [
        "\n",
        "\u62c9\u8d6b\u8482\u5e94\u7528\u79d1\u5b66\u5927\u5b66\t                \u00a0Lahti University of Applied Sciences"
       ]
      },
      {
       "output_type": "stream",
       "stream": "stdout",
       "text": [
        "\n",
        "\u4e2d\u592e\u5927\u5b66\t                \u00a0Chung-Ang University"
       ]
      },
      {
       "output_type": "stream",
       "stream": "stdout",
       "text": [
        "\n",
        "\u597d\u83b1\u575e\u54e5\u4f26\u6bd4\u4e9a\u5b66\u9662(\u6cf0\u8d5e\u7eb3)\t                \u00a0Columbia College Hollywood (Tarzana)"
       ]
      },
      {
       "output_type": "stream",
       "stream": "stdout",
       "text": [
        "\n",
        "\u5185\u6885\u4ea8\u5927\u5b66\t                \u00a0Radboud University Nijmegen"
       ]
      },
      {
       "output_type": "stream",
       "stream": "stdout",
       "text": [
        "\n",
        "\u9ad8\u7b49\u5546\u4e1a\u5b66\u6821"
       ]
      },
      {
       "output_type": "stream",
       "stream": "stdout",
       "text": [
        "\n",
        "\u96f7\u6069\u4e00\u5927"
       ]
      },
      {
       "output_type": "stream",
       "stream": "stdout",
       "text": [
        "\n",
        "\u5357\u62ff\u6492\u52d2\u5927\u5b66(\u8d1d\u68ee\u5c3c)\t                \u00a0Southern Nazarene University (Bethany)"
       ]
      },
      {
       "output_type": "stream",
       "stream": "stdout",
       "text": [
        "\n",
        "\u767e\u5e74\u5e94\u7528\u827a\u672f\u53ca\u6280\u672f\u5b66\u9662\t                \u00a0Centennial College of Applied Arts and Technology"
       ]
      },
      {
       "output_type": "stream",
       "stream": "stdout",
       "text": [
        "\n",
        "\u8fbe\u62c9\u65af\u795e\u5b66\u9662(\u8fbe\u62c9\u65af)\t                \u00a0Dallas Theological Seminary (Dallas)"
       ]
      },
      {
       "output_type": "stream",
       "stream": "stdout",
       "text": [
        "\n",
        "\u4fc4\u7f57\u65af\u56fd\u7acb\u5e08\u8303\u5927\u5b66\uff08\u5723\u5f7c\u5f97\u5821\uff09"
       ]
      },
      {
       "output_type": "stream",
       "stream": "stdout",
       "text": [
        "\n",
        "\u4fdd\u7f57\u2022\u8c22\u5c14\u8054\u90a6\u7814\u7a76\u6240"
       ]
      },
      {
       "output_type": "stream",
       "stream": "stdout",
       "text": [
        "\n",
        "\u5e15\u7ecd\u5927\u5b66"
       ]
      },
      {
       "output_type": "stream",
       "stream": "stdout",
       "text": [
        "\n",
        "\u963f\u59c6\u65af\u7279\u4e39\u827a\u672f\u5b66\u9662\t                \u00a0Amsterdam School of Arts"
       ]
      },
      {
       "output_type": "stream",
       "stream": "stdout",
       "text": [
        "\n",
        "\u57fa\u5c14\u5927\u5b66\u8bed\u8a00\u4e2d\u5fc3\t                \u00a0Keele University Language Center"
       ]
      },
      {
       "output_type": "stream",
       "stream": "stdout",
       "text": [
        "\n",
        "\u8d6b\u5c14\u8f9b\u57fa\u827a\u672f\u8bbe\u8ba1\u5927\u5b66\uff08\u73b0\u540d\uff1a\u963f\u5c14\u6258\u5927\u5b66\u827a\u672f\u8bbe\u8ba1\u5b66\u9662\uff09\t                \u00a0University of Art and Design Helsinki (Now: Aalto University School of Art and Design)"
       ]
      },
      {
       "output_type": "stream",
       "stream": "stdout",
       "text": [
        "\n",
        "\u7b2c\u620e-\u52c3\u826e\u7b2c\u9ad8\u7b49\u5546\u4e1a\u5b66\u6821"
       ]
      },
      {
       "output_type": "stream",
       "stream": "stdout",
       "text": [
        "\n",
        "\u56fd\u7acb\u9ad8\u7b49\u7f8e\u672f\u5b66\u6821"
       ]
      },
      {
       "output_type": "stream",
       "stream": "stdout",
       "text": [
        "\n",
        "\u9a6c\u65af\u7279\u91cc\u8d6b\u7279\u5927\u5b66\t                \u00a0Maastricht University"
       ]
      },
      {
       "output_type": "stream",
       "stream": "stdout",
       "text": [
        "\n",
        "\u67cf\u6797\u5a92\u4f53\u8bbe\u8ba1\u5b66\u9662"
       ]
      },
      {
       "output_type": "stream",
       "stream": "stdout",
       "text": [
        "\n",
        "\u54c8\u683c-\u8d6b\u5229\u5c14\u5e94\u7528\u79d1\u5b66\u5927\u5b66\t                \u00a0Haaga-Helia University Of Applied Sciences (Helia)"
       ]
      },
      {
       "output_type": "stream",
       "stream": "stdout",
       "text": [
        "\n",
        "\u897f\u67f4\u90e1\u5b66\u9662\t                \u00a0West Cheshire College"
       ]
      },
      {
       "output_type": "stream",
       "stream": "stdout",
       "text": [
        "\n",
        "\u91dc\u5e86\u5927\u5b66\t                \u00a0Pukyong National University"
       ]
      },
      {
       "output_type": "stream",
       "stream": "stdout",
       "text": [
        "\n",
        "\u79d1\u7f57\u62c9\u591a\u5927\u5b66\u535a\u5c14\u5fb7\u5206\u6821(\u535a\u5c14\u5fb7)\t                \u00a0University of Colorado at Boulder (Boulder)"
       ]
      },
      {
       "output_type": "stream",
       "stream": "stdout",
       "text": [
        "\n",
        "\u5343\u53f6\u5546\u79d1\u5927\u5b66\t                \u00a0Chiba University of Commerce"
       ]
      },
      {
       "output_type": "stream",
       "stream": "stdout",
       "text": [
        "\n",
        "\u829d\u52a0\u54e5\u827a\u672f\u5b66\u9662\u5b66\u6821(\u829d\u52a0\u54e5)\t                \u00a0School of the Art Institute of Chicago (Chicago)"
       ]
      },
      {
       "output_type": "stream",
       "stream": "stdout",
       "text": [
        "\n",
        "\u53c8\u677e\u5927\u5b66\t                \u00a0Woosong University"
       ]
      },
      {
       "output_type": "stream",
       "stream": "stdout",
       "text": [
        "\n",
        "\u6ce2\u58eb\u987f\u5b66\u9662(\u6817\u5c71)\t                \u00a0Boston College (Chestnut Hill)"
       ]
      },
      {
       "output_type": "stream",
       "stream": "stdout",
       "text": [
        "\n",
        "\u4f69\u4e01\u5927\u5b66(\u5965\u514b\u5170)\t                \u00a0Patten University (Oakland)"
       ]
      },
      {
       "output_type": "stream",
       "stream": "stdout",
       "text": [
        "\n",
        "\u9ebb\u7701\u5927\u5b66\u6d1b\u5a01\u5c14\u5206\u6821(\u6d1b\u5a01\u5c14)\t                \u00a0University of Massachusetts Lowell (Lowell)"
       ]
      },
      {
       "output_type": "stream",
       "stream": "stdout",
       "text": [
        "\n",
        "\u5e03\u5170\u767b\u5927\u5b66\t                \u00a0Brandon University"
       ]
      },
      {
       "output_type": "stream",
       "stream": "stdout",
       "text": [
        "\n",
        "\u5723\u8def\u6613\u65af\u793e\u533a\u5b66\u9662(\u5723\u8def\u6613\u65af)\t                \u00a0Saint Louis Community College (St. Louis)"
       ]
      },
      {
       "output_type": "stream",
       "stream": "stdout",
       "text": [
        "\n",
        "\u67cf\u6797\u884c\u653f\u7ba1\u7406\u548c\u53f8\u6cd5\u5e94\u7528\u6280\u672f\u5927\u5b66\uff08\u73b0\u540d\uff1a\u67cf\u6797\u7ecf\u6d4e\u548c\u6cd5\u5f8b\u5e94\u7528\u6280\u672f\u5927\u5b66\uff09"
       ]
      },
      {
       "output_type": "stream",
       "stream": "stdout",
       "text": [
        "\n",
        "\u5bc6\u6b47\u6839\u7406\u5de5\u5927\u5b66(\u970d\u987f)\t                \u00a0Michigan Technological University (Houghton)"
       ]
      },
      {
       "output_type": "stream",
       "stream": "stdout",
       "text": [
        "\n",
        "\u672d\u5e4c\u5927\u5b66\t                \u00a0Sapporo University"
       ]
      },
      {
       "output_type": "stream",
       "stream": "stdout",
       "text": [
        "\n",
        "\u582a\u8428\u65af\u5927\u5b66(\u52b3\u4f26\u65af)\t                \u00a0University of Kansas (Lawrence)"
       ]
      },
      {
       "output_type": "stream",
       "stream": "stdout",
       "text": [
        "\n",
        "\u7518\u9ed8\u5c14\u514b\u7f57\u5e15\u6797\u4e1a\u5b66\u9662\t                \u00a0Gammelkroppa School of Forestry"
       ]
      },
      {
       "output_type": "stream",
       "stream": "stdout",
       "text": [
        "\n",
        "\u9e7f\u513f\u5c9b\u5927\u5b66\t                \u00a0Kagoshima University"
       ]
      },
      {
       "output_type": "stream",
       "stream": "stdout",
       "text": [
        "\n",
        "\u97e9\u56fd\u62ff\u6492\u52d2\u5927\u5b66\t                \u00a0Korea Nazarene University"
       ]
      },
      {
       "output_type": "stream",
       "stream": "stdout",
       "text": [
        "\n",
        "\u4f2f\u4e50\u5b66\u9662\u69df\u57ce\u5206\u6821\uff08\u69df\u57ce\uff09\t                \u00a0KDU College (Pulau Pinang)"
       ]
      },
      {
       "output_type": "stream",
       "stream": "stdout",
       "text": [
        "\n",
        "\u5317\u5b89\u666e\u987f\u5927\u5b66\t                \u00a0University of Northampton"
       ]
      },
      {
       "output_type": "stream",
       "stream": "stdout",
       "text": [
        "\n",
        "\u57fc\u7389\u5927\u5b66\t                \u00a0Saitama University"
       ]
      },
      {
       "output_type": "stream",
       "stream": "stdout",
       "text": [
        "\n",
        "\u745e\u58eb\u4e1c\u90e8\u9ad8\u7b49\u4e13\u4e1a\u5b66\u9662"
       ]
      },
      {
       "output_type": "stream",
       "stream": "stdout",
       "text": [
        "\n",
        "\u9a6c\u5fb7\u91cc\u5361\u6d1b\u65af\u4e09\u4e16\u5927\u5b66"
       ]
      },
      {
       "output_type": "stream",
       "stream": "stdout",
       "text": [
        "\n",
        "\u90a6\u5fb7\u5927\u5b66\t                \u00a0Bond University"
       ]
      },
      {
       "output_type": "stream",
       "stream": "stdout",
       "text": [
        "\n",
        "\u6cd5\u56fd\u56fd\u7acb\u5de5\u827a\u5b66\u9662"
       ]
      },
      {
       "output_type": "stream",
       "stream": "stdout",
       "text": [
        "\n",
        "\u62c9\u897f\u62c9\u5927\u5b66(\u91cc\u5f17\u8d5b\u5fb7)\t                \u00a0La Sierra University (Riverside)"
       ]
      },
      {
       "output_type": "stream",
       "stream": "stdout",
       "text": [
        "\n",
        "\u5723\u5f7c\u5f97\u5b66\u9662(\u6cfd\u897f\u5e02)\t                \u00a0Saint Peter`s College (Jersey City)"
       ]
      },
      {
       "output_type": "stream",
       "stream": "stdout",
       "text": [
        "\n",
        "\u827e\u514b\u65af-\u9a6c\u8d5b\u4e09\u5927"
       ]
      },
      {
       "output_type": "stream",
       "stream": "stdout",
       "text": [
        "\n",
        "\u963f\u6bd4\u8482\u5f7c-\u7279\u7c73\u65af\u5361\u5b66\u6821"
       ]
      },
      {
       "output_type": "stream",
       "stream": "stdout",
       "text": [
        "\n",
        "\u4f0d\u5179\u970d\u5c14\u6d77\u6d0b\u7814\u7a76\u6240(\u4f0d\u5179\u970d\u5c14)\t                \u00a0Woods Hole Oceanographic Institution (Woods Hole)"
       ]
      },
      {
       "output_type": "stream",
       "stream": "stdout",
       "text": [
        "\n",
        "\u79cb\u7530\u53bf\u7acb\u5927\u5b66\t                \u00a0Akita Prefectural University"
       ]
      },
      {
       "output_type": "stream",
       "stream": "stdout",
       "text": [
        "\n",
        "\u897f\u5e03\u5217\u5854\u5c3c\u5927\u5b66"
       ]
      },
      {
       "output_type": "stream",
       "stream": "stdout",
       "text": [
        "\n",
        "\u5229\u7269\u6d66\u7ea6\u6c49\u83ab\u65af\u5927\u5b66\t                \u00a0Liverpool John Moores University"
       ]
      },
      {
       "output_type": "stream",
       "stream": "stdout",
       "text": [
        "\n",
        "\u4e0d\u6765\u6885\u5927\u5b66"
       ]
      },
      {
       "output_type": "stream",
       "stream": "stdout",
       "text": [
        "\n",
        "\u52a0\u5dde\u5dde\u7acb\u7406\u5de5\u5927\u5b66\u6ce2\u83ab\u7eb3\u5206\u6821(\u6ce2\u83ab\u7eb3)\t                \u00a0California State Polytechnic University (Pomona)"
       ]
      },
      {
       "output_type": "stream",
       "stream": "stdout",
       "text": [
        "\n",
        "\u91cc\u97e6\u5b66\u9662(\u7eb3\u8212\u5384)\t                \u00a0Rivier College (Nashua)"
       ]
      },
      {
       "output_type": "stream",
       "stream": "stdout",
       "text": [
        "\n",
        "\u7f57\u6c49\u666e\u987f\u5927\u5b66\t                \u00a0Roehampton University"
       ]
      },
      {
       "output_type": "stream",
       "stream": "stdout",
       "text": [
        "\n",
        "\u5965\u683c\u65af\u5821\u5927\u5b66"
       ]
      },
      {
       "output_type": "stream",
       "stream": "stdout",
       "text": [
        "\n",
        "\u91d1\u65af\u987f\u5927\u5b66\t                \u00a0Kingston University"
       ]
      },
      {
       "output_type": "stream",
       "stream": "stdout",
       "text": [
        "\n",
        "\u540d\u53e4\u5c4b\u5916\u56fd\u8bed\u5927\u5b66\t                \u00a0Nagoya University of Foreign Studies"
       ]
      },
      {
       "output_type": "stream",
       "stream": "stdout",
       "text": [
        "\n",
        "\u54e5\u4f26\u6bd4\u4e9a\u7279\u533a\u5927\u5b66(\u534e\u76db\u987f)\t                \u00a0University of the District of Columbia (Washington)"
       ]
      },
      {
       "output_type": "stream",
       "stream": "stdout",
       "text": [
        "\n",
        "\u683c\u52d2\u8bfa\u5e03\u5c14\u9ad8\u7b49\u5546\u4e1a\u5b66\u6821"
       ]
      },
      {
       "output_type": "stream",
       "stream": "stdout",
       "text": [
        "\n",
        "\u4e0d\u5217\u98a0\u6d77\u89d2\u5927\u5b66\u5b66\u9662\uff08\u73b0\u540d\uff1a\u4e0d\u5217\u98a0\u6d77\u89d2\u5927\u5b66\uff09\t                \u00a0University College of Cape Breton (UCCB) (Now: Cape Breton University)"
       ]
      },
      {
       "output_type": "stream",
       "stream": "stdout",
       "text": [
        "\n",
        "\u5df4\u9ece\u5341\u4e8c\u5927"
       ]
      },
      {
       "output_type": "stream",
       "stream": "stdout",
       "text": [
        "\n",
        "\u4e16\u5b97\u5927\u5b66\t                \u00a0Sejong University"
       ]
      },
      {
       "output_type": "stream",
       "stream": "stdout",
       "text": [
        "\n",
        "\u6c49\u5821\u8054\u90a6\u56fd\u9632\u519b\u5927\u5b66"
       ]
      },
      {
       "output_type": "stream",
       "stream": "stdout",
       "text": [
        "\n",
        "\u91cc\u6602\u56fd\u7acb\u5e94\u7528\u79d1\u5b66\u5b66\u9662"
       ]
      },
      {
       "output_type": "stream",
       "stream": "stdout",
       "text": [
        "\n",
        "\u897f\u96c5\u56fe\u5927\u5b66(\u897f\u96c5\u56fe)\t                \u00a0Seattle University (Seattle)"
       ]
      },
      {
       "output_type": "stream",
       "stream": "stdout",
       "text": [
        "\n",
        "\u963f\u4f2f\u4e01\u5b66\u9662\t                \u00a0Aberdeen College"
       ]
      },
      {
       "output_type": "stream",
       "stream": "stdout",
       "text": [
        "\n",
        "\u56fe\u5362\u5179\u4e09\u5927"
       ]
      },
      {
       "output_type": "stream",
       "stream": "stdout",
       "text": [
        "\n",
        "\u52a0\u6cf0\u7f57\u5c3c\u4e9a\u7406\u5de5\u5927\u5b66"
       ]
      },
      {
       "output_type": "stream",
       "stream": "stdout",
       "text": [
        "\n",
        "\u970d\u59c6\u65af\u683c\u5170\u6280\u672f\u4e0e\u7ee7\u7eed\u6559\u80b2\u5b66\u9662\t                \u00a0Holmesglen Institute of TAFE"
       ]
      },
      {
       "output_type": "stream",
       "stream": "stdout",
       "text": [
        "\n",
        "\u5965\u65af\u6c40\u957f\u8001\u6559\u4f1a\u795e\u5b66\u9662(\u5965\u65af\u6c40)\t                \u00a0Austin Presbyterian Theological Seminary (Austin)"
       ]
      },
      {
       "output_type": "stream",
       "stream": "stdout",
       "text": [
        "\n",
        "\u8303\u5fb7\u6bd4\u5c14\u7279\u5927\u5b66(\u7eb3\u4ec0\u7ef4\u5c14)\t                \u00a0Vanderbilt University (Nashville)"
       ]
      },
      {
       "output_type": "stream",
       "stream": "stdout",
       "text": [
        "\n",
        "\u4e1c\u6d0b\u5927\u5b66\t                \u00a0Toyo University"
       ]
      },
      {
       "output_type": "stream",
       "stream": "stdout",
       "text": [
        "\n",
        "\u6cd5\u5170\u514b\u798f\u97f3\u4e50\u548c\u8868\u6f14\u827a\u672f\u5b66\u9662"
       ]
      },
      {
       "output_type": "stream",
       "stream": "stdout",
       "text": [
        "\n",
        "\u57fa\u5c14\u5e94\u7528\u6280\u672f\u5927\u5b66"
       ]
      },
      {
       "output_type": "stream",
       "stream": "stdout",
       "text": [
        "\n",
        "\u7b26\u62c9\u8fea\u6c83\u65af\u6258\u514b\u56fd\u7acb\u7ecf\u6d4e\u4e0e\u670d\u52a1\u5927\u5b66"
       ]
      },
      {
       "output_type": "stream",
       "stream": "stdout",
       "text": [
        "\n",
        "\u8428\u7701\u5e94\u7528\u79d1\u6280\u5b66\u9662\t                \u00a0Saskatchewan Institute of Applied Science & Technology"
       ]
      },
      {
       "output_type": "stream",
       "stream": "stdout",
       "text": [
        "\n",
        "\u5df4\u5e03\u68ee\u5b66\u9662(\u5df4\u5e03\u68ee\u516c\u56ed)\t                \u00a0Babson College (Babson Park)"
       ]
      },
      {
       "output_type": "stream",
       "stream": "stdout",
       "text": [
        "\n",
        "\u4e9a\u6d32\u5927\u5b66\t                \u00a0Ajou University"
       ]
      },
      {
       "output_type": "stream",
       "stream": "stdout",
       "text": [
        "\n",
        "\u5317\u5fb7\u514b\u8428\u65af\u5927\u5b66(\u767b\u987f)\t                \u00a0University of North Texas (Denton)"
       ]
      },
      {
       "output_type": "stream",
       "stream": "stdout",
       "text": [
        "\n",
        "\u4e16\u7eaa\u5927\u5b66\u5b66\u9662\u69df\u57ce\u6821\u533a\t                \u00a0SEGi University College  Penang"
       ]
      },
      {
       "output_type": "stream",
       "stream": "stdout",
       "text": [
        "\n",
        "\u6cf0\u83b1\u5927\u5b66\u5b66\u9662\u9152\u5e97\u7ba1\u7406\u4e0e\u65c5\u6e38\u5b66\u9662\t                \u00a0Taylor's University College, School of Hospitality and Tourism"
       ]
      },
      {
       "output_type": "stream",
       "stream": "stdout",
       "text": [
        "\n",
        "\u53c8\u77f3\u5927\u5b66\t                \u00a0Woosuk University"
       ]
      },
      {
       "output_type": "stream",
       "stream": "stdout",
       "text": [
        "\n",
        "\u5b66\u4e60\u9662\u5927\u5b66\t                \u00a0Gakushuin University"
       ]
      },
      {
       "output_type": "stream",
       "stream": "stdout",
       "text": [
        "\n",
        "\u56fd\u5bb6\u884c\u653f\u5b66\u9662"
       ]
      },
      {
       "output_type": "stream",
       "stream": "stdout",
       "text": [
        "\n",
        "ArtEZ\u827a\u672f\u5b66\u9662\t                \u00a0ArtEZ Institute of the Arts"
       ]
      },
      {
       "output_type": "stream",
       "stream": "stdout",
       "text": [
        "\n",
        "\u632a\u5a01\u751f\u547d\u79d1\u5b66\u5927\u5b66\t                \u00a0Norwegian University of Life Sciences"
       ]
      },
      {
       "output_type": "stream",
       "stream": "stdout",
       "text": [
        "\n",
        "\u540c\u5fd7\u793e\u5927\u5b66\t                \u00a0Doshisha University"
       ]
      },
      {
       "output_type": "stream",
       "stream": "stdout",
       "text": [
        "\n",
        "\u5f17\u5409\u5c3c\u4e9a\u536b\u65af\u7406\u5b66\u9662(\u8bfa\u798f\u514b)\t                \u00a0Virginia Wesleyan College (Norfolk)"
       ]
      },
      {
       "output_type": "stream",
       "stream": "stdout",
       "text": [
        "\n",
        "\u963f\u54e5\u5fb7\u5927\u5b66\t                \u00a0Agder University"
       ]
      },
      {
       "output_type": "stream",
       "stream": "stdout",
       "text": [
        "\n",
        "\u72b9\u4ed6\u5dde\u7acb\u5927\u5b66(\u6d1b\u6839)\t                \u00a0Utah State University (Logan)"
       ]
      },
      {
       "output_type": "stream",
       "stream": "stdout",
       "text": [
        "\n",
        "\u6e29\u5c3c\u4f2f\u6280\u672f\u5b66\u9662\t                \u00a0Winnipeg Technical College"
       ]
      },
      {
       "output_type": "stream",
       "stream": "stdout",
       "text": [
        "\n",
        "\u65af\u5766\u987f\u5927\u5b66\t                \u00a0Stenden University"
       ]
      },
      {
       "output_type": "stream",
       "stream": "stdout",
       "text": [
        "\n",
        "\u56fd\u7acb\u7535\u4fe1\u5b66\u9662"
       ]
      },
      {
       "output_type": "stream",
       "stream": "stdout",
       "text": [
        "\n",
        "\u660e\u6d77\u5927\u5b66\t                \u00a0Meikai University"
       ]
      },
      {
       "output_type": "stream",
       "stream": "stdout",
       "text": [
        "\n",
        "\u6851\u4f5b\u5f17\u96f7\u660e\u7235\u58eb\u5e94\u7528\u827a\u672f\u53ca\u6280\u672f\u5b66\u9662\t                \u00a0Sir Sandford Fleming College of Applied Arts and Technology"
       ]
      },
      {
       "output_type": "stream",
       "stream": "stdout",
       "text": [
        "\n",
        "\u963f\u59c6\u65af\u7279\u4e39\u81ea\u7531\u5927\u5b66\t                \u00a0VU Amsterdam"
       ]
      },
      {
       "output_type": "stream",
       "stream": "stdout",
       "text": [
        "\n",
        "\u8303\u7ecd\u5b66\u9662\u5e94\u7528\u827a\u672f\u53ca\u6280\u672f\t                \u00a0Fanshawe College of Applied Arts and Technology"
       ]
      },
      {
       "output_type": "stream",
       "stream": "stdout",
       "text": [
        "\n",
        "\u4ee3\u6839\u591a\u592b\u5e94\u7528\u6280\u672f\u5927\u5b66"
       ]
      },
      {
       "output_type": "stream",
       "stream": "stdout",
       "text": [
        "\n",
        "\u8fe6\u5357\u591a\u5c14\u5e94\u7528\u827a\u672f\u53ca\u6280\u672f\u5b66\u9662\t                \u00a0Canadore College of Applied Arts and Technology"
       ]
      },
      {
       "output_type": "stream",
       "stream": "stdout",
       "text": [
        "\n",
        "\u79d1\u5ef7\u7406\u5de5\u5927\u5b66\u9a6c\u6765\u897f\u4e9a\u5206\u6821\t                \u00a0Curtin University of Technology Sarawak Campus Malaysia"
       ]
      },
      {
       "output_type": "stream",
       "stream": "stdout",
       "text": [
        "\n",
        "\u529f\u80fd\u82f1\u8bed\u8bed\u8a00\u5b66\u6821\t                \u00a0Functional English"
       ]
      },
      {
       "output_type": "stream",
       "stream": "stdout",
       "text": [
        "\n",
        "\u65bd\u7279\u62c9\u5c14\u677e\u5fb7\u5e94\u7528\u6280\u672f\u5927\u5b66"
       ]
      },
      {
       "output_type": "stream",
       "stream": "stdout",
       "text": [
        "\n",
        "\u4f26\u6566\u536b\u751f\u548c\u70ed\u5e26\u533b\u836f\u5b66\u9662\t                \u00a0London School of Hygiene and Tropical Medicine"
       ]
      },
      {
       "output_type": "stream",
       "stream": "stdout",
       "text": [
        "\n",
        "\u57fa\u5c14\u5927\u5b66"
       ]
      },
      {
       "output_type": "stream",
       "stream": "stdout",
       "text": [
        "\n",
        "\u7ebd\u9ed1\u6587\u5927\u5b66(\u897f\u9ed1\u6587)\t                \u00a0University of New Haven (West Haven)"
       ]
      },
      {
       "output_type": "stream",
       "stream": "stdout",
       "text": [
        "\n",
        "\u9f99\u4ec1\u5927\u5b66\t                \u00a0Yongin University"
       ]
      },
      {
       "output_type": "stream",
       "stream": "stdout",
       "text": [
        "\n",
        "\u963f\u5fb7\u83b1\u5fb7\u6280\u672f\u4e0e\u7ee7\u7eed\u6559\u80b2\u5b66\u9662\t                \u00a0Adelaide Institute of TAFE"
       ]
      },
      {
       "output_type": "stream",
       "stream": "stdout",
       "text": [
        "\n",
        "\u80b2\u7a7a\u5b66\u9662\t                \u00a0Yukon College"
       ]
      },
      {
       "output_type": "stream",
       "stream": "stdout",
       "text": [
        "\n",
        "\u5df4\u62c9\u745e\u7279\u5927\u5b66\t                \u00a0University of Ballarat"
       ]
      },
      {
       "output_type": "stream",
       "stream": "stdout",
       "text": [
        "\n",
        "\u5e03\u4f26\u745e\u514b\u9020\u578b\u827a\u672f\u5b66\u9662"
       ]
      },
      {
       "output_type": "stream",
       "stream": "stdout",
       "text": [
        "\n",
        "\u57c3\u5c14\u798f\u7279\u5927\u5b66"
       ]
      },
      {
       "output_type": "stream",
       "stream": "stdout",
       "text": [
        "\n",
        "\u5927\u962a\u5de5\u4e1a\u5927\u5b66\t                \u00a0Osaka Institute of Technology"
       ]
      },
      {
       "output_type": "stream",
       "stream": "stdout",
       "text": [
        "\n",
        "\u96f7\u6069\u56fd\u7acb\u5e94\u7528\u79d1\u5b66\u5b66\u9662"
       ]
      },
      {
       "output_type": "stream",
       "stream": "stdout",
       "text": [
        "\n",
        "\u7267\u56ed\u5927\u5b66\t                \u00a0Mokwon University"
       ]
      },
      {
       "output_type": "stream",
       "stream": "stdout",
       "text": [
        "\n",
        "\u7f8e\u56e0\u8328\u5929\u4e3b\u6559\u5e94\u7528\u6280\u672f\u5927\u5b66\uff08\u73b0\u540d\uff1a\u7f8e\u56e0\u8328\u5929\u4e3b\u6559\u5b66\u9662\uff09"
       ]
      },
      {
       "output_type": "stream",
       "stream": "stdout",
       "text": [
        "\n",
        "\u57fc\u7389\u533b\u79d1\u5927\u5b66\t                \u00a0Saitama Medical School"
       ]
      },
      {
       "output_type": "stream",
       "stream": "stdout",
       "text": [
        "\n",
        "\u795e\u6237\u5927\u5b66\t                \u00a0Kobe University"
       ]
      },
      {
       "output_type": "stream",
       "stream": "stdout",
       "text": [
        "\n",
        "\u683c\u52d2\u8bfa\u5e03\u5c14\u4e00\u5927"
       ]
      },
      {
       "output_type": "stream",
       "stream": "stdout",
       "text": [
        "\n",
        "\u6cf0\u6664\u58eb\u6cb3\u8c37\u5927\u5b66\uff08\u73b0\u540d\uff1a\u897f\u4f26\u6566\u5927\u5b66\uff09\t                \u00a0Thames Valley University (Now: University of West London)"
       ]
      },
      {
       "output_type": "stream",
       "stream": "stdout",
       "text": [
        "\n",
        "\u5e03\u9c81\u5948\u5c14\u5927\u5b66\t                \u00a0Brunel University"
       ]
      },
      {
       "output_type": "stream",
       "stream": "stdout",
       "text": [
        "\n",
        "\u8328\u57ce\u5927\u5b66\t                \u00a0Ibaraki University"
       ]
      },
      {
       "output_type": "stream",
       "stream": "stdout",
       "text": [
        "\n",
        "\u4fc4\u52d2\u5188\u5065\u5eb7\u4e0e\u79d1\u5b66\u5927\u5b66(\u6ce2\u7279\u5170)\t                \u00a0Oregon Health and Science University (Portland)"
       ]
      },
      {
       "output_type": "stream",
       "stream": "stdout",
       "text": [
        "\n",
        "\u4fe1\u5dde\u5927\u5b66\t                \u00a0Shinshu University"
       ]
      },
      {
       "output_type": "stream",
       "stream": "stdout",
       "text": [
        "\n",
        "\u9c81\u6602\u5927\u5b66"
       ]
      },
      {
       "output_type": "stream",
       "stream": "stdout",
       "text": [
        "\n",
        "\u74e6\u83b1\u8fbe\u5965\u65af\u5854\u5927\u5b66"
       ]
      },
      {
       "output_type": "stream",
       "stream": "stdout",
       "text": [
        "\n",
        "\u5229\u7269\u6d66\u5e0c\u671b\u5927\u5b66\t                \u00a0Liverpool Hope University"
       ]
      },
      {
       "output_type": "stream",
       "stream": "stdout",
       "text": [
        "\n",
        "\u6e29\u5f7b\u65af\u7279\u5927\u5b66\t                \u00a0The University of Winchester"
       ]
      },
      {
       "output_type": "stream",
       "stream": "stdout",
       "text": [
        "\n",
        "\u97e9\u745e\u5927\u5b66\t                \u00a0Hanseo University"
       ]
      },
      {
       "output_type": "stream",
       "stream": "stdout",
       "text": [
        "\n",
        "\u970d\u592b\u65af\u7279\u62c9\u5927\u5b66(\u6c49\u666e\u65af\u7279\u5fb7)\t                \u00a0Hofstra University (Hempstead)"
       ]
      },
      {
       "output_type": "stream",
       "stream": "stdout",
       "text": [
        "\n",
        "\u6d5c\u677e\u5b66\u9662\u5927\u5b66\t                \u00a0Hamamatsu Gakuin University"
       ]
      },
      {
       "output_type": "stream",
       "stream": "stdout",
       "text": [
        "\n",
        "\u6bd4\u8428\u5927\u5b66"
       ]
      },
      {
       "output_type": "stream",
       "stream": "stdout",
       "text": [
        "\n",
        "\u4e30\u6865\u6280\u672f\u79d1\u5b66\u5927\u5b66\t                \u00a0Toyohashi University of Technology"
       ]
      },
      {
       "output_type": "stream",
       "stream": "stdout",
       "text": [
        "\n",
        "\u8de1\u89c1\u5b66\u56ed\u5973\u5b50\u5927\u5b66\t                \u00a0Atomi University"
       ]
      },
      {
       "output_type": "stream",
       "stream": "stdout",
       "text": [
        "\n",
        "\u5df4\u5e03\u7f57\u2022\u5fb7\u5965\u62c9\u7ef4\u6234\u5927\u5b66"
       ]
      },
      {
       "output_type": "stream",
       "stream": "stdout",
       "text": [
        "\n",
        "\u6cd5\u5170\u514b\u798f\u5723\u4e54\u6cbb\u54f2\u5b66\u4e0e\u795e\u5b66\u9662"
       ]
      },
      {
       "output_type": "stream",
       "stream": "stdout",
       "text": [
        "\n",
        "\u4e1c\u7530\u7eb3\u897f\u5dde\u7acb\u5927\u5b66(\u7ea6\u7ff0\u900a\u5e02)\t                \u00a0East Tennessee State University (Johnson City)"
       ]
      },
      {
       "output_type": "stream",
       "stream": "stdout",
       "text": [
        "\n",
        "\u5317\u5927\u897f\u6d0b\u5b66\u9662\t                \u00a0College of the North Atlantic"
       ]
      },
      {
       "output_type": "stream",
       "stream": "stdout",
       "text": [
        "\n",
        "\u6e56\u5357\u5927\u5b66\t                \u00a0Honam University"
       ]
      },
      {
       "output_type": "stream",
       "stream": "stdout",
       "text": [
        "\n",
        "\u7231\u8fbe\u8377\u5927\u5b66(\u83ab\u65af\u79d1)\t                \u00a0University of Idaho (Moscow)"
       ]
      },
      {
       "output_type": "stream",
       "stream": "stdout",
       "text": [
        "\n",
        "\u62c9\u666e\u5170\u5854\u7406\u5de5\u5927\u5b66\t                \u00a0Lappeenranta University of Technology"
       ]
      },
      {
       "output_type": "stream",
       "stream": "stdout",
       "text": [
        "\n",
        "\u8fbe\u59c6\u65bd\u5854\u7279\u5e94\u7528\u6280\u672f\u5927\u5b66"
       ]
      },
      {
       "output_type": "stream",
       "stream": "stdout",
       "text": [
        "\n",
        "\u9521\u8036\u7eb3\u5916\u56fd\u4eba\u5927\u5b66"
       ]
      },
      {
       "output_type": "stream",
       "stream": "stdout",
       "text": [
        "\n",
        "\u8def\u6613\u65af\u5b89\u90a3\u5927\u5b66\u62c9\u6cd5\u53f6\u5206\u6821(\u62c9\u6cd5\u53f6)\t                \u00a0The University of Louisiana at Lafayette (Lafayette)"
       ]
      },
      {
       "output_type": "stream",
       "stream": "stdout",
       "text": [
        "\n",
        "\u8fea\u5821\u5927\u5b66(\u683c\u6797\u5361\u65af\u7279\u52d2)\t                \u00a0DePauw University (Greencastle)"
       ]
      },
      {
       "output_type": "stream",
       "stream": "stdout",
       "text": [
        "\n",
        "\u5e7f\u5c9b\u5e02\u7acb\u5927\u5b66\t                \u00a0Hiroshima City University"
       ]
      },
      {
       "output_type": "stream",
       "stream": "stdout",
       "text": [
        "\n",
        "\u82f1\u8bed\u4e0e\u5546\u52a1\u4ea4\u9645\u5f3a\u5316\u5b66\u6821\t                \u00a0Intensive School of English & Business Communication"
       ]
      },
      {
       "output_type": "stream",
       "stream": "stdout",
       "text": [
        "\n",
        "\u8428\u5c14\u9020\u578b\u827a\u672f\u5b66\u9662"
       ]
      },
      {
       "output_type": "stream",
       "stream": "stdout",
       "text": [
        "\n",
        "\u8fc8\u963f\u5bc6\u5927\u5b66(\u725b\u6d25)\t                \u00a0Miami University (Oxford)"
       ]
      },
      {
       "output_type": "stream",
       "stream": "stdout",
       "text": [
        "\n",
        "\u4e54\u6cbb\u798f\u514b\u65af\u5927\u5b66(\u7ebd\u4f2f\u683c)\t                \u00a0George Fox University (Newberg)"
       ]
      },
      {
       "output_type": "stream",
       "stream": "stdout",
       "text": [
        "\n",
        "\u6d77\u7259\u5e94\u7528\u79d1\u5b66\u5927\u5b66\t                \u00a0The Hague University of Applied Science"
       ]
      },
      {
       "output_type": "stream",
       "stream": "stdout",
       "text": [
        "\n",
        "\u718a\u672c\u5927\u5b66\t                \u00a0Kumamoto University"
       ]
      },
      {
       "output_type": "stream",
       "stream": "stdout",
       "text": [
        "\n",
        "\u6865\u6e2f\u5927\u5b66(\u6865\u6e2f)\t                \u00a0University of Bridgeport (Bridgeport)"
       ]
      },
      {
       "output_type": "stream",
       "stream": "stdout",
       "text": [
        "\n",
        "\u4e54\u6cbb\u6885\u68ee\u5927\u5b66(\u8d39\u5c14\u6cd5\u514b\u65af)\t                \u00a0George Mason University (Fairfax)"
       ]
      },
      {
       "output_type": "stream",
       "stream": "stdout",
       "text": [
        "\n",
        "\u5973\u5b50\u8425\u517b\u5927\u5b66\t                \u00a0Kagawa Nutrition University"
       ]
      },
      {
       "output_type": "stream",
       "stream": "stdout",
       "text": [
        "\n",
        "\u5317\u58a8\u5c14\u672c\u6280\u672f\u4e0e\u7ee7\u7eed\u6559\u80b2\u5b66\u9662\t                \u00a0Northern Melbourne Institute of TAFE"
       ]
      },
      {
       "output_type": "stream",
       "stream": "stdout",
       "text": [
        "\n",
        "\u963f\u6587\u4ee3\u5c14\u5b66\u9662\t                \u00a0Avondale College"
       ]
      },
      {
       "output_type": "stream",
       "stream": "stdout",
       "text": [
        "\n",
        "\u675c\u585e\u5c14\u591a\u592b\u827a\u672f\u5b66\u9662"
       ]
      },
      {
       "output_type": "stream",
       "stream": "stdout",
       "text": [
        "\n",
        "\u5fb7\u514b\u8428\u65af\u5927\u5b66\u5723\u5b89\u4e1c\u5c3c\u5965\u5206\u6821(\u5723\u5b89\u4e1c\u5c3c\u5965)\t                \u00a0The University of Texas at San Antonio (San Antonio)"
       ]
      },
      {
       "output_type": "stream",
       "stream": "stdout",
       "text": [
        "\n",
        "\u540d\u53e4\u5c4b\u5b66\u9662\u5927\u5b66\t                \u00a0Nagoya Gakuin University"
       ]
      },
      {
       "output_type": "stream",
       "stream": "stdout",
       "text": [
        "\n",
        "\u5f17\u8d56\u8d1d\u683c\u5de5\u4e1a\u5927\u5b66"
       ]
      },
      {
       "output_type": "stream",
       "stream": "stdout",
       "text": [
        "\n",
        "\u514b\u83b1\u8499\u8d39\u6717\u56fd\u7acb\u9ad8\u7b49\u5316\u5de5\u5b66\u6821"
       ]
      },
      {
       "output_type": "stream",
       "stream": "stdout",
       "text": [
        "\n",
        "\u4f69\u76ae\u5c3c\u6602\u5927\u5b66"
       ]
      },
      {
       "output_type": "stream",
       "stream": "stdout",
       "text": [
        "\n",
        "\u5bcc\u5c71\u53bf\u7acb\u5927\u5b66\t                \u00a0Toyama Prefectural University"
       ]
      },
      {
       "output_type": "stream",
       "stream": "stdout",
       "text": [
        "\n",
        "\u8377\u5170\u5e7f\u64ad\u57f9\u8bad\u4e2d\u5fc3\t                \u00a0RNTC (Radio Netherlands Training Centre)"
       ]
      },
      {
       "output_type": "stream",
       "stream": "stdout",
       "text": [
        "\n",
        "\u5361\u65af\u7279\u5c14\u5f17\u5170\u79d1\u5a01\u5c3c\u6258\u97f3\u4e50\u5b66\u9662"
       ]
      },
      {
       "output_type": "stream",
       "stream": "stdout",
       "text": [
        "\n",
        "\u7687\u5bb6\u519c\u5b66\u9662\t                \u00a0Royal Agricultural College"
       ]
      },
      {
       "output_type": "stream",
       "stream": "stdout",
       "text": [
        "\n",
        "\u53f2\u4e39\u798f\u5b66\u9662\t                \u00a0Stamford College"
       ]
      },
      {
       "output_type": "stream",
       "stream": "stdout",
       "text": [
        "\n",
        "\u5c3c\u76ae\u8f9b\u5927\u5b66\t                \u00a0Nipissing University"
       ]
      },
      {
       "output_type": "stream",
       "stream": "stdout",
       "text": [
        "\n",
        "\u6839\u7279\u5927\u5b66\t                \u00a0Ghent University"
       ]
      },
      {
       "output_type": "stream",
       "stream": "stdout",
       "text": [
        "\n",
        "\u5317\u79d1\u7f57\u62c9\u591a\u5927\u5b66(\u683c\u91cc\u5229)\t                \u00a0University of Northern Colorado (Greeley)"
       ]
      },
      {
       "output_type": "stream",
       "stream": "stdout",
       "text": [
        "\n",
        "\u897f\u4e9a\u5229\u6851\u90a3\u5dde\u7acb\u5927\u5b66(\u51e4\u51f0\u57ce)\t                \u00a0Arizona State University West (Phoenix)"
       ]
      },
      {
       "output_type": "stream",
       "stream": "stdout",
       "text": [
        "\n",
        "\u5fb7\u56fd\u5e03\u9c81\u8d6b\u8428\u5c14\u56fd\u9645\u5927\u5b66"
       ]
      },
      {
       "output_type": "stream",
       "stream": "stdout",
       "text": [
        "\n",
        "\u5927\u962a\u7ecf\u6d4e\u5927\u5b66\t                \u00a0Osaka University of Economics"
       ]
      },
      {
       "output_type": "stream",
       "stream": "stdout",
       "text": [
        "\n",
        "\u4f0a\u5229\u8428\u7ef4\u514b\u5b66\u9662(\u5df4\u7f57)\t                \u00a0Ilisagvik College (Barrow)"
       ]
      },
      {
       "output_type": "stream",
       "stream": "stdout",
       "text": [
        "\n",
        "\u5e73\u6cfd\u5927\u5b66\t                \u00a0Pyongtaek University"
       ]
      },
      {
       "output_type": "stream",
       "stream": "stdout",
       "text": [
        "\n",
        "\u683c\u62c9\u65af\u54e5\u56fd\u9645\u82f1\u8bed\u4e0e\u5546\u4e1a\u5b66\u6821\t                \u00a0Glasgow International English and Business School"
       ]
      },
      {
       "output_type": "stream",
       "stream": "stdout",
       "text": [
        "\n",
        "\u6d1b\u6749\u77f6\u897f\u5357\u5b66\u9662(\u6d1b\u6749\u77f6)\t                \u00a0Los Angeles Southwest College (Los Angeles)"
       ]
      },
      {
       "output_type": "stream",
       "stream": "stdout",
       "text": [
        "\n",
        "\u5df4\u5c14\u8fea\u514b\u5b66\u9662"
       ]
      },
      {
       "output_type": "stream",
       "stream": "stdout",
       "text": [
        "\n",
        "\u5927\u90b1\u52a0\u56fe\u7acb\u5927\u5b66\t                \u00a0Catholic University of Daegu"
       ]
      },
      {
       "output_type": "stream",
       "stream": "stdout",
       "text": [
        "\n",
        "\u6d1b\u7ea6\u62c9\u739b\u8389\u66fc\u7279\u5927\u5b66(\u6d1b\u6749\u77f6)\t                \u00a0Loyola Marymount University (Los Angeles)"
       ]
      },
      {
       "output_type": "stream",
       "stream": "stdout",
       "text": [
        "\n",
        "\u82f1\u5c5e\u54e5\u4f26\u6bd4\u4e9a\u7406\u5de5\u5b66\u9662\t                \u00a0British Columbia Institute of Technology"
       ]
      },
      {
       "output_type": "stream",
       "stream": "stdout",
       "text": [
        "\n",
        "\u5e93\u73ed\u56fd\u7acb\u4f53\u80b2\u8fd0\u52a8\u4e0e\u65c5\u6e38\u5927\u5b66"
       ]
      },
      {
       "output_type": "stream",
       "stream": "stdout",
       "text": [
        "\n",
        "\u8fbe\u62c9\u65af\u5927\u5b66(\u6b27\u6587)\t                \u00a0The University of Dallas (Irving)"
       ]
      },
      {
       "output_type": "stream",
       "stream": "stdout",
       "text": [
        "\n",
        "\u5170\u8328\u80e1\u7279\u5e94\u7528\u6280\u672f\u5927\u5b66"
       ]
      },
      {
       "output_type": "stream",
       "stream": "stdout",
       "text": [
        "\n",
        "\u7231\u77e5\u53bf\u7acb\u5927\u5b66\t                \u00a0Aichi Prefectural University"
       ]
      },
      {
       "output_type": "stream",
       "stream": "stdout",
       "text": [
        "\n",
        "\u4e4c\u5f97\u52d2\u652f\u5927\u5b66\t                \u00a0Utrecht University"
       ]
      },
      {
       "output_type": "stream",
       "stream": "stdout",
       "text": [
        "\n",
        "\u725b\u6d25\u8c6a\u65af\u5b66\u9662\t                \u00a0Oxford House College"
       ]
      },
      {
       "output_type": "stream",
       "stream": "stdout",
       "text": [
        "\n",
        "\u5706\u5149\u5927\u5b66\t                \u00a0Wonkwang University"
       ]
      },
      {
       "output_type": "stream",
       "stream": "stdout",
       "text": [
        "\n",
        "\u65bd\u9a6c\u5361\u5c14\u767b\u5e94\u7528\u6280\u672f\u5927\u5b66"
       ]
      },
      {
       "output_type": "stream",
       "stream": "stdout",
       "text": [
        "\n",
        "\u6a31\u7f8e\u6797\u5927\u5b66\t                \u00a0Obirin University"
       ]
      },
      {
       "output_type": "stream",
       "stream": "stdout",
       "text": [
        "\n",
        "\u65b0\u897f\u4f2f\u5229\u4e9a\u56fd\u7acb\u6280\u672f\u5927\u5b66\t                \u00a0Novosibirsk State Technical University"
       ]
      },
      {
       "output_type": "stream",
       "stream": "stdout",
       "text": [
        "\n",
        "\u5357\u6cf0\u6664\u58eb\u5b66\u9662(\u4f26\u6566)\t                \u00a0South Thames College, London"
       ]
      },
      {
       "output_type": "stream",
       "stream": "stdout",
       "text": [
        "\n",
        "\u4fc4\u514b\u62c9\u8377\u9a6c\u536b\u65af\u7406\u5927\u5b66(\u5df4\u7279\u5c14\u65af\u7ef4\u5c14)\t                \u00a0Oklahoma Wesleyan University (Bartlesville)"
       ]
      },
      {
       "output_type": "stream",
       "stream": "stdout",
       "text": [
        "\n",
        "\u574e\u4f2f\u5170\u5927\u5b66(\u5a01\u5ec9\u65af\u5821)\t                \u00a0University of the Cumberlands (Williamsburg)"
       ]
      },
      {
       "output_type": "stream",
       "stream": "stdout",
       "text": [
        "\n",
        "\u5965\u82ac\u5df4\u8d6b\u8bbe\u8ba1\u5b66\u9662"
       ]
      },
      {
       "output_type": "stream",
       "stream": "stdout",
       "text": [
        "\n",
        "\u9f9f\u5c3e1\u5927\u5b66\t                \u00a0Gumi College"
       ]
      },
      {
       "output_type": "stream",
       "stream": "stdout",
       "text": [
        "\n",
        "\u4e8e\u9ed8\u5965\u5927\u5b66\t                \u00a0Ume\u00e5 University"
       ]
      },
      {
       "output_type": "stream",
       "stream": "stdout",
       "text": [
        "\n",
        "\u5a01\u817e\u5821\u5927\u5b66(\u6625\u7530)\t                \u00a0Wittenberg University (Springfield)"
       ]
      },
      {
       "output_type": "stream",
       "stream": "stdout",
       "text": [
        "\n",
        "\u5723\u9a6c\u514b\u5b66\u9662\t                \u00a0University of St. Michael\u2019s College"
       ]
      },
      {
       "output_type": "stream",
       "stream": "stdout",
       "text": [
        "\n",
        "\u91cc\u6602\u4e2d\u592e\u7406\u5de5\u5b66\u6821"
       ]
      },
      {
       "output_type": "stream",
       "stream": "stdout",
       "text": [
        "\n",
        "\u9053\u68ee\u5b66\u9662\t                \u00a0Dawson College"
       ]
      },
      {
       "output_type": "stream",
       "stream": "stdout",
       "text": [
        "\n",
        "\u971c\u5821\u5dde\u7acb\u5927\u5b66(\u971c\u5821)\t                \u00a0Frostburg State University (Frostburg)"
       ]
      },
      {
       "output_type": "stream",
       "stream": "stdout",
       "text": [
        "\n",
        "\u8fd1\u757f\u5927\u5b66\t                \u00a0Kinki University"
       ]
      },
      {
       "output_type": "stream",
       "stream": "stdout",
       "text": [
        "\n",
        "\u571f\u5c14\u5e93\u5e94\u7528\u79d1\u5b66\u5927\u5b66\t                \u00a0Turku University of Applied Sciences"
       ]
      },
      {
       "output_type": "stream",
       "stream": "stdout",
       "text": [
        "\n",
        "\u97e9\u56fd\u4f53\u80b2\u5927\u5b66\t                \u00a0Korea National Sport University"
       ]
      },
      {
       "output_type": "stream",
       "stream": "stdout",
       "text": [
        "\n",
        "\u97e9\u56fd\u60c5\u62a5\u901a\u4fe1\u5927\u5b66\t                \u00a0Information and Communication University"
       ]
      },
      {
       "output_type": "stream",
       "stream": "stdout",
       "text": [
        "\n",
        "\u5df4\u5c14\u7459\u5c14\u56fd\u7acb\u5e08\u8303\u5927\u5b66"
       ]
      },
      {
       "output_type": "stream",
       "stream": "stdout",
       "text": [
        "\n",
        "\u7ef4\u6ed5/\u9ed1\u5c14\u5fb7\u514b\u79c1\u7acb\u5927\u5b66"
       ]
      },
      {
       "output_type": "stream",
       "stream": "stdout",
       "text": [
        "\n",
        "\u653f\u7b56\u7814\u7a76\u5927\u5b66\u9662\u5927\u5b66\t                \u00a0National Graduate Institute for Policy Studies"
       ]
      },
      {
       "output_type": "stream",
       "stream": "stdout",
       "text": [
        "\n",
        "\u5723\u592a\u7530\u56fd\u7acb\u5de5\u7a0b\u5e08\u5b66\u6821"
       ]
      },
      {
       "output_type": "stream",
       "stream": "stdout",
       "text": [
        "\n",
        "\u52a0\u5dde\u591a\u540d\u5c3c\u514b\u5927\u5b66(\u5723\u62c9\u6590\u5c14)\t                \u00a0Dominican University of California (San Rafael)"
       ]
      },
      {
       "output_type": "stream",
       "stream": "stdout",
       "text": [
        "\n",
        "\u91cc\u5c14\u4e00\u5927"
       ]
      },
      {
       "output_type": "stream",
       "stream": "stdout",
       "text": [
        "\n",
        "\u5317\u4f5b\u7f57\u91cc\u8fbe\u5927\u5b66(\u6770\u514b\u900a\u7ef4\u5c14)\t                \u00a0University of North Florida (Jacksonville)"
       ]
      },
      {
       "output_type": "stream",
       "stream": "stdout",
       "text": [
        "\n",
        "\u739b\u8d6b\u897f\u7ba1\u7406\u5927\u5b66(\u8d39\u5c14\u83f2\u5c14\u5fb7)\t                \u00a0Maharishi University of Management (Fairfield)"
       ]
      },
      {
       "output_type": "stream",
       "stream": "stdout",
       "text": [
        "\n",
        "\u56fd\u5bb6\u822a\u7a7a\u5b66\u9662(\u514b\u5229\u5c14\u6c83\u7279)\t                \u00a0National Aviation Academy (Clearwater)"
       ]
      },
      {
       "output_type": "stream",
       "stream": "stdout",
       "text": [
        "\n",
        "\u65b0\u95fb\u8bb0\u8005\u57f9\u8bad\u4e2d\u5fc3"
       ]
      },
      {
       "output_type": "stream",
       "stream": "stdout",
       "text": [
        "\n",
        "\u6d1b\u4e9a\u91cc\u65af\u7279\u5e94\u7528\u827a\u672f\u53ca\u6280\u672f\u5b66\u9662\t                \u00a0Loyalist College of Applied Arts and Technology"
       ]
      },
      {
       "output_type": "stream",
       "stream": "stdout",
       "text": [
        "\n",
        "\u7f57\u683c\u65af\u5927\u5b66\u65b0\u5e03\u4f26\u745e\u514b\u5206\u6821(\u65b0\u5e03\u4f26\u745e\u514b)\t                \u00a0Rutgers University (New Brunswick)"
       ]
      },
      {
       "output_type": "stream",
       "stream": "stdout",
       "text": [
        "\n",
        "\u5229\u4f69\u8328\u514b\u56fd\u7acb\u5e08\u8303\u5927\u5b66"
       ]
      },
      {
       "output_type": "stream",
       "stream": "stdout",
       "text": [
        "\n",
        "\u8428\u5c14\u5170\u5de5\u7a0b\u548c\u7ecf\u6d4e\u5e94\u7528\u6280\u672f\u5927\u5b66"
       ]
      },
      {
       "output_type": "stream",
       "stream": "stdout",
       "text": [
        "\n",
        "\u6c49\u8bfa\u5a01\u7ecf\u6d4e\u9ad8\u7b49\u4e13\u4e1a\u5b66\u9662\uff08\u73b0\u540d\uff1a\u6c49\u8bfa\u5a01\u7ecf\u6d4e\u5e94\u7528\u6280\u672f\u5927\u5b66\uff09"
       ]
      },
      {
       "output_type": "stream",
       "stream": "stdout",
       "text": [
        "\n",
        "\u83b1\u987f\u5e94\u7528\u79d1\u5b66\u5927\u5b66"
       ]
      },
      {
       "output_type": "stream",
       "stream": "stdout",
       "text": [
        "\n",
        "\u65b0\u6f5f\u7ecf\u8425\u5927\u5b66\t                \u00a0Niigata University of Management"
       ]
      },
      {
       "output_type": "stream",
       "stream": "stdout",
       "text": [
        "\n",
        "\u8428\u57fa\u8bfa\u8c37\u5dde\u7acb\u5927\u5b66(\u5927\u5b66\u4e2d\u5fc3)\t                \u00a0Saginaw Valley State University (University Center)"
       ]
      },
      {
       "output_type": "stream",
       "stream": "stdout",
       "text": [
        "\n",
        "\u795e\u6237\u827a\u672f\u5de5\u79d1\u5927\u5b66\t                \u00a0Kobe Design University"
       ]
      },
      {
       "output_type": "stream",
       "stream": "stdout",
       "text": [
        "\n",
        "\u5a01\u8bfa\u7eb3\u5dde\u7acb\u5927\u5b66(\u5a01\u8bfa\u7eb3)\t                \u00a0Winona State University (Winona)"
       ]
      },
      {
       "output_type": "stream",
       "stream": "stdout",
       "text": [
        "\n",
        "\u6c5f\u5357\u5927\u5b66\t                \u00a0Kangnam University"
       ]
      },
      {
       "output_type": "stream",
       "stream": "stdout",
       "text": [
        "\n",
        "\u8303\u5fb7\u5e93\u514b\u97f3\u4e50\u5b66\u9662(\u829d\u52a0\u54e5)\t                \u00a0VanderCook College of Music (Chicago)"
       ]
      },
      {
       "output_type": "stream",
       "stream": "stdout",
       "text": [
        "\n",
        "\u56fd\u58eb\u9986\u5927\u5b66\t                \u00a0Kokushikan University"
       ]
      },
      {
       "output_type": "stream",
       "stream": "stdout",
       "text": [
        "\n",
        "\u5f18\u76ca\u5927\u5b66\t                \u00a0Hongik University"
       ]
      },
      {
       "output_type": "stream",
       "stream": "stdout",
       "text": [
        "\n",
        "\u5c3c\u5c14\u5ef7\u6839\u827a\u672f\u7597\u6cd5\u5e94\u7528\u6280\u672f\u5927\u5b66"
       ]
      },
      {
       "output_type": "stream",
       "stream": "stdout",
       "text": [
        "\n",
        "\u5ba4\u5170\u5de5\u4e1a\u5927\u5b66\t                \u00a0Muroran Institute of Technology"
       ]
      },
      {
       "output_type": "stream",
       "stream": "stdout",
       "text": [
        "\n",
        "\u5149\u5dde\u5973\u5b50\u5927\u5b66\t                \u00a0Kwangju Women\u2019s University"
       ]
      },
      {
       "output_type": "stream",
       "stream": "stdout",
       "text": [
        "\n",
        "\u5357\u6606\u58eb\u5170\u5927\u5b66\t                \u00a0University of Southern Queensland"
       ]
      },
      {
       "output_type": "stream",
       "stream": "stdout",
       "text": [
        "\n",
        "\u6d1b\u6797\u56fd\u7acb\u7efc\u5408\u7406\u5de5\u5b66\u9662"
       ]
      },
      {
       "output_type": "stream",
       "stream": "stdout",
       "text": [
        "\n",
        "\u6c5f\u6e90\u5927\u5b66\u4e09\u965f\u5206\u6821\t                \u00a0Samchok National University"
       ]
      },
      {
       "output_type": "stream",
       "stream": "stdout",
       "text": [
        "\n",
        "\u8c22\u91cc\u4e39\u6280\u672f\u5b66\u9662\t                \u00a0Sheridan College Institute of Technology and Advanced Learning"
       ]
      },
      {
       "output_type": "stream",
       "stream": "stdout",
       "text": [
        "\n",
        "\u56fe\u5170\u5927\u5b66(\u65b0\u5965\u5c14\u826f)\t                \u00a0Tulane University (New Orleans)"
       ]
      },
      {
       "output_type": "stream",
       "stream": "stdout",
       "text": [
        "\n",
        "\u963f\u5c14\u592b\u5c14\u56fd\u7acb\u517d\u533b\u5b66\u6821"
       ]
      },
      {
       "output_type": "stream",
       "stream": "stdout",
       "text": [
        "\n",
        "\u540d\u53e4\u5c4b\u9020\u5f62\u827a\u672f\u5927\u5b66\t                \u00a0Nagoya Zokei University"
       ]
      },
      {
       "output_type": "stream",
       "stream": "stdout",
       "text": [
        "\n",
        "\u65b0\u897f\u5170\u620f\u5267\u5b66\u9662\t                \u00a0Te Kura Toi Whakaari O Aotearoa: New Zealand Drama School"
       ]
      },
      {
       "output_type": "stream",
       "stream": "stdout",
       "text": [
        "\n",
        "\u5317\u9646\u5927\u5b66\t                \u00a0Hokuriku University"
       ]
      },
      {
       "output_type": "stream",
       "stream": "stdout",
       "text": [
        "\n",
        "\u820d\u5e03\u9c81\u514b\u5b66\u9662"
       ]
      },
      {
       "output_type": "stream",
       "stream": "stdout",
       "text": [
        "\n",
        "\u5f17\u5409\u5c3c\u4e9a\u8054\u90a6\u5927\u5b66(\u91cc\u58eb\u6ee1)\t                \u00a0Virginia Commonwealth University (Richmond)"
       ]
      },
      {
       "output_type": "stream",
       "stream": "stdout",
       "text": [
        "\n",
        "\u9a6c\u51ef\u7279\u5927\u5b66(\u5bc6\u5c14\u6c83\u57fa)\t                \u00a0Marquette University (Milwaukee)"
       ]
      },
      {
       "output_type": "stream",
       "stream": "stdout",
       "text": [
        "\n",
        "\u5e03\u4f26\u745e\u514b/\u6c83\u5c14\u82ac\u6bd4\u7279\u5e94\u7528\u6280\u672f\u5927\u5b66"
       ]
      },
      {
       "output_type": "stream",
       "stream": "stdout",
       "text": [
        "\n",
        "\u4f1a\u6d25\u5927\u5b66\t                \u00a0University of Aizu"
       ]
      },
      {
       "output_type": "stream",
       "stream": "stdout",
       "text": [
        "\n",
        "\u6d66\u9879\u5de5\u79d1\u5927\u5b66\t                \u00a0Pohang University of Science and Technology"
       ]
      },
      {
       "output_type": "stream",
       "stream": "stdout",
       "text": [
        "\n",
        "\u5965\u5fb7\u6cb3\u7554\u6cd5\u5170\u514b\u798f\u6b27\u6d32\u5927\u5b66"
       ]
      },
      {
       "output_type": "stream",
       "stream": "stdout",
       "text": [
        "\n",
        "\u5723\u83ab\u5c3c\u5361\u5b66\u9662(\u5723\u83ab\u5c3c\u5361)\t                \u00a0Santa Monica College (Santa Monica)"
       ]
      },
      {
       "output_type": "stream",
       "stream": "stdout",
       "text": [
        "\n",
        "\u9611\u52a0\u62c9\u5b66\u9662\t                \u00a0Langara College"
       ]
      },
      {
       "output_type": "stream",
       "stream": "stdout",
       "text": [
        "\n",
        "\u4e1c\u65b9\u548c\u975e\u6d32\u7814\u7a76\u5b66\u9662(\u4e5f\u79f0\u4e9a\u975e\u7814\u7a76\u5b66\u9662)\t                \u00a0School of Oriental and African Studies"
       ]
      },
      {
       "output_type": "stream",
       "stream": "stdout",
       "text": [
        "\n",
        "\u6717\u6c83\u5fb7\u5927\u5b66(\u6cd5\u59c6\u7ef4\u5c14)\t                \u00a0Longwood University (Farmville)"
       ]
      },
      {
       "output_type": "stream",
       "stream": "stdout",
       "text": [
        "\n",
        "\u56fd\u9645\u592a\u5e73\u6d0b\u5b66\u9662\t                \u00a0International Pacific College, New Zealand"
       ]
      },
      {
       "output_type": "stream",
       "stream": "stdout",
       "text": [
        "\n",
        "\u5723\u5e15\u7279\u91cc\u514b\u56fd\u9645\u5b66\u9662\uff08\u73b0\u540d\uff1a\u5723\u5e15\u7279\u91cc\u514b\u4f26\u6566\u5b66\u9662\uff09\t                \u00a0St Patrick's International College (Now: St. Patrick's London College)"
       ]
      },
      {
       "output_type": "stream",
       "stream": "stdout",
       "text": [
        "\n",
        "\u4e2d\u963f\u80af\u8272\u5927\u5b66(\u5eb7\u5a01)\t                \u00a0University of Central Arkansas (Conway)"
       ]
      },
      {
       "output_type": "stream",
       "stream": "stdout",
       "text": [
        "\n",
        "\u535a\u58eb\u5c71\u6280\u672f\u4e0e\u7ee7\u7eed\u6559\u80b2\u5b66\u9662\t                \u00a0Box Hill Institute of TAFE"
       ]
      },
      {
       "output_type": "stream",
       "stream": "stdout",
       "text": [
        "\n",
        "\u56fd\u738b\u82f1\u8bed\u5b66\u6821\u4f2f\u6069\u8305\u65af\u6821\u533a\t                \u00a0King's School of English, Bournemouth (incorporating King's Junior School)"
       ]
      },
      {
       "output_type": "stream",
       "stream": "stdout",
       "text": [
        "\n",
        "\u91cc\u5c14\u4e8c\u5927"
       ]
      },
      {
       "output_type": "stream",
       "stream": "stdout",
       "text": [
        "\n",
        "\u9c8d\u5c14\u5dde\u7acb\u5927\u5b66(\u66fc\u897f)\t                \u00a0Ball State University (Muncie)"
       ]
      },
      {
       "output_type": "stream",
       "stream": "stdout",
       "text": [
        "\n",
        "\u897f\u65b0\u82f1\u683c\u5170\u5b66\u9662(\u6625\u7530)\t                \u00a0Western New England College (Springfield)"
       ]
      },
      {
       "output_type": "stream",
       "stream": "stdout",
       "text": [
        "\n",
        "\u65b0\u82f1\u683c\u5170\u5927\u5b66\t                \u00a0The University of New England"
       ]
      },
      {
       "output_type": "stream",
       "stream": "stdout",
       "text": [
        "\n",
        "\u827a\u672f\u5927\u5b66\t                \u00a0Silpakorn University"
       ]
      },
      {
       "output_type": "stream",
       "stream": "stdout",
       "text": [
        "\n",
        "\u4e09\u80b2\u5927\u5b66\t                \u00a0Sahmyook University"
       ]
      },
      {
       "output_type": "stream",
       "stream": "stdout",
       "text": [
        "\n",
        "\u8499\u7279\u5229\u5c14\u7efc\u5408\u7406\u5de5\u5b66\u6821"
       ]
      },
      {
       "output_type": "stream",
       "stream": "stdout",
       "text": [
        "\n",
        "\u8d39\u57ce\u827a\u672f\u5927\u5b66 (\u8d39\u57ce)\t                \u00a0University of the Arts (Philadelphia)"
       ]
      },
      {
       "output_type": "stream",
       "stream": "stdout",
       "text": [
        "\n",
        "\u5357\u7f05\u56e0\u5927\u5b66(\u6ce2\u7279\u5170)\t                \u00a0University of Southern Maine (Portland)"
       ]
      },
      {
       "output_type": "stream",
       "stream": "stdout",
       "text": [
        "\n",
        "\u79d1\u9686\u5a92\u4f53\u827a\u672f\u5b66\u9662"
       ]
      },
      {
       "output_type": "stream",
       "stream": "stdout",
       "text": [
        "\n",
        "\u5e38\u78d0\u5927\u5b66\t                \u00a0Tokiwa University"
       ]
      },
      {
       "output_type": "stream",
       "stream": "stdout",
       "text": [
        "\n",
        "\u5723\u514b\u83b1\u5c14\u5e94\u7528\u827a\u672f\u53ca\u6280\u672f\u5b66\u9662\t                \u00a0St. Clair College of Applied Arts and Technology"
       ]
      },
      {
       "output_type": "stream",
       "stream": "stdout",
       "text": [
        "\n",
        "\u62c9\u74e6\u5c14\u5927\u5b66"
       ]
      },
      {
       "output_type": "stream",
       "stream": "stdout",
       "text": [
        "\n",
        "\u83b1\u65af\u5229\u5927\u5b66(\u5251\u6865)\t                \u00a0Lesley University (Cambridge)"
       ]
      },
      {
       "output_type": "stream",
       "stream": "stdout",
       "text": [
        "\n",
        "\u5723\u82ad\u82ad\u62c9\u57ce\u5e02\u5b66\u9662(\u5723\u82ad\u82ad\u62c9)\t                \u00a0Santa Barbara City College (Santa Barbara)"
       ]
      },
      {
       "output_type": "stream",
       "stream": "stdout",
       "text": [
        "\n",
        "\u5723\u4fdd\u7f57\u5b66\u9662(\u5723\u4fdd\u7f57)\t                \u00a0Saint Paul College-A Community & Technical College (Saint Paul)"
       ]
      },
      {
       "output_type": "stream",
       "stream": "stdout",
       "text": [
        "\n",
        "\u8428\u74e6\u5927\u5b66(\u5c1a\u8d1d\u91cc)"
       ]
      },
      {
       "output_type": "stream",
       "stream": "stdout",
       "text": [
        "\n",
        "\u9752\u5c71\u5b66\u9662\u5927\u5b66\t                \u00a0Aoyama Gakuin University"
       ]
      },
      {
       "output_type": "stream",
       "stream": "stdout",
       "text": [
        "\n",
        "\u7ebd\u7ea6\u57ce\u5e02\u5927\u5b66\u56fd\u738b\u533a\u793e\u533a\u5b66\u9662(\u5e03\u9c81\u514b\u6797)\t                \u00a0CUNY - Kingsborough Community College (Brooklyn)"
       ]
      },
      {
       "output_type": "stream",
       "stream": "stdout",
       "text": [
        "\n",
        "\u52b3\u897f\u8328\u5e94\u7528\u6280\u672f\u5927\u5b66"
       ]
      },
      {
       "output_type": "stream",
       "stream": "stdout",
       "text": [
        "\n",
        "\u65b0\u6cfb\u5927\u5b66\t                \u00a0Niigata University"
       ]
      },
      {
       "output_type": "stream",
       "stream": "stdout",
       "text": [
        "\n",
        "\u5bbe\u5dde\u5e03\u9c81\u59c6\u65af\u5821\u5927\u5b66(\u5e03\u9c81\u65af\u5821)\t                \u00a0Bloomsburg University of Pennsylvania (Bloomsburg)"
       ]
      },
      {
       "output_type": "stream",
       "stream": "stdout",
       "text": [
        "\n",
        "\u582a\u57f9\u62c9\u7406\u5de5\u5b66\u9662\t                \u00a0Canberra Institute of Technology"
       ]
      },
      {
       "ename": "KeyboardInterrupt",
       "evalue": "",
       "output_type": "pyerr",
       "traceback": [
        "\u001b[1;31m---------------------------------------------------------------------------\u001b[0m\n\u001b[1;31mKeyboardInterrupt\u001b[0m                         Traceback (most recent call last)",
        "\u001b[1;32m<ipython-input-31-efa3587dcbd8>\u001b[0m in \u001b[0;36m<module>\u001b[1;34m()\u001b[0m\n\u001b[0;32m     12\u001b[0m         \u001b[0murl\u001b[0m \u001b[1;33m=\u001b[0m \u001b[0mrow\u001b[0m\u001b[1;33m.\u001b[0m\u001b[0mfind\u001b[0m\u001b[1;33m(\u001b[0m\u001b[1;34m'a'\u001b[0m\u001b[1;33m,\u001b[0m\u001b[0mattrs\u001b[0m\u001b[1;33m=\u001b[0m\u001b[1;33m{\u001b[0m\u001b[1;34m'target'\u001b[0m\u001b[1;33m:\u001b[0m\u001b[1;34m\"_blank\"\u001b[0m\u001b[1;33m}\u001b[0m\u001b[1;33m)\u001b[0m\u001b[1;33m.\u001b[0m\u001b[0mget\u001b[0m\u001b[1;33m(\u001b[0m\u001b[1;34m'href'\u001b[0m\u001b[1;33m)\u001b[0m\u001b[1;33m\u001b[0m\u001b[0m\n\u001b[0;32m     13\u001b[0m \u001b[1;31m#         print url\u001b[0m\u001b[1;33m\u001b[0m\u001b[1;33m\u001b[0m\u001b[0m\n\u001b[1;32m---> 14\u001b[1;33m         \u001b[0mpage\u001b[0m\u001b[1;33m=\u001b[0m\u001b[0murllib2\u001b[0m\u001b[1;33m.\u001b[0m\u001b[0murlopen\u001b[0m\u001b[1;33m(\u001b[0m\u001b[0murl\u001b[0m\u001b[1;33m)\u001b[0m\u001b[1;33m\u001b[0m\u001b[0m\n\u001b[0m\u001b[0;32m     15\u001b[0m         \u001b[0mesoup\u001b[0m \u001b[1;33m=\u001b[0m \u001b[0mBeautifulSoup\u001b[0m\u001b[1;33m(\u001b[0m\u001b[0mpage\u001b[0m\u001b[1;33m.\u001b[0m\u001b[0mread\u001b[0m\u001b[1;33m(\u001b[0m\u001b[1;33m)\u001b[0m\u001b[1;33m)\u001b[0m\u001b[1;33m\u001b[0m\u001b[0m\n\u001b[0;32m     16\u001b[0m         \u001b[0mename\u001b[0m \u001b[1;33m=\u001b[0m \u001b[0mesoup\u001b[0m\u001b[1;33m.\u001b[0m\u001b[0mfind\u001b[0m\u001b[1;33m(\u001b[0m\u001b[1;34m'table'\u001b[0m\u001b[1;33m,\u001b[0m\u001b[0mattrs\u001b[0m\u001b[1;33m=\u001b[0m\u001b[1;33m{\u001b[0m\u001b[1;34m'width'\u001b[0m\u001b[1;33m:\u001b[0m\u001b[1;34m\"98%\"\u001b[0m\u001b[1;33m}\u001b[0m\u001b[1;33m)\u001b[0m\u001b[1;33m.\u001b[0m\u001b[0mtext\u001b[0m\u001b[1;33m\u001b[0m\u001b[0m\n",
        "\u001b[1;32m/usr/lib/python2.7/urllib2.pyc\u001b[0m in \u001b[0;36murlopen\u001b[1;34m(url, data, timeout)\u001b[0m\n\u001b[0;32m    125\u001b[0m     \u001b[1;32mif\u001b[0m \u001b[0m_opener\u001b[0m \u001b[1;32mis\u001b[0m \u001b[0mNone\u001b[0m\u001b[1;33m:\u001b[0m\u001b[1;33m\u001b[0m\u001b[0m\n\u001b[0;32m    126\u001b[0m         \u001b[0m_opener\u001b[0m \u001b[1;33m=\u001b[0m \u001b[0mbuild_opener\u001b[0m\u001b[1;33m(\u001b[0m\u001b[1;33m)\u001b[0m\u001b[1;33m\u001b[0m\u001b[0m\n\u001b[1;32m--> 127\u001b[1;33m     \u001b[1;32mreturn\u001b[0m \u001b[0m_opener\u001b[0m\u001b[1;33m.\u001b[0m\u001b[0mopen\u001b[0m\u001b[1;33m(\u001b[0m\u001b[0murl\u001b[0m\u001b[1;33m,\u001b[0m \u001b[0mdata\u001b[0m\u001b[1;33m,\u001b[0m \u001b[0mtimeout\u001b[0m\u001b[1;33m)\u001b[0m\u001b[1;33m\u001b[0m\u001b[0m\n\u001b[0m\u001b[0;32m    128\u001b[0m \u001b[1;33m\u001b[0m\u001b[0m\n\u001b[0;32m    129\u001b[0m \u001b[1;32mdef\u001b[0m \u001b[0minstall_opener\u001b[0m\u001b[1;33m(\u001b[0m\u001b[0mopener\u001b[0m\u001b[1;33m)\u001b[0m\u001b[1;33m:\u001b[0m\u001b[1;33m\u001b[0m\u001b[0m\n",
        "\u001b[1;32m/usr/lib/python2.7/urllib2.pyc\u001b[0m in \u001b[0;36mopen\u001b[1;34m(self, fullurl, data, timeout)\u001b[0m\n\u001b[0;32m    402\u001b[0m             \u001b[0mreq\u001b[0m \u001b[1;33m=\u001b[0m \u001b[0mmeth\u001b[0m\u001b[1;33m(\u001b[0m\u001b[0mreq\u001b[0m\u001b[1;33m)\u001b[0m\u001b[1;33m\u001b[0m\u001b[0m\n\u001b[0;32m    403\u001b[0m \u001b[1;33m\u001b[0m\u001b[0m\n\u001b[1;32m--> 404\u001b[1;33m         \u001b[0mresponse\u001b[0m \u001b[1;33m=\u001b[0m \u001b[0mself\u001b[0m\u001b[1;33m.\u001b[0m\u001b[0m_open\u001b[0m\u001b[1;33m(\u001b[0m\u001b[0mreq\u001b[0m\u001b[1;33m,\u001b[0m \u001b[0mdata\u001b[0m\u001b[1;33m)\u001b[0m\u001b[1;33m\u001b[0m\u001b[0m\n\u001b[0m\u001b[0;32m    405\u001b[0m \u001b[1;33m\u001b[0m\u001b[0m\n\u001b[0;32m    406\u001b[0m         \u001b[1;31m# post-process response\u001b[0m\u001b[1;33m\u001b[0m\u001b[1;33m\u001b[0m\u001b[0m\n",
        "\u001b[1;32m/usr/lib/python2.7/urllib2.pyc\u001b[0m in \u001b[0;36m_open\u001b[1;34m(self, req, data)\u001b[0m\n\u001b[0;32m    420\u001b[0m         \u001b[0mprotocol\u001b[0m \u001b[1;33m=\u001b[0m \u001b[0mreq\u001b[0m\u001b[1;33m.\u001b[0m\u001b[0mget_type\u001b[0m\u001b[1;33m(\u001b[0m\u001b[1;33m)\u001b[0m\u001b[1;33m\u001b[0m\u001b[0m\n\u001b[0;32m    421\u001b[0m         result = self._call_chain(self.handle_open, protocol, protocol +\n\u001b[1;32m--> 422\u001b[1;33m                                   '_open', req)\n\u001b[0m\u001b[0;32m    423\u001b[0m         \u001b[1;32mif\u001b[0m \u001b[0mresult\u001b[0m\u001b[1;33m:\u001b[0m\u001b[1;33m\u001b[0m\u001b[0m\n\u001b[0;32m    424\u001b[0m             \u001b[1;32mreturn\u001b[0m \u001b[0mresult\u001b[0m\u001b[1;33m\u001b[0m\u001b[0m\n",
        "\u001b[1;32m/usr/lib/python2.7/urllib2.pyc\u001b[0m in \u001b[0;36m_call_chain\u001b[1;34m(self, chain, kind, meth_name, *args)\u001b[0m\n\u001b[0;32m    380\u001b[0m             \u001b[0mfunc\u001b[0m \u001b[1;33m=\u001b[0m \u001b[0mgetattr\u001b[0m\u001b[1;33m(\u001b[0m\u001b[0mhandler\u001b[0m\u001b[1;33m,\u001b[0m \u001b[0mmeth_name\u001b[0m\u001b[1;33m)\u001b[0m\u001b[1;33m\u001b[0m\u001b[0m\n\u001b[0;32m    381\u001b[0m \u001b[1;33m\u001b[0m\u001b[0m\n\u001b[1;32m--> 382\u001b[1;33m             \u001b[0mresult\u001b[0m \u001b[1;33m=\u001b[0m \u001b[0mfunc\u001b[0m\u001b[1;33m(\u001b[0m\u001b[1;33m*\u001b[0m\u001b[0margs\u001b[0m\u001b[1;33m)\u001b[0m\u001b[1;33m\u001b[0m\u001b[0m\n\u001b[0m\u001b[0;32m    383\u001b[0m             \u001b[1;32mif\u001b[0m \u001b[0mresult\u001b[0m \u001b[1;32mis\u001b[0m \u001b[1;32mnot\u001b[0m \u001b[0mNone\u001b[0m\u001b[1;33m:\u001b[0m\u001b[1;33m\u001b[0m\u001b[0m\n\u001b[0;32m    384\u001b[0m                 \u001b[1;32mreturn\u001b[0m \u001b[0mresult\u001b[0m\u001b[1;33m\u001b[0m\u001b[0m\n",
        "\u001b[1;32m/usr/lib/python2.7/urllib2.pyc\u001b[0m in \u001b[0;36mhttp_open\u001b[1;34m(self, req)\u001b[0m\n\u001b[0;32m   1212\u001b[0m \u001b[1;33m\u001b[0m\u001b[0m\n\u001b[0;32m   1213\u001b[0m     \u001b[1;32mdef\u001b[0m \u001b[0mhttp_open\u001b[0m\u001b[1;33m(\u001b[0m\u001b[0mself\u001b[0m\u001b[1;33m,\u001b[0m \u001b[0mreq\u001b[0m\u001b[1;33m)\u001b[0m\u001b[1;33m:\u001b[0m\u001b[1;33m\u001b[0m\u001b[0m\n\u001b[1;32m-> 1214\u001b[1;33m         \u001b[1;32mreturn\u001b[0m \u001b[0mself\u001b[0m\u001b[1;33m.\u001b[0m\u001b[0mdo_open\u001b[0m\u001b[1;33m(\u001b[0m\u001b[0mhttplib\u001b[0m\u001b[1;33m.\u001b[0m\u001b[0mHTTPConnection\u001b[0m\u001b[1;33m,\u001b[0m \u001b[0mreq\u001b[0m\u001b[1;33m)\u001b[0m\u001b[1;33m\u001b[0m\u001b[0m\n\u001b[0m\u001b[0;32m   1215\u001b[0m \u001b[1;33m\u001b[0m\u001b[0m\n\u001b[0;32m   1216\u001b[0m     \u001b[0mhttp_request\u001b[0m \u001b[1;33m=\u001b[0m \u001b[0mAbstractHTTPHandler\u001b[0m\u001b[1;33m.\u001b[0m\u001b[0mdo_request_\u001b[0m\u001b[1;33m\u001b[0m\u001b[0m\n",
        "\u001b[1;32m/usr/lib/python2.7/urllib2.pyc\u001b[0m in \u001b[0;36mdo_open\u001b[1;34m(self, http_class, req)\u001b[0m\n\u001b[0;32m   1185\u001b[0m         \u001b[1;32melse\u001b[0m\u001b[1;33m:\u001b[0m\u001b[1;33m\u001b[0m\u001b[0m\n\u001b[0;32m   1186\u001b[0m             \u001b[1;32mtry\u001b[0m\u001b[1;33m:\u001b[0m\u001b[1;33m\u001b[0m\u001b[0m\n\u001b[1;32m-> 1187\u001b[1;33m                 \u001b[0mr\u001b[0m \u001b[1;33m=\u001b[0m \u001b[0mh\u001b[0m\u001b[1;33m.\u001b[0m\u001b[0mgetresponse\u001b[0m\u001b[1;33m(\u001b[0m\u001b[0mbuffering\u001b[0m\u001b[1;33m=\u001b[0m\u001b[0mTrue\u001b[0m\u001b[1;33m)\u001b[0m\u001b[1;33m\u001b[0m\u001b[0m\n\u001b[0m\u001b[0;32m   1188\u001b[0m             \u001b[1;32mexcept\u001b[0m \u001b[0mTypeError\u001b[0m\u001b[1;33m:\u001b[0m \u001b[1;31m# buffering kw not supported\u001b[0m\u001b[1;33m\u001b[0m\u001b[0m\n\u001b[0;32m   1189\u001b[0m                 \u001b[0mr\u001b[0m \u001b[1;33m=\u001b[0m \u001b[0mh\u001b[0m\u001b[1;33m.\u001b[0m\u001b[0mgetresponse\u001b[0m\u001b[1;33m(\u001b[0m\u001b[1;33m)\u001b[0m\u001b[1;33m\u001b[0m\u001b[0m\n",
        "\u001b[1;32m/usr/lib/python2.7/httplib.pyc\u001b[0m in \u001b[0;36mgetresponse\u001b[1;34m(self, buffering)\u001b[0m\n\u001b[0;32m   1043\u001b[0m         \u001b[0mresponse\u001b[0m \u001b[1;33m=\u001b[0m \u001b[0mself\u001b[0m\u001b[1;33m.\u001b[0m\u001b[0mresponse_class\u001b[0m\u001b[1;33m(\u001b[0m\u001b[1;33m*\u001b[0m\u001b[0margs\u001b[0m\u001b[1;33m,\u001b[0m \u001b[1;33m**\u001b[0m\u001b[0mkwds\u001b[0m\u001b[1;33m)\u001b[0m\u001b[1;33m\u001b[0m\u001b[0m\n\u001b[0;32m   1044\u001b[0m \u001b[1;33m\u001b[0m\u001b[0m\n\u001b[1;32m-> 1045\u001b[1;33m         \u001b[0mresponse\u001b[0m\u001b[1;33m.\u001b[0m\u001b[0mbegin\u001b[0m\u001b[1;33m(\u001b[0m\u001b[1;33m)\u001b[0m\u001b[1;33m\u001b[0m\u001b[0m\n\u001b[0m\u001b[0;32m   1046\u001b[0m         \u001b[1;32massert\u001b[0m \u001b[0mresponse\u001b[0m\u001b[1;33m.\u001b[0m\u001b[0mwill_close\u001b[0m \u001b[1;33m!=\u001b[0m \u001b[0m_UNKNOWN\u001b[0m\u001b[1;33m\u001b[0m\u001b[0m\n\u001b[0;32m   1047\u001b[0m         \u001b[0mself\u001b[0m\u001b[1;33m.\u001b[0m\u001b[0m__state\u001b[0m \u001b[1;33m=\u001b[0m \u001b[0m_CS_IDLE\u001b[0m\u001b[1;33m\u001b[0m\u001b[0m\n",
        "\u001b[1;32m/usr/lib/python2.7/httplib.pyc\u001b[0m in \u001b[0;36mbegin\u001b[1;34m(self)\u001b[0m\n\u001b[0;32m    407\u001b[0m         \u001b[1;31m# read until we get a non-100 response\u001b[0m\u001b[1;33m\u001b[0m\u001b[1;33m\u001b[0m\u001b[0m\n\u001b[0;32m    408\u001b[0m         \u001b[1;32mwhile\u001b[0m \u001b[0mTrue\u001b[0m\u001b[1;33m:\u001b[0m\u001b[1;33m\u001b[0m\u001b[0m\n\u001b[1;32m--> 409\u001b[1;33m             \u001b[0mversion\u001b[0m\u001b[1;33m,\u001b[0m \u001b[0mstatus\u001b[0m\u001b[1;33m,\u001b[0m \u001b[0mreason\u001b[0m \u001b[1;33m=\u001b[0m \u001b[0mself\u001b[0m\u001b[1;33m.\u001b[0m\u001b[0m_read_status\u001b[0m\u001b[1;33m(\u001b[0m\u001b[1;33m)\u001b[0m\u001b[1;33m\u001b[0m\u001b[0m\n\u001b[0m\u001b[0;32m    410\u001b[0m             \u001b[1;32mif\u001b[0m \u001b[0mstatus\u001b[0m \u001b[1;33m!=\u001b[0m \u001b[0mCONTINUE\u001b[0m\u001b[1;33m:\u001b[0m\u001b[1;33m\u001b[0m\u001b[0m\n\u001b[0;32m    411\u001b[0m                 \u001b[1;32mbreak\u001b[0m\u001b[1;33m\u001b[0m\u001b[0m\n",
        "\u001b[1;32m/usr/lib/python2.7/httplib.pyc\u001b[0m in \u001b[0;36m_read_status\u001b[1;34m(self)\u001b[0m\n\u001b[0;32m    363\u001b[0m     \u001b[1;32mdef\u001b[0m \u001b[0m_read_status\u001b[0m\u001b[1;33m(\u001b[0m\u001b[0mself\u001b[0m\u001b[1;33m)\u001b[0m\u001b[1;33m:\u001b[0m\u001b[1;33m\u001b[0m\u001b[0m\n\u001b[0;32m    364\u001b[0m         \u001b[1;31m# Initialize with Simple-Response defaults\u001b[0m\u001b[1;33m\u001b[0m\u001b[1;33m\u001b[0m\u001b[0m\n\u001b[1;32m--> 365\u001b[1;33m         \u001b[0mline\u001b[0m \u001b[1;33m=\u001b[0m \u001b[0mself\u001b[0m\u001b[1;33m.\u001b[0m\u001b[0mfp\u001b[0m\u001b[1;33m.\u001b[0m\u001b[0mreadline\u001b[0m\u001b[1;33m(\u001b[0m\u001b[0m_MAXLINE\u001b[0m \u001b[1;33m+\u001b[0m \u001b[1;36m1\u001b[0m\u001b[1;33m)\u001b[0m\u001b[1;33m\u001b[0m\u001b[0m\n\u001b[0m\u001b[0;32m    366\u001b[0m         \u001b[1;32mif\u001b[0m \u001b[0mlen\u001b[0m\u001b[1;33m(\u001b[0m\u001b[0mline\u001b[0m\u001b[1;33m)\u001b[0m \u001b[1;33m>\u001b[0m \u001b[0m_MAXLINE\u001b[0m\u001b[1;33m:\u001b[0m\u001b[1;33m\u001b[0m\u001b[0m\n\u001b[0;32m    367\u001b[0m             \u001b[1;32mraise\u001b[0m \u001b[0mLineTooLong\u001b[0m\u001b[1;33m(\u001b[0m\u001b[1;34m\"header line\"\u001b[0m\u001b[1;33m)\u001b[0m\u001b[1;33m\u001b[0m\u001b[0m\n",
        "\u001b[1;32m/usr/lib/python2.7/socket.pyc\u001b[0m in \u001b[0;36mreadline\u001b[1;34m(self, size)\u001b[0m\n\u001b[0;32m    474\u001b[0m             \u001b[1;32mwhile\u001b[0m \u001b[0mTrue\u001b[0m\u001b[1;33m:\u001b[0m\u001b[1;33m\u001b[0m\u001b[0m\n\u001b[0;32m    475\u001b[0m                 \u001b[1;32mtry\u001b[0m\u001b[1;33m:\u001b[0m\u001b[1;33m\u001b[0m\u001b[0m\n\u001b[1;32m--> 476\u001b[1;33m                     \u001b[0mdata\u001b[0m \u001b[1;33m=\u001b[0m \u001b[0mself\u001b[0m\u001b[1;33m.\u001b[0m\u001b[0m_sock\u001b[0m\u001b[1;33m.\u001b[0m\u001b[0mrecv\u001b[0m\u001b[1;33m(\u001b[0m\u001b[0mself\u001b[0m\u001b[1;33m.\u001b[0m\u001b[0m_rbufsize\u001b[0m\u001b[1;33m)\u001b[0m\u001b[1;33m\u001b[0m\u001b[0m\n\u001b[0m\u001b[0;32m    477\u001b[0m                 \u001b[1;32mexcept\u001b[0m \u001b[0merror\u001b[0m\u001b[1;33m,\u001b[0m \u001b[0me\u001b[0m\u001b[1;33m:\u001b[0m\u001b[1;33m\u001b[0m\u001b[0m\n\u001b[0;32m    478\u001b[0m                     \u001b[1;32mif\u001b[0m \u001b[0me\u001b[0m\u001b[1;33m.\u001b[0m\u001b[0margs\u001b[0m\u001b[1;33m[\u001b[0m\u001b[1;36m0\u001b[0m\u001b[1;33m]\u001b[0m \u001b[1;33m==\u001b[0m \u001b[0mEINTR\u001b[0m\u001b[1;33m:\u001b[0m\u001b[1;33m\u001b[0m\u001b[0m\n",
        "\u001b[1;31mKeyboardInterrupt\u001b[0m: "
       ]
      },
      {
       "output_type": "stream",
       "stream": "stdout",
       "text": [
        "\n"
       ]
      }
     ],
     "prompt_number": 31
    },
    {
     "cell_type": "code",
     "collapsed": false,
     "input": [
      "1147/20"
     ],
     "language": "python",
     "metadata": {},
     "outputs": [
      {
       "metadata": {},
       "output_type": "pyout",
       "prompt_number": 32,
       "text": [
        "57"
       ]
      }
     ],
     "prompt_number": 32
    },
    {
     "cell_type": "code",
     "collapsed": false,
     "input": [],
     "language": "python",
     "metadata": {},
     "outputs": []
    }
   ],
   "metadata": {}
  }
 ]
}