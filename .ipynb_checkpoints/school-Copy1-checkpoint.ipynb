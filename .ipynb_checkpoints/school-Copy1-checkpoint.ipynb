{
 "metadata": {
  "name": ""
 },
 "nbformat": 3,
 "nbformat_minor": 0,
 "worksheets": [
  {
   "cells": [
    {
     "cell_type": "code",
     "collapsed": false,
     "input": [
      "from bs4 import BeautifulSoup\n",
      "import urllib2\n",
      "import re\n",
      "# import sys\n",
      "# reload(sys)\n",
      "# sys.setdefaultencoding('utf-8')\n",
      "import pandas as pd\n",
      "from selenium import webdriver\n",
      "from selenium.webdriver.common.by import By\n",
      "from selenium.webdriver.common.keys import Keys\n",
      "from selenium.webdriver.support.ui import Select\n",
      "from selenium.common.exceptions import *"
     ],
     "language": "python",
     "metadata": {},
     "outputs": [],
     "prompt_number": 1
    },
    {
     "cell_type": "code",
     "collapsed": false,
     "input": [
      "baseurl = \"http://kaoshi.edu.sina.com.cn/abroad/list.php?country=&type=&zhinanflag=&collegename=&page=\""
     ],
     "language": "python",
     "metadata": {},
     "outputs": [],
     "prompt_number": 2
    },
    {
     "cell_type": "code",
     "collapsed": false,
     "input": [
      "def catch_txt(url):\n",
      "    print 'page in: %s' % str(url + 1)\n",
      "    url = baseurl + str(url + 1)\n",
      "    page = urllib2.urlopen(url)\n",
      "    soup = BeautifulSoup(page.read())\n",
      "    table = soup.find('table', attrs={'bgcolor': \"#ABBEE6\"})\n",
      "    rows = table.findAll(lambda tag: tag.name == 'tr')\n",
      "    return enumerate(rows[1:])"
     ],
     "language": "python",
     "metadata": {},
     "outputs": [],
     "prompt_number": 3
    },
    {
     "cell_type": "code",
     "collapsed": false,
     "input": [
      "def contactFrame(url):\n",
      "    page = urllib2.urlopen(url)\n",
      "    esoup = BeautifulSoup(page.read())\n",
      "    ename = esoup.find('table', attrs={'width': \"98%\"}).text\n",
      "    txt = ename.strip().split('\\n')\n",
      "    if len(txt) == 1:\n",
      "        driver = webdriver.Chrome('./chromedriver')\n",
      "        driver.implicitly_wait(30)\n",
      "        driver.get(url)\n",
      "        try:\n",
      "            driver.switch_to_frame('contactFrame')\n",
      "            name = driver.find_element_by_xpath('/html/body/div[1]/div/div/div[2]/h4')\n",
      "        except NoSuchFrameException or NoSuchElementException:\n",
      "            driver.quit()\n",
      "            return 'None'\n",
      "        else:\n",
      "            txt = name.text.strip().split('\\n')\n",
      "#             driver.close()\n",
      "            driver.quit()\n",
      "            return txt[-1].strip() if len(txt) > 1 else 'None'\n",
      "    else:\n",
      "        return txt[-1].strip()"
     ],
     "language": "python",
     "metadata": {},
     "outputs": [],
     "prompt_number": 4
    },
    {
     "cell_type": "code",
     "collapsed": false,
     "input": [
      "def gettext(idx, row):\n",
      "    itemid = str(page * 20 + idx + 1)\n",
      "    schtext = row.text.strip().split('\\n')\n",
      "    url = row.find('a', attrs={'target': \"_blank\"}).get('href')\n",
      "    nameoutput = contactFrame(url)\n",
      "    output = [itemid,nameoutput] + schtext[:-1] + [url]\n",
      "    return output"
     ],
     "language": "python",
     "metadata": {},
     "outputs": [],
     "prompt_number": 5
    },
    {
     "cell_type": "code",
     "collapsed": false,
     "input": [
      "if __name__ == '__main__':\n",
      "    temp = []\n",
      "    for page in range(100,200):\n",
      "        for idx,row in catch_txt(page):\n",
      "            schoolinfo = gettext(idx, row)\n",
      "            print schoolinfo[0]\n",
      "            temp.append(schoolinfo)\n",
      "    df = pd.DataFrame(temp,columns=['id',u'\u9662\u6821\u540d\u79f0',u'\u4e2d\u6587\u540d\u79f0',u'\u56fd\u5bb6',u'\u57ce\u5e02',u'\u7c7b\u522b','url'])\n",
      "    df.to_excel(u'\u56fd\u5916\u9ad8\u68211.xlsx', u'\u56fd\u5916\u9ad8\u6821', index=False)"
     ],
     "language": "python",
     "metadata": {},
     "outputs": [
      {
       "output_type": "stream",
       "stream": "stdout",
       "text": [
        "page in: 1\n",
        "['1', u'Harvard University (Cambridge)', u'\\u54c8\\u4f5b\\u5927\\u5b66(\\u5251\\u6865)', u'\\u7f8e\\u56fd', u'Cambridge,Boston', u'\\u79c1\\u7acb', 'http://kaoshi.edu.sina.com.cn/abroad/13627.html']"
       ]
      },
      {
       "output_type": "stream",
       "stream": "stdout",
       "text": [
        "\n",
        "['2', u'Webster University (St. Louis)', u'\\u97e6\\u4f2f\\u65af\\u7279\\u5927\\u5b66(\\u5723\\u8def\\u6613\\u65af)', u'\\u7f8e\\u56fd', u'St. Louis', u'\\u79c1\\u7acb', 'http://kaoshi.edu.sina.com.cn/abroad/14156.html']"
       ]
      },
      {
       "output_type": "stream",
       "stream": "stdout",
       "text": [
        "\n",
        "['3', u'University of Toronto', u'\\u591a\\u4f26\\u591a\\u5927\\u5b66', u'\\u52a0\\u62ff\\u5927', u'Toronto', u'\\u516c\\u7acb', 'http://kaoshi.edu.sina.com.cn/abroad/16686.html']"
       ]
      },
      {
       "output_type": "stream",
       "stream": "stdout",
       "text": [
        "\n",
        "['4', u'The University of Sydney', u'\\u6089\\u5c3c\\u5927\\u5b66', u'\\u6fb3\\u5927\\u5229\\u4e9a', u'Sydney', u'\\u516c\\u7acb', 'http://kaoshi.edu.sina.com.cn/abroad/17199.html']"
       ]
      },
      {
       "output_type": "stream",
       "stream": "stdout",
       "text": [
        "\n",
        "['5', u'Nanyang Technological University', u'\\u5357\\u6d0b\\u7406\\u5de5\\u5927\\u5b66', u'\\u65b0\\u52a0\\u5761', u'Singapore', u'\\u516c\\u7acb', 'http://kaoshi.edu.sina.com.cn/abroad/19073.html']"
       ]
      },
      {
       "output_type": "stream",
       "stream": "stdout",
       "text": [
        "\n",
        "['6', u'Chongju National University of Education', u'\\u6e05\\u5dde\\u56fd\\u7acb\\u6559\\u80b2\\u5927\\u5b66', u'\\u97e9\\u56fd', u'\\uccad\\uc8fc\\uc2dc', u'\\u56fd\\u7acb', 'http://kaoshi.edu.sina.com.cn/abroad/20434.html']"
       ]
      },
      {
       "output_type": "stream",
       "stream": "stdout",
       "text": [
        "\n",
        "['7', u'The University of Melbourne', u'\\u58a8\\u5c14\\u672c\\u5927\\u5b66', u'\\u6fb3\\u5927\\u5229\\u4e9a', u'Parkville', u'\\u516c\\u7acb', 'http://kaoshi.edu.sina.com.cn/abroad/17193.html']"
       ]
      },
      {
       "output_type": "stream",
       "stream": "stdout",
       "text": [
        "\n",
        "['8', u'Massachusetts Institute of Technology (Cambridge)', u'\\u9ebb\\u7701\\u7406\\u5de5\\u5b66\\u9662(\\u5251\\u6865)', u'\\u7f8e\\u56fd', u'Cambridge', u'\\u79c1\\u7acb', 'http://kaoshi.edu.sina.com.cn/abroad/13659.html']"
       ]
      },
      {
       "output_type": "stream",
       "stream": "stdout",
       "text": [
        "\n",
        "['9', u'National University of Singapore', u'\\u65b0\\u52a0\\u5761\\u56fd\\u7acb\\u5927\\u5b66', u'\\u65b0\\u52a0\\u5761', u'Kent Ridge', u'\\u516c\\u7acb', 'http://kaoshi.edu.sina.com.cn/abroad/19072.html']"
       ]
      },
      {
       "output_type": "stream",
       "stream": "stdout",
       "text": [
        "\n",
        "['10', u'Seoul National University of Education', u'\\u9996\\u5c14\\u6559\\u80b2\\u5927\\u5b66', u'\\u97e9\\u56fd', u'\\uc11c\\uc6b8\\uc2dc', u'\\u56fd\\u7acb', 'http://kaoshi.edu.sina.com.cn/abroad/19437.html']"
       ]
      },
      {
       "output_type": "stream",
       "stream": "stdout",
       "text": [
        "\n",
        "['11', u'University of Nottingham', u'\\u8bfa\\u4e01\\u6c49\\u5927\\u5b66', u'\\u82f1\\u56fd', u'Nottingham', u'\\u516c\\u7acb', 'http://kaoshi.edu.sina.com.cn/abroad/20229.html']"
       ]
      },
      {
       "output_type": "stream",
       "stream": "stdout",
       "text": [
        "\n",
        "['12', u'University of Southern California (Los Angeles)', u'\\u5357\\u52a0\\u5dde\\u5927\\u5b66(\\u6d1b\\u6749\\u77f6)', u'\\u7f8e\\u56fd', u'Los Angeles', u'\\u79c1\\u7acb', 'http://kaoshi.edu.sina.com.cn/abroad/12043.html']"
       ]
      },
      {
       "output_type": "stream",
       "stream": "stdout",
       "text": [
        "\n",
        "['13', u'The University of Queensland', u'\\u6606\\u58eb\\u5170\\u5927\\u5b66', u'\\u6fb3\\u5927\\u5229\\u4e9a', u'St Lucia , Ipswich , Gatton', u'\\u516c\\u7acb', 'http://kaoshi.edu.sina.com.cn/abroad/17198.html']"
       ]
      },
      {
       "output_type": "stream",
       "stream": "stdout",
       "text": [
        "\n",
        "['14', u'McMaster University', u'\\u9ea6\\u514b\\u9a6c\\u65af\\u7279\\u5927\\u5b66', u'\\u52a0\\u62ff\\u5927', u'Hamilton', u'\\u516c\\u7acb', 'http://kaoshi.edu.sina.com.cn/abroad/16677.html']"
       ]
      },
      {
       "output_type": "stream",
       "stream": "stdout",
       "text": [
        "\n",
        "['15', u'University of California, Berkeley (Berkeley)', u'\\u52a0\\u5dde\\u5927\\u5b66\\u4f2f\\u514b\\u5229\\u5206\\u6821(\\u4f2f\\u514b\\u5229)', u'\\u7f8e\\u56fd', u'Berkeley', u'\\u516c\\u7acb', 'http://kaoshi.edu.sina.com.cn/abroad/12029.html']"
       ]
      },
      {
       "output_type": "stream",
       "stream": "stdout",
       "text": [
        "\n",
        "['16', u'University of Waterloo', u'\\u6ed1\\u94c1\\u5362\\u5927\\u5b66', u'\\u52a0\\u62ff\\u5927', u'Waterloo', u'\\u516c\\u7acb', 'http://kaoshi.edu.sina.com.cn/abroad/16688.html']"
       ]
      },
      {
       "output_type": "stream",
       "stream": "stdout",
       "text": [
        "\n",
        "['17', u'Kyoto University', u'\\u4eac\\u90fd\\u5927\\u5b66', u'\\u65e5\\u672c', u'\\u4eac\\u90fd\\u5e02', u'\\u56fd\\u7acb', 'http://kaoshi.edu.sina.com.cn/abroad/18172.html']"
       ]
      },
      {
       "output_type": "stream",
       "stream": "stdout",
       "text": [
        "\n",
        "['18', u'University of Victoria', u'\\u7ef4\\u591a\\u5229\\u4e9a\\u5927\\u5b66', u'\\u52a0\\u62ff\\u5927', u'Victoria', u'\\u516c\\u7acb', 'http://kaoshi.edu.sina.com.cn/abroad/16655.html']"
       ]
      },
      {
       "output_type": "stream",
       "stream": "stdout",
       "text": [
        "\n",
        "['19', u'The Pennsylvania State University (University Park)', u'\\u5bbe\\u5915\\u6cd5\\u5c3c\\u4e9a\\u5dde\\u7acb\\u5927\\u5b66(\\u5927\\u5b66\\u56ed)', u'\\u7f8e\\u56fd', u'University Park', u'\\u516c\\u7acb', 'http://kaoshi.edu.sina.com.cn/abroad/15487.html']"
       ]
      },
      {
       "output_type": "stream",
       "stream": "stdout",
       "text": [
        "\n",
        "['20', u'University of British Columbia', u'\\u82f1\\u5c5e\\u54e5\\u4f26\\u6bd4\\u4e9a\\u5927\\u5b66', u'\\u52a0\\u62ff\\u5927', u'Vancouver', u'\\u516c\\u7acb', 'http://kaoshi.edu.sina.com.cn/abroad/16653.html']"
       ]
      },
      {
       "output_type": "stream",
       "stream": "stdout",
       "text": [
        "\n",
        "page in: 2\n",
        "['21', u'University of Illinois at Chicago (Chicago)', u'\\u4f0a\\u5229\\u8bfa\\u65af\\u5927\\u5b66\\u829d\\u52a0\\u54e5\\u5206\\u6821(\\u829d\\u52a0\\u54e5)', u'\\u7f8e\\u56fd', u'Chicago', u'\\u516c\\u7acb', 'http://kaoshi.edu.sina.com.cn/abroad/12946.html']"
       ]
      },
      {
       "output_type": "stream",
       "stream": "stdout",
       "text": [
        "\n",
        "['22', u'Columbia University (New York)', u'\\u54e5\\u4f26\\u6bd4\\u4e9a\\u5927\\u5b66(\\u7ebd\\u7ea6)', u'\\u7f8e\\u56fd', u'New York', u'\\u79c1\\u7acb', 'http://kaoshi.edu.sina.com.cn/abroad/14507.html']"
       ]
      },
      {
       "output_type": "stream",
       "stream": "stdout",
       "text": [
        "\n",
        "['23', u'University of Edinburgh', u'\\u7231\\u4e01\\u5821\\u5927\\u5b66', u'\\u82f1\\u56fd', u'Edinburgh', u'\\u516c\\u7acb', 'http://kaoshi.edu.sina.com.cn/abroad/17146.html']"
       ]
      },
      {
       "output_type": "stream",
       "stream": "stdout",
       "text": [
        "\n",
        "['24', u'The University of Tokyo', u'\\u4e1c\\u4eac\\u5927\\u5b66', u'\\u65e5\\u672c', u'\\u6587\\u4eac\\u533a', u'\\u56fd\\u7acb', 'http://kaoshi.edu.sina.com.cn/abroad/18137.html']"
       ]
      },
      {
       "output_type": "stream",
       "stream": "stdout",
       "text": [
        "\n",
        "['25', u'University of Cambridge', u'\\u5251\\u6865\\u5927\\u5b66', u'\\u82f1\\u56fd', u'Cambridge', u'\\u516c\\u7acb', 'http://kaoshi.edu.sina.com.cn/abroad/20173.html']"
       ]
      },
      {
       "output_type": "stream",
       "stream": "stdout",
       "text": [
        "\n",
        "['26', u'The University of New South Wales', u'\\u65b0\\u5357\\u5a01\\u5c14\\u58eb\\u5927\\u5b66', u'\\u6fb3\\u5927\\u5229\\u4e9a', u'Kensington', u'\\u516c\\u7acb', 'http://kaoshi.edu.sina.com.cn/abroad/17195.html']"
       ]
      },
      {
       "output_type": "stream",
       "stream": "stdout",
       "text": [
        "\n",
        "['27', u'The Australian National University', u'\\u6fb3\\u5927\\u5229\\u4e9a\\u56fd\\u7acb\\u5927\\u5b66', u'\\u6fb3\\u5927\\u5229\\u4e9a', u'Acton', u'\\u516c\\u7acb', 'http://kaoshi.edu.sina.com.cn/abroad/17192.html']"
       ]
      },
      {
       "output_type": "stream",
       "stream": "stdout",
       "text": [
        "\n",
        "['28', u'California State University (Los Angeles)', u'\\u52a0\\u5dde\\u5dde\\u7acb\\u5927\\u5b66\\u6d1b\\u6749\\u77f6\\u5206\\u6821(\\u6d1b\\u6749\\u77f6)', u'\\u7f8e\\u56fd', u'Los Angeles', u'\\u516c\\u7acb', 'http://kaoshi.edu.sina.com.cn/abroad/11638.html']"
       ]
      },
      {
       "output_type": "stream",
       "stream": "stdout",
       "text": [
        "\n",
        "['29', u'Free University of Berlin', u'\\u67cf\\u6797\\u81ea\\u7531\\u5927\\u5b66', u'\\u5fb7\\u56fd', u'Berlin', u'\\u516c\\u7acb', 'http://kaoshi.edu.sina.com.cn/abroad/17549.html']"
       ]
      },
      {
       "output_type": "stream",
       "stream": "stdout",
       "text": [
        "\n",
        "['30', u'Lomonosov Moscow State University', u'\\u83ab\\u65af\\u79d1\\u56fd\\u7acb\\u5927\\u5b66', u'\\u4fc4\\u7f57\\u65af', u'\\u041c\\u043e\\u0441\\u043a\\u0432a', u'\\u56fd\\u7acb', 'http://kaoshi.edu.sina.com.cn/abroad/18715.html']"
       ]
      },
      {
       "output_type": "stream",
       "stream": "stdout",
       "text": [
        "\n",
        "['31', u'University of Alberta', u'\\u963f\\u5c14\\u4f2f\\u5854\\u5927\\u5b66', u'\\u52a0\\u62ff\\u5927', u'Edmonton', u'\\u516c\\u7acb', 'http://kaoshi.edu.sina.com.cn/abroad/16648.html']"
       ]
      },
      {
       "output_type": "stream",
       "stream": "stdout",
       "text": [
        "\n",
        "['32', u'Ludwig Maximilian University of Munich', u'\\u6155\\u5c3c\\u9ed1\\u5927\\u5b66', u'\\u5fb7\\u56fd', u'M\\xfcnchen', u'\\u516c\\u7acb', 'http://kaoshi.edu.sina.com.cn/abroad/17737.html']"
       ]
      },
      {
       "output_type": "stream",
       "stream": "stdout",
       "text": [
        "\n",
        "['33', u'The Sheffield College', u'\\u8c22\\u83f2\\u5c14\\u5fb7\\u5b66\\u9662', u'\\u82f1\\u56fd', u'Sheffield', u'\\u4e0d\\u8be6', 'http://kaoshi.edu.sina.com.cn/abroad/17093.html']"
       ]
      },
      {
       "output_type": "stream",
       "stream": "stdout",
       "text": [
        "\n",
        "['34', u'University of Pennsylvania (Philadelphia)', u'\\u5bbe\\u5915\\u6cd5\\u5c3c\\u4e9a\\u5927\\u5b66 (\\u8d39\\u57ce)', u'\\u7f8e\\u56fd', u'Philadelphia', u'\\u79c1\\u7acb', 'http://kaoshi.edu.sina.com.cn/abroad/15539.html']"
       ]
      },
      {
       "output_type": "stream",
       "stream": "stdout",
       "text": [
        "\n",
        "['35', u'University of Oxford', u'\\u725b\\u6d25\\u5927\\u5b66', u'\\u82f1\\u56fd', u'Oxford', u'\\u516c\\u7acb', 'http://kaoshi.edu.sina.com.cn/abroad/20231.html']"
       ]
      },
      {
       "output_type": "stream",
       "stream": "stdout",
       "text": [
        "\n",
        "['36', u'University of Michigan (Ann Arbor)', u'\\u5bc6\\u6b47\\u6839\\u5927\\u5b66(\\u5b89\\u963f\\u4f2f)', u'\\u7f8e\\u56fd', u'Ann Arbor', u'\\u516c\\u7acb', 'http://kaoshi.edu.sina.com.cn/abroad/13856.html']"
       ]
      },
      {
       "output_type": "stream",
       "stream": "stdout",
       "text": [
        "\n",
        "['37', u'Macquarie University', u'\\u9ea6\\u8003\\u745e\\u5927\\u5b66', u'\\u6fb3\\u5927\\u5229\\u4e9a', u'Sydney', u'\\u516c\\u7acb', 'http://kaoshi.edu.sina.com.cn/abroad/17185.html']"
       ]
      },
      {
       "output_type": "stream",
       "stream": "stdout",
       "text": [
        "\n",
        "['38', u'Linton College', u'\\u6797\\u767b\\u5b66\\u9662', u'\\u9a6c\\u6765\\u897f\\u4e9a', u'Mantin', u'\\u79c1\\u7acb', 'http://kaoshi.edu.sina.com.cn/abroad/19659.html']"
       ]
      },
      {
       "output_type": "stream",
       "stream": "stdout",
       "text": [
        "\n",
        "['39', u'McGill University', u'\\u9ea6\\u5409\\u5c14\\u5927\\u5b66', u'\\u52a0\\u62ff\\u5927', u'Montreal', u'\\u516c\\u7acb', 'http://kaoshi.edu.sina.com.cn/abroad/16698.html']"
       ]
      },
      {
       "output_type": "stream",
       "stream": "stdout",
       "text": [
        "\n",
        "['40', u'New York University (New York)', u'\\u7ebd\\u7ea6\\u5927\\u5b66(\\u7ebd\\u7ea6)', u'\\u7f8e\\u56fd', u'New York', u'\\u79c1\\u7acb', 'http://kaoshi.edu.sina.com.cn/abroad/14642.html']"
       ]
      },
      {
       "output_type": "stream",
       "stream": "stdout",
       "text": [
        "\n",
        "page in: 3\n",
        "['41', u'Stanford University (Stanford)', u'\\u65af\\u5766\\u798f\\u5927\\u5b66(\\u65af\\u5766\\u798f)', u'\\u7f8e\\u56fd', u'Stanford', u'\\u79c1\\u7acb', 'http://kaoshi.edu.sina.com.cn/abroad/12014.html']"
       ]
      },
      {
       "output_type": "stream",
       "stream": "stdout",
       "text": [
        "\n",
        "['42', u'The University of Auckland', u'\\u5965\\u514b\\u5170\\u5927\\u5b66', u'\\u65b0\\u897f\\u5170', u'Auckland', u'\\u516c\\u7acb', 'http://kaoshi.edu.sina.com.cn/abroad/17214.html']"
       ]
      },
      {
       "output_type": "stream",
       "stream": "stdout",
       "text": [
        "\n",
        "['43', u'Boston University (Boston)', u'\\u6ce2\\u58eb\\u987f\\u5927\\u5b66(\\u6ce2\\u58eb\\u987f)', u'\\u7f8e\\u56fd', u'Boston', u'\\u79c1\\u7acb', 'http://kaoshi.edu.sina.com.cn/abroad/13586.html']"
       ]
      },
      {
       "output_type": "stream",
       "stream": "stdout",
       "text": [
        "\n",
        "['44', u'University of Warwick', u'\\u534e\\u5a01\\u5927\\u5b66', u'\\u82f1\\u56fd', u'Coventry', u'\\u516c\\u7acb', 'http://kaoshi.edu.sina.com.cn/abroad/20265.html']"
       ]
      },
      {
       "output_type": "stream",
       "stream": "stdout",
       "text": [
        "\n",
        "['45', u'York University', u'\\u7ea6\\u514b\\u5927\\u5b66', u'\\u52a0\\u62ff\\u5927', u'Toronto', u'\\u516c\\u7acb', 'http://kaoshi.edu.sina.com.cn/abroad/16692.html']"
       ]
      },
      {
       "output_type": "stream",
       "stream": "stdout",
       "text": [
        "\n",
        "['46', u'University of London', u'\\u4f26\\u6566\\u5927\\u5b66', u'\\u82f1\\u56fd', u'London', u'\\u516c\\u7acb', 'http://kaoshi.edu.sina.com.cn/abroad/20216.html']"
       ]
      },
      {
       "output_type": "stream",
       "stream": "stdout",
       "text": [
        "\n",
        "['47', u'Ohio State University (Columbus)', u'\\u4fc4\\u4ea5\\u4fc4\\u5dde\\u7acb\\u5927\\u5b66(\\u54e5\\u4f26\\u5e03)', u'\\u7f8e\\u56fd', u'Columbus', u'\\u516c\\u7acb', 'http://kaoshi.edu.sina.com.cn/abroad/15066.html']"
       ]
      },
      {
       "output_type": "stream",
       "stream": "stdout",
       "text": [
        "\n",
        "['48', u'Vancouver Community College', u'\\u6e29\\u54e5\\u534e\\u793e\\u533a\\u5b66\\u9662', u'\\u52a0\\u62ff\\u5927', u'Vancouver', u'\\u516c\\u7acb', 'http://kaoshi.edu.sina.com.cn/abroad/16750.html']"
       ]
      },
      {
       "output_type": "stream",
       "stream": "stdout",
       "text": [
        "\n",
        "['49', u'RWTH Aachen University', u'\\u4e9a\\u741b\\u5de5\\u4e1a\\u5927\\u5b66', u'\\u5fb7\\u56fd', u'Aachen', u'\\u516c\\u7acb', 'http://kaoshi.edu.sina.com.cn/abroad/17529.html']"
       ]
      },
      {
       "output_type": "stream",
       "stream": "stdout",
       "text": [
        "\n",
        "['50', u'University of Liverpool', u'\\u5229\\u7269\\u6d66\\u5927\\u5b66', u'\\u82f1\\u56fd', u'Liverpool', u'\\u516c\\u7acb', 'http://kaoshi.edu.sina.com.cn/abroad/20214.html']"
       ]
      },
      {
       "output_type": "stream",
       "stream": "stdout",
       "text": [
        "\n",
        "['51', u'University of Western Ontario', u'\\u897f\\u5b89\\u5927\\u7565\\u5927\\u5b66', u'\\u52a0\\u62ff\\u5927', u'London', u'\\u516c\\u7acb', 'http://kaoshi.edu.sina.com.cn/abroad/16689.html']"
       ]
      },
      {
       "output_type": "stream",
       "stream": "stdout",
       "text": [
        "\n",
        "['52', u'Autonomous University of Madrid', u'\\u9a6c\\u5fb7\\u91cc\\u81ea\\u6cbb\\u5927\\u5b66', u'\\u897f\\u73ed\\u7259', u'Madrid', u'\\u516c\\u7acb', 'http://kaoshi.edu.sina.com.cn/abroad/19744.html']"
       ]
      },
      {
       "output_type": "stream",
       "stream": "stdout",
       "text": [
        "\n",
        "['53', u'University of Durham', u'\\u675c\\u4f26\\u5927\\u5b66', u'\\u82f1\\u56fd', u'Durham', u'\\u516c\\u7acb', 'http://kaoshi.edu.sina.com.cn/abroad/20186.html']"
       ]
      },
      {
       "output_type": "stream",
       "stream": "stdout",
       "text": [
        "\n",
        "['54', u'University of Newcastle upon Tyne', u'\\u7ebd\\u5361\\u65af\\u5c14\\u5927\\u5b66', u'\\u82f1\\u56fd', u'Newcastle upon Tyne', u'\\u516c\\u7acb', 'http://kaoshi.edu.sina.com.cn/abroad/20226.html']"
       ]
      },
      {
       "output_type": "stream",
       "stream": "stdout",
       "text": [
        "\n",
        "['55', u'Kabardino-Balkarian State University', u'\\u5361\\u5df4\\u5c14\\u8fbe-\\u5df4\\u5c14\\u5361\\u5c14\\u56fd\\u7acb\\u5927\\u5b66', u'\\u4fc4\\u7f57\\u65af', u'\\u041d\\u0430\\u043b\\u044c\\u0447\\u0438\\u043a', u'\\u56fd\\u7acb', 'http://kaoshi.edu.sina.com.cn/abroad/18721.html']"
       ]
      },
      {
       "output_type": "stream",
       "stream": "stdout",
       "text": [
        "\n",
        "['56', u'Duke University (Durham)', u'\\u675c\\u514b\\u5927\\u5b66(\\u5fb7\\u6c49\\u59c6)', u'\\u7f8e\\u56fd', u'Durham', u'\\u79c1\\u7acb', 'http://kaoshi.edu.sina.com.cn/abroad/14792.html']"
       ]
      },
      {
       "output_type": "stream",
       "stream": "stdout",
       "text": [
        "\n",
        "['57', u'Simon Fraser University', u'\\u897f\\u8499\\u5f17\\u96f7\\u6cfd\\u5927\\u5b66', u'\\u52a0\\u62ff\\u5927', u'Burnaby', u'\\u516c\\u7acb', 'http://kaoshi.edu.sina.com.cn/abroad/16652.html']"
       ]
      },
      {
       "output_type": "stream",
       "stream": "stdout",
       "text": [
        "\n",
        "['58', u'University of York', u'\\u7ea6\\u514b\\u5927\\u5b66', u'\\u82f1\\u56fd', u'Heslington', u'\\u516c\\u7acb', 'http://kaoshi.edu.sina.com.cn/abroad/20269.html']"
       ]
      },
      {
       "output_type": "stream",
       "stream": "stdout",
       "text": [
        "\n",
        "['59', u'Dresden University of Technology', u'\\u5fb7\\u7d2f\\u65af\\u987f\\u5de5\\u4e1a\\u5927\\u5b66', u'\\u5fb7\\u56fd', u'Dresden', u'\\u516c\\u7acb', 'http://kaoshi.edu.sina.com.cn/abroad/17598.html']"
       ]
      },
      {
       "output_type": "stream",
       "stream": "stdout",
       "text": [
        "\n",
        "['60', u'Cornell University (Ithaca)', u'\\u5eb7\\u5948\\u5c14\\u5927\\u5b66(\\u4f0a\\u8428\\u5361)', u'\\u7f8e\\u56fd', u'Ithaca', u'\\u79c1\\u7acb', 'http://kaoshi.edu.sina.com.cn/abroad/14519.html']"
       ]
      },
      {
       "output_type": "stream",
       "stream": "stdout",
       "text": [
        "\n",
        "page in: 4\n",
        "['61', u'Adelaide University', u'\\u963f\\u5fb7\\u83b1\\u5fb7\\u5927\\u5b66', u'\\u6fb3\\u5927\\u5229\\u4e9a', u'Adelaide', u'\\u516c\\u7acb', 'http://kaoshi.edu.sina.com.cn/abroad/17170.html']"
       ]
      },
      {
       "output_type": "stream",
       "stream": "stdout",
       "text": [
        "\n",
        "['62', u'Waseda University', u'\\u65e9\\u7a3b\\u7530\\u5927\\u5b66', u'\\u65e5\\u672c', u'\\u65b0\\u5bbf\\u533a', u'\\u79c1\\u7acb', 'http://kaoshi.edu.sina.com.cn/abroad/18416.html']"
       ]
      },
      {
       "output_type": "stream",
       "stream": "stdout",
       "text": [
        "\n",
        "['63', u'University of Amsterdam', u'\\u963f\\u59c6\\u65af\\u7279\\u4e39\\u5927\\u5b66', u'\\u8377\\u5170', u'Amsterdam', u'\\u516c\\u7acb', 'http://kaoshi.edu.sina.com.cn/abroad/19583.html']"
       ]
      },
      {
       "output_type": "stream",
       "stream": "stdout",
       "text": [
        "\n",
        "['64', u'London School of Economics and Political Science', u'\\u4f26\\u6566\\u653f\\u6cbb\\u7ecf\\u6d4e\\u5b66\\u9662', u'\\u82f1\\u56fd', u'Houghton', u'\\u516c\\u7acb', 'http://kaoshi.edu.sina.com.cn/abroad/20218.html']"
       ]
      },
      {
       "output_type": "stream",
       "stream": "stdout",
       "text": [
        "\n",
        "['65', u'University of Leeds', u'\\u5229\\u5179\\u5927\\u5b66', u'\\u82f1\\u56fd', u'Leeds', u'\\u516c\\u7acb', 'http://kaoshi.edu.sina.com.cn/abroad/20211.html']"
       ]
      },
      {
       "output_type": "stream",
       "stream": "stdout",
       "text": [
        "\n",
        "['66', u'Monash University', u'\\u83ab\\u7eb3\\u4ec0\\u5927\\u5b66', u'\\u6fb3\\u5927\\u5229\\u4e9a', u'Clayton', u'\\u516c\\u7acb', 'http://kaoshi.edu.sina.com.cn/abroad/17186.html']"
       ]
      },
      {
       "output_type": "stream",
       "stream": "stdout",
       "text": [
        "\n",
        "['67', u'University of Bath', u'\\u5df4\\u65af\\u5927\\u5b66', u'\\u82f1\\u56fd', u'Bath', u'\\u516c\\u7acb', 'http://kaoshi.edu.sina.com.cn/abroad/20161.html']"
       ]
      },
      {
       "output_type": "stream",
       "stream": "stdout",
       "text": [
        "\n",
        "['68', u'Seoul National University', u'\\u9996\\u5c14\\u5927\\u5b66', u'\\u97e9\\u56fd', u'\\uc11c\\uc6b8\\uc2dc', u'\\u56fd\\u7acb', 'http://kaoshi.edu.sina.com.cn/abroad/19436.html']"
       ]
      },
      {
       "output_type": "stream",
       "stream": "stdout",
       "text": [
        "\n",
        "['69', u'University of Reims Champagne-Ardenne', u'\\u5170\\u65af\\u5927\\u5b66', u'\\u6cd5\\u56fd', u'Reims  1300', u'\\u516c\\u7acb', 'http://kaoshi.edu.sina.com.cn/abroad/17355.html']"
       ]
      },
      {
       "output_type": "stream",
       "stream": "stdout",
       "text": [
        "\n",
        "['70', u'University of Paris-Sud', u'\\u5df4\\u9ece\\u5341\\u4e00\\u5927', u'\\u6cd5\\u56fd', u'Orsay', u'\\u516c\\u7acb', 'http://kaoshi.edu.sina.com.cn/abroad/17345.html']"
       ]
      },
      {
       "output_type": "stream",
       "stream": "stdout",
       "text": [
        "\n",
        "['71', u'University of Bristol', u'\\u5e03\\u91cc\\u65af\\u6258\\u5c14\\u5927\\u5b66', u'\\u82f1\\u56fd', u'Bristol', u'\\u516c\\u7acb', 'http://kaoshi.edu.sina.com.cn/abroad/20169.html']"
       ]
      },
      {
       "output_type": "stream",
       "stream": "stdout",
       "text": [
        "\n",
        "['72', u'Uppsala University', u'\\u4e4c\\u666e\\u8428\\u62c9\\u5927\\u5b66', u'\\u745e\\u5178', u'Uppsala', u'\\u516c\\u7acb', 'http://kaoshi.edu.sina.com.cn/abroad/19488.html']"
       ]
      },
      {
       "output_type": "stream",
       "stream": "stdout",
       "text": [
        "\n",
        "['73', u'Yale University (New Haven)', u'\\u8036\\u9c81\\u5927\\u5b66(\\u7ebd\\u9ed1\\u6587)', u'\\u7f8e\\u56fd', u'New Haven', u'\\u79c1\\u7acb', 'http://kaoshi.edu.sina.com.cn/abroad/12222.html']"
       ]
      },
      {
       "output_type": "stream",
       "stream": "stdout",
       "text": [
        "\n",
        "['74', u'Syracuse University (Syracuse)', u'\\u96ea\\u57ce\\u5927\\u5b66(\\u96ea\\u57ce)', u'\\u7f8e\\u56fd', u'Syracuse', u'\\u79c1\\u7acb', 'http://kaoshi.edu.sina.com.cn/abroad/14722.html']"
       ]
      },
      {
       "output_type": "stream",
       "stream": "stdout",
       "text": [
        "\n",
        "['75', u'Technical University of Munich', u'\\u6155\\u5c3c\\u9ed1\\u5de5\\u4e1a\\u5927\\u5b66', u'\\u5fb7\\u56fd', u'M\\xfcnchen', u'\\u516c\\u7acb', 'http://kaoshi.edu.sina.com.cn/abroad/17736.html']"
       ]
      },
      {
       "output_type": "stream",
       "stream": "stdout",
       "text": [
        "\n",
        "['76', u'University of Southampton', u'\\u5357\\u5b89\\u666e\\u987f\\u5927\\u5b66', u'\\u82f1\\u56fd', u'Southampton', u'\\u516c\\u7acb', 'http://kaoshi.edu.sina.com.cn/abroad/20249.html']"
       ]
      },
      {
       "output_type": "stream",
       "stream": "stdout",
       "text": [
        "\n",
        "['77', u'Montclair State University (Upper Montclair)', u'\\u8499\\u7279\\u514b\\u83b1\\u5c14\\u5dde\\u7acb\\u5927\\u5b66(\\u4e0a\\u8499\\u7279\\u514b\\u83b1\\u5c14)', u'\\u7f8e\\u56fd', u'Montclair', u'\\u516c\\u7acb', 'http://kaoshi.edu.sina.com.cn/abroad/14359.html']"
       ]
      },
      {
       "output_type": "stream",
       "stream": "stdout",
       "text": [
        "\n",
        "['78', u'University of Birmingham', u'\\u4f2f\\u660e\\u7ff0\\u5927\\u5b66', u'\\u82f1\\u56fd', u'Birmingham', u'\\u516c\\u7acb', 'http://kaoshi.edu.sina.com.cn/abroad/17142.html']"
       ]
      },
      {
       "output_type": "stream",
       "stream": "stdout",
       "text": [
        "\n",
        "['79', u'University of Technology Sydney', u'\\u6089\\u5c3c\\u79d1\\u6280\\u5927\\u5b66', u'\\u6fb3\\u5927\\u5229\\u4e9a', u'Sydney', u'\\u516c\\u7acb', 'http://kaoshi.edu.sina.com.cn/abroad/17206.html']"
       ]
      },
      {
       "output_type": "stream",
       "stream": "stdout",
       "text": [
        "\n",
        "['80', u'University of Glasgow', u'\\u683c\\u62c9\\u65af\\u54e5\\u5927\\u5b66', u'\\u82f1\\u56fd', u'Glasgow', u'\\u516c\\u7acb', 'http://kaoshi.edu.sina.com.cn/abroad/20193.html']"
       ]
      },
      {
       "output_type": "stream",
       "stream": "stdout",
       "text": [
        "\n",
        "page in: 5\n",
        "['81', u'Singapore Management University', u'\\u65b0\\u52a0\\u5761\\u7ba1\\u7406\\u5927\\u5b66', u'\\u65b0\\u52a0\\u5761', u'Singapore', u'\\u79c1\\u7acb', 'http://kaoshi.edu.sina.com.cn/abroad/19074.html']"
       ]
      },
      {
       "output_type": "stream",
       "stream": "stdout",
       "text": [
        "\n",
        "['82', u'Ryerson University', u'\\u745e\\u5c14\\u68ee\\u5927\\u5b66', u'\\u52a0\\u62ff\\u5927', u'Toronto', u'\\u516c\\u7acb', 'http://kaoshi.edu.sina.com.cn/abroad/16680.html']"
       ]
      },
      {
       "output_type": "stream",
       "stream": "stdout",
       "text": [
        "\n",
        "['83', 'None', u'\\u82cf\\u9ece\\u4e16\\u8054\\u90a6\\u7406\\u5de5\\u5927\\u5b66', u'\\u745e\\u58eb', u'Z\\xfcrich', u'\\u516c\\u7acb', 'http://kaoshi.edu.sina.com.cn/abroad/19513.html']"
       ]
      },
      {
       "output_type": "stream",
       "stream": "stdout",
       "text": [
        "\n",
        "['84', u'University of Florida (Gainesville)', u'\\u4f5b\\u7f57\\u91cc\\u8fbe\\u5927\\u5b66(\\u76d6\\u6069\\u65af\\u7ef4\\u5c14)', u'\\u7f8e\\u56fd', u'Gainesville', u'\\u516c\\u7acb', 'http://kaoshi.edu.sina.com.cn/abroad/12514.html']"
       ]
      },
      {
       "output_type": "stream",
       "stream": "stdout",
       "text": [
        "\n",
        "['85', u'The University of Western Australia', u'\\u897f\\u6fb3\\u5927\\u5b66', u'\\u6fb3\\u5927\\u5229\\u4e9a', u'Perth', u'\\u516c\\u7acb', 'http://kaoshi.edu.sina.com.cn/abroad/17200.html']"
       ]
      },
      {
       "output_type": "stream",
       "stream": "stdout",
       "text": [
        "\n",
        "['86', u'University of Montreal', u'\\u8499\\u7279\\u5229\\u5c14\\u5927\\u5b66', u'\\u52a0\\u62ff\\u5927', u'Montr\\xe9al', u'\\u79c1\\u7acb', 'http://kaoshi.edu.sina.com.cn/abroad/16700.html']"
       ]
      },
      {
       "output_type": "stream",
       "stream": "stdout",
       "text": [
        "\n",
        "['87', u'University of Windsor', u'\\u6e29\\u838e\\u5927\\u5b66', u'\\u52a0\\u62ff\\u5927', u'Windsor', u'\\u516c\\u7acb', 'http://kaoshi.edu.sina.com.cn/abroad/16690.html']"
       ]
      },
      {
       "output_type": "stream",
       "stream": "stdout",
       "text": [
        "\n",
        "['88', u'University of Wollongong', u'\\u5367\\u9f99\\u5c97\\u5927\\u5b66', u'\\u6fb3\\u5927\\u5229\\u4e9a', u'Wollongong', u'\\u516c\\u7acb', 'http://kaoshi.edu.sina.com.cn/abroad/17209.html']"
       ]
      },
      {
       "output_type": "stream",
       "stream": "stdout",
       "text": [
        "\n",
        "['89', u'Brock University', u'\\u5e03\\u9c81\\u514b\\u5927\\u5b66', u'\\u52a0\\u62ff\\u5927', u'St. Catharines', u'\\u516c\\u7acb', 'http://kaoshi.edu.sina.com.cn/abroad/16673.html']"
       ]
      },
      {
       "output_type": "stream",
       "stream": "stdout",
       "text": [
        "\n",
        "['90', u'Chonnam National University', u'\\u5168\\u5357\\u5927\\u5b66', u'\\u97e9\\u56fd', u'\\uad11\\uc8fc\\uad11\\uc5ed\\uc2dc,\\uc5ec\\uc218\\uc2dc', u'\\u56fd\\u7acb', 'http://kaoshi.edu.sina.com.cn/abroad/19306.html']"
       ]
      },
      {
       "output_type": "stream",
       "stream": "stdout",
       "text": [
        "\n",
        "['91', u'RMIT University', u'\\u7687\\u5bb6\\u58a8\\u5c14\\u672c\\u7406\\u5de5\\u5927\\u5b66', u'\\u6fb3\\u5927\\u5229\\u4e9a', u'Melbourne', u'\\u516c\\u7acb', 'http://kaoshi.edu.sina.com.cn/abroad/17189.html']"
       ]
      },
      {
       "output_type": "stream",
       "stream": "stdout",
       "text": [
        "\n",
        "['92', u'University of Hamburg', u'\\u6c49\\u5821\\u5927\\u5b66', u'\\u5fb7\\u56fd', u'Hamburg', u'\\u516c\\u7acb', 'http://kaoshi.edu.sina.com.cn/abroad/17644.html']"
       ]
      },
      {
       "output_type": "stream",
       "stream": "stdout",
       "text": [
        "\n",
        "['93', u'Heidelberg University', u'\\u6d77\\u5fb7\\u5821\\u5927\\u5b66', u'\\u5fb7\\u56fd', u'Heidelberg', u'\\u516c\\u7acb', 'http://kaoshi.edu.sina.com.cn/abroad/17663.html']"
       ]
      },
      {
       "output_type": "stream",
       "stream": "stdout",
       "text": [
        "\n",
        "['94', u'University of Ottawa', u'\\u6e25\\u592a\\u534e\\u5927\\u5b66', u'\\u52a0\\u62ff\\u5927', u'Ottawa', u'\\u516c\\u7acb', 'http://kaoshi.edu.sina.com.cn/abroad/16685.html']"
       ]
      },
      {
       "output_type": "stream",
       "stream": "stdout",
       "text": [
        "\n",
        "['95', u'Loughborough University', u'\\u62c9\\u592b\\u5821\\u5927\\u5b66', u'\\u82f1\\u56fd', u'Loughborough', u'\\u516c\\u7acb', 'http://kaoshi.edu.sina.com.cn/abroad/20221.html']"
       ]
      },
      {
       "output_type": "stream",
       "stream": "stdout",
       "text": [
        "\n",
        "['96', u'American University (Washington)', u'\\u7f8e\\u56fd\\u5927\\u5b66(\\u534e\\u76db\\u987f)', u'\\u7f8e\\u56fd', u'Washington DC', u'\\u79c1\\u7acb', 'http://kaoshi.edu.sina.com.cn/abroad/12236.html']"
       ]
      },
      {
       "output_type": "stream",
       "stream": "stdout",
       "text": [
        "\n",
        "['97', u'Technical University of Berlin', u'\\u67cf\\u6797\\u5de5\\u4e1a\\u5927\\u5b66', u'\\u5fb7\\u56fd', u'Berlin', u'\\u516c\\u7acb', 'http://kaoshi.edu.sina.com.cn/abroad/17551.html']"
       ]
      },
      {
       "output_type": "stream",
       "stream": "stdout",
       "text": [
        "\n",
        "['98', u'Seattle Central Community College (Seattle)', u'\\u897f\\u96c5\\u56fe\\u4e2d\\u592e\\u793e\\u533a\\u5b66\\u9662(\\u897f\\u96c5\\u56fe)', u'\\u7f8e\\u56fd', u'Seattle', u'\\u4e0d\\u8be6', 'http://kaoshi.edu.sina.com.cn/abroad/16404.html']"
       ]
      },
      {
       "output_type": "stream",
       "stream": "stdout",
       "text": [
        "\n",
        "['99', u'University of Chicago (Chicago)', u'\\u829d\\u52a0\\u54e5\\u5927\\u5b66(\\u829d\\u52a0\\u54e5)', u'\\u7f8e\\u56fd', u'Chicago', u'\\u79c1\\u7acb', 'http://kaoshi.edu.sina.com.cn/abroad/12944.html']"
       ]
      },
      {
       "output_type": "stream",
       "stream": "stdout",
       "text": [
        "\n",
        "['100', u'Northeastern University (Boston)', u'\\u4e1c\\u5317\\u5927\\u5b66(\\u6ce2\\u58eb\\u987f)', u'\\u7f8e\\u56fd', u'Boston', u'\\u79c1\\u7acb', 'http://kaoshi.edu.sina.com.cn/abroad/13686.html']"
       ]
      },
      {
       "output_type": "stream",
       "stream": "stdout",
       "text": [
        "\n",
        "page in: 6\n",
        "['101', u'Indiana University-Bloomington (Now: Indiana University Bloomington (Bloomington))', u'\\u5370\\u7b2c\\u5b89\\u7eb3\\u5927\\u5b66\\u5e03\\u9c81\\u660e\\u987f\\u5206\\u6821(\\u5e03\\u9c81\\u660e\\u987f)', u'\\u7f8e\\u56fd', u'Bloomington', u'\\u516c\\u7acb', 'http://kaoshi.edu.sina.com.cn/abroad/13006.html']"
       ]
      },
      {
       "output_type": "stream",
       "stream": "stdout",
       "text": [
        "\n",
        "['102', u'Tilburg University', u'\\u8482\\u5c14\\u5821\\u5927\\u5b66', u'\\u8377\\u5170', u'Tilburg', u'\\u516c\\u7acb', 'http://kaoshi.edu.sina.com.cn/abroad/19584.html']"
       ]
      },
      {
       "output_type": "stream",
       "stream": "stdout",
       "text": [
        "\n",
        "['103', u'The Art Institute of New York City (New York)', u'\\u7ebd\\u7ea6\\u827a\\u672f\\u5b66\\u9662(\\u7ebd\\u7ea6)', u'\\u7f8e\\u56fd', u'New York', u'\\u79c1\\u7acb', 'http://kaoshi.edu.sina.com.cn/abroad/14472.html']"
       ]
      },
      {
       "output_type": "stream",
       "stream": "stdout",
       "text": [
        "\n",
        "['104', u'The University of Newcastle', u'\\u7ebd\\u5361\\u65af\\u5c14\\u5927\\u5b66(\\u6fb3\\u5927\\u5229\\u4e9a)', u'\\u6fb3\\u5927\\u5229\\u4e9a', u'Newcastle', u'\\u516c\\u7acb', 'http://kaoshi.edu.sina.com.cn/abroad/17196.html']"
       ]
      },
      {
       "output_type": "stream",
       "stream": "stdout",
       "text": [
        "\n",
        "['105', u'University of California, San Diego (San Diego)', u'\\u52a0\\u5dde\\u5927\\u5b66\\u5723\\u5730\\u4e9a\\u54e5\\u5206\\u6821', u'\\u7f8e\\u56fd', u'San Diego', u'\\u516c\\u7acb', 'http://kaoshi.edu.sina.com.cn/abroad/12034.html']"
       ]
      },
      {
       "output_type": "stream",
       "stream": "stdout",
       "text": [
        "\n",
        "['106', u'Delft University of Technology', u'\\u4ee3\\u5c14\\u592b\\u7279\\u7406\\u5de5\\u5927\\u5b66', u'\\u8377\\u5170', u'Delft', u'\\u516c\\u7acb', 'http://kaoshi.edu.sina.com.cn/abroad/19577.html']"
       ]
      },
      {
       "output_type": "stream",
       "stream": "stdout",
       "text": [
        "\n",
        "['107', u'Princeton University (Princeton)', u'\\u666e\\u6797\\u65af\\u987f\\u5927\\u5b66(\\u666e\\u6797\\u65af\\u987f)', u'\\u7f8e\\u56fd', u'Princeton', u'\\u79c1\\u7acb', 'http://kaoshi.edu.sina.com.cn/abroad/14381.html']"
       ]
      },
      {
       "output_type": "stream",
       "stream": "stdout",
       "text": [
        "\n",
        "['108', u'University of G\\xf6ttingen', u'\\u54e5\\u5ef7\\u6839\\u5927\\u5b66', u'\\u5fb7\\u56fd', u'G\\xf6ttingen', u'\\u516c\\u7acb', 'http://kaoshi.edu.sina.com.cn/abroad/17638.html']"
       ]
      },
      {
       "output_type": "stream",
       "stream": "stdout",
       "text": [
        "\n",
        "['109', u'Victoria University of Wellington', u'\\u60e0\\u7075\\u987f\\u7ef4\\u591a\\u5229\\u4e9a\\u5927\\u5b66', u'\\u65b0\\u897f\\u5170', u'Wellington', u'\\u516c\\u7acb', 'http://kaoshi.edu.sina.com.cn/abroad/17218.html']"
       ]
      },
      {
       "output_type": "stream",
       "stream": "stdout",
       "text": [
        "\n",
        "['110', u'Pierre-and-Marie-Curie University', u'\\u5df4\\u9ece\\u516d\\u5927', u'\\u6cd5\\u56fd', u'Paris', u'\\u516c\\u7acb', 'http://kaoshi.edu.sina.com.cn/abroad/17340.html']"
       ]
      },
      {
       "output_type": "stream",
       "stream": "stdout",
       "text": [
        "\n",
        "['111', u'NanYang Polytechnic', u'\\u5357\\u6d0b\\u7406\\u5de5\\u5b66\\u9662', u'\\u65b0\\u52a0\\u5761', u'Singapore', u'\\u516c\\u7acb', 'http://kaoshi.edu.sina.com.cn/abroad/19076.html']"
       ]
      },
      {
       "output_type": "stream",
       "stream": "stdout",
       "text": [
        "\n",
        "['112', u'Kyungnam College of Information & Technology', u'\\u5e86\\u5357\\u60c5\\u62a5\\u5927\\u5b66', u'\\u97e9\\u56fd', u'\\ubd80\\uc0b0\\uad11\\uc5ed\\uc2dc', u'\\u79c1\\u7acb', 'http://kaoshi.edu.sina.com.cn/abroad/19223.html']"
       ]
      },
      {
       "output_type": "stream",
       "stream": "stdout",
       "text": [
        "\n",
        "['113', u'Massey University', u'\\u6885\\u897f\\u5927\\u5b66', u'\\u65b0\\u897f\\u5170', u'Palmerston North, Auckland, Wellington, ', u'\\u516c\\u7acb', 'http://kaoshi.edu.sina.com.cn/abroad/17213.html']"
       ]
      },
      {
       "output_type": "stream",
       "stream": "stdout",
       "text": [
        "\n",
        "['114', u'University of Iowa (Iowa City)', u'\\u7231\\u8377\\u534e\\u5927\\u5b66(\\u7231\\u8377\\u534e\\u5e02)', u'\\u7f8e\\u56fd', u'Iowa City', u'\\u516c\\u7acb', 'http://kaoshi.edu.sina.com.cn/abroad/13135.html']"
       ]
      },
      {
       "output_type": "stream",
       "stream": "stdout",
       "text": [
        "\n",
        "['115', u'University of Tsukuba', u'\\u7b51\\u6ce2\\u5927\\u5b66', u'\\u65e5\\u672c', u'\\u3064\\u304f\\u3070\\u5e02', u'\\u56fd\\u7acb', 'http://kaoshi.edu.sina.com.cn/abroad/18132.html']"
       ]
      },
      {
       "output_type": "stream",
       "stream": "stdout",
       "text": [
        "\n",
        "['116', u'University of Mannheim', u'\\u66fc\\u6d77\\u59c6\\u5927\\u5b66', u'\\u5fb7\\u56fd', u'Mannheim', u'\\u516c\\u7acb', 'http://kaoshi.edu.sina.com.cn/abroad/17724.html']"
       ]
      },
      {
       "output_type": "stream",
       "stream": "stdout",
       "text": [
        "\n",
        "['117', u'Tokyo Institute of Technology', u'\\u4e1c\\u4eac\\u5de5\\u4e1a\\u5927\\u5b66', u'\\u65e5\\u672c', u'\\u76ee\\u9ed1\\u5340', u'\\u56fd\\u7acb', 'http://kaoshi.edu.sina.com.cn/abroad/18143.html']"
       ]
      },
      {
       "output_type": "stream",
       "stream": "stdout",
       "text": [
        "\n",
        "['118', u'University of Jena', u'\\u8036\\u62ff\\u5927\\u5b66', u'\\u5fb7\\u56fd', u'Jena', u'\\u516c\\u7acb', 'http://kaoshi.edu.sina.com.cn/abroad/17674.html']"
       ]
      },
      {
       "output_type": "stream",
       "stream": "stdout",
       "text": [
        "\n",
        "['119', u'University of Massachusetts Boston (Boston)', u'\\u9ebb\\u7701\\u5927\\u5b66\\u6ce2\\u58eb\\u987f\\u5206\\u6821(\\u6ce2\\u58eb\\u987f)', u'\\u7f8e\\u56fd', u'Boston', u'\\u516c\\u7acb', 'http://kaoshi.edu.sina.com.cn/abroad/13716.html']"
       ]
      },
      {
       "output_type": "stream",
       "stream": "stdout",
       "text": [
        "\n",
        "['120', u'Hansung University', u'\\u97e9\\u57ce\\u5927\\u5b66', u'\\u97e9\\u56fd', u'\\uc11c\\uc6b8\\ud2b9\\ubcc4\\uc2dc', u'\\u79c1\\u7acb', 'http://kaoshi.edu.sina.com.cn/abroad/19349.html']"
       ]
      },
      {
       "output_type": "stream",
       "stream": "stdout",
       "text": [
        "\n",
        "page in: 7\n",
        "['121', u'Concordia University', u'\\u80af\\u9ad8\\u8fea\\u4e9a\\u5927\\u5b66', u'\\u52a0\\u62ff\\u5927', u'Montreal', u'\\u516c\\u7acb', 'http://kaoshi.edu.sina.com.cn/abroad/16695.html']"
       ]
      },
      {
       "output_type": "stream",
       "stream": "stdout",
       "text": [
        "\n",
        "['122', u'Yonsei University', u'\\u5ef6\\u4e16\\u5927\\u5b66', u'\\u97e9\\u56fd', u'\\uc11c\\uc6b8,\\uc2e0\\ucd0c\\uc2dc,\\uc6d0\\uc8fc\\uc2dc', u'\\u79c1\\u7acb', 'http://kaoshi.edu.sina.com.cn/abroad/19470.html']"
       ]
      },
      {
       "output_type": "stream",
       "stream": "stdout",
       "text": [
        "\n",
        "['123', u'Norwegian University of Science and Technology, Trondheim', u'\\u632a\\u5a01\\u79d1\\u6280\\u5927\\u5b66', u'\\u632a\\u5a01', u'Trondheim', u'\\u516c\\u7acb', 'http://kaoshi.edu.sina.com.cn/abroad/19675.html']"
       ]
      },
      {
       "output_type": "stream",
       "stream": "stdout",
       "text": [
        "\n",
        "['124', u'Chelyabinsk State Academy Agroengineering', u'\\u8f66\\u91cc\\u96c5\\u5bbe\\u65af\\u514b\\u56fd\\u7acb\\u519c\\u4e1a\\u5de5\\u7a0b\\u5927\\u5b66', u'\\u4fc4\\u7f57\\u65af', u'\\u0427\\u0435\\u043b\\u044f\\u0431\\u0438\\u043d\\u0441\\u043a', u'\\u56fd\\u7acb', 'http://kaoshi.edu.sina.com.cn/abroad/20955.html']"
       ]
      },
      {
       "output_type": "stream",
       "stream": "stdout",
       "text": [
        "\n",
        "['125', u'Griffith University', u'\\u683c\\u91cc\\u83f2\\u65af\\u5927\\u5b66', u'\\u6fb3\\u5927\\u5229\\u4e9a', u'Gold Coast and Brisbane', u'\\u516c\\u7acb', 'http://kaoshi.edu.sina.com.cn/abroad/17182.html']"
       ]
      },
      {
       "output_type": "stream",
       "stream": "stdout",
       "text": [
        "\n",
        "['126', u'University of South Australia', u'\\u5357\\u6fb3\\u5927\\u5b66', u'\\u6fb3\\u5927\\u5229\\u4e9a', u'Adelaide', u'\\u516c\\u7acb', 'http://kaoshi.edu.sina.com.cn/abroad/17203.html']"
       ]
      },
      {
       "output_type": "stream",
       "stream": "stdout",
       "text": [
        "\n",
        "['127', u'Technical University of Darmstadt,Darmstadt University of Technology', u'\\u8fbe\\u59c6\\u65bd\\u5854\\u7279\\u5de5\\u4e1a\\u5927\\u5b66', u'\\u5fb7\\u56fd', u'Darmstadt', u'\\u516c\\u7acb', 'http://kaoshi.edu.sina.com.cn/abroad/17584.html']"
       ]
      },
      {
       "output_type": "stream",
       "stream": "stdout",
       "text": [
        "\n",
        "['128', u'University of Calgary', u'\\u5361\\u5c14\\u52a0\\u91cc\\u5927\\u5b66', u'\\u52a0\\u62ff\\u5927', u'Calgary', u'\\u516c\\u7acb', 'http://kaoshi.edu.sina.com.cn/abroad/16649.html']"
       ]
      },
      {
       "output_type": "stream",
       "stream": "stdout",
       "text": [
        "\n",
        "['129', u'University of Otago', u'\\u5965\\u5854\\u54e5\\u5927\\u5b66', u'\\u65b0\\u897f\\u5170', u'Dunedin', u'\\u516c\\u7acb', 'http://kaoshi.edu.sina.com.cn/abroad/17217.html']"
       ]
      },
      {
       "output_type": "stream",
       "stream": "stdout",
       "text": [
        "\n",
        "['130', u'George Washington University (Washington)', u'\\u4e54\\u6cbb\\u534e\\u76db\\u987f\\u5927\\u5b66(\\u534e\\u76db\\u987f)', u'\\u7f8e\\u56fd', u'Washington', u'\\u79c1\\u7acb', 'http://kaoshi.edu.sina.com.cn/abroad/12244.html']"
       ]
      },
      {
       "output_type": "stream",
       "stream": "stdout",
       "text": [
        "\n",
        "['131', u'Konkuk University', u'\\u5efa\\u56fd\\u5927\\u5b66', u'\\u97e9\\u56fd', u'\\uc11c\\uc6b8\\ud2b9\\ubcc4\\uc2dc', u'\\u79c1\\u7acb', 'http://kaoshi.edu.sina.com.cn/abroad/19374.html']"
       ]
      },
      {
       "output_type": "stream",
       "stream": "stdout",
       "text": [
        "\n",
        "['132', u'University of Freiburg', u'\\u5f17\\u8d56\\u5821\\u5927\\u5b66', u'\\u5fb7\\u56fd', u'Freiburg im Breisgau', u'\\u516c\\u7acb', 'http://kaoshi.edu.sina.com.cn/abroad/17629.html']"
       ]
      },
      {
       "output_type": "stream",
       "stream": "stdout",
       "text": [
        "\n",
        "['133', u'Leiden University', u'\\u83b1\\u987f\\u5927\\u5b66', u'\\u8377\\u5170', u'Leiden', u'\\u516c\\u7acb', 'http://kaoshi.edu.sina.com.cn/abroad/19579.html']"
       ]
      },
      {
       "output_type": "stream",
       "stream": "stdout",
       "text": [
        "\n",
        "['134', u'Cardiff University (Prifysgol Caerdydd)', u'\\u5361\\u8fea\\u592b\\u5927\\u5b66', u'\\u82f1\\u56fd', u'Cardiff', u'\\u516c\\u7acb', 'http://kaoshi.edu.sina.com.cn/abroad/20174.html']"
       ]
      },
      {
       "output_type": "stream",
       "stream": "stdout",
       "text": [
        "\n",
        "['135', u'University of Leicester', u'\\u83b1\\u65af\\u7279\\u5927\\u5b66', u'\\u82f1\\u56fd', u'Leicester', u'\\u516c\\u7acb', 'http://kaoshi.edu.sina.com.cn/abroad/20212.html']"
       ]
      },
      {
       "output_type": "stream",
       "stream": "stdout",
       "text": [
        "\n",
        "['136', u'Deakin University', u'\\u8fea\\u80af\\u5927\\u5b66', u'\\u6fb3\\u5927\\u5229\\u4e9a', u'Geelong, Melbourne, Warrnambool', u'\\u516c\\u7acb', 'http://kaoshi.edu.sina.com.cn/abroad/17179.html']"
       ]
      },
      {
       "output_type": "stream",
       "stream": "stdout",
       "text": [
        "\n",
        "['137', u'Lund University', u'\\u9686\\u5fb7\\u5927\\u5b66', u'\\u745e\\u5178', u'Lund', u'\\u516c\\u7acb', 'http://kaoshi.edu.sina.com.cn/abroad/19484.html']"
       ]
      },
      {
       "output_type": "stream",
       "stream": "stdout",
       "text": [
        "\n",
        "['138', u'Wilfrid Laurier University', u'\\u52b3\\u91cc\\u57c3\\u5927\\u5b66', u'\\u52a0\\u62ff\\u5927', u'Waterloo', u'\\u516c\\u7acb', 'http://kaoshi.edu.sina.com.cn/abroad/16691.html']"
       ]
      },
      {
       "output_type": "stream",
       "stream": "stdout",
       "text": [
        "\n",
        "['139', u'University of Twente', u'\\u5c6f\\u7279\\u5927\\u5b66', u'\\u8377\\u5170', u'Enschede', u'\\u516c\\u7acb', 'http://kaoshi.edu.sina.com.cn/abroad/19581.html']"
       ]
      },
      {
       "output_type": "stream",
       "stream": "stdout",
       "text": [
        "\n",
        "['140', u'Karolinska Institute', u'\\u5361\\u7f57\\u6797\\u65af\\u5361\\u5b66\\u9662', u'\\u745e\\u5178', u'Stockholm', u'\\u4e0d\\u8be6', 'http://kaoshi.edu.sina.com.cn/abroad/19480.html']"
       ]
      },
      {
       "output_type": "stream",
       "stream": "stdout",
       "text": [
        "\n",
        "page in: 8\n",
        "['141', u'Columbia College Chicago (Chicago)', u'\\u829d\\u52a0\\u54e5\\u54e5\\u4f26\\u6bd4\\u4e9a\\u5b66\\u9662(\\u829d\\u52a0\\u54e5)', u'\\u7f8e\\u56fd', u'Chicago', u'\\u79c1\\u7acb', 'http://kaoshi.edu.sina.com.cn/abroad/12782.html']"
       ]
      },
      {
       "output_type": "stream",
       "stream": "stdout",
       "text": [
        "\n",
        "['142', u\"King's College London\", u'\\u4f26\\u6566\\u56fd\\u738b\\u5b66\\u9662', u'\\u82f1\\u56fd', u'London', u'\\u516c\\u7acb', 'http://kaoshi.edu.sina.com.cn/abroad/20207.html']"
       ]
      },
      {
       "output_type": "stream",
       "stream": "stdout",
       "text": [
        "\n",
        "['143', u'University of California, San Francisco (San Francisco)', u'\\u52a0\\u5dde\\u5927\\u5b66\\u65e7\\u91d1\\u5c71\\u5206\\u6821(\\u65e7\\u91d1\\u5c71)', u'\\u7f8e\\u56fd', u'San Francisco', u'\\u516c\\u7acb', 'http://kaoshi.edu.sina.com.cn/abroad/12035.html']"
       ]
      },
      {
       "output_type": "stream",
       "stream": "stdout",
       "text": [
        "\n",
        "['144', u'University of Washington (Seattle)', u'\\u534e\\u76db\\u987f\\u5927\\u5b66(\\u897f\\u96c5\\u56fe)', u'\\u7f8e\\u56fd', u'Seattle', u'\\u516c\\u7acb', 'http://kaoshi.edu.sina.com.cn/abroad/16418.html']"
       ]
      },
      {
       "output_type": "stream",
       "stream": "stdout",
       "text": [
        "\n",
        "['145', u\"Saint Mary's University\", u'\\u5723\\u739b\\u4e3d\\u5927\\u5b66', u'\\u52a0\\u62ff\\u5927', u'Halifax', u'\\u516c\\u7acb', 'http://kaoshi.edu.sina.com.cn/abroad/16669.html']"
       ]
      },
      {
       "output_type": "stream",
       "stream": "stdout",
       "text": [
        "\n",
        "['146', u'TU Dortmund University', u'\\u591a\\u7279\\u8499\\u5fb7\\u5de5\\u4e1a\\u5927\\u5b66', u'\\u5fb7\\u56fd', u'Dortmund', u'\\u4e0d\\u8be6', 'http://kaoshi.edu.sina.com.cn/abroad/17592.html']"
       ]
      },
      {
       "output_type": "stream",
       "stream": "stdout",
       "text": [
        "\n",
        "['147', u'University of Illinois at Urbana-Champaign (Champaign)', u'\\u4f0a\\u5229\\u8bfa\\u65af\\u5927\\u5b66\\u9999\\u69df\\u5206\\u6821(\\u9999\\u69df)', u'\\u7f8e\\u56fd', u'Champaign', u'\\u516c\\u7acb', 'http://kaoshi.edu.sina.com.cn/abroad/12948.html']"
       ]
      },
      {
       "output_type": "stream",
       "stream": "stdout",
       "text": [
        "\n",
        "['148', u'La Trobe University', u'\\u62c9\\u7b79\\u4f2f\\u5927\\u5b66', u'\\u6fb3\\u5927\\u5229\\u4e9a', u'Melbourne', u'\\u516c\\u7acb', 'http://kaoshi.edu.sina.com.cn/abroad/17184.html']"
       ]
      },
      {
       "output_type": "stream",
       "stream": "stdout",
       "text": [
        "\n",
        "['149', 'None', u'\\u5df4\\u9ece\\u5e08\\u8303\\u5b66\\u9662', u'\\u6cd5\\u56fd', u'0', u'\\u516c\\u7acb', 'http://kaoshi.edu.sina.com.cn/abroad/20427.html']"
       ]
      },
      {
       "output_type": "stream",
       "stream": "stdout",
       "text": [
        "\n",
        "['150', u'University of Massachusetts Amherst (Amherst)', u'\\u9ebb\\u7701\\u5927\\u5b66\\u963f\\u59c6\\u8d6b\\u65af\\u7279\\u5206\\u6821(\\u963f\\u59c6\\u65af\\u7279)', u'\\u7f8e\\u56fd', u'Amherst', u'\\u516c\\u7acb', 'http://kaoshi.edu.sina.com.cn/abroad/13715.html']"
       ]
      },
      {
       "output_type": "stream",
       "stream": "stdout",
       "text": [
        "\n",
        "['151', u'Georgia Institute of Technology (Atlanta)', u'\\u4e54\\u6cbb\\u4e9a\\u7406\\u5de5\\u5b66\\u9662(\\u4e9a\\u7279\\u5170\\u5927)', u'\\u7f8e\\u56fd', u'Atlanta', u'\\u516c\\u7acb', 'http://kaoshi.edu.sina.com.cn/abroad/12603.html']"
       ]
      },
      {
       "output_type": "stream",
       "stream": "stdout",
       "text": [
        "\n",
        "['152', u'Temasek Polytechnic', u'\\u6de1\\u9a6c\\u9521\\u7406\\u5de5\\u5b66\\u9662', u'\\u65b0\\u52a0\\u5761', u'Singapore', u'\\u516c\\u7acb', 'http://kaoshi.edu.sina.com.cn/abroad/19077.html']"
       ]
      },
      {
       "output_type": "stream",
       "stream": "stdout",
       "text": [
        "\n",
        "['153', u'University of Sheffield', u'\\u8c22\\u83f2\\u5c14\\u5fb7\\u5927\\u5b66', u'\\u82f1\\u56fd', u'Sheffield ', u'\\u516c\\u7acb', 'http://kaoshi.edu.sina.com.cn/abroad/17152.html']"
       ]
      },
      {
       "output_type": "stream",
       "stream": "stdout",
       "text": [
        "\n",
        "['154', u'Singapore Polytechnic', u'\\u65b0\\u52a0\\u5761\\u7406\\u5de5\\u5b66\\u9662', u'\\u65b0\\u52a0\\u5761', u'Singapore', u'\\u516c\\u7acb', 'http://kaoshi.edu.sina.com.cn/abroad/19075.html']"
       ]
      },
      {
       "output_type": "stream",
       "stream": "stdout",
       "text": [
        "\n",
        "['155', u'University of California, Irvine (Irvine)', u'\\u52a0\\u5dde\\u5927\\u5b66\\u6b27\\u6587\\u5206\\u6821(\\u6b27\\u6587)', u'\\u7f8e\\u56fd', u'Irvine', u'\\u516c\\u7acb', 'http://kaoshi.edu.sina.com.cn/abroad/12031.html']"
       ]
      },
      {
       "output_type": "stream",
       "stream": "stdout",
       "text": [
        "\n",
        "['156', u'Bentley College (Waltham) (Now: Bentley University)', u'\\u672c\\u7279\\u5229\\u5b66\\u9662(\\u6c83\\u5c14\\u745f\\u59c6)(\\u73b0\\u540d\\uff1a\\u672c\\u7279\\u5229\\u5927\\u5b66)', u'\\u7f8e\\u56fd', u'Waltham', u'\\u79c1\\u7acb', 'http://kaoshi.edu.sina.com.cn/abroad/13571.html']"
       ]
      },
      {
       "output_type": "stream",
       "stream": "stdout",
       "text": [
        "\n",
        "['157', u'University of Zurich', u'\\u82cf\\u9ece\\u4e16\\u5927\\u5b66', u'\\u745e\\u58eb', u'Z\\xfcrich', u'\\u516c\\u7acb', 'http://kaoshi.edu.sina.com.cn/abroad/19514.html']"
       ]
      },
      {
       "output_type": "stream",
       "stream": "stdout",
       "text": [
        "\n",
        "['158', u'Thompson Rivers University', u'\\u6c64\\u59c6\\u68ee\\u6cb3\\u5927\\u5b66', u'\\u52a0\\u62ff\\u5927', u'Kamloops', u'\\u516c\\u7acb', 'http://kaoshi.edu.sina.com.cn/abroad/16657.html']"
       ]
      },
      {
       "output_type": "stream",
       "stream": "stdout",
       "text": [
        "\n",
        "['159', u'University of St Andrews', u'\\u5723\\u5b89\\u5fb7\\u9c81\\u65af\\u5927\\u5b66', u'\\u82f1\\u56fd', u'St Andrews', u'\\u516c\\u7acb', 'http://kaoshi.edu.sina.com.cn/abroad/20251.html']"
       ]
      },
      {
       "output_type": "stream",
       "stream": "stdout",
       "text": [
        "\n",
        "['160', u'Michigan State University (East Lansing)', u'\\u5bc6\\u6b47\\u6839\\u5dde\\u7acb\\u5927\\u5b66(\\u4e1c\\u5170\\u8f9b)', u'\\u7f8e\\u56fd', u'East Lansing', u'\\u516c\\u7acb', 'http://kaoshi.edu.sina.com.cn/abroad/13810.html']"
       ]
      },
      {
       "output_type": "stream",
       "stream": "stdout",
       "text": [
        "\n",
        "page in: 9\n",
        "['161', u'Kyushu University', u'\\u4e5d\\u5dde\\u5927\\u5b66', u'\\u65e5\\u672c', u'\\u798f\\u5ca1\\u5e02', u'\\u56fd\\u7acb', 'http://kaoshi.edu.sina.com.cn/abroad/18196.html']"
       ]
      },
      {
       "output_type": "stream",
       "stream": "stdout",
       "text": [
        "\n",
        "['162', u'University of Wisconsin-Madison (Madison)', u'\\u5a01\\u65af\\u5eb7\\u661f\\u5927\\u5b66\\u9ea6\\u8fea\\u900a\\u5206\\u6821(\\u9ea6\\u8fea\\u900a)', u'\\u7f8e\\u56fd', u'Madison', u'\\u516c\\u7acb', 'http://kaoshi.edu.sina.com.cn/abroad/16528.html']"
       ]
      },
      {
       "output_type": "stream",
       "stream": "stdout",
       "text": [
        "\n",
        "['163', u'Osaka University', u'\\u5927\\u962a\\u5927\\u5b66', u'\\u65e5\\u672c', u'\\u5439\\u7530\\u5e02', u'\\u56fd\\u7acb', 'http://kaoshi.edu.sina.com.cn/abroad/18175.html']"
       ]
      },
      {
       "output_type": "stream",
       "stream": "stdout",
       "text": [
        "\n",
        "['164', u'University of Stuttgart', u'\\u65af\\u56fe\\u52a0\\u7279\\u5927\\u5b66', u'\\u5fb7\\u56fd', u'Stuttgart', u'\\u516c\\u7acb', 'http://kaoshi.edu.sina.com.cn/abroad/17804.html']"
       ]
      },
      {
       "output_type": "stream",
       "stream": "stdout",
       "text": [
        "\n",
        "['165', u'Curtin University of Technology (Now: Curtin University)', u'\\u79d1\\u5ef7\\u7406\\u5de5\\u5927\\u5b66(\\u73b0\\u540d\\uff1a\\u79d1\\u5ef7\\u5927\\u5b66)', u'\\u6fb3\\u5927\\u5229\\u4e9a', u'Bentley', u'\\u516c\\u7acb', 'http://kaoshi.edu.sina.com.cn/abroad/17178.html']"
       ]
      },
      {
       "output_type": "stream",
       "stream": "stdout",
       "text": [
        "\n",
        "['166', u'UNITEC Institute of Technology', u'\\u65b0\\u897f\\u5170\\u56fd\\u7acb\\u7406\\u5de5\\u5b66\\u9662', u'\\u65b0\\u897f\\u5170', u'Auckland', u'\\u516c\\u7acb', 'http://kaoshi.edu.sina.com.cn/abroad/17231.html']"
       ]
      },
      {
       "output_type": "stream",
       "stream": "stdout",
       "text": [
        "\n",
        "['167', u'Auckland University of Technology', u'\\u5965\\u514b\\u5170\\u7406\\u5de5\\u5927\\u5b66', u'\\u65b0\\u897f\\u5170', u'Auckland', u'\\u516c\\u7acb', 'http://kaoshi.edu.sina.com.cn/abroad/17211.html']"
       ]
      },
      {
       "output_type": "stream",
       "stream": "stdout",
       "text": [
        "\n",
        "['168', u'University of Minnesota-Twin Cities (Minneapolis)', u'\\u660e\\u5c3c\\u82cf\\u8fbe\\u5927\\u5b66\\u53cc\\u57ce\\u5206\\u6821(\\u660e\\u5c3c\\u963f\\u6ce2\\u5229\\u65af)', u'\\u7f8e\\u56fd', u'Minneapolis', u'\\u516c\\u7acb', 'http://kaoshi.edu.sina.com.cn/abroad/13974.html']"
       ]
      },
      {
       "output_type": "stream",
       "stream": "stdout",
       "text": [
        "\n",
        "['169', u'Technical University of Hamburg', u'\\u6c49\\u5821-\\u54c8\\u5c14\\u5821\\u5de5\\u4e1a\\u5927\\u5b66', u'\\u5fb7\\u56fd', u'Hamburg', u'\\u516c\\u7acb', 'http://kaoshi.edu.sina.com.cn/abroad/17651.html']"
       ]
      },
      {
       "output_type": "stream",
       "stream": "stdout",
       "text": [
        "\n",
        "['170', u'Tokyo University of Marine Science and Technology', u'\\u4e1c\\u4eac\\u6c34\\u4ea7\\u5927\\u5b66(\\u73b0\\u540d\\uff1a\\u4e1c\\u4eac\\u6d77\\u6d0b\\u5927\\u5b66)', u'\\u65e5\\u672c', u'\\u6e2f\\u533a', u'\\u56fd\\u7acb', 'http://kaoshi.edu.sina.com.cn/abroad/18145.html']"
       ]
      },
      {
       "output_type": "stream",
       "stream": "stdout",
       "text": [
        "\n",
        "['171', u'Texas State University (San Marcos)', u'\\u5fb7\\u514b\\u8428\\u65af\\u5dde\\u7acb\\u5927\\u5b66(\\u5723\\u9a6c\\u79d1\\u65af)', u'\\u7f8e\\u56fd', u'San Marcos', u'\\u516c\\u7acb', 'http://kaoshi.edu.sina.com.cn/abroad/16033.html']"
       ]
      },
      {
       "output_type": "stream",
       "stream": "stdout",
       "text": [
        "\n",
        "['172', u'Lincoln University', u'\\u6797\\u80af\\u5927\\u5b66(\\u65b0\\u897f\\u5170)', u'\\u65b0\\u897f\\u5170', u'Lincoln', u'\\u516c\\u7acb', 'http://kaoshi.edu.sina.com.cn/abroad/17212.html']"
       ]
      },
      {
       "output_type": "stream",
       "stream": "stdout",
       "text": [
        "\n",
        "['173', u'The University of Dublin, Trinity College (TCD)', u'\\u90fd\\u67cf\\u6797\\u5927\\u5b66\\u5723\\u4e09\\u4e00\\u5b66\\u9662', u'\\u7231\\u5c14\\u5170', u'Dublin', u'\\u4e0d\\u8be6', 'http://kaoshi.edu.sina.com.cn/abroad/17244.html']"
       ]
      },
      {
       "output_type": "stream",
       "stream": "stdout",
       "text": [
        "\n",
        "['174', u'Hanze University Groningen', u'\\u683c\\u7f57\\u5b81\\u6839\\u6c49\\u65af\\u5927\\u5b66', u'\\u8377\\u5170', u'Groningen', u'\\u4e0d\\u8be6', 'http://kaoshi.edu.sina.com.cn/abroad/19597.html']"
       ]
      },
      {
       "output_type": "stream",
       "stream": "stdout",
       "text": [
        "\n",
        "['175', u'Hanken School of Economics', u'\\u6c49\\u80af\\u7ecf\\u6d4e\\u5b66\\u9662', u'\\u82ac\\u5170', u'Helsinki', u'\\u516c\\u7acb', 'http://kaoshi.edu.sina.com.cn/abroad/19094.html']"
       ]
      },
      {
       "output_type": "stream",
       "stream": "stdout",
       "text": [
        "\n",
        "['176', u'Braunschweig University of Technology', u'\\u5e03\\u4f26\\u745e\\u514b\\u5de5\\u4e1a\\u5927\\u5b66', u'\\u5fb7\\u56fd', u'Braunschweig', u'\\u516c\\u7acb', 'http://kaoshi.edu.sina.com.cn/abroad/17571.html']"
       ]
      },
      {
       "output_type": "stream",
       "stream": "stdout",
       "text": [
        "\n",
        "['177', u'University of Sussex', u'\\u8428\\u585e\\u514b\\u65af\\u5927\\u5b66', u'\\u82f1\\u56fd', u'Falmer', u'\\u4e0d\\u8be6', 'http://kaoshi.edu.sina.com.cn/abroad/20260.html']"
       ]
      },
      {
       "ename": "UnexpectedAlertPresentException",
       "evalue": "Message: u'unexpected alert open\\n  (Session info: chrome=34.0.1847.116)\\n  (Driver info: chromedriver=2.9.248304,platform=Linux 3.11.0-15-generic x86_64)' ",
       "output_type": "pyerr",
       "traceback": [
        "\u001b[1;31m---------------------------------------------------------------------------\u001b[0m\n\u001b[1;31mUnexpectedAlertPresentException\u001b[0m           Traceback (most recent call last)",
        "\u001b[1;32m<ipython-input-6-c2017e03a847>\u001b[0m in \u001b[0;36m<module>\u001b[1;34m()\u001b[0m\n\u001b[0;32m      3\u001b[0m     \u001b[1;32mfor\u001b[0m \u001b[0mpage\u001b[0m \u001b[1;32min\u001b[0m \u001b[0mrange\u001b[0m\u001b[1;33m(\u001b[0m\u001b[1;36m100\u001b[0m\u001b[1;33m)\u001b[0m\u001b[1;33m:\u001b[0m\u001b[1;33m\u001b[0m\u001b[0m\n\u001b[0;32m      4\u001b[0m         \u001b[1;32mfor\u001b[0m \u001b[0midx\u001b[0m\u001b[1;33m,\u001b[0m\u001b[0mrow\u001b[0m \u001b[1;32min\u001b[0m \u001b[0mcatch_txt\u001b[0m\u001b[1;33m(\u001b[0m\u001b[0mpage\u001b[0m\u001b[1;33m)\u001b[0m\u001b[1;33m:\u001b[0m\u001b[1;33m\u001b[0m\u001b[0m\n\u001b[1;32m----> 5\u001b[1;33m             \u001b[0mschoolinfo\u001b[0m \u001b[1;33m=\u001b[0m \u001b[0mgettext\u001b[0m\u001b[1;33m(\u001b[0m\u001b[0midx\u001b[0m\u001b[1;33m,\u001b[0m \u001b[0mrow\u001b[0m\u001b[1;33m)\u001b[0m\u001b[1;33m\u001b[0m\u001b[0m\n\u001b[0m\u001b[0;32m      6\u001b[0m             \u001b[1;32mprint\u001b[0m \u001b[0mschoolinfo\u001b[0m\u001b[1;33m\u001b[0m\u001b[0m\n\u001b[0;32m      7\u001b[0m             \u001b[0mtemp\u001b[0m\u001b[1;33m.\u001b[0m\u001b[0mappend\u001b[0m\u001b[1;33m(\u001b[0m\u001b[0mschoolinfo\u001b[0m\u001b[1;33m)\u001b[0m\u001b[1;33m\u001b[0m\u001b[0m\n",
        "\u001b[1;32m<ipython-input-5-0936410138dc>\u001b[0m in \u001b[0;36mgettext\u001b[1;34m(idx, row)\u001b[0m\n\u001b[0;32m      3\u001b[0m     \u001b[0mschtext\u001b[0m \u001b[1;33m=\u001b[0m \u001b[0mrow\u001b[0m\u001b[1;33m.\u001b[0m\u001b[0mtext\u001b[0m\u001b[1;33m.\u001b[0m\u001b[0mstrip\u001b[0m\u001b[1;33m(\u001b[0m\u001b[1;33m)\u001b[0m\u001b[1;33m.\u001b[0m\u001b[0msplit\u001b[0m\u001b[1;33m(\u001b[0m\u001b[1;34m'\\n'\u001b[0m\u001b[1;33m)\u001b[0m\u001b[1;33m\u001b[0m\u001b[0m\n\u001b[0;32m      4\u001b[0m     \u001b[0murl\u001b[0m \u001b[1;33m=\u001b[0m \u001b[0mrow\u001b[0m\u001b[1;33m.\u001b[0m\u001b[0mfind\u001b[0m\u001b[1;33m(\u001b[0m\u001b[1;34m'a'\u001b[0m\u001b[1;33m,\u001b[0m \u001b[0mattrs\u001b[0m\u001b[1;33m=\u001b[0m\u001b[1;33m{\u001b[0m\u001b[1;34m'target'\u001b[0m\u001b[1;33m:\u001b[0m \u001b[1;34m\"_blank\"\u001b[0m\u001b[1;33m}\u001b[0m\u001b[1;33m)\u001b[0m\u001b[1;33m.\u001b[0m\u001b[0mget\u001b[0m\u001b[1;33m(\u001b[0m\u001b[1;34m'href'\u001b[0m\u001b[1;33m)\u001b[0m\u001b[1;33m\u001b[0m\u001b[0m\n\u001b[1;32m----> 5\u001b[1;33m     \u001b[0mnameoutput\u001b[0m \u001b[1;33m=\u001b[0m \u001b[0mcontactFrame\u001b[0m\u001b[1;33m(\u001b[0m\u001b[0murl\u001b[0m\u001b[1;33m)\u001b[0m\u001b[1;33m\u001b[0m\u001b[0m\n\u001b[0m\u001b[0;32m      6\u001b[0m     \u001b[0moutput\u001b[0m \u001b[1;33m=\u001b[0m \u001b[1;33m[\u001b[0m\u001b[0mitemid\u001b[0m\u001b[1;33m,\u001b[0m\u001b[0mnameoutput\u001b[0m\u001b[1;33m]\u001b[0m \u001b[1;33m+\u001b[0m \u001b[0mschtext\u001b[0m\u001b[1;33m[\u001b[0m\u001b[1;33m:\u001b[0m\u001b[1;33m-\u001b[0m\u001b[1;36m1\u001b[0m\u001b[1;33m]\u001b[0m \u001b[1;33m+\u001b[0m \u001b[1;33m[\u001b[0m\u001b[0murl\u001b[0m\u001b[1;33m]\u001b[0m\u001b[1;33m\u001b[0m\u001b[0m\n\u001b[0;32m      7\u001b[0m     \u001b[1;32mreturn\u001b[0m \u001b[0moutput\u001b[0m\u001b[1;33m\u001b[0m\u001b[0m\n",
        "\u001b[1;32m<ipython-input-4-fff5d40a74c9>\u001b[0m in \u001b[0;36mcontactFrame\u001b[1;34m(url)\u001b[0m\n\u001b[0;32m      9\u001b[0m         \u001b[0mdriver\u001b[0m\u001b[1;33m.\u001b[0m\u001b[0mget\u001b[0m\u001b[1;33m(\u001b[0m\u001b[0murl\u001b[0m\u001b[1;33m)\u001b[0m\u001b[1;33m\u001b[0m\u001b[0m\n\u001b[0;32m     10\u001b[0m         \u001b[1;32mtry\u001b[0m\u001b[1;33m:\u001b[0m\u001b[1;33m\u001b[0m\u001b[0m\n\u001b[1;32m---> 11\u001b[1;33m             \u001b[0mdriver\u001b[0m\u001b[1;33m.\u001b[0m\u001b[0mswitch_to_frame\u001b[0m\u001b[1;33m(\u001b[0m\u001b[1;34m'contactFrame'\u001b[0m\u001b[1;33m)\u001b[0m\u001b[1;33m\u001b[0m\u001b[0m\n\u001b[0m\u001b[0;32m     12\u001b[0m             \u001b[0mname\u001b[0m \u001b[1;33m=\u001b[0m \u001b[0mdriver\u001b[0m\u001b[1;33m.\u001b[0m\u001b[0mfind_element_by_xpath\u001b[0m\u001b[1;33m(\u001b[0m\u001b[1;34m'/html/body/div[1]/div/div/div[2]/h4'\u001b[0m\u001b[1;33m)\u001b[0m\u001b[1;33m\u001b[0m\u001b[0m\n\u001b[0;32m     13\u001b[0m         \u001b[1;32mexcept\u001b[0m \u001b[0mNoSuchFrameException\u001b[0m \u001b[1;32mor\u001b[0m \u001b[0mNoSuchElementException\u001b[0m\u001b[1;33m:\u001b[0m\u001b[1;33m\u001b[0m\u001b[0m\n",
        "\u001b[1;32m/usr/local/lib/python2.7/dist-packages/selenium/webdriver/remote/webdriver.pyc\u001b[0m in \u001b[0;36mswitch_to_frame\u001b[1;34m(self, frame_reference)\u001b[0m\n\u001b[0;32m    517\u001b[0m             \u001b[0mdriver\u001b[0m\u001b[1;33m.\u001b[0m\u001b[0mswitch_to_frame\u001b[0m\u001b[1;33m(\u001b[0m\u001b[0mdriver\u001b[0m\u001b[1;33m.\u001b[0m\u001b[0mfind_elements_by_tag_name\u001b[0m\u001b[1;33m(\u001b[0m\u001b[1;34m\"iframe\"\u001b[0m\u001b[1;33m)\u001b[0m\u001b[1;33m[\u001b[0m\u001b[1;36m0\u001b[0m\u001b[1;33m]\u001b[0m\u001b[1;33m)\u001b[0m\u001b[1;33m\u001b[0m\u001b[0m\n\u001b[0;32m    518\u001b[0m         \"\"\"\n\u001b[1;32m--> 519\u001b[1;33m         \u001b[0mself\u001b[0m\u001b[1;33m.\u001b[0m\u001b[0mexecute\u001b[0m\u001b[1;33m(\u001b[0m\u001b[0mCommand\u001b[0m\u001b[1;33m.\u001b[0m\u001b[0mSWITCH_TO_FRAME\u001b[0m\u001b[1;33m,\u001b[0m \u001b[1;33m{\u001b[0m\u001b[1;34m'id'\u001b[0m\u001b[1;33m:\u001b[0m \u001b[0mframe_reference\u001b[0m\u001b[1;33m}\u001b[0m\u001b[1;33m)\u001b[0m\u001b[1;33m\u001b[0m\u001b[0m\n\u001b[0m\u001b[0;32m    520\u001b[0m \u001b[1;33m\u001b[0m\u001b[0m\n\u001b[0;32m    521\u001b[0m     \u001b[1;32mdef\u001b[0m \u001b[0mswitch_to_default_content\u001b[0m\u001b[1;33m(\u001b[0m\u001b[0mself\u001b[0m\u001b[1;33m)\u001b[0m\u001b[1;33m:\u001b[0m\u001b[1;33m\u001b[0m\u001b[0m\n",
        "\u001b[1;32m/usr/local/lib/python2.7/dist-packages/selenium/webdriver/remote/webdriver.pyc\u001b[0m in \u001b[0;36mexecute\u001b[1;34m(self, driver_command, params)\u001b[0m\n\u001b[0;32m    162\u001b[0m         \u001b[0mresponse\u001b[0m \u001b[1;33m=\u001b[0m \u001b[0mself\u001b[0m\u001b[1;33m.\u001b[0m\u001b[0mcommand_executor\u001b[0m\u001b[1;33m.\u001b[0m\u001b[0mexecute\u001b[0m\u001b[1;33m(\u001b[0m\u001b[0mdriver_command\u001b[0m\u001b[1;33m,\u001b[0m \u001b[0mparams\u001b[0m\u001b[1;33m)\u001b[0m\u001b[1;33m\u001b[0m\u001b[0m\n\u001b[0;32m    163\u001b[0m         \u001b[1;32mif\u001b[0m \u001b[0mresponse\u001b[0m\u001b[1;33m:\u001b[0m\u001b[1;33m\u001b[0m\u001b[0m\n\u001b[1;32m--> 164\u001b[1;33m             \u001b[0mself\u001b[0m\u001b[1;33m.\u001b[0m\u001b[0merror_handler\u001b[0m\u001b[1;33m.\u001b[0m\u001b[0mcheck_response\u001b[0m\u001b[1;33m(\u001b[0m\u001b[0mresponse\u001b[0m\u001b[1;33m)\u001b[0m\u001b[1;33m\u001b[0m\u001b[0m\n\u001b[0m\u001b[0;32m    165\u001b[0m             response['value'] = self._unwrap_value(\n\u001b[0;32m    166\u001b[0m                 response.get('value', None))\n",
        "\u001b[1;32m/usr/local/lib/python2.7/dist-packages/selenium/webdriver/remote/errorhandler.pyc\u001b[0m in \u001b[0;36mcheck_response\u001b[1;34m(self, response)\u001b[0m\n\u001b[0;32m    162\u001b[0m         \u001b[1;32mif\u001b[0m \u001b[0mexception_class\u001b[0m \u001b[1;33m==\u001b[0m \u001b[0mErrorInResponseException\u001b[0m\u001b[1;33m:\u001b[0m\u001b[1;33m\u001b[0m\u001b[0m\n\u001b[0;32m    163\u001b[0m             \u001b[1;32mraise\u001b[0m \u001b[0mexception_class\u001b[0m\u001b[1;33m(\u001b[0m\u001b[0mresponse\u001b[0m\u001b[1;33m,\u001b[0m \u001b[0mmessage\u001b[0m\u001b[1;33m)\u001b[0m\u001b[1;33m\u001b[0m\u001b[0m\n\u001b[1;32m--> 164\u001b[1;33m         \u001b[1;32mraise\u001b[0m \u001b[0mexception_class\u001b[0m\u001b[1;33m(\u001b[0m\u001b[0mmessage\u001b[0m\u001b[1;33m,\u001b[0m \u001b[0mscreen\u001b[0m\u001b[1;33m,\u001b[0m \u001b[0mstacktrace\u001b[0m\u001b[1;33m)\u001b[0m\u001b[1;33m\u001b[0m\u001b[0m\n\u001b[0m\u001b[0;32m    165\u001b[0m \u001b[1;33m\u001b[0m\u001b[0m\n\u001b[0;32m    166\u001b[0m     \u001b[1;32mdef\u001b[0m \u001b[0m_value_or_default\u001b[0m\u001b[1;33m(\u001b[0m\u001b[0mself\u001b[0m\u001b[1;33m,\u001b[0m \u001b[0mobj\u001b[0m\u001b[1;33m,\u001b[0m \u001b[0mkey\u001b[0m\u001b[1;33m,\u001b[0m \u001b[0mdefault\u001b[0m\u001b[1;33m)\u001b[0m\u001b[1;33m:\u001b[0m\u001b[1;33m\u001b[0m\u001b[0m\n",
        "\u001b[1;31mUnexpectedAlertPresentException\u001b[0m: Message: u'unexpected alert open\\n  (Session info: chrome=34.0.1847.116)\\n  (Driver info: chromedriver=2.9.248304,platform=Linux 3.11.0-15-generic x86_64)' "
       ]
      },
      {
       "output_type": "stream",
       "stream": "stdout",
       "text": [
        "\n"
       ]
      }
     ],
     "prompt_number": 6
    }
   ],
   "metadata": {}
  }
 ]
}