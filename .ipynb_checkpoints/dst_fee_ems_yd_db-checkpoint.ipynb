{
 "metadata": {
  "name": ""
 },
 "nbformat": 3,
 "nbformat_minor": 0,
 "worksheets": [
  {
   "cells": [
    {
     "cell_type": "code",
     "collapsed": false,
     "input": [
      "from selenium import webdriver\n",
      "from selenium.webdriver.common.by import By\n",
      "from selenium.webdriver.common.keys import Keys\n",
      "from selenium.webdriver.support.ui import Select\n",
      "from selenium.common.exceptions import NoSuchElementException\n",
      "import pyperclip\n",
      "import time"
     ],
     "language": "python",
     "metadata": {},
     "outputs": [],
     "prompt_number": 1
    },
    {
     "cell_type": "code",
     "collapsed": false,
     "input": [
      "# PROV_FROM = [u\"\u5e7f\u4e1c\", u\"\u6c5f\u82cf\", u\"\u9655\u897f\", u\"\u56db\u5ddd\", u\"\u5929\u6d25\"]\n",
      "# PROV_TO = [u\"\u5b89\u5fbd\", u\"\u5317\u4eac\", u\"\u798f\u5efa\", u\"\u7518\u8083\", u\"\u5e7f\u4e1c\", u\"\u5e7f\u897f\", u\"\u8d35\u5dde\", u\"\u6d77\u5357\", u\"\u6cb3\u5317\", u\"\u6cb3\u5357\", u\"\u9ed1\u9f99\u6c5f\", u\"\u6e56\u5317\", u\"\u6e56\u5357\", u\"\u5409\u6797\", u\"\u6c5f\u82cf\", u\"\u6c5f\u897f\", u\"\u8fbd\u5b81\", u\"\u5185\u8499\u53e4\", u\"\u5b81\u590f\", u\"\u9752\u6d77\", u\"\u5c71\u4e1c\", u\"\u5c71\u897f\", u\"\u9655\u897f\", u\"\u4e0a\u6d77\", u\"\u56db\u5ddd\", u\"\u5929\u6d25\", u\"\u897f\u85cf\", u\"\u65b0\u7586\", u\"\u4e91\u5357\", u\"\u6d59\u6c5f\", u\"\u91cd\u5e86\"]"
     ],
     "language": "python",
     "metadata": {},
     "outputs": [],
     "prompt_number": 2
    },
    {
     "cell_type": "code",
     "collapsed": false,
     "input": [
      "PROV_FROM = [u'\u6c5f\u82cf\u7701-\u5357\u4eac\u5e02-\u6816\u971e\u533a', u'\u5e7f\u4e1c\u7701-\u5e7f\u5dde\u5e02-\u82b1\u90fd\u533a', u'\u5929\u6d25\u5e02-\u5929\u6d25\u5e02-\u4e1c\u4e3d\u533a', u'\u9655\u897f\u7701-\u897f\u5b89\u5e02-\u65b0\u57ce\u533a', u'\u56db\u5ddd\u7701-\u6210\u90fd\u5e02-\u9f99\u6cc9\u9a7f\u533a']\n",
      "PROV_TO = [arrivedCityName.strip() for arrivedCityName in open('arrivedCityName.txt','r').readlines()]"
     ],
     "language": "python",
     "metadata": {},
     "outputs": [],
     "prompt_number": 3
    },
    {
     "cell_type": "code",
     "collapsed": false,
     "input": [
      "def getfeeems(addressfrom, addressto):\n",
      "    Select(driver.find_element_by_id(\"addressfrom\")).select_by_value(addressfrom)\n",
      "    Select(driver.find_element_by_id(\"addressto\")).select_by_value(addressto)\n",
      "    driver.find_element_by_name(\"weight\").clear()\n",
      "    driver.find_element_by_name(\"weight\").send_keys(\"1\")\n",
      "    driver.find_element_by_class_name('table_btn').click()\n",
      "    ft = driver.find_element_by_name(\"result\")\n",
      "    ft.send_keys(Keys.CONTROL, 'a')\n",
      "    ft.send_keys(Keys.CONTROL, 'c')\n",
      "    ft.send_keys(Keys.CONTROL, 'a')\n",
      "    ft.send_keys(Keys.CONTROL, 'c')\n",
      "    return pyperclip.paste()\n",
      "\n",
      "def getfeeydkd(addressfrom, addressto):\n",
      "    Select(driver.find_element_by_id(\"is_air\")).select_by_visible_text(u\"\u975e\u822a\u7a7a\u4ef6\")\n",
      "    Select(driver.find_element_by_id(\"sfd\")).select_by_visible_text(addressfrom)\n",
      "    Select(driver.find_element_by_id(\"mdd\")).select_by_visible_text(addressto)\n",
      "    driver.find_element_by_name(\"zl\").clear()\n",
      "    driver.find_element_by_name(\"zl\").send_keys(\"1\")\n",
      "    driver.find_element_by_xpath(u\"//input[@value='\u67e5 \u8be2']\").click()\n",
      "    ft = driver.find_element_by_id(\"fy\")\n",
      "    return ft.text[:2]\n",
      "\n",
      "def getfeedb(addressfrom, addressto):\n",
      "    driver.find_element_by_id(\"leavedCityName\").clear()\n",
      "    driver.find_element_by_id(\"leavedCityName\").send_keys(addressfrom)\n",
      "    driver.find_element_by_id(\"arrivedCityName\").clear()\n",
      "    driver.find_element_by_id(\"arrivedCityName\").send_keys(addressto)\n",
      "    driver.find_element_by_xpath(u\"//input[@value='\u67e5\u8be2']\").click()\n",
      "    try:\n",
      "        ft = driver.find_elements_by_class_name(\"td_fir\")\n",
      "    except NoSuchElementException:\n",
      "        return 'None'\n",
      "    else:\n",
      "        temp = [x.text for x in ft]\n",
      "        return str(temp[-1]) if len(temp) == 4 else 'None'\n",
      "\n",
      "def feeoutput(fname,fee):\n",
      "    temp = []\n",
      "    pyperclip.setcb('0')\n",
      "    for addressfrom in PROV_FROM:\n",
      "        for addressto in PROV_TO:\n",
      "            driver.get(url)\n",
      "            fees = fee(addressfrom, addressto)\n",
      "            temp.append((addressfrom,addressto,fees))\n",
      "            print addressto, fees\n",
      "    with open(fname,'wb') as f:\n",
      "        for afrom,ato,fee in temp:\n",
      "            f.write(\"%s\\t%s\\t%s\\n\" % (afrom.encode('utf-8'),ato.encode('utf-8'),fee.encode('utf-8')))"
     ],
     "language": "python",
     "metadata": {},
     "outputs": [],
     "prompt_number": 4
    },
    {
     "cell_type": "code",
     "collapsed": false,
     "input": [
      "driver = webdriver.Chrome('./chromedriver')\n",
      "driver.implicitly_wait(30)\n",
      "t = raw_input('\u8bf7\u786e\u5b9a\u5e73\u53f0\u7269\u6d41\u5546:1.EMS,2.\u97f5\u8fbe,3.\u5fb7\u90a6')\n",
      "if t == '1':\n",
      "    url = \"http://www.yundaex.com/yunfei.html\"\n",
      "    feeoutput('dst_fee_ems.txt',getfeeems)\n",
      "elif t == '2':\n",
      "    url = \"http://www.yundaex.com/yunfei.html\"\n",
      "    feeoutput('dst_fee_ydkd.txt',getfeeydkd)\n",
      "else:\n",
      "    url = \"http://www.deppon.com/jiageresult/\"\n",
      "    feeoutput('dst_fee_db.txt',getfeedb)"
     ],
     "language": "python",
     "metadata": {},
     "outputs": [
      {
       "ename": "NameError",
       "evalue": "name 'webdriver' is not defined",
       "output_type": "pyerr",
       "traceback": [
        "\u001b[1;31m---------------------------------------------------------------------------\u001b[0m\n\u001b[1;31mNameError\u001b[0m                                 Traceback (most recent call last)",
        "\u001b[1;32m<ipython-input-1-225c720e6b40>\u001b[0m in \u001b[0;36m<module>\u001b[1;34m()\u001b[0m\n\u001b[1;32m----> 1\u001b[1;33m \u001b[0mdriver\u001b[0m \u001b[1;33m=\u001b[0m \u001b[0mwebdriver\u001b[0m\u001b[1;33m.\u001b[0m\u001b[0mChrome\u001b[0m\u001b[1;33m(\u001b[0m\u001b[1;34m'./chromedriver'\u001b[0m\u001b[1;33m)\u001b[0m\u001b[1;33m\u001b[0m\u001b[0m\n\u001b[0m\u001b[0;32m      2\u001b[0m \u001b[0mdriver\u001b[0m\u001b[1;33m.\u001b[0m\u001b[0mimplicitly_wait\u001b[0m\u001b[1;33m(\u001b[0m\u001b[1;36m30\u001b[0m\u001b[1;33m)\u001b[0m\u001b[1;33m\u001b[0m\u001b[0m\n",
        "\u001b[1;31mNameError\u001b[0m: name 'webdriver' is not defined"
       ]
      }
     ],
     "prompt_number": 1
    }
   ],
   "metadata": {}
  }
 ]
}