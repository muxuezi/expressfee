{
 "metadata": {
  "name": ""
 },
 "nbformat": 3,
 "nbformat_minor": 0,
 "worksheets": [
  {
   "cells": [
    {
     "cell_type": "code",
     "collapsed": false,
     "input": [
      "import pandas as pd\n",
      "from glob import glob\n",
      "from collections import defaultdict\n",
      "import sys\n",
      "reload(sys)\n",
      "sys.setdefaultencoding('utf-8')\n",
      "print sys.getdefaultencoding()"
     ],
     "language": "python",
     "metadata": {},
     "outputs": [],
     "prompt_number": 9
    },
    {
     "cell_type": "code",
     "collapsed": false,
     "input": [
      "#\u81ea\u52a8\u52a0\u8f7d\u6240\u6709excel\uff0c\u8f93\u51fa\u6c47\u603bexcel\uff0c\u540d\u79f0\u4e3a\u201dT_\u6587\u4ef6\u540d\u201c\n",
      "def showobj(obj):\n",
      "    for idx,l in enumerate(obj):\n",
      "        print idx+1,l\n",
      "def objnames(bookall):\n",
      "    allcol = bookall.columns\n",
      "    print u'\u6240\u6709\u5217\u540d:\\n',bookall.columns\n",
      "#     link_obj = raw_input(u'\u8bf7\u8f93\u5165\u8981\u8fde\u63a5\u7684\u5217\u540d,\u7528\u9017\u53f7\u5206\u5272:\\n')\n",
      "    link_obj = [u'\u4e66\u540d2',u'\u5907\u6ce8',u'\u5907\u6ce81']\n",
      "    print u'\u8981\u8fde\u63a5\u7684\u5217\u540d:\\n',showobj(link_obj)\n",
      "#     add_obj = raw_input(u'\u8bf7\u8f93\u5165\u8981\u76f8\u52a0\u7684\u5217\u540d,\u7528\u9017\u53f7\u5206\u5272:\\n')\n",
      "    add_obj = [u'\u5408\u8ba1\u5e93\u5b58\u6570\u91cf',u'\u4fdd\u75591\u5e74\u9500\u552e\u540e\u62a5\u5e9f\u6570\u91cf',u'\u62a5\u5e9f\u7801\u6d0b']\n",
      "    print u'\u8981\u76f8\u52a0\u7684\u5217\u540d:\\n',showobj(add_obj)\n",
      "    return allcol, link_obj, add_obj"
     ],
     "language": "python",
     "metadata": {},
     "outputs": [],
     "prompt_number": 2
    },
    {
     "cell_type": "code",
     "collapsed": false,
     "input": [
      "fname = u'201403QHBF.xlsx'\n",
      "outputfname = 'T_'+fname\n",
      "sheetname = pd.ExcelFile(fname).sheet_names[0]\n",
      "bookall = pd.read_excel(fname, sheetname, encoding='utf-8')\n",
      "allcol, link_obj, add_obj = objnames(bookall)\n",
      "obj = 'ISBN'\n",
      "#     bookall = bookall.fillna()\n",
      "bookgroup = bookall.groupby(obj)\n",
      "#     print bookgroup.groups\n",
      "bookgps = defaultdict(list)\n",
      "for k,v in bookgroup.groups.items():\n",
      "    if len(v) > 1:\n",
      "        print v\n",
      "        for i in allcol[1:]:\n",
      "            if i in link_obj:\n",
      "                showobj(bookall.ix[v,i].values)\n",
      "                bookgps[k].append('&&'.join([str(x) for x in bookall.ix[v,i].values]))\n",
      "            if i in add_obj:\n",
      "                bookgps[k].append(bookall.ix[v,i].sum())\n",
      "            else:\n",
      "                bookgps[k].append(bookall.ix[v,i].values)"
     ],
     "language": "python",
     "metadata": {},
     "outputs": [],
     "prompt_number": 3
    },
    {
     "cell_type": "code",
     "collapsed": false,
     "input": [
      "print chardet.detect(u'\u53d1\u4e66\u7801\u6d0b.3')\n",
      "print '&&'.join([u'\u53d1\u4e66\u7801\u6d0b.3','1'])"
     ],
     "language": "python",
     "metadata": {},
     "outputs": [],
     "prompt_number": 4
    },
    {
     "cell_type": "code",
     "collapsed": false,
     "input": [
      "def booksort(fname):\n",
      "    outputfname = 'T_'+fname\n",
      "    sheetname = pd.ExcelFile(fname).sheet_names[0]\n",
      "    bookall = pd.read_excel(fname, sheetname)\n",
      "    allcol, link_obj, add_obj = objnames(bookall)\n",
      "    obj = 'ISBN'\n",
      "#     bookall = bookall.fillna()\n",
      "    bookgroup = bookall.groupby(obj)\n",
      "#     print bookgroup.groups\n",
      "    bookgps = defaultdict(list)\n",
      "    for k,v in bookgroup.groups.items():\n",
      "        if len(v) > 1:\n",
      "            print v\n",
      "            for i in allcol[1:]:\n",
      "                if i in link_obj:\n",
      "                    showobj(bookall.ix[v,i].values)\n",
      "                    bookgps[k].append('&&'.join([str(x) for x in bookall.ix[v,i].values]))\n",
      "                if i in add_obj:\n",
      "                    bookgps[k].append(bookall.ix[v,i].sum())\n",
      "                else:\n",
      "                    bookgps[k].append(bookall.ix[v,i].values)\n",
      "    booktotal = pd.DataFrame(data=bookgps,columns=bookall.columns).sort(obj, ascending=1)\n",
      "    booktotal.to_excel(outputfname,sheetname,index=False)\n",
      "   "
     ],
     "language": "python",
     "metadata": {},
     "outputs": [],
     "prompt_number": 5
    },
    {
     "cell_type": "code",
     "collapsed": false,
     "input": [
      "for fname in [f for f in glob('*.xls*') if not f.startswith('T')]:\n",
      "    booksort(fname)\n",
      "    print fname,u'\u5904\u7406\u5b8c\u6bd5'\n",
      "print 'K.O.'"
     ],
     "language": "python",
     "metadata": {},
     "outputs": [],
     "prompt_number": 6
    },
    {
     "cell_type": "code",
     "collapsed": false,
     "input": [],
     "language": "python",
     "metadata": {},
     "outputs": [],
     "prompt_number": 6
    }
   ],
   "metadata": {}
  }
 ]
}