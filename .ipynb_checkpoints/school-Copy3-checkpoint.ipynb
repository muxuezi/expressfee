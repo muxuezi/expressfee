{
 "metadata": {
  "name": ""
 },
 "nbformat": 3,
 "nbformat_minor": 0,
 "worksheets": [
  {
   "cells": [
    {
     "cell_type": "code",
     "collapsed": false,
     "input": [
      "from bs4 import BeautifulSoup\n",
      "import urllib2\n",
      "import re\n",
      "# import sys\n",
      "# reload(sys)\n",
      "# sys.setdefaultencoding('utf-8')\n",
      "import pandas as pd\n",
      "from selenium import webdriver\n",
      "from selenium.webdriver.common.by import By\n",
      "from selenium.webdriver.common.keys import Keys\n",
      "from selenium.webdriver.support.ui import Select\n",
      "from selenium.common.exceptions import *"
     ],
     "language": "python",
     "metadata": {},
     "outputs": [],
     "prompt_number": 1
    },
    {
     "cell_type": "code",
     "collapsed": false,
     "input": [
      "baseurl = \"http://kaoshi.edu.sina.com.cn/abroad/list.php?country=&type=&zhinanflag=&collegename=&page=\""
     ],
     "language": "python",
     "metadata": {},
     "outputs": [],
     "prompt_number": 2
    },
    {
     "cell_type": "code",
     "collapsed": false,
     "input": [
      "def catch_txt(url):\n",
      "    print 'page in: %s' % str(url + 1)\n",
      "    url = baseurl + str(url + 1)\n",
      "    page = urllib2.urlopen(url)\n",
      "    soup = BeautifulSoup(page.read())\n",
      "    table = soup.find('table', attrs={'bgcolor': \"#ABBEE6\"})\n",
      "    rows = table.findAll(lambda tag: tag.name == 'tr')\n",
      "    return enumerate(rows[1:])"
     ],
     "language": "python",
     "metadata": {},
     "outputs": [],
     "prompt_number": 3
    },
    {
     "cell_type": "code",
     "collapsed": false,
     "input": [
      "def contactFrame(url):\n",
      "    page = urllib2.urlopen(url)\n",
      "    esoup = BeautifulSoup(page.read())\n",
      "    ename = esoup.find('table', attrs={'width': \"98%\"}).text\n",
      "    txt = ename.strip().split('\\n')\n",
      "    if len(txt) == 1:\n",
      "        driver = webdriver.Chrome('./chromedriver')\n",
      "        driver.implicitly_wait(30)\n",
      "        driver.get(url)\n",
      "        try:\n",
      "            driver.switch_to_frame('contactFrame')\n",
      "            name = driver.find_element_by_xpath('/html/body/div[1]/div/div/div[2]/h4')\n",
      "        except NoSuchFrameException or NoSuchElementException:\n",
      "            driver.quit()\n",
      "            return 'None'\n",
      "        else:\n",
      "            txt = name.text.strip().split('\\n')\n",
      "#             driver.close()\n",
      "            driver.quit()\n",
      "            return txt[-1].strip() if len(txt) > 1 else 'None'\n",
      "    else:\n",
      "        return txt[-1].strip()"
     ],
     "language": "python",
     "metadata": {},
     "outputs": [],
     "prompt_number": 4
    },
    {
     "cell_type": "code",
     "collapsed": false,
     "input": [
      "def gettext(idx, row):\n",
      "    itemid = str(page * 20 + idx + 1)\n",
      "    schtext = row.text.strip().split('\\n')\n",
      "    url = row.find('a', attrs={'target': \"_blank\"}).get('href')\n",
      "    nameoutput = contactFrame(url)\n",
      "    output = [itemid,nameoutput] + schtext[:-1] + [url]\n",
      "    return output"
     ],
     "language": "python",
     "metadata": {},
     "outputs": [],
     "prompt_number": 5
    },
    {
     "cell_type": "code",
     "collapsed": false,
     "input": [
      "if __name__ == '__main__':\n",
      "    temp = []\n",
      "    for page in range(300,400):\n",
      "        for idx,row in catch_txt(page):\n",
      "            schoolinfo = gettext(idx, row)\n",
      "            print schoolinfo[0]\n",
      "            temp.append(schoolinfo)\n",
      "    df = pd.DataFrame(temp,columns=['id',u'\u9662\u6821\u540d\u79f0',u'\u4e2d\u6587\u540d\u79f0',u'\u56fd\u5bb6',u'\u57ce\u5e02',u'\u7c7b\u522b','url'])\n",
      "    df.to_excel(u'\u56fd\u5916\u9ad8\u68213.xlsx', u'\u56fd\u5916\u9ad8\u6821', index=False)"
     ],
     "language": "python",
     "metadata": {},
     "outputs": [
      {
       "output_type": "stream",
       "stream": "stdout",
       "text": [
        "page in: 601\n",
        "['12001', 'None', u'\\u591a\\u4f5b\\u5b66\\u9662(Dover College)', u'\\u82f1\\u56fd', u'', u'', u'\\u79c1\\u7acb\\u5927\\u5b66', 'http://kaoshi.edu.sina.com.cn/abroad/488.html']"
       ]
      },
      {
       "output_type": "stream",
       "stream": "stdout",
       "text": [
        "\n",
        "['12002', u'Copemhagen Business School', u'\\u54e5\\u672c\\u54c8\\u6839\\u5546\\u5b66\\u9662', u'\\u4e39\\u9ea6', u'', u'\\u516c\\u7acb\\u5927\\u5b66', 'http://kaoshi.edu.sina.com.cn/abroad/10235.html']"
       ]
      },
      {
       "output_type": "stream",
       "stream": "stdout",
       "text": [
        "\n",
        "['12003', u'Vaxja University', u'\\u97e6\\u514b\\u820d\\u5927\\u5b66', u'\\u745e\\u5178', u'', u'\\u516c\\u7acb\\u5927\\u5b66', 'http://kaoshi.edu.sina.com.cn/abroad/10804.html']"
       ]
      },
      {
       "output_type": "stream",
       "stream": "stdout",
       "text": [
        "\n",
        "['12004', 'None', u'\\u56fd\\u7acb\\u9ad8\\u5a01\\u5927\\u5b66', u'\\u7231\\u5c14\\u5170', u'', u'', u'\\u5927\\u5b66', 'http://kaoshi.edu.sina.com.cn/abroad/381.html']"
       ]
      },
      {
       "output_type": "stream",
       "stream": "stdout",
       "text": [
        "\n",
        "['12005', 'None', u'\\u963f\\u5bbe\\u987f\\u5b66\\u6821(Abingdon School)', u'\\u82f1\\u56fd', u'', u'', u'\\u4e2d\\u5b66', 'http://kaoshi.edu.sina.com.cn/abroad/457.html']"
       ]
      },
      {
       "output_type": "stream",
       "stream": "stdout",
       "text": [
        "\n",
        "['12006', u'Swinburne University of Technology', u'\\u65af\\u5a01\\u672c\\u56fd\\u7acb\\u79d1\\u6280\\u5927\\u5b66', u'\\u6fb3\\u5927\\u5229\\u4e9a', u'', u'\\u516c\\u7acb\\u5927\\u5b66', 'http://kaoshi.edu.sina.com.cn/abroad/10027.html']"
       ]
      },
      {
       "output_type": "stream",
       "stream": "stdout",
       "text": [
        "\n",
        "['12007', u'Universit\\xe9 Bordeaux1 Sciences et Technologie', u'\\u6ce2\\u5c14\\u591a\\u7b2c\\u4e00\\u79d1\\u5b66\\u4e0e\\u6280\\u672f\\u5927\\u5b66', u'\\u6cd5\\u56fd', u'', u'\\u516c\\u7acb\\u5927\\u5b66', 'http://kaoshi.edu.sina.com.cn/abroad/10301.html']"
       ]
      },
      {
       "output_type": "stream",
       "stream": "stdout",
       "text": [
        "\n",
        "['12008', u'Letterkenny Institute of Technology', u'\\u83b1\\u7279\\u80af\\u5c3c\\u7406\\u5de5\\u5b66\\u9662', u'\\u7231\\u5c14\\u5170', u'', u'\\u516c\\u7acb\\u5927\\u5b66', 'http://kaoshi.edu.sina.com.cn/abroad/10465.html']"
       ]
      },
      {
       "output_type": "stream",
       "stream": "stdout",
       "text": [
        "\n",
        "['12009', 'None', u'\\u6c49\\u535a\\u7406\\u5de5\\u5b66\\u9662', u'\\u52a0\\u62ff\\u5927', u'', u'', u'\\u5b66\\u9662', 'http://kaoshi.edu.sina.com.cn/abroad/572.html']"
       ]
      },
      {
       "output_type": "stream",
       "stream": "stdout",
       "text": [
        "\n",
        "['12010', 'None', u'\\u4e1c\\u56fd\\u5927\\u5b66', u'\\u97e9\\u56fd', u'', u'', u'\\u5927\\u5b66', 'http://kaoshi.edu.sina.com.cn/abroad/637.html']"
       ]
      },
      {
       "output_type": "stream",
       "stream": "stdout",
       "text": [
        "\n",
        "['12011', u'Kansas State University', u'\\u582a\\u8428\\u65af\\u5dde\\u7acb\\u5927\\u5b66', u'\\u7f8e\\u56fd', u'', u'\\u516c\\u7acb\\u5927\\u5b66', 'http://kaoshi.edu.sina.com.cn/abroad/10890.html']"
       ]
      },
      {
       "output_type": "stream",
       "stream": "stdout",
       "text": [
        "\n",
        "['12012', 'None', u'\\u660e\\u5c3c\\u82cf\\u8fbe\\u5927\\u5b66', u'\\u7f8e\\u56fd', u'', u'', u'\\u5927\\u5b66', 'http://kaoshi.edu.sina.com.cn/abroad/598.html']"
       ]
      },
      {
       "output_type": "stream",
       "stream": "stdout",
       "text": [
        "\n",
        "['12013', u'Universiteit Leuven', u'\\u8377\\u5170\\u8bed\\u9c81\\u6c76\\u5927\\u5b66', u'\\u6bd4\\u5229\\u65f6', u'', u'\\u516c\\u7acb\\u5927\\u5b66', 'http://kaoshi.edu.sina.com.cn/abroad/10076.html']"
       ]
      },
      {
       "output_type": "stream",
       "stream": "stdout",
       "text": [
        "\n",
        "['12014', u'Kingston University', u'\\u82f1\\u56fd\\u91d1\\u65af\\u987f\\u5927\\u5b66', u'\\u82f1\\u56fd', u'', u'\\u516c\\u7acb\\u5927\\u5b66', 'http://kaoshi.edu.sina.com.cn/abroad/10120.html']"
       ]
      },
      {
       "output_type": "stream",
       "stream": "stdout",
       "text": [
        "\n",
        "['12015', u'Western Kentucky University (Bowling Green)', u'\\u897f\\u80af\\u5854\\u57fa\\u5927\\u5b66(\\u9c8d\\u7075\\u683c\\u6797)', u'\\u7f8e\\u56fd', u'', u'\\u516c\\u7acb\\u5927\\u5b66', 'http://kaoshi.edu.sina.com.cn/abroad/11022.html']"
       ]
      },
      {
       "output_type": "stream",
       "stream": "stdout",
       "text": [
        "\n",
        "['12016', u'State University of New York-Oswego', u'\\u7ebd\\u7ea6\\u5dde\\u7acb\\u5927\\u5b66\\u5965\\u65af\\u5a01\\u6208\\u5206\\u6821', u'\\u7f8e\\u56fd', u'', u'\\u516c\\u7acb\\u5927\\u5b66', 'http://kaoshi.edu.sina.com.cn/abroad/10935.html']"
       ]
      },
      {
       "output_type": "stream",
       "stream": "stdout",
       "text": [
        "\n",
        "['12017', u'Universit\\xe9 de Picardie Jules  Verne-Amiens', u'\\u4e8e\\u52d2?\\u51e1\\u5c14\\u7eb3\\u2014\\u5e87\\u5361\\u5e95\\u5927\\u5b66', u'\\u6cd5\\u56fd', u'', u'\\u516c\\u7acb\\u5927\\u5b66', 'http://kaoshi.edu.sina.com.cn/abroad/10296.html']"
       ]
      },
      {
       "output_type": "stream",
       "stream": "stdout",
       "text": [
        "\n",
        "['12018', u'Bournemouth University', u'\\u4f2f\\u6069\\u8305\\u65af\\u5927\\u5b66', u'\\u82f1\\u56fd', u'', u'\\u516c\\u7acb\\u5927\\u5b66', 'http://kaoshi.edu.sina.com.cn/abroad/10129.html']"
       ]
      },
      {
       "output_type": "stream",
       "stream": "stdout",
       "text": [
        "\n",
        "['12019', u'Royal Institute of Technology', u'\\u7687\\u5bb6\\u7406\\u5de5\\u5b66\\u9662', u'\\u745e\\u5178', u'', u'', 'http://kaoshi.edu.sina.com.cn/abroad/10827.html']"
       ]
      },
      {
       "output_type": "stream",
       "stream": "stdout",
       "text": [
        "\n",
        "['12020', u'Christian-Albrechts-Universit\\xe4t zu KieI', u'\\u57fa\\u5c14\\u5927\\u5b66', u'\\u5fb7\\u56fd', u'', u'\\u516c\\u7acb\\u5927\\u5b66', 'http://kaoshi.edu.sina.com.cn/abroad/10353.html']"
       ]
      },
      {
       "output_type": "stream",
       "stream": "stdout",
       "text": [
        "\n",
        "page in: 602\n",
        "['12021', 'None', u'ECC\\u56fd\\u9645\\u5916\\u8bed\\u4e13\\u95e8\\u5b66\\u6821-\\u5927\\u962a\\u6821', u'\\u65e5\\u672c', u'', u'', u'\\u8bed\\u8a00\\u5b66\\u9662', 'http://kaoshi.edu.sina.com.cn/abroad/694.html']"
       ]
      },
      {
       "output_type": "stream",
       "stream": "stdout",
       "text": [
        "\n",
        "['12022', 'None', u'\\u8fbe\\u59c6\\u65bd\\u5854\\u7279\\u5de5\\u4e1a\\u5927\\u5b66', u'\\u5fb7\\u56fd', u'', u'', u'\\u5927\\u5b66', 'http://kaoshi.edu.sina.com.cn/abroad/258.html']"
       ]
      },
      {
       "output_type": "stream",
       "stream": "stdout",
       "text": [
        "\n",
        "['12023', u'Conservatorio Giuseppe Verdi di TORINO', u'\\u90fd\\u7075\\u6731\\u8d5b\\u4f69?\\u5a01\\u5c14\\u7b2c\\u97f3\\u4e50\\u5b66\\u9662', u'\\u610f\\u5927\\u5229', u'', u'\\u79c1\\u7acb\\u5927\\u5b66', 'http://kaoshi.edu.sina.com.cn/abroad/10666.html']"
       ]
      },
      {
       "output_type": "stream",
       "stream": "stdout",
       "text": [
        "\n",
        "['12024', u'KIT(Royal Tropical lnstitute)', u'\\u5317\\u8377\\u5170\\u7687\\u5bb6\\u97f3\\u4e50\\u5b66\\u9662', u'\\u8377\\u5170', u'', u'\\u516c\\u7acb\\u5927\\u5b66', 'http://kaoshi.edu.sina.com.cn/abroad/10416.html']"
       ]
      },
      {
       "output_type": "stream",
       "stream": "stdout",
       "text": [
        "\n",
        "['12025', 'None', u'\\u6cd5\\u56fd\\u91cc\\u5c14\\u9ad8\\u7b49\\u5546\\u4e1a\\u5b66\\u9662', u'\\u6cd5\\u56fd', u'', u'', u'\\u5927\\u5b66', 'http://kaoshi.edu.sina.com.cn/abroad/309.html']"
       ]
      },
      {
       "output_type": "stream",
       "stream": "stdout",
       "text": [
        "\n",
        "['12026', u'Bond University', u'\\u90a6\\u5fb7\\u5927\\u5b66', u'\\u6fb3\\u5927\\u5229\\u4e9a', u'', u'\\u79c1\\u7acb\\u5927\\u5b66', 'http://kaoshi.edu.sina.com.cn/abroad/10011.html']"
       ]
      },
      {
       "output_type": "stream",
       "stream": "stdout",
       "text": [
        "\n",
        "['12027', u'Southern Cross University', u'\\u5357\\u5341\\u5b57\\u5927\\u5b66', u'\\u6fb3\\u5927\\u5229\\u4e9a', u'', u'\\u516c\\u7acb\\u5927\\u5b66', 'http://kaoshi.edu.sina.com.cn/abroad/10026.html']"
       ]
      },
      {
       "output_type": "stream",
       "stream": "stdout",
       "text": [
        "\n",
        "['12028', u'University of Tennessee', u'\\u7530\\u7eb3\\u897f\\u5927\\u5b66', u'\\u7f8e\\u56fd', u'', u'\\u516c\\u7acb\\u5927\\u5b66', 'http://kaoshi.edu.sina.com.cn/abroad/10922.html']"
       ]
      },
      {
       "output_type": "stream",
       "stream": "stdout",
       "text": [
        "\n",
        "['12029', 'None', u'\\u8054\\u5408\\u7406\\u5de5\\u5b66\\u9662', u'\\u65b0\\u897f\\u5170', u'', u'', u'\\u5927\\u5b66', 'http://kaoshi.edu.sina.com.cn/abroad/54.html']"
       ]
      },
      {
       "output_type": "stream",
       "stream": "stdout",
       "text": [
        "\n",
        "['12030', u'Norwegian School of Economics and Business Administration', u'\\u632a\\u5a01\\u5546\\u4e1a\\u5b66\\u9662', u'\\u632a\\u5a01', u'', u'\\u516c\\u7acb\\u5927\\u5b66', 'http://kaoshi.edu.sina.com.cn/abroad/10737.html']"
       ]
      },
      {
       "output_type": "stream",
       "stream": "stdout",
       "text": [
        "\n",
        "['12031', u'Universit\\xe9 Victor Segalen Bordeaux 2', u'\\u7ef4\\u514b\\u591a?\\u745f\\u52a0\\u5170\\u2014\\u6ce2\\u5c14\\u591a\\u7b2c\\u4e8c\\u5927\\u5b66', u'\\u6cd5\\u56fd', u'', u'\\u516c\\u7acb\\u5927\\u5b66', 'http://kaoshi.edu.sina.com.cn/abroad/10302.html']"
       ]
      },
      {
       "output_type": "stream",
       "stream": "stdout",
       "text": [
        "\n",
        "['12032', u'Christchurch Polytechnic Institute of Technology', u'\\u57fa\\u7763\\u57ce\\u7406\\u5de5\\u5b66\\u9662', u'\\u65b0\\u897f\\u5170', u'', u'\\u516c\\u7acb\\u5927\\u5b66', 'http://kaoshi.edu.sina.com.cn/abroad/10710.html']"
       ]
      },
      {
       "output_type": "stream",
       "stream": "stdout",
       "text": [
        "\n",
        "['12033', 'None', u'\\u8499\\u5f7c\\u5229\\u57c3\\u7b2c\\u4e09\\u5927\\u5b66', u'\\u6cd5\\u56fd', u'', u'', u'\\u5927\\u5b66', 'http://kaoshi.edu.sina.com.cn/abroad/791.html']"
       ]
      },
      {
       "output_type": "stream",
       "stream": "stdout",
       "text": [
        "\n",
        "['12034', 'None', u'MANABI\\u5916\\u8bed\\u5b66\\u9662', u'\\u65e5\\u672c', u'', u'', u'\\u8bed\\u8a00\\u5b66\\u9662', 'http://kaoshi.edu.sina.com.cn/abroad/664.html']"
       ]
      },
      {
       "output_type": "stream",
       "stream": "stdout",
       "text": [
        "\n",
        "['12035', u'Universita degli Studi di BOLOGNA', u'\\u6ce2\\u6d1b\\u5c3c\\u4e9a\\u5927\\u5b66', u'\\u610f\\u5927\\u5229', u'', u'\\u516c\\u7acb\\u5927\\u5b66', 'http://kaoshi.edu.sina.com.cn/abroad/10491.html']"
       ]
      },
      {
       "output_type": "stream",
       "stream": "stdout",
       "text": [
        "\n",
        "['12036', 'None', u'\\u5fb7\\u6b27\\u6c83\\u5e03\\u7f57\\u514b\\u65af\\u5b66\\u9662(d\\u2019Overbroeck\\u2019s College)', u'\\u82f1\\u56fd', u'', u'', u'\\u5b66\\u9662', 'http://kaoshi.edu.sina.com.cn/abroad/473.html']"
       ]
      },
      {
       "output_type": "stream",
       "stream": "stdout",
       "text": [
        "\n",
        "['12037', 'None', u'\\u5efa\\u56fd\\u5927\\u5b66', u'\\u97e9\\u56fd', u'', u'', u'\\u5927\\u5b66', 'http://kaoshi.edu.sina.com.cn/abroad/645.html']"
       ]
      },
      {
       "output_type": "stream",
       "stream": "stdout",
       "text": [
        "\n",
        "['12038', 'None', u'\\u5965\\u65af\\u7eb3\\u5e03\\u5415\\u514b\\u5927\\u5b66', u'\\u5fb7\\u56fd', u'', u'', u'\\u5927\\u5b66', 'http://kaoshi.edu.sina.com.cn/abroad/232.html']"
       ]
      },
      {
       "output_type": "stream",
       "stream": "stdout",
       "text": [
        "\n",
        "['12039', u'Goteborg University', u'\\u54e5\\u5fb7\\u5821\\u5927\\u5b66', u'\\u745e\\u5178', u'', u'\\u516c\\u7acb\\u5927\\u5b66', 'http://kaoshi.edu.sina.com.cn/abroad/10830.html']"
       ]
      },
      {
       "output_type": "stream",
       "stream": "stdout",
       "text": [
        "\n",
        "['12040', u'Carlfornia State University\\u2014East Bay', u'\\u52a0\\u5229\\u798f\\u5c3c\\u4e9a\\u5dde\\u5dde\\u7acb\\u5927\\u5b66\\u4e1c\\u6e7e\\u6821\\u533a', u'\\u7f8e\\u56fd', u'', u'\\u516c\\u7acb\\u5927\\u5b66', 'http://kaoshi.edu.sina.com.cn/abroad/10958.html']"
       ]
      },
      {
       "output_type": "stream",
       "stream": "stdout",
       "text": [
        "\n",
        "page in: 603\n",
        "['12041', u'chalmers university of technology', u'\\u67e5\\u5c14\\u9ed8\\u65af\\u7406\\u5de5\\u5927\\u5b66', u'\\u745e\\u5178', u'', u'\\u516c\\u7acb\\u5927\\u5b66', 'http://kaoshi.edu.sina.com.cn/abroad/10833.html']"
       ]
      },
      {
       "output_type": "stream",
       "stream": "stdout",
       "text": [
        "\n",
        "['12042', 'None', u'\\u4e1c\\u4eac\\u6587\\u5316\\u5916\\u8bed\\u4e13\\u95e8\\u5b66\\u9662', u'\\u65e5\\u672c', u'', u'', u'\\u8bed\\u8a00\\u5b66\\u9662', 'http://kaoshi.edu.sina.com.cn/abroad/719.html']"
       ]
      },
      {
       "output_type": "stream",
       "stream": "stdout",
       "text": [
        "\n",
        "['12043', u'Cameron University', u'\\u5361\\u6885\\u9686\\u5927\\u5b66', u'\\u7f8e\\u56fd', u'', u'\\u516c\\u7acb\\u5927\\u5b66', 'http://kaoshi.edu.sina.com.cn/abroad/10937.html']"
       ]
      },
      {
       "output_type": "stream",
       "stream": "stdout",
       "text": [
        "\n",
        "['12044', 'None', u'\\u675c\\u5170\\u5927\\u5b66', u'\\u7f8e\\u56fd', u'', u'\\u79c1\\u7acb\\u5927\\u5b66', 'http://kaoshi.edu.sina.com.cn/abroad/11073.html']"
       ]
      },
      {
       "output_type": "stream",
       "stream": "stdout",
       "text": [
        "\n",
        "['12045', u'Cleveland State Lrniversity(Cleveland)', u'\\u514b\\u5229\\u592b\\u5170\\u5dde\\u7acb\\u5927\\u5b66(\\u514b\\u5229\\u592b\\u5170)', u'\\u7f8e\\u56fd', u'', u'\\u516c\\u7acb\\u5927\\u5b66', 'http://kaoshi.edu.sina.com.cn/abroad/11180.html']"
       ]
      },
      {
       "output_type": "stream",
       "stream": "stdout",
       "text": [
        "\n",
        "['12046', u'State University Of New York\\u2014 Plattsburgh', u'\\u7ebd\\u7ea6\\u5dde\\u7acb\\u5927\\u5b66\\u666e\\u62c9\\u8328\\u5821\\u6821\\u533a', u'\\u7f8e\\u56fd', u'', u'\\u516c\\u7acb\\u5927\\u5b66', 'http://kaoshi.edu.sina.com.cn/abroad/10962.html']"
       ]
      },
      {
       "output_type": "stream",
       "stream": "stdout",
       "text": [
        "\n",
        "['12047', u'University of Tampere', u'\\u5766\\u4f69\\u96f7\\u5927\\u5b66', u'\\u82ac\\u5170', u'', u'\\u516c\\u7acb\\u5927\\u5b66', 'http://kaoshi.edu.sina.com.cn/abroad/10256.html']"
       ]
      },
      {
       "output_type": "stream",
       "stream": "stdout",
       "text": [
        "\n",
        "['12048', 'None', u'\\u5251\\u6865\\u5927\\u5b66 University of Cambridge', u'\\u82f1\\u56fd', u'', u'', u'\\u5927\\u5b66', 'http://kaoshi.edu.sina.com.cn/abroad/634.html']"
       ]
      },
      {
       "output_type": "stream",
       "stream": "stdout",
       "text": [
        "\n",
        "['12049', u'University of Alabama', u'\\u4e9a\\u62c9\\u5df4\\u9a6c\\u5927\\u5b66', u'\\u7f8e\\u56fd', u'', u'\\u516c\\u7acb\\u5927\\u5b66', 'http://kaoshi.edu.sina.com.cn/abroad/10876.html']"
       ]
      },
      {
       "output_type": "stream",
       "stream": "stdout",
       "text": [
        "\n",
        "['12050', u'Brunel Universitv', u'\\u5e03\\u9c81\\u5185\\u5c14\\u5927\\u5b66', u'\\u82f1\\u56fd', u'', u'\\u7efc\\u5408\\u6027\\u5927\\u5b66', 'http://kaoshi.edu.sina.com.cn/abroad/10134.html']"
       ]
      },
      {
       "output_type": "stream",
       "stream": "stdout",
       "text": [
        "\n",
        "['12051', u'Leeds Metropolitan University\\uff0eLMU', u'\\u5229\\u5179\\u90fd\\u5e02\\u5927\\u5b66', u'\\u82f1\\u56fd', u'', u'\\u516c\\u7acb\\u5927\\u5b66', 'http://kaoshi.edu.sina.com.cn/abroad/10122.html']"
       ]
      },
      {
       "output_type": "stream",
       "stream": "stdout",
       "text": [
        "\n",
        "['12052', 'None', u'\\u6ce2\\u9e3f\\u9c81\\u5c14\\u5927\\u5b66', u'\\u5fb7\\u56fd', u'', u'', u'\\u5927\\u5b66', 'http://kaoshi.edu.sina.com.cn/abroad/261.html']"
       ]
      },
      {
       "output_type": "stream",
       "stream": "stdout",
       "text": [
        "\n",
        "['12053', u'UNIVERSIDAD DE JAEN', u'\\u54c8\\u6069\\u5927\\u5b66', u'\\u897f\\u73ed\\u7259', u'', u'\\u516c\\u7acb\\u5927\\u5b66', 'http://kaoshi.edu.sina.com.cn/abroad/10798.html']"
       ]
      },
      {
       "output_type": "stream",
       "stream": "stdout",
       "text": [
        "\n",
        "['12054', u'The University of Winnipeg', u'\\u6e29\\u5c3c\\u4f2f\\u5927\\u5b66', u'\\u52a0\\u62ff\\u5927', u'', u'\\u516c\\u7acb\\u5927\\u5b66', 'http://kaoshi.edu.sina.com.cn/abroad/10213.html']"
       ]
      },
      {
       "output_type": "stream",
       "stream": "stdout",
       "text": [
        "\n",
        "['12055', u'Dublin Institute of Technology', u'\\u90fd\\u67cf\\u6797\\u7406\\u5de5\\u5b66\\u9662', u'\\u7231\\u5c14\\u5170', u'', u'\\u516c\\u7acb\\u5927\\u5b66', 'http://kaoshi.edu.sina.com.cn/abroad/10469.html']"
       ]
      },
      {
       "output_type": "stream",
       "stream": "stdout",
       "text": [
        "\n",
        "['12056', u'Universiy College of Trollhattan\\uff0fUddevalla University West', u'\\u745e\\u5178\\u897f\\u90e8\\u5927\\u5b66', u'\\u745e\\u5178', u'', u'\\u516c\\u7acb\\u5927\\u5b66', 'http://kaoshi.edu.sina.com.cn/abroad/10814.html']"
       ]
      },
      {
       "output_type": "stream",
       "stream": "stdout",
       "text": [
        "\n",
        "['12057', u'Tairawhiti PoIytechnic(Gisbrne)', u'\\u6cf0\\u62c9\\u5a01\\u8482\\u7406\\u5de5\\u5b66\\u9662', u'\\u65b0\\u897f\\u5170', u'', u'\\u516c\\u7acb\\u5927\\u5b66', 'http://kaoshi.edu.sina.com.cn/abroad/10727.html']"
       ]
      },
      {
       "output_type": "stream",
       "stream": "stdout",
       "text": [
        "\n",
        "['12058', u'Technical Universitv of Denmark', u'\\u4e39\\u9ea6\\u79d1\\u6280\\u5927\\u5b66', u'\\u4e39\\u9ea6', u'', u'\\u516c\\u7acb\\u5927\\u5b66', 'http://kaoshi.edu.sina.com.cn/abroad/10233.html']"
       ]
      },
      {
       "output_type": "stream",
       "stream": "stdout",
       "text": [
        "\n",
        "['12059', u'Glasgow Caledonian University', u'\\u683c\\u62c9\\u65af\\u54e5\\u5361\\u5229\\u591a\\u5c3c\\u4e9a\\u5927\\u5b66', u'\\u82f1\\u56fd', u'', u'\\u516c\\u7acb\\u5927\\u5b66', 'http://kaoshi.edu.sina.com.cn/abroad/10145.html']"
       ]
      },
      {
       "output_type": "stream",
       "stream": "stdout",
       "text": [
        "\n",
        "['12060', u'Institute of Technology\\uff0c Tallaght(ITTa)', u'\\u5854\\u62c9\\u7406\\u5de5\\u5b66\\u9662', u'\\u7231\\u5c14\\u5170', u'', u'\\u516c\\u7acb\\u5927\\u5b66', 'http://kaoshi.edu.sina.com.cn/abroad/10470.html']"
       ]
      },
      {
       "output_type": "stream",
       "stream": "stdout",
       "text": [
        "\n",
        "page in: 604\n",
        "['12061', u'University of Central England in Birmingham', u'\\u4f2f\\u660e\\u7ff0\\u4e2d\\u82f1\\u683c\\u5170\\u5927\\u5b66', u'\\u82f1\\u56fd', u'', u'\\u516c\\u7acb\\u5927\\u5b66', 'http://kaoshi.edu.sina.com.cn/abroad/10137.html']"
       ]
      },
      {
       "output_type": "stream",
       "stream": "stdout",
       "text": [
        "\n",
        "['12062', u'Uniiversity of East London', u'\\u4e1c\\u4f26\\u6566\\u5927\\u5b66', u'\\u82f1\\u56fd', u'', u'\\u516c\\u7acb\\u5927\\u5b66', 'http://kaoshi.edu.sina.com.cn/abroad/10109.html']"
       ]
      },
      {
       "output_type": "stream",
       "stream": "stdout",
       "text": [
        "\n",
        "['12063', 'None', u'\\u56fd\\u9645\\u8bed\\u5b66\\u5b66\\u9662', u'\\u65e5\\u672c', u'', u'', u'\\u8bed\\u8a00\\u5b66\\u9662', 'http://kaoshi.edu.sina.com.cn/abroad/724.html']"
       ]
      },
      {
       "output_type": "stream",
       "stream": "stdout",
       "text": [
        "\n",
        "['12064', u'University of California\\u2014lrvine', u'\\u52a0\\u5229\\u798f\\u5c3c\\u4e9a\\u5dde\\u5927\\u5b66\\u6b27\\u6587\\u5206\\u6821', u'\\u7f8e\\u56fd', u'', u'\\u79c1\\u7acb\\u5927\\u5b66', 'http://kaoshi.edu.sina.com.cn/abroad/10907.html']"
       ]
      },
      {
       "output_type": "stream",
       "stream": "stdout",
       "text": [
        "\n",
        "['12065', 'None', u'\\u7231\\u8377\\u534e\\u5dde\\u7acb\\u5927\\u5b66', u'\\u7f8e\\u56fd', u'\\u5f97\\u6885\\u56e0', u'\\u5927\\u5b66', 'http://kaoshi.edu.sina.com.cn/abroad/15.html']"
       ]
      },
      {
       "output_type": "stream",
       "stream": "stdout",
       "text": [
        "\n",
        "['12066', 'None', u'\\u52a0\\u62ff\\u5927\\u9633\\u5149\\u56fd\\u9645\\u5b66\\u9662', u'\\u52a0\\u62ff\\u5927', u'', u'', u'\\u5b66\\u9662', 'http://kaoshi.edu.sina.com.cn/abroad/755.html']"
       ]
      },
      {
       "output_type": "stream",
       "stream": "stdout",
       "text": [
        "\n",
        "['12067', 'None', u'\\u7231\\u4e01\\u5821\\u9f99\\u6bd4\\u4e9a\\u5927\\u5b66 Napier University Edinburgh', u'\\u82f1\\u56fd', u'', u'', u'\\u5927\\u5b66', 'http://kaoshi.edu.sina.com.cn/abroad/624.html']"
       ]
      },
      {
       "output_type": "stream",
       "stream": "stdout",
       "text": [
        "\n",
        "['12068', 'None', u'\\u5217\\u6cbb\\u6587\\u516c\\u7acb\\u6559\\u80b2\\u533a', u'\\u52a0\\u62ff\\u5927', u'', u'', u'\\u4e2d\\u5b66', 'http://kaoshi.edu.sina.com.cn/abroad/582.html']"
       ]
      },
      {
       "output_type": "stream",
       "stream": "stdout",
       "text": [
        "\n",
        "['12069', 'None', u'\\u6602\\u70ed\\u897f\\u90e8\\u5929\\u4e3b\\u6559\\u5927\\u5b66', u'\\u6cd5\\u56fd', u'', u'', u'\\u5927\\u5b66', 'http://kaoshi.edu.sina.com.cn/abroad/205.html']"
       ]
      },
      {
       "output_type": "stream",
       "stream": "stdout",
       "text": [
        "\n",
        "['12070', u'Universit\\xe9 d\\x92Avignon et des pays de Vaucluse', u'\\u6c83\\u514b\\u5415\\u5179\\u5730\\u533a\\u4e0e\\u963f\\u7ef4\\u5c3c\\u7fc1\\u5927\\u5b66', u'\\u6cd5\\u56fd', u'', u'\\u516c\\u7acb\\u5927\\u5b66', 'http://kaoshi.edu.sina.com.cn/abroad/10299.html']"
       ]
      },
      {
       "output_type": "stream",
       "stream": "stdout",
       "text": [
        "\n",
        "['12071', u'University of Maryland-College Park', u'\\u739b\\u91cc\\u5170\\u5927\\u5b66\\u5e15\\u514b\\u5206\\u6821', u'\\u7f8e\\u56fd', u'', u'\\u516c\\u7acb\\u5927\\u5b66', 'http://kaoshi.edu.sina.com.cn/abroad/10904.html']"
       ]
      },
      {
       "output_type": "stream",
       "stream": "stdout",
       "text": [
        "\n",
        "['12072', u'Radboud University Nijmegen', u'\\u5185\\u6885\\u4ea8\\u5927\\u5b66', u'\\u8377\\u5170', u'', u'\\u516c\\u7acb\\u5927\\u5b66', 'http://kaoshi.edu.sina.com.cn/abroad/10377.html']"
       ]
      },
      {
       "output_type": "stream",
       "stream": "stdout",
       "text": [
        "\n",
        "['12073', 'None', u'\\u4f2f\\u660e\\u7ff0\\u9152\\u5e97\\u53ca\\u65c5\\u6e38\\u7ba1\\u7406\\u5b66\\u9662', u'\\u82f1\\u56fd', u'', u'', u'\\u5927\\u5b66', 'http://kaoshi.edu.sina.com.cn/abroad/150.html']"
       ]
      },
      {
       "output_type": "stream",
       "stream": "stdout",
       "text": [
        "\n",
        "['12074', 'None', u'SHMS \\u745e\\u58eb\\u9152\\u5e97\\u7ba1\\u7406\\u5b66\\u9662', u'\\u745e\\u58eb', u'', u'', u'\\u5927\\u5b66', 'http://kaoshi.edu.sina.com.cn/abroad/443.html']"
       ]
      },
      {
       "output_type": "stream",
       "stream": "stdout",
       "text": [
        "\n",
        "['12075', 'None', u'\\u65b0\\u52a0\\u5761\\u5357\\u6d0b\\u7406\\u5de5\\u5b66\\u9662', u'\\u65b0\\u52a0\\u5761', u'', u'', u'\\u5b66\\u9662', 'http://kaoshi.edu.sina.com.cn/abroad/537.html']"
       ]
      },
      {
       "output_type": "stream",
       "stream": "stdout",
       "text": [
        "\n",
        "['12076', 'None', u'\\u5361\\u5c14\\u52a0\\u91cc\\u516c\\u7acb\\u6559\\u80b2\\u533a', u'\\u52a0\\u62ff\\u5927', u'', u'', u'\\u4e2d\\u5b66', 'http://kaoshi.edu.sina.com.cn/abroad/581.html']"
       ]
      },
      {
       "output_type": "stream",
       "stream": "stdout",
       "text": [
        "\n",
        "['12077', u'Narvik Universitv College', u'\\u7eb3\\u5c14\\u7ef4\\u514b\\u5927\\u5b66\\u5b66\\u9662', u'\\u632a\\u5a01', u'', u'\\u516c\\u7acb\\u5927\\u5b66', 'http://kaoshi.edu.sina.com.cn/abroad/10750.html']"
       ]
      },
      {
       "output_type": "stream",
       "stream": "stdout",
       "text": [
        "\n",
        "['12078', 'None', u'\\u514b\\u83b1\\u8499\\u8d39\\u6717\\u7b2c\\u4e00\\u5927\\u5b66', u'\\u6cd5\\u56fd', u'', u'', u'\\u5927\\u5b66', 'http://kaoshi.edu.sina.com.cn/abroad/238.html']"
       ]
      },
      {
       "output_type": "stream",
       "stream": "stdout",
       "text": [
        "\n",
        "['12079', u'Fachhochschule f\\xfbr Oekonomie and Management(FOM)', u'\\u57c3\\u68ee\\u7ecf\\u6d4e\\u7ba1\\u7406\\u9ad8\\u7b49\\u4e13\\u4e1a\\u5b66\\u9662', u'\\u5fb7\\u56fd', u'', u'\\u79c1\\u7acb\\u5927\\u5b66', 'http://kaoshi.edu.sina.com.cn/abroad/10325.html']"
       ]
      },
      {
       "output_type": "stream",
       "stream": "stdout",
       "text": [
        "\n",
        "['12080', u'Accademia di belle arti DI FIRENZE', u'\\u4f5b\\u7f57\\u4f26\\u8428\\u7f8e\\u672f\\u5b66\\u9662', u'\\u610f\\u5927\\u5229', u'', u'\\u516c\\u7acb\\u5927\\u5b66', 'http://kaoshi.edu.sina.com.cn/abroad/10586.html']"
       ]
      },
      {
       "output_type": "stream",
       "stream": "stdout",
       "text": [
        "\n",
        "page in: 605\n",
        "['12081', u'Universit\\xe9 de Gen\\xe8ve', u'\\u65e5\\u5185\\u74e6\\u5927\\u5b66', u'\\u745e\\u58eb', u'', u'\\u516c\\u7acb\\u5927\\u5b66', 'http://kaoshi.edu.sina.com.cn/abroad/10842.html']"
       ]
      },
      {
       "output_type": "stream",
       "stream": "stdout",
       "text": [
        "\n",
        "['12082', u'Accademia di belle arti DI CARRARA', u'\\u5361\\u62c9\\u62c9\\u7f8e\\u672f\\u5b66\\u9662', u'\\u610f\\u5927\\u5229', u'', u'\\u516c\\u7acb\\u5927\\u5b66', 'http://kaoshi.edu.sina.com.cn/abroad/10583.html']"
       ]
      },
      {
       "output_type": "stream",
       "stream": "stdout",
       "text": [
        "\n",
        "['12083', 'None', u'\\u52a0\\u62ff\\u5927\\u8d35\\u65cf\\u79c1\\u7acb\\u4e2d\\u5b66', u'\\u52a0\\u62ff\\u5927', u'', u'', u'\\u5927\\u5b66', 'http://kaoshi.edu.sina.com.cn/abroad/409.html']"
       ]
      },
      {
       "output_type": "stream",
       "stream": "stdout",
       "text": [
        "\n",
        "['12084', u'Auckland Institute of Studies at st Helens', u'\\u5965\\u514b\\u5170\\u5546\\u5b66\\u9662', u'\\u65b0\\u897f\\u5170', u'', u'\\u79c1\\u7acb\\u5927\\u5b66', 'http://kaoshi.edu.sina.com.cn/abroad/10717.html']"
       ]
      },
      {
       "output_type": "stream",
       "stream": "stdout",
       "text": [
        "\n",
        "['12085', u'East Strondsburg University 0f Pennsylva- nia', u'\\u5bbe\\u5915\\u6cd5\\u5c3c\\u4e9a\\u4e1c\\u65af\\u7279\\u52b3\\u5179\\u5821\\u5927\\u5b66', u'\\u7f8e\\u56fd', u'', u'\\u516c\\u7acb\\u5927\\u5b66', 'http://kaoshi.edu.sina.com.cn/abroad/11094.html']"
       ]
      },
      {
       "output_type": "stream",
       "stream": "stdout",
       "text": [
        "\n",
        "['12086', 'None', u'\\u68a8\\u82b1\\u5973\\u5b50\\u5927\\u5b66', u'\\u97e9\\u56fd', u'', u'', u'\\u5927\\u5b66', 'http://kaoshi.edu.sina.com.cn/abroad/383.html']"
       ]
      },
      {
       "output_type": "stream",
       "stream": "stdout",
       "text": [
        "\n",
        "['12087', u'University of Lethbridge', u'\\u83b1\\u65af\\u5e03\\u91cc\\u5947\\u5927\\u5b66', u'\\u52a0\\u62ff\\u5927', u'', u'\\u516c\\u7acb\\u5927\\u5b66', 'http://kaoshi.edu.sina.com.cn/abroad/10181.html']"
       ]
      },
      {
       "output_type": "stream",
       "stream": "stdout",
       "text": [
        "\n",
        "['12088', 'None', u'\\u8fc8\\u963f\\u5bc6\\u5927\\u5b66', u'\\u7f8e\\u56fd', u'\\u5854\\u62c9\\u54c8\\u897f', u'\\u5927\\u5b66', 'http://kaoshi.edu.sina.com.cn/abroad/18.html']"
       ]
      },
      {
       "output_type": "stream",
       "stream": "stdout",
       "text": [
        "\n",
        "['12089', 'None', u'\\u4e1c\\u4e49\\u5927\\u5b66', u'\\u97e9\\u56fd', u'', u'', u'\\u5927\\u5b66', 'http://kaoshi.edu.sina.com.cn/abroad/348.html']"
       ]
      },
      {
       "output_type": "stream",
       "stream": "stdout",
       "text": [
        "\n",
        "['12090', 'None', u'\\u9ad8\\u8d35\\u6797\\u5b66\\u9662', u'\\u52a0\\u62ff\\u5927', u'', u'', u'\\u5927\\u5b66', 'http://kaoshi.edu.sina.com.cn/abroad/132.html']"
       ]
      },
      {
       "output_type": "stream",
       "stream": "stdout",
       "text": [
        "\n",
        "['12091', 'None', u'\\u666e\\u5229\\u8305\\u65af\\u5927\\u5b66', u'\\u82f1\\u56fd', u'', u'', u'\\u5927\\u5b66', 'http://kaoshi.edu.sina.com.cn/abroad/157.html']"
       ]
      },
      {
       "output_type": "stream",
       "stream": "stdout",
       "text": [
        "\n",
        "['12092', 'None', u'\\u7f57\\u9a6c\\u56fd\\u5bb6\\u821e\\u8e48\\u5b66\\u9662', u'\\u610f\\u5927\\u5229', u'', u'\\u4e0d\\u8be6', 'http://kaoshi.edu.sina.com.cn/abroad/10697.html']"
       ]
      },
      {
       "output_type": "stream",
       "stream": "stdout",
       "text": [
        "\n",
        "['12093', u'University of Southern Indiana (Evansville)', u'\\u5357\\u5370\\u7b2c\\u5b89\\u7eb3\\u5927\\u5b66(\\u57c3\\u6587\\u65af\\u7ef4\\u5c14)', u'\\u7f8e\\u56fd', u'', u'\\u516c\\u7acb\\u5927\\u5b66', 'http://kaoshi.edu.sina.com.cn/abroad/11025.html']"
       ]
      },
      {
       "output_type": "stream",
       "stream": "stdout",
       "text": [
        "\n",
        "['12094', u'Eidgen ssische Technische Hochschule Z\\xfcrich', u'\\u82cf\\u9ece\\u4e16\\u8054\\u90a6\\u9ad8\\u7b49\\u5de5\\u4e1a\\u5b66\\u9662', u'\\u745e\\u58eb', u'', u'\\u516c\\u7acb\\u5927\\u5b66', 'http://kaoshi.edu.sina.com.cn/abroad/10850.html']"
       ]
      },
      {
       "output_type": "stream",
       "stream": "stdout",
       "text": [
        "\n",
        "['12095', 'None', u'\\u8fbe\\u5c14\\u8c6a\\u65af\\u5927\\u5b66', u'\\u52a0\\u62ff\\u5927', u'', u'', u'\\u5927\\u5b66', 'http://kaoshi.edu.sina.com.cn/abroad/323.html']"
       ]
      },
      {
       "output_type": "stream",
       "stream": "stdout",
       "text": [
        "\n",
        "['12096', u'Uniwersytet L\\xf3dzki', u'\\u7f57\\u5179\\u5927\\u5b66', u'\\u6ce2\\u5170', u'', u'\\u516c\\u7acb\\u5927\\u5b66', 'http://kaoshi.edu.sina.com.cn/abroad/11283.html']"
       ]
      },
      {
       "output_type": "stream",
       "stream": "stdout",
       "text": [
        "\n",
        "['12097', u'Universiteit Maastricht', u'\\u9a6c\\u65af\\u7279\\u91cc\\u8d6b\\u7279\\u5927\\u5b66', u'\\u8377\\u5170', u'', u'\\u516c\\u7acb\\u5927\\u5b66', 'http://kaoshi.edu.sina.com.cn/abroad/10389.html']"
       ]
      },
      {
       "output_type": "stream",
       "stream": "stdout",
       "text": [
        "\n",
        "['12098', 'None', u'\\u5df4\\u9ece\\u7b2c\\u5341\\u4e09\\u5927\\u5b66', u'\\u6cd5\\u56fd', u'', u'', u'\\u5927\\u5b66', 'http://kaoshi.edu.sina.com.cn/abroad/248.html']"
       ]
      },
      {
       "output_type": "stream",
       "stream": "stdout",
       "text": [
        "\n",
        "['12099', u'Universita degli Studi di ROMA\\u201cLa Sapienza\\u201d', u'\\u7f57\\u9a6c\\u201cLa Sapienza\\u201d\\u5927\\u5b66', u'\\u610f\\u5927\\u5229', u'', u'\\u516c\\u7acb\\u5927\\u5b66', 'http://kaoshi.edu.sina.com.cn/abroad/10540.html']"
       ]
      },
      {
       "output_type": "stream",
       "stream": "stdout",
       "text": [
        "\n",
        "['12100', 'None', u'\\u5e03\\u83b1\\u987f\\u5b66\\u9662(Brighton College)', u'\\u82f1\\u56fd', u'', u'', u'\\u5b66\\u9662', 'http://kaoshi.edu.sina.com.cn/abroad/469.html']"
       ]
      },
      {
       "output_type": "stream",
       "stream": "stdout",
       "text": [
        "\n",
        "page in: 606\n",
        "['12101', u'Noordelijke Hogeschool Leeuwarden', u'\\u5415\\u4f10\\u767b\\u5317\\u65b9\\u5b66\\u9662', u'\\u8377\\u5170', u'', u'\\u516c\\u7acb\\u5927\\u5b66', 'http://kaoshi.edu.sina.com.cn/abroad/10385.html']"
       ]
      },
      {
       "output_type": "stream",
       "stream": "stdout",
       "text": [
        "\n",
        "['12102', 'None', u'\\u84dd\\u5e26\\u9152\\u5e97\\u7ba1\\u7406\\u5b66\\u9662', u'\\u6fb3\\u6d32', u'', u'', u'\\u5927\\u5b66', 'http://kaoshi.edu.sina.com.cn/abroad/182.html']"
       ]
      },
      {
       "output_type": "stream",
       "stream": "stdout",
       "text": [
        "\n",
        "['12103', u'The Univiersity of Maine at Augusta', u'\\u7f05\\u56e0\\u5dde\\u5965\\u53e4\\u65af\\u5854\\u5927\\u5b66', u'\\u7f8e\\u56fd', u'', u'\\u516c\\u7acb\\u5927\\u5b66', 'http://kaoshi.edu.sina.com.cn/abroad/11037.html']"
       ]
      },
      {
       "output_type": "stream",
       "stream": "stdout",
       "text": [
        "\n",
        "['12104', 'None', u'\\u96f7\\u6069\\u7b2c\\u4e00\\u5927\\u5b66', u'\\u6cd5\\u56fd', u'', u'', u'\\u5927\\u5b66', 'http://kaoshi.edu.sina.com.cn/abroad/590.html']"
       ]
      },
      {
       "output_type": "stream",
       "stream": "stdout",
       "text": [
        "\n",
        "['12105', u'Hogeschool van Amsterdam', u'\\u963f\\u59c6\\u65af\\u7279\\u4e39\\u9ad8\\u7b49\\u4e13\\u4e1a\\u5927\\u5b66', u'\\u8377\\u5170', u'', u'\\u516c\\u7acb\\u5927\\u5b66', 'http://kaoshi.edu.sina.com.cn/abroad/10406.html']"
       ]
      },
      {
       "output_type": "stream",
       "stream": "stdout",
       "text": [
        "\n",
        "['12106', u'Katholische Universi\\xe4t Eichst\\xe4tt', u'\\u827e\\u5e0c\\u65bd\\u6cf0\\u7279\\u5929\\u4e3b\\u6559\\u5927\\u5b66', u'\\u5fb7\\u56fd', u'', u'\\u6559\\u4f1a\\u5b66\\u6821', 'http://kaoshi.edu.sina.com.cn/abroad/10319.html']"
       ]
      },
      {
       "output_type": "stream",
       "stream": "stdout",
       "text": [
        "\n",
        "['12107', u'University of Missouri-Kansas(Kansas Citv)', u'\\u5bc6\\u82cf\\u91cc\\u5927\\u5b66\\u582a\\u8428\\u65af\\u5206\\u6821(\\u582a\\u8428\\u65af\\u5e02)', u'\\u7f8e\\u56fd', u'', u'\\u516c\\u7acb\\u5927\\u5b66', 'http://kaoshi.edu.sina.com.cn/abroad/11198.html']"
       ]
      },
      {
       "output_type": "stream",
       "stream": "stdout",
       "text": [
        "\n",
        "['12108', 'None', u'\\u5e03\\u9c81\\u514b\\u65af\\u5546\\u5b66\\u9662', u'\\u65b0\\u52a0\\u5761', u'', u'', u'\\u5927\\u5b66', 'http://kaoshi.edu.sina.com.cn/abroad/339.html']"
       ]
      },
      {
       "output_type": "stream",
       "stream": "stdout",
       "text": [
        "\n",
        "['12109', u'University of New Brunswick', u'\\u7ebd\\u5e03\\u4f26\\u65af\\u5a01\\u514b\\u5927\\u5b66', u'\\u52a0\\u62ff\\u5927', u'', u'\\u516c\\u7acb\\u5927\\u5b66', 'http://kaoshi.edu.sina.com.cn/abroad/10216.html']"
       ]
      },
      {
       "output_type": "stream",
       "stream": "stdout",
       "text": [
        "\n",
        "['12110', u'Red Deer Coilege', u'\\u96f7\\u5fb7\\u8fea\\u5c14\\u5b66\\u9662', u'\\u52a0\\u62ff\\u5927', u'', u'\\u516c\\u7acb\\u5927\\u5b66', 'http://kaoshi.edu.sina.com.cn/abroad/10200.html']"
       ]
      },
      {
       "output_type": "stream",
       "stream": "stdout",
       "text": [
        "\n",
        "['12111', 'None', u'\\u80e1\\u5b89\\u5361\\u6d1b\\u65af\\u56fd\\u738b\\u5927\\u5b66', u'\\u5176\\u4ed6', u'', u'', u'\\u5927\\u5b66', 'http://kaoshi.edu.sina.com.cn/abroad/661.html']"
       ]
      },
      {
       "output_type": "stream",
       "stream": "stdout",
       "text": [
        "\n",
        "['12112', 'None', u'\\u521b\\u9020\\u6027\\u827a\\u672f\\u5927\\u5b66\\u5b66\\u9662', u'\\u82f1\\u56fd', u'', u'', u'\\u5927\\u5b66', 'http://kaoshi.edu.sina.com.cn/abroad/159.html']"
       ]
      },
      {
       "output_type": "stream",
       "stream": "stdout",
       "text": [
        "\n",
        "['12113', 'None', u'\\u91cc\\u5c14\\u4e00\\u5927', u'\\u6cd5\\u56fd', u'', u'', u'\\u5927\\u5b66', 'http://kaoshi.edu.sina.com.cn/abroad/209.html']"
       ]
      },
      {
       "output_type": "stream",
       "stream": "stdout",
       "text": [
        "\n",
        "['12114', u'Immaculate Conception Seminary Seton Hall University (South Orange)', u'\\u897f\\u4e1c\\u5927\\u5b66(\\u5357\\u5965\\u5170\\u6cbb)', u'\\u7f8e\\u56fd', u'', u'\\u5929\\u4e3b\\u6559\\u7efc\\u5408\\u6027\\u9662\\u6821', 'http://kaoshi.edu.sina.com.cn/abroad/11132.html']"
       ]
      },
      {
       "output_type": "stream",
       "stream": "stdout",
       "text": [
        "\n",
        "['12115', 'None', u'\\u57fa\\u7763\\u57ce\\u7406\\u5de5\\u5b66\\u9662', u'\\u65b0\\u897f\\u5170', u'', u'', u'\\u5927\\u5b66', 'http://kaoshi.edu.sina.com.cn/abroad/58.html']"
       ]
      },
      {
       "output_type": "stream",
       "stream": "stdout",
       "text": [
        "\n",
        "['12116', 'None', u'\\u4e9a\\u82b3\\u4ee3\\u5c14\\u5b66\\u9662 AVONDALE COLLEGE', u'\\u65b0\\u897f\\u5170', u'', u'', u'\\u4e2d\\u5b66', 'http://kaoshi.edu.sina.com.cn/abroad/735.html']"
       ]
      },
      {
       "output_type": "stream",
       "stream": "stdout",
       "text": [
        "\n",
        "['12117', 'None', u'\\u767e\\u5e74\\u7406\\u5de5\\u5b66\\u9662', u'\\u52a0\\u62ff\\u5927', u'', u'', u'\\u5b66\\u9662', 'http://kaoshi.edu.sina.com.cn/abroad/570.html']"
       ]
      },
      {
       "output_type": "stream",
       "stream": "stdout",
       "text": [
        "\n",
        "['12118', u'University College of the Fraser Valley', u'\\u83f2\\u6c99\\u6cb3\\u8c37\\u5927\\u5b66\\u5b66\\u9662', u'\\u52a0\\u62ff\\u5927', u'', u'\\u516c\\u7acb\\u5927\\u5b66', 'http://kaoshi.edu.sina.com.cn/abroad/10208.html']"
       ]
      },
      {
       "output_type": "stream",
       "stream": "stdout",
       "text": [
        "\n",
        "['12119', u'Fort Hays Stare University(Hays)', u'\\u7f8e\\u56fd\\u5bcc\\u7279\\u6d77\\u65af\\u5dde\\u7acb\\u5927\\u5b66(\\u6d77\\u65af)', u'\\u7f8e\\u56fd', u'', u'\\u516c\\u7acb\\u5927\\u5b66', 'http://kaoshi.edu.sina.com.cn/abroad/11024.html']"
       ]
      },
      {
       "output_type": "stream",
       "stream": "stdout",
       "text": [
        "\n",
        "['12120', 'None', u'\\u6885\\u897f\\u5927\\u5b66', u'\\u65b0\\u897f\\u5170', u'', u'', u'\\u5927\\u5b66', 'http://kaoshi.edu.sina.com.cn/abroad/31.html']"
       ]
      },
      {
       "output_type": "stream",
       "stream": "stdout",
       "text": [
        "\n",
        "page in: 607\n",
        "['12121', 'None', u'\\u683c\\u62c9\\u65af\\u54e5\\u5927\\u5b66', u'\\u82f1\\u56fd', u'', u'', u'\\u5927\\u5b66', 'http://kaoshi.edu.sina.com.cn/abroad/101.html']"
       ]
      },
      {
       "output_type": "stream",
       "stream": "stdout",
       "text": [
        "\n",
        "['12122', 'None', u'INTO\\u82f1\\u56fd\\u7ebd\\u5361\\u65af\\u5c14\\u5927\\u5b66', u'\\u82f1\\u56fd', u'', u'', u'\\u9884\\u79d1', 'http://kaoshi.edu.sina.com.cn/abroad/742.html']"
       ]
      },
      {
       "output_type": "stream",
       "stream": "stdout",
       "text": [
        "\n",
        "['12123', 'None', u'\\u5ef6\\u4e16\\u5927\\u5b66', u'\\u97e9\\u56fd', u'', u'', u'\\u5927\\u5b66', 'http://kaoshi.edu.sina.com.cn/abroad/375.html']"
       ]
      },
      {
       "output_type": "stream",
       "stream": "stdout",
       "text": [
        "\n",
        "['12124', 'None', u'\\u7ebd\\u7ea6\\u5dde\\u7acb\\u5927\\u5b66\\u6c34\\u725b\\u57ce\\u5206\\u6821', u'\\u7f8e\\u56fd', u'', u'', u'\\u5927\\u5b66', 'http://kaoshi.edu.sina.com.cn/abroad/671.html']"
       ]
      },
      {
       "output_type": "stream",
       "stream": "stdout",
       "text": [
        "\n",
        "['12125', 'None', u'\\u5251\\u6865\\u6587\\u7406\\u5b66\\u9662(Cambridge Arts & Science)', u'\\u82f1\\u56fd', u'', u'', u'\\u79c1\\u7acb\\u5927\\u5b66', 'http://kaoshi.edu.sina.com.cn/abroad/495.html']"
       ]
      },
      {
       "output_type": "stream",
       "stream": "stdout",
       "text": [
        "\n",
        "['12126', 'None', u'\\u5251\\u6865\\u56fd\\u9645\\u5b66\\u9662', u'\\u6fb3\\u6d32', u'', u'', u'\\u5b66\\u9662', 'http://kaoshi.edu.sina.com.cn/abroad/681.html']"
       ]
      },
      {
       "output_type": "stream",
       "stream": "stdout",
       "text": [
        "\n",
        "['12127', u'Coventry University', u'\\u8003\\u6587\\u5782\\u5927\\u5b66', u'\\u82f1\\u56fd', u'', u'\\u7efc\\u5408\\u6027\\u5927\\u5b66', 'http://kaoshi.edu.sina.com.cn/abroad/10105.html']"
       ]
      },
      {
       "output_type": "stream",
       "stream": "stdout",
       "text": [
        "\n",
        "['12128', u'Waikato Institute of Technology', u'\\u6000\\u5361\\u6258\\u7406\\u5de5\\u5b66\\u9662', u'\\u65b0\\u897f\\u5170', u'', u'\\u516c\\u7acb\\u5927\\u5b66', 'http://kaoshi.edu.sina.com.cn/abroad/10714.html']"
       ]
      },
      {
       "output_type": "stream",
       "stream": "stdout",
       "text": [
        "\n",
        "['12129', u'College of St\\uff0eJoseph', u'\\u5723\\u7ea6\\u745f\\u592b\\u5b66\\u9662', u'\\u7f8e\\u56fd', u'', u'\\u79c1\\u7acb\\u5927\\u5b66', 'http://kaoshi.edu.sina.com.cn/abroad/10927.html']"
       ]
      },
      {
       "output_type": "stream",
       "stream": "stdout",
       "text": [
        "\n",
        "['12130', u'University of Notre Dame', u'\\u5723\\u6bcd\\u5927\\u5b66', u'\\u6fb3\\u5927\\u5229\\u4e9a', u'', u'\\u79c1\\u7acb\\u5927\\u5b66', 'http://kaoshi.edu.sina.com.cn/abroad/10004.html']"
       ]
      },
      {
       "output_type": "stream",
       "stream": "stdout",
       "text": [
        "\n",
        "['12131', u'Embry-Riddle Aeronautical University', u'\\u5b89\\u67cf\\u745e\\u5fb7\\u822a\\u7a7a\\u822a\\u5929\\u5927\\u5b66', u'\\u7f8e\\u56fd', u'', u'\\u79c1\\u7acb\\u5927\\u5b66', 'http://kaoshi.edu.sina.com.cn/abroad/10947.html']"
       ]
      },
      {
       "output_type": "stream",
       "stream": "stdout",
       "text": [
        "\n",
        "['12132', 'None', u'\\u5723\\u827e\\u8482\\u5b89\\u5927\\u5b66', u'\\u6cd5\\u56fd', u'', u'', u'\\u5927\\u5b66', 'http://kaoshi.edu.sina.com.cn/abroad/218.html']"
       ]
      },
      {
       "output_type": "stream",
       "stream": "stdout",
       "text": [
        "\n",
        "['12133', 'None', u'\\u54c8\\u7279\\u4f2f\\u745e\\u5b66\\u9662', u'\\u82f1\\u56fd', u'', u'', u'\\u5927\\u5b66', 'http://kaoshi.edu.sina.com.cn/abroad/42.html']"
       ]
      },
      {
       "output_type": "stream",
       "stream": "stdout",
       "text": [
        "\n",
        "['12134', 'None', u'\\u683c\\u62c9\\u6469\\u6839\\u5927\\u5b66', u'\\u82f1\\u56fd', u'', u'', u'\\u5927\\u5b66', 'http://kaoshi.edu.sina.com.cn/abroad/160.html']"
       ]
      },
      {
       "output_type": "stream",
       "stream": "stdout",
       "text": [
        "\n",
        "['12135', u'Universit\\xe9 Libre de Bruxelles', u'\\u6cd5\\u8bed\\u5e03\\u9c81\\u585e\\u5c14\\u81ea\\u7531\\u5927\\u5b66', u'\\u6bd4\\u5229\\u65f6', u'', u'\\u516c\\u7acb\\u5927\\u5b66', 'http://kaoshi.edu.sina.com.cn/abroad/10091.html']"
       ]
      },
      {
       "output_type": "stream",
       "stream": "stdout",
       "text": [
        "\n",
        "['12136', u'Athens University of Economics and Business', u'\\u96c5\\u5178\\u7ecf\\u6d4e\\u4e0e\\u5546\\u4e1a\\u5927\\u5b66', u'\\u5e0c\\u814a', u'', u'\\u516c\\u7acb\\u5927\\u5b66', 'http://kaoshi.edu.sina.com.cn/abroad/10356.html']"
       ]
      },
      {
       "output_type": "stream",
       "stream": "stdout",
       "text": [
        "\n",
        "['12137', 'None', u'\\u52a0\\u62ff\\u5927\\u51ef\\u6ce2\\u5e03\\u5170\\u987f\\u5927\\u5b66 Cape Breton University', u'\\u52a0\\u62ff\\u5927', u'', u'', u'\\u5927\\u5b66', 'http://kaoshi.edu.sina.com.cn/abroad/731.html']"
       ]
      },
      {
       "output_type": "stream",
       "stream": "stdout",
       "text": [
        "\n",
        "['12138', u'Charles Sturt University', u'\\u67e5\\u5c14\\u65af?\\u65af\\u5fb7\\u6c83\\u7279\\u5927\\u5b66', u'\\u6fb3\\u5927\\u5229\\u4e9a', u'', u'\\u516c\\u7acb\\u5927\\u5b66', 'http://kaoshi.edu.sina.com.cn/abroad/10013.html']"
       ]
      },
      {
       "output_type": "stream",
       "stream": "stdout",
       "text": [
        "\n",
        "['12139', 'None', u'\\u4f26\\u6566\\u5927\\u5b66\\u91d1\\u53f2\\u5bc6\\u65af\\u5b66\\u9662', u'\\u82f1\\u56fd', u'', u'', u'\\u5927\\u5b66', 'http://kaoshi.edu.sina.com.cn/abroad/386.html']"
       ]
      },
      {
       "output_type": "stream",
       "stream": "stdout",
       "text": [
        "\n",
        "['12140', 'None', u'\\u6885\\u91cc\\u5854\\u65af\\u6559\\u80b2\\u96c6\\u56e2 The Meritas Family Schools', u'\\u7f8e\\u56fd', u'', u'', u'\\u5176\\u5b83', 'http://kaoshi.edu.sina.com.cn/abroad/714.html']"
       ]
      },
      {
       "output_type": "stream",
       "stream": "stdout",
       "text": [
        "\n",
        "page in: 608\n",
        "['12141', u'Mount Saint Vincent University', u'\\u5723\\u6587\\u68ee\\u7279\\u5c71\\u5927\\u5b66', u'\\u52a0\\u62ff\\u5927', u'', u'\\u516c\\u7acb\\u5927\\u5b66', 'http://kaoshi.edu.sina.com.cn/abroad/10218.html']"
       ]
      },
      {
       "output_type": "stream",
       "stream": "stdout",
       "text": [
        "\n",
        "['12142', u'Universit\\xe9 catholiclue de Louvain', u'\\u6cd5\\u8bed\\u9c81\\u6c76\\u5927\\u5b66', u'\\u6bd4\\u5229\\u65f6', u'', u'\\u516c\\u7acb\\u5927\\u5b66', 'http://kaoshi.edu.sina.com.cn/abroad/10090.html']"
       ]
      },
      {
       "output_type": "stream",
       "stream": "stdout",
       "text": [
        "\n",
        "['12143', u'Universal College of Learning', u'\\u7406\\u5de5\\u5b66\\u9662', u'\\u65b0\\u897f\\u5170', u'', u'\\u516c\\u7acb\\u5927\\u5b66', 'http://kaoshi.edu.sina.com.cn/abroad/10725.html']"
       ]
      },
      {
       "output_type": "stream",
       "stream": "stdout",
       "text": [
        "\n",
        "['12144', u'Millersville University of Pennsylvania', u'\\u5bbe\\u5915\\u6cd5\\u5c3c\\u4e9a\\u5dde\\u7c73\\u52d2\\u65af\\u7ef4\\u5c14\\u5927\\u5b66', u'\\u7f8e\\u56fd', u'', u'\\u516c\\u7acb\\u5927\\u5b66', 'http://kaoshi.edu.sina.com.cn/abroad/11067.html']"
       ]
      },
      {
       "output_type": "stream",
       "stream": "stdout",
       "text": [
        "\n",
        "['12145', u'Edinboro University of Pennsylvania', u'\\u5bbe\\u5dde\\u7231\\u4e01\\u5821\\u5927\\u5b66', u'\\u7f8e\\u56fd', u'', u'\\u516c\\u7acb\\u5927\\u5b66', 'http://kaoshi.edu.sina.com.cn/abroad/11092.html']"
       ]
      },
      {
       "output_type": "stream",
       "stream": "stdout",
       "text": [
        "\n",
        "['12146', 'None', u'\\u4e0b\\u83b1\\u8335\\u5e94\\u7528\\u79d1\\u5b66\\u5927\\u5b66', u'\\u5fb7\\u56fd', u'', u'', u'\\u5927\\u5b66', 'http://kaoshi.edu.sina.com.cn/abroad/600.html']"
       ]
      },
      {
       "output_type": "stream",
       "stream": "stdout",
       "text": [
        "\n",
        "['12147', u'Universit\\xe4t Flensburg', u'\\u5f17\\u4f26\\u65af\\u5821\\u5927\\u5b66', u'\\u5fb7\\u56fd', u'', u'\\u516c\\u7acb\\u5927\\u5b66', 'http://kaoshi.edu.sina.com.cn/abroad/10327.html']"
       ]
      },
      {
       "output_type": "stream",
       "stream": "stdout",
       "text": [
        "\n",
        "['12148', 'None', u'\\u5b89\\u5927\\u7565\\u56fd\\u9645\\u5b66\\u9662', u'\\u52a0\\u62ff\\u5927', u'', u'', u'\\u5927\\u5b66', 'http://kaoshi.edu.sina.com.cn/abroad/361.html']"
       ]
      },
      {
       "output_type": "stream",
       "stream": "stdout",
       "text": [
        "\n",
        "['12149', u'University of Southern Danmark', u'\\u5357\\u4e39\\u9ea6\\u5927\\u5b66', u'\\u4e39\\u9ea6', u'', u'\\u516c\\u7acb\\u5927\\u5b66', 'http://kaoshi.edu.sina.com.cn/abroad/10230.html']"
       ]
      },
      {
       "output_type": "stream",
       "stream": "stdout",
       "text": [
        "\n",
        "['12150', u'UNIVERSIDAD DE ALCALA', u'\\u963f\\u62c9\\u5361\\u62c9\\u5927\\u5b66', u'\\u897f\\u73ed\\u7259', u'', u'\\u516c\\u7acb\\u5927\\u5b66', 'http://kaoshi.edu.sina.com.cn/abroad/10795.html']"
       ]
      },
      {
       "output_type": "stream",
       "stream": "stdout",
       "text": [
        "\n",
        "['12151', 'None', u'\\u601d\\u79d1\\u7279\\u5b66\\u6821(Sidcot School)', u'\\u82f1\\u56fd', u'', u'', u'\\u79c1\\u7acb\\u5927\\u5b66', 'http://kaoshi.edu.sina.com.cn/abroad/512.html']"
       ]
      },
      {
       "output_type": "stream",
       "stream": "stdout",
       "text": [
        "\n",
        "['12152', 'None', u'\\u7eb3\\u5c14\\u900a\\u7406\\u5de5\\u5b66\\u9662', u'\\u65b0\\u897f\\u5170', u'', u'', u'\\u5927\\u5b66', 'http://kaoshi.edu.sina.com.cn/abroad/59.html']"
       ]
      },
      {
       "output_type": "stream",
       "stream": "stdout",
       "text": [
        "\n",
        "['12153', u'Charles Darwin University', u'\\u67e5\\u5c14\\u65af?\\u8fbe\\u5c14\\u6587\\u5927\\u5b66', u'\\u6fb3\\u5927\\u5229\\u4e9a', u'', u'\\u516c\\u7acb\\u5927\\u5b66', 'http://kaoshi.edu.sina.com.cn/abroad/10012.html']"
       ]
      },
      {
       "output_type": "stream",
       "stream": "stdout",
       "text": [
        "\n",
        "['12154', 'None', u'\\u6cd5\\u56fd\\u96f7\\u6069\\u9ad8\\u7b49\\u5546\\u5b66\\u9662', u'\\u6cd5\\u56fd', u'', u'', u'\\u5927\\u5b66', 'http://kaoshi.edu.sina.com.cn/abroad/294.html']"
       ]
      },
      {
       "output_type": "stream",
       "stream": "stdout",
       "text": [
        "\n",
        "['12155', u'International Education Group Regent(\\u745e\\u91d1\\u7279)', u'\\u745e\\u91d1\\u7279', u'\\u65b0\\u897f\\u5170', u'', u'\\u79c1\\u7acb\\u5927\\u5b66', 'http://kaoshi.edu.sina.com.cn/abroad/10703.html']"
       ]
      },
      {
       "output_type": "stream",
       "stream": "stdout",
       "text": [
        "\n",
        "['12156', u'Miami Uniiversity(oxford)', u'\\u8fc8\\u963f\\u5bc6\\u5927\\u5b66(\\u725b\\u6d25)', u'\\u7f8e\\u56fd', u'', u'\\u79c1\\u7acb\\u5927\\u5b66', 'http://kaoshi.edu.sina.com.cn/abroad/11179.html']"
       ]
      },
      {
       "output_type": "stream",
       "stream": "stdout",
       "text": [
        "\n",
        "['12157', u'Institute for Housing and Urban dlevelopment Studies', u'\\u8377\\u5170\\u4f4f\\u5b85\\u4e0e\\u57ce\\u5e02\\u53d1\\u5c55\\u7814\\u7a76\\u5b66\\u9662', u'\\u8377\\u5170', u'', u'\\u516c\\u7acb\\u5927\\u5b66', 'http://kaoshi.edu.sina.com.cn/abroad/10414.html']"
       ]
      },
      {
       "output_type": "stream",
       "stream": "stdout",
       "text": [
        "\n",
        "['12158', u'Hogeschool Groep-T Leuven', u'\\u9c81\\u6c76\\u7406\\u5de5\\u5927\\u5b66', u'\\u6bd4\\u5229\\u65f6', u'', u'\\u516c\\u7acb\\u5927\\u5b66', 'http://kaoshi.edu.sina.com.cn/abroad/10087.html']"
       ]
      },
      {
       "output_type": "stream",
       "stream": "stdout",
       "text": [
        "\n",
        "['12159', u'University of Huddersfield', u'\\u8d6b\\u5fb7\\u65af\\u83f2\\u5c14\\u5fb7\\u5927\\u5b66', u'\\u82f1\\u56fd', u'', u'\\u79c1\\u7acb\\u5927\\u5b66', 'http://kaoshi.edu.sina.com.cn/abroad/10116.html']"
       ]
      },
      {
       "output_type": "stream",
       "stream": "stdout",
       "text": [
        "\n",
        "['12160', u'University College of Cork', u'\\u79d1\\u514b\\u5927\\u5b66', u'\\u7231\\u5c14\\u5170', u'', u'\\u516c\\u7acb\\u5927\\u5b66', 'http://kaoshi.edu.sina.com.cn/abroad/10449.html']"
       ]
      },
      {
       "output_type": "stream",
       "stream": "stdout",
       "text": [
        "\n",
        "page in: 609\n",
        "['12161', u'Saxion Hogeschool', u'\\u8428\\u514b\\u900a\\u9ad8\\u7b49\\u4e13\\u4e1a\\u5927\\u5b66', u'\\u8377\\u5170', u'', u'\\u516c\\u7acb\\u5927\\u5b66', 'http://kaoshi.edu.sina.com.cn/abroad/10403.html']"
       ]
      },
      {
       "output_type": "stream",
       "stream": "stdout",
       "text": [
        "\n",
        "['12162', 'None', u'\\u6c49\\u8bfa\\u5a01\\u5927\\u5b66', u'\\u5fb7\\u56fd', u'', u'', u'\\u5927\\u5b66', 'http://kaoshi.edu.sina.com.cn/abroad/257.html']"
       ]
      },
      {
       "output_type": "stream",
       "stream": "stdout",
       "text": [
        "\n",
        "['12163', u'International, Institlate for,Infrastructural\\uff0cHydraulic and\\uff0cEnvironmental Engineering', u'\\u56fd\\u9645\\u6c34\\u5229\\u73af\\u5883\\u5de5\\u7a0b\\u5b66\\u9662', u'\\u8377\\u5170', u'', u'\\u516c\\u7acb\\u5927\\u5b66', 'http://kaoshi.edu.sina.com.cn/abroad/10413.html']"
       ]
      },
      {
       "output_type": "stream",
       "stream": "stdout",
       "text": [
        "\n",
        "['12164', 'None', u'\\u9ad8\\u8d35\\u6797\\u516c\\u7acb\\u6559\\u80b2\\u533a', u'\\u52a0\\u62ff\\u5927', u'', u'', u'\\u4e2d\\u5b66', 'http://kaoshi.edu.sina.com.cn/abroad/579.html']"
       ]
      },
      {
       "output_type": "stream",
       "stream": "stdout",
       "text": [
        "\n",
        "['12165', u'Rochester Institute of Technology', u'\\u7f57\\u5f7b\\u65af\\u7279\\u7406\\u5de5\\u5b66\\u9662', u'\\u7f8e\\u56fd', u'', u'\\u79c1\\u7acb\\u5927\\u5b66', 'http://kaoshi.edu.sina.com.cn/abroad/10886.html']"
       ]
      },
      {
       "output_type": "stream",
       "stream": "stdout",
       "text": [
        "\n",
        "['12166', 'None', u'\\u91dc\\u5c71\\u5916\\u56fd\\u8bed\\u5927\\u5b66', u'\\u97e9\\u56fd', u'', u'', u'\\u5927\\u5b66', 'http://kaoshi.edu.sina.com.cn/abroad/650.html']"
       ]
      },
      {
       "output_type": "stream",
       "stream": "stdout",
       "text": [
        "\n",
        "['12167', u'Griffith College', u'\\u683c\\u91cc\\u83f2\\u65af\\u5b66\\u9662', u'\\u7231\\u5c14\\u5170', u'', u'\\u79c1\\u7acb\\u5927\\u5b66', 'http://kaoshi.edu.sina.com.cn/abroad/10477.html']"
       ]
      },
      {
       "output_type": "stream",
       "stream": "stdout",
       "text": [
        "\n",
        "['12168', 'None', u'\\u6851\\u5fb7\\u5170\\u5927\\u5b66 University of Sunderland', u'\\u82f1\\u56fd', u'', u'', u'\\u5927\\u5b66', 'http://kaoshi.edu.sina.com.cn/abroad/622.html']"
       ]
      },
      {
       "output_type": "stream",
       "stream": "stdout",
       "text": [
        "\n",
        "['12169', 'None', u'\\u6089\\u5c3c\\u79d1\\u6280\\u5927\\u5b66INSEARCH\\u5b66\\u9662', u'\\u6fb3\\u6d32', u'', u'', u'\\u5927\\u5b66', 'http://kaoshi.edu.sina.com.cn/abroad/92.html']"
       ]
      },
      {
       "output_type": "stream",
       "stream": "stdout",
       "text": [
        "\n",
        "['12170', 'None', u'\\u9a6c\\u83b1\\u6587\\u5b66\\u9662(Malvern College)', u'\\u82f1\\u56fd', u'', u'', u'\\u79c1\\u7acb\\u5927\\u5b66', 'http://kaoshi.edu.sina.com.cn/abroad/504.html']"
       ]
      },
      {
       "output_type": "stream",
       "stream": "stdout",
       "text": [
        "\n",
        "['12171', 'None', u'\\u65b0\\u52a0\\u5761\\u54c8\\u798f\\u7279\\u5b66\\u9662', u'\\u65b0\\u52a0\\u5761', u'', u'', u'\\u5927\\u5b66', 'http://kaoshi.edu.sina.com.cn/abroad/337.html']"
       ]
      },
      {
       "output_type": "stream",
       "stream": "stdout",
       "text": [
        "\n",
        "['12172', 'None', u'Educatius \\u6559\\u80b2\\u96c6\\u56e2', u'\\u7f8e\\u56fd', u'', u'', u'\\u5927\\u5b66', 'http://kaoshi.edu.sina.com.cn/abroad/432.html']"
       ]
      },
      {
       "output_type": "stream",
       "stream": "stdout",
       "text": [
        "\n",
        "['12173', 'None', u'\\u83b1\\u6bd4\\u9521\\u5e94\\u7528\\u6280\\u672f\\u5927\\u5b66', u'\\u5fb7\\u56fd', u'', u'', u'\\u5927\\u5b66', 'http://kaoshi.edu.sina.com.cn/abroad/585.html']"
       ]
      },
      {
       "output_type": "stream",
       "stream": "stdout",
       "text": [
        "\n",
        "['12174', 'None', u'\\u4fc4\\u52d2\\u5188\\u5927\\u5b66', u'\\u7f8e\\u56fd', u'', u'', u'\\u5927\\u5b66', 'http://kaoshi.edu.sina.com.cn/abroad/658.html']"
       ]
      },
      {
       "output_type": "stream",
       "stream": "stdout",
       "text": [
        "\n",
        "['12175', u'Universit\\xe4t Hohenheim', u'\\u970d\\u6069\\u6d77\\u59c6\\u5927\\u5b66', u'\\u5fb7\\u56fd', u'', u'\\u516c\\u7acb\\u5927\\u5b66', 'http://kaoshi.edu.sina.com.cn/abroad/10349.html']"
       ]
      },
      {
       "output_type": "stream",
       "stream": "stdout",
       "text": [
        "\n",
        "['12176', u'British Columbia Institute of Technology', u'\\u4e0d\\u5217\\u98a0\\u54e5\\u4f26\\u6bd4\\u4e9a\\u7406\\u5de5\\u5b66\\u9662', u'\\u52a0\\u62ff\\u5927', u'', u'\\u516c\\u7acb\\u5927\\u5b66', 'http://kaoshi.edu.sina.com.cn/abroad/10210.html']"
       ]
      },
      {
       "output_type": "stream",
       "stream": "stdout",
       "text": [
        "\n",
        "['12177', u'University of Brighton', u'\\u5e03\\u83b1\\u987f\\u5927\\u5b66', u'\\u82f1\\u56fd', u'', u'\\u516c\\u7acb\\u5927\\u5b66', 'http://kaoshi.edu.sina.com.cn/abroad/10132.html']"
       ]
      },
      {
       "output_type": "stream",
       "stream": "stdout",
       "text": [
        "\n",
        "['12178', u'Arcadia University(Glenside)', u'\\u963f\\u5361\\u8fea\\u4e9a\\u5927\\u5b66', u'\\u7f8e\\u56fd', u'', u'\\u79c1\\u7acb\\u5927\\u5b66', 'http://kaoshi.edu.sina.com.cn/abroad/11115.html']"
       ]
      },
      {
       "output_type": "stream",
       "stream": "stdout",
       "text": [
        "\n",
        "['12179', 'None', u'\\u5723\\u5730\\u4e9a\\u54e5\\u5dde\\u7acb\\u5927\\u5b66', u'\\u7f8e\\u56fd', u'\\u6c99\\u52a0\\u7f05\\u5ea6', u'\\u5927\\u5b66', 'http://kaoshi.edu.sina.com.cn/abroad/83.html']"
       ]
      },
      {
       "output_type": "stream",
       "stream": "stdout",
       "text": [
        "\n",
        "['12180', 'None', u'IHTTI  \\u745e\\u58eb\\u9152\\u5e97\\u7ba1\\u7406\\u5b66\\u9662', u'\\u745e\\u58eb', u'', u'', u'\\u5927\\u5b66', 'http://kaoshi.edu.sina.com.cn/abroad/442.html']"
       ]
      },
      {
       "output_type": "stream",
       "stream": "stdout",
       "text": [
        "\n",
        "page in: 610\n",
        "['12181', 'None', u'\\u9a6c\\u8d5b\\u4e09\\u5927\\u2014\\u2014\\u4fdd\\u5c14\\u585e\\u5c1a\\u5927\\u5b66', u'\\u6cd5\\u56fd', u'', u'', u'\\u5927\\u5b66', 'http://kaoshi.edu.sina.com.cn/abroad/787.html']"
       ]
      },
      {
       "output_type": "stream",
       "stream": "stdout",
       "text": [
        "\n",
        "['12182', 'None', u'\\u52d2\\u54c8\\u5f17\\u5c14\\u5927\\u5b66', u'\\u6cd5\\u56fd', u'', u'', u'\\u5927\\u5b66', 'http://kaoshi.edu.sina.com.cn/abroad/269.html']"
       ]
      },
      {
       "output_type": "stream",
       "stream": "stdout",
       "text": [
        "\n",
        "['12183', u'University of Montana(Missoula)', u'\\u8499\\u5927\\u62ff\\u5927\\u5b66(\\u7c73\\u82cf\\u62c9)', u'\\u7f8e\\u56fd', u'', u'\\u516c\\u7acb\\u5927\\u5b66', 'http://kaoshi.edu.sina.com.cn/abroad/11192.html']"
       ]
      },
      {
       "output_type": "stream",
       "stream": "stdout",
       "text": [
        "\n",
        "['12184', 'None', u'\\u9999\\u6e2f\\u6f14\\u827a\\u5b66\\u9662', u'\\u4e2d\\u56fd\\u9999\\u6e2f\\u5730\\u533a', u' ', u'\\u5927\\u5b66', 'http://kaoshi.edu.sina.com.cn/abroad/456.html']"
       ]
      },
      {
       "output_type": "stream",
       "stream": "stdout",
       "text": [
        "\n",
        "['12185', 'None', u'\\u8499\\u7279\\u5229\\u5c14\\u5927\\u5b66', u'\\u52a0\\u62ff\\u5927', u'', u'', u'\\u5927\\u5b66', 'http://kaoshi.edu.sina.com.cn/abroad/300.html']"
       ]
      },
      {
       "output_type": "stream",
       "stream": "stdout",
       "text": [
        "\n",
        "['12186', u'University College Chester', u'\\u5207\\u65af\\u7279\\u5927\\u5b66', u'\\u82f1\\u56fd', u'', u'\\u516c\\u7acb\\u5927\\u5b66', 'http://kaoshi.edu.sina.com.cn/abroad/10138.html']"
       ]
      },
      {
       "output_type": "stream",
       "stream": "stdout",
       "text": [
        "\n",
        "['12187', u'Blekinge Institute of Technology', u'\\u5e03\\u4eac\\u7406\\u5de5\\u5b66\\u9662', u'\\u745e\\u5178', u'', u'\\u516c\\u7acb\\u5927\\u5b66', 'http://kaoshi.edu.sina.com.cn/abroad/10806.html']"
       ]
      },
      {
       "output_type": "stream",
       "stream": "stdout",
       "text": [
        "\n",
        "['12188', 'None', u'\\u6a80\\u56fd\\u5927\\u5b66', u'\\u97e9\\u56fd', u'', u'', u'\\u5927\\u5b66', 'http://kaoshi.edu.sina.com.cn/abroad/647.html']"
       ]
      },
      {
       "output_type": "stream",
       "stream": "stdout",
       "text": [
        "\n",
        "['12189', u'Cork Institute of Technology', u'\\u79d1\\u514b\\u7406\\u5de5\\u5b66\\u9662', u'\\u7231\\u5c14\\u5170', u'', u'\\u516c\\u7acb\\u5927\\u5b66', 'http://kaoshi.edu.sina.com.cn/abroad/10462.html']"
       ]
      },
      {
       "output_type": "stream",
       "stream": "stdout",
       "text": [
        "\n",
        "['12190', 'None', u'\\u8fbe\\u82f1\\u56fd\\u9645\\u5b66\\u9662', u'\\u52a0\\u62ff\\u5927', u'', u'', u'\\u5927\\u5b66', 'http://kaoshi.edu.sina.com.cn/abroad/406.html']"
       ]
      },
      {
       "output_type": "stream",
       "stream": "stdout",
       "text": [
        "\n",
        "['12191', u'Aslesund University College', u'\\u5965\\u52d2\\u677e\\u5927\\u5b66\\u5b66\\u9662', u'\\u632a\\u5a01', u'', u'\\u516c\\u7acb\\u5927\\u5b66', 'http://kaoshi.edu.sina.com.cn/abroad/10741.html']"
       ]
      },
      {
       "output_type": "stream",
       "stream": "stdout",
       "text": [
        "\n",
        "['12192', u'Keele University', u'\\u57fa\\u5c14\\u5927\\u5b66', u'\\u82f1\\u56fd', u'', u'\\u516c\\u7acb\\u5927\\u5b66', 'http://kaoshi.edu.sina.com.cn/abroad/10118.html']"
       ]
      },
      {
       "output_type": "stream",
       "stream": "stdout",
       "text": [
        "\n",
        "['12193', u'University of Otago', u'\\u5965\\u5854\\u54e5\\u5927\\u5b66', u'\\u65b0\\u897f\\u5170', u'', u'\\u516c\\u7acb\\u5927\\u5b66', 'http://kaoshi.edu.sina.com.cn/abroad/10712.html']"
       ]
      },
      {
       "output_type": "stream",
       "stream": "stdout",
       "text": [
        "\n",
        "['12194', u'Dundalk Institute of Technology', u'\\u9093\\u591a\\u514b\\u7406\\u5de5\\u5b66\\u9662', u'\\u7231\\u5c14\\u5170', u'', u'\\u516c\\u7acb\\u5927\\u5b66', 'http://kaoshi.edu.sina.com.cn/abroad/10463.html']"
       ]
      },
      {
       "output_type": "stream",
       "stream": "stdout",
       "text": [
        "\n",
        "['12195', u'Southern Alberta Institute of Technology', u'\\u5357\\u963f\\u5c14\\u4f2f\\u7279\\u7406\\u5de5\\u5927\\u5b66', u'\\u52a0\\u62ff\\u5927', u'', u'\\u516c\\u7acb\\u5927\\u5b66', 'http://kaoshi.edu.sina.com.cn/abroad/10195.html']"
       ]
      },
      {
       "output_type": "stream",
       "stream": "stdout",
       "text": [
        "\n",
        "['12196', 'None', u'\\u5317\\u54e5\\u4f26\\u6bd4\\u4e9a\\u5927\\u5b66', u'\\u52a0\\u62ff\\u5927', u'', u'', u'\\u5927\\u5b66', 'http://kaoshi.edu.sina.com.cn/abroad/326.html']"
       ]
      },
      {
       "output_type": "stream",
       "stream": "stdout",
       "text": [
        "\n",
        "['12197', 'None', u'\\u65b0\\u52a0\\u5761FTC\\u91d1\\u878d\\u57f9\\u8bad\\u5b66\\u9662', u'\\u65b0\\u52a0\\u5761', u'', u'', u'\\u5927\\u5b66', 'http://kaoshi.edu.sina.com.cn/abroad/340.html']"
       ]
      },
      {
       "output_type": "stream",
       "stream": "stdout",
       "text": [
        "\n",
        "['12198', 'None', u'\\u970d\\u7279\\u5546\\u5b66\\u9662 Hult Internatioal Business School', u'\\u7f8e\\u56fd', u'', u'', u'\\u5b66\\u9662', 'http://kaoshi.edu.sina.com.cn/abroad/712.html']"
       ]
      },
      {
       "output_type": "stream",
       "stream": "stdout",
       "text": [
        "\n",
        "['12199', 'None', u'\\u897f\\u82f1\\u683c\\u5170\\u5927\\u5b66', u'\\u82f1\\u56fd', u'', u'', u'\\u5927\\u5b66', 'http://kaoshi.edu.sina.com.cn/abroad/736.html']"
       ]
      },
      {
       "output_type": "stream",
       "stream": "stdout",
       "text": [
        "\n",
        "['12200', 'None', u'\\u5b89\\u65e5\\u672c\\u8bed\\u5b66\\u9662', u'\\u65e5\\u672c', u'', u'', u'\\u8bed\\u8a00\\u5b66\\u9662', 'http://kaoshi.edu.sina.com.cn/abroad/697.html']"
       ]
      },
      {
       "output_type": "stream",
       "stream": "stdout",
       "text": [
        "\n",
        "page in: 611\n",
        "['12201', u'Drexel Ulliverslitv', u'\\u5fb7\\u96f7\\u514b\\u585e\\u5c14\\u5927\\u5b66', u'\\u7f8e\\u56fd', u'', u'\\u79c1\\u7acb\\u5927\\u5b66', 'http://kaoshi.edu.sina.com.cn/abroad/11096.html']"
       ]
      },
      {
       "output_type": "stream",
       "stream": "stdout",
       "text": [
        "\n",
        "['12202', 'None', u'ACG\\u5b66\\u672f\\u6559\\u80b2\\u96c6\\u56e2', u'\\u65b0\\u897f\\u5170', u'', u'', u'\\u5927\\u5b66', 'http://kaoshi.edu.sina.com.cn/abroad/416.html']"
       ]
      },
      {
       "output_type": "stream",
       "stream": "stdout",
       "text": [
        "\n",
        "['12203', u\"Eastern Institute of Technology (Hawke's Bay)\", u'\\u4e1c\\u90e8\\u7406\\u5de5\\u5b66\\u9662', u'\\u65b0\\u897f\\u5170', u'', u'\\u516c\\u7acb\\u5927\\u5b66', 'http://kaoshi.edu.sina.com.cn/abroad/10709.html']"
       ]
      },
      {
       "output_type": "stream",
       "stream": "stdout",
       "text": [
        "\n",
        "['12204', 'None', u'\\u8428\\u5c14\\u5927\\u5b66', u'\\u5fb7\\u56fd', u'', u'', u'\\u5927\\u5b66', 'http://kaoshi.edu.sina.com.cn/abroad/586.html']"
       ]
      },
      {
       "output_type": "stream",
       "stream": "stdout",
       "text": [
        "\n",
        "['12205', u'Swedish University of Agricultural sciences', u'\\u745e\\u5178\\u519c\\u4e1a\\u79d1\\u5b66\\u5927\\u5b66', u'\\u745e\\u5178', u'', u'\\u516c\\u7acb\\u5927\\u5b66', 'http://kaoshi.edu.sina.com.cn/abroad/10821.html']"
       ]
      },
      {
       "output_type": "stream",
       "stream": "stdout",
       "text": [
        "\n",
        "['12206', 'None', u'\\u5361\\u5c14\\u987f\\u5927\\u5b66', u'\\u52a0\\u62ff\\u5927', u'', u'', u'\\u5927\\u5b66', 'http://kaoshi.edu.sina.com.cn/abroad/301.html']"
       ]
      },
      {
       "output_type": "stream",
       "stream": "stdout",
       "text": [
        "\n",
        "['12207', u'Mississippi Srate University(Missisippi State)', u'\\u5bc6\\u897f\\u897f\\u6bd4\\u5dde\\u7acb\\u5927\\u5b66(\\u5bc6\\u897f\\u897f\\u6bd4\\u5dde)', u'\\u7f8e\\u56fd', u'', u'\\u516c\\u7acb\\u5927\\u5b66', 'http://kaoshi.edu.sina.com.cn/abroad/11159.html']"
       ]
      },
      {
       "output_type": "stream",
       "stream": "stdout",
       "text": [
        "\n",
        "['12208', u'Universita deeli Studi di PALERMO', u'\\u5df4\\u52d2\\u83ab\\u5927\\u5b66', u'\\u610f\\u5927\\u5229', u'', u'\\u516c\\u7acb\\u5927\\u5b66', 'http://kaoshi.edu.sina.com.cn/abroad/10533.html']"
       ]
      },
      {
       "output_type": "stream",
       "stream": "stdout",
       "text": [
        "\n",
        "['12209', u'Universit\\xe4t der Bundeswehr Hamburg', u'\\u6c49\\u5821\\u8054\\u90a6\\u56fd\\u9632\\u519b\\u5927\\u5b66', u'\\u5fb7\\u56fd', u'', u'\\u516c\\u7acb\\u5927\\u5b66', 'http://kaoshi.edu.sina.com.cn/abroad/10345.html']"
       ]
      },
      {
       "output_type": "stream",
       "stream": "stdout",
       "text": [
        "\n",
        "['12210', 'None', u'\\u66fc\\u6d77\\u59c6\\u5927\\u5b66', u'\\u5fb7\\u56fd', u'', u'', u'\\u5927\\u5b66', 'http://kaoshi.edu.sina.com.cn/abroad/237.html']"
       ]
      },
      {
       "output_type": "stream",
       "stream": "stdout",
       "text": [
        "\n",
        "['12211', 'None', u'\\u9c81\\u6602\\u5927\\u5b66', u'\\u6cd5\\u56fd', u'', u'', u'\\u5927\\u5b66', 'http://kaoshi.edu.sina.com.cn/abroad/267.html']"
       ]
      },
      {
       "output_type": "stream",
       "stream": "stdout",
       "text": [
        "\n",
        "['12212', 'None', u'\\u4e1c\\u65b9\\u56fd\\u9645\\u5b66\\u9662', u'\\u65e5\\u672c', u'', u'', u'\\u8bed\\u8a00\\u5b66\\u9662', 'http://kaoshi.edu.sina.com.cn/abroad/699.html']"
       ]
      },
      {
       "output_type": "stream",
       "stream": "stdout",
       "text": [
        "\n",
        "['12213', 'None', u'\\u4f2f\\u683c\\u65af\\u5e0c\\u5c14\\u4e2d\\u5b66(Burgess Hill School)', u'\\u82f1\\u56fd', u'', u'', u'\\u4e2d\\u5b66', 'http://kaoshi.edu.sina.com.cn/abroad/467.html']"
       ]
      },
      {
       "output_type": "stream",
       "stream": "stdout",
       "text": [
        "\n",
        "['12214', u'Lehigh University', u'\\u5229\\u54c8\\u4f0a\\u5927\\u5b66', u'\\u7f8e\\u56fd', u'', u'\\u79c1\\u7acb\\u5927\\u5b66', 'http://kaoshi.edu.sina.com.cn/abroad/11074.html']"
       ]
      },
      {
       "output_type": "stream",
       "stream": "stdout",
       "text": [
        "\n",
        "['12215', u'Trinitv Western University', u'\\u897f\\u4e09\\u4e00\\u5927\\u5b66', u'\\u52a0\\u62ff\\u5927', u'', u'\\u79c1\\u7acb\\u5927\\u5b66', 'http://kaoshi.edu.sina.com.cn/abroad/10186.html']"
       ]
      },
      {
       "output_type": "stream",
       "stream": "stdout",
       "text": [
        "\n",
        "['12216', 'None', u'\\u5229\\u6469\\u65e5\\u5927\\u5b66', u'\\u6cd5\\u56fd', u'', u'', u'\\u5927\\u5b66', 'http://kaoshi.edu.sina.com.cn/abroad/217.html']"
       ]
      },
      {
       "output_type": "stream",
       "stream": "stdout",
       "text": [
        "\n",
        "['12217', 'None', u'\\u7b2c\\u8042\\u4f2f\\u5f7c\\u5f97\\u7f57\\u592b\\u65af\\u514b\\u56fd\\u7acb\\u533b\\u5b66\\u9662', u'\\u4e4c\\u514b\\u5170', u'', u'\\u516c\\u7acb\\u5927\\u5b66', 'http://kaoshi.edu.sina.com.cn/abroad/11272.html']"
       ]
      },
      {
       "output_type": "stream",
       "stream": "stdout",
       "text": [
        "\n",
        "['12218', 'None', u'\\u5e03\\u62c9\\u798f\\u5fb7\\u5b66\\u9662', u'\\u6fb3\\u6d32', u'', u'', u'\\u5927\\u5b66', 'http://kaoshi.edu.sina.com.cn/abroad/142.html']"
       ]
      },
      {
       "output_type": "stream",
       "stream": "stdout",
       "text": [
        "\n",
        "['12219', 'None', u'\\u9f50\\u9676\\u5e94\\u7528\\u79d1\\u5b66\\u5927\\u5b66', u'\\u5fb7\\u56fd', u'', u'', u'\\u9884\\u79d1', 'http://kaoshi.edu.sina.com.cn/abroad/556.html']"
       ]
      },
      {
       "output_type": "stream",
       "stream": "stdout",
       "text": [
        "\n",
        "['12220', 'None', u'\\u827e\\u5fb7\\u83f2\\u5927\\u5b66', u'\\u7f8e\\u56fd', u'', u'', u'\\u5927\\u5b66', 'http://kaoshi.edu.sina.com.cn/abroad/401.html']"
       ]
      },
      {
       "output_type": "stream",
       "stream": "stdout",
       "text": [
        "\n",
        "page in: 612\n",
        "['12221', 'None', u'\\u5510\\u9053\\u514b\\u7406\\u5de5\\u5b66\\u9662', u'\\u7231\\u5c14\\u5170', u'', u'', u'\\u5b66\\u9662', 'http://kaoshi.edu.sina.com.cn/abroad/610.html']"
       ]
      },
      {
       "output_type": "stream",
       "stream": "stdout",
       "text": [
        "\n",
        "['12222', u'Trent University', u'\\u7279\\u4f26\\u7279\\u5927\\u5b66', u'\\u52a0\\u62ff\\u5927', u'', u'\\u516c\\u7acb\\u5927\\u5b66', 'http://kaoshi.edu.sina.com.cn/abroad/10226.html']"
       ]
      },
      {
       "output_type": "stream",
       "stream": "stdout",
       "text": [
        "\n",
        "['12223', u'University College of J?nk?ping', u'\\u5ef6\\u96ea\\u5e73\\u5927\\u5b66', u'\\u745e\\u5178', u'', u'\\u516c\\u7acb\\u5927\\u5b66', 'http://kaoshi.edu.sina.com.cn/abroad/10835.html']"
       ]
      },
      {
       "output_type": "stream",
       "stream": "stdout",
       "text": [
        "\n",
        "['12224', 'None', u'\\u4e00\\u6865\\u5927\\u5b66', u'\\u65e5\\u672c', u'', u'', u'\\u5927\\u5b66', 'http://kaoshi.edu.sina.com.cn/abroad/568.html']"
       ]
      },
      {
       "output_type": "stream",
       "stream": "stdout",
       "text": [
        "\n",
        "['12225', 'None', u'\\u82f1\\u56fd\\u4e1c\\u4f26\\u6566\\u5927\\u5b66', u'\\u82f1\\u56fd', u'', u'', u'\\u5927\\u5b66', 'http://kaoshi.edu.sina.com.cn/abroad/50.html']"
       ]
      },
      {
       "output_type": "stream",
       "stream": "stdout",
       "text": [
        "\n",
        "['12226', u'UNFIVERSITY oF ART AND DESIGN HELSINKI', u'\\u8d6b\\u5c14\\u8f9b\\u57fa\\u827a\\u672f\\u4e0e\\u8bbe\\u8ba1\\u5927\\u5b66', u'\\u82ac\\u5170', u'', u'\\u516c\\u7acb\\u5927\\u5b66', 'http://kaoshi.edu.sina.com.cn/abroad/10265.html']"
       ]
      },
      {
       "output_type": "stream",
       "stream": "stdout",
       "text": [
        "\n",
        "['12227', 'None', u'\\u6000\\u5361\\u6258\\u5927\\u5b66', u'\\u65b0\\u897f\\u5170', u'', u'', u'\\u5927\\u5b66', 'http://kaoshi.edu.sina.com.cn/abroad/27.html']"
       ]
      },
      {
       "output_type": "stream",
       "stream": "stdout",
       "text": [
        "\n",
        "['12228', u'Tipperary Institute', u'\\u7f07\\u666e\\u745e\\u5b66\\u9662', u'\\u7231\\u5c14\\u5170', u'', u'\\u516c\\u7acb\\u5927\\u5b66', 'http://kaoshi.edu.sina.com.cn/abroad/10487.html']"
       ]
      },
      {
       "output_type": "stream",
       "stream": "stdout",
       "text": [
        "\n",
        "['12229', 'None', u'\\u5361\\u6602\\u56fd\\u5bb6\\u97f3\\u4e50\\u5b66\\u9662', u'\\u6cd5\\u56fd', u'', u'', u'\\u5927\\u5b66', 'http://kaoshi.edu.sina.com.cn/abroad/454.html']"
       ]
      },
      {
       "output_type": "stream",
       "stream": "stdout",
       "text": [
        "\n",
        "['12230', 'None', u'\\u65e5\\u672c\\u7406\\u5de5\\u60c5\\u62a5\\u4e13\\u95e8\\u95e8\\u5b66\\u6821', u'\\u65e5\\u672c', u'', u'', u'\\u8bed\\u8a00\\u5b66\\u9662', 'http://kaoshi.edu.sina.com.cn/abroad/747.html']"
       ]
      },
      {
       "output_type": "stream",
       "stream": "stdout",
       "text": [
        "\n",
        "['12231', 'None', u'\\u54e5\\u5ef7\\u6839\\u5927\\u5b66', u'\\u5fb7\\u56fd', u'', u'', u'\\u5927\\u5b66', 'http://kaoshi.edu.sina.com.cn/abroad/264.html']"
       ]
      },
      {
       "output_type": "stream",
       "stream": "stdout",
       "text": [
        "\n",
        "['12232', 'None', u'\\u5df4\\u90a3\\u5821\\u4e2d\\u5b66(Barnard Castle School)', u'\\u82f1\\u56fd', u'', u'', u'\\u4e2d\\u5b66', 'http://kaoshi.edu.sina.com.cn/abroad/464.html']"
       ]
      },
      {
       "output_type": "stream",
       "stream": "stdout",
       "text": [
        "\n",
        "['12233', 'None', u'\\u62c9\\u6587\\u5927\\u5b66', u'\\u7f8e\\u56fd', u'', u'', u'\\u5927\\u5b66', 'http://kaoshi.edu.sina.com.cn/abroad/767.html']"
       ]
      },
      {
       "output_type": "stream",
       "stream": "stdout",
       "text": [
        "\n",
        "['12234', 'None', u'\\u51ef\\u7279\\u6c49\\u59c6\\u5b66\\u6821(Caterham School)', u'\\u82f1\\u56fd', u'', u'', u'\\u79c1\\u7acb\\u5927\\u5b66', 'http://kaoshi.edu.sina.com.cn/abroad/497.html']"
       ]
      },
      {
       "output_type": "stream",
       "stream": "stdout",
       "text": [
        "\n",
        "['12235', 'None', u'\\u6ce2\\u6069\\u5927\\u5b66', u'\\u5fb7\\u56fd', u'', u'', u'\\u5927\\u5b66', 'http://kaoshi.edu.sina.com.cn/abroad/252.html']"
       ]
      },
      {
       "output_type": "stream",
       "stream": "stdout",
       "text": [
        "\n",
        "['12236', u'The University of Dublin\\uff0eTrinity College', u'\\u90fd\\u67cf\\u6797\\u5927\\u5b66\\u5723\\u4e09\\u4e00\\u5b66\\u9662', u'\\u7231\\u5c14\\u5170', u'', u'', 'http://kaoshi.edu.sina.com.cn/abroad/10448.html']"
       ]
      },
      {
       "output_type": "stream",
       "stream": "stdout",
       "text": [
        "\n",
        "['12237', u'Arizona slhate University West(Phoenix)', u'\\u4e9a\\u5229\\u6851\\u90a3\\u5dde\\u7acb\\u5927\\u5b66\\u897f\\u6821\\u533a(\\u83f2\\u5c3c\\u514b\\u65af\\u57ce)', u'\\u7f8e\\u56fd', u'', u'\\u516c\\u7acb\\u5927\\u5b66', 'http://kaoshi.edu.sina.com.cn/abroad/11245.html']"
       ]
      },
      {
       "output_type": "stream",
       "stream": "stdout",
       "text": [
        "\n",
        "['12238', u'University of Delaware', u'\\u7279\\u62c9\\u534e\\u5927\\u5b66', u'\\u7f8e\\u56fd', u'', u'\\u79c1\\u7acb\\u5927\\u5b66', 'http://kaoshi.edu.sina.com.cn/abroad/11206.html']"
       ]
      },
      {
       "output_type": "stream",
       "stream": "stdout",
       "text": [
        "\n",
        "['12239', 'None', u'\\u59ec\\u8defYMCA\\u65e5\\u672c\\u8bed\\u5b66\\u9662', u'\\u65e5\\u672c', u'', u'', u'\\u8bed\\u8a00\\u5b66\\u9662', 'http://kaoshi.edu.sina.com.cn/abroad/725.html']"
       ]
      },
      {
       "output_type": "stream",
       "stream": "stdout",
       "text": [
        "\n",
        "['12240', 'None', u'\\u5343\\u4ee3\\u7530\\u65e5\\u672c\\u8bed', u'\\u65e5\\u672c', u'', u'', u'\\u8bed\\u8a00\\u5b66\\u9662', 'http://kaoshi.edu.sina.com.cn/abroad/746.html']"
       ]
      },
      {
       "output_type": "stream",
       "stream": "stdout",
       "text": [
        "\n",
        "page in: 613\n",
        "['12241', u'Bay of Plenty Polytechnic(Tauranga)', u'\\u4e30\\u76db\\u6e7e\\u7406\\u5de5\\u5b66\\u9662', u'\\u65b0\\u897f\\u5170', u'', u'\\u516c\\u7acb\\u5927\\u5b66', 'http://kaoshi.edu.sina.com.cn/abroad/10723.html']"
       ]
      },
      {
       "output_type": "stream",
       "stream": "stdout",
       "text": [
        "\n",
        "['12242', u'Hogeschool Leiden\\uff0e', u'\\u83b1\\u987f\\u9ad8\\u7b49\\u4e13\\u4e1a\\u5927\\u5b66', u'\\u8377\\u5170', u'', u'\\u516c\\u7acb\\u5927\\u5b66', 'http://kaoshi.edu.sina.com.cn/abroad/10407.html']"
       ]
      },
      {
       "output_type": "stream",
       "stream": "stdout",
       "text": [
        "\n",
        "['12243', u'Intitute of Technology\\uff0c Blanchardstown', u'\\u5e03\\u5170\\u5bdf\\u65af\\u9547\\u7406\\u5de5\\u5b66\\u9662', u'\\u7231\\u5c14\\u5170', u'', u'\\u516c\\u7acb\\u5927\\u5b66', 'http://kaoshi.edu.sina.com.cn/abroad/10466.html']"
       ]
      },
      {
       "output_type": "stream",
       "stream": "stdout",
       "text": [
        "\n",
        "['12244', 'None', u'\\u6c49\\u9633\\u5927\\u5b66', u'\\u97e9\\u56fd', u'', u'', u'\\u5927\\u5b66', 'http://kaoshi.edu.sina.com.cn/abroad/644.html']"
       ]
      },
      {
       "output_type": "stream",
       "stream": "stdout",
       "text": [
        "\n",
        "['12245', 'None', u'\\u83b1\\u6bd4\\u9521\\u5927\\u5b66', u'\\u5fb7\\u56fd', u'', u'', u'\\u5927\\u5b66', 'http://kaoshi.edu.sina.com.cn/abroad/263.html']"
       ]
      },
      {
       "output_type": "stream",
       "stream": "stdout",
       "text": [
        "\n",
        "['12246', 'None', u'\\u5df4\\u9ece\\u516b\\u5927', u'\\u6cd5\\u56fd', u'', u'', u'\\u5927\\u5b66', 'http://kaoshi.edu.sina.com.cn/abroad/200.html']"
       ]
      },
      {
       "output_type": "stream",
       "stream": "stdout",
       "text": [
        "\n",
        "['12247', u'Steohen F\\uff0eAustin State University', u'\\u53f2\\u8482\\u592b\\u5965\\u65af\\u6c40\\u5dde\\u7acb\\u5927\\u5b66', u'\\u7f8e\\u56fd', u'', u'\\u516c\\u7acb\\u5927\\u5b66', 'http://kaoshi.edu.sina.com.cn/abroad/10963.html']"
       ]
      },
      {
       "output_type": "stream",
       "stream": "stdout",
       "text": [
        "\n",
        "['12248', 'None', u'\\u83b1\\u74e6\\u987f\\u5927\\u5b66', u'\\u8377\\u5170', u'', u'', u'\\u5927\\u5b66', 'http://kaoshi.edu.sina.com.cn/abroad/356.html']"
       ]
      },
      {
       "output_type": "stream",
       "stream": "stdout",
       "text": [
        "\n",
        "['12249', u'Hochschule Anhalt(FH)', u'\\u5b89\\u54c8\\u5c14\\u7279\\u9ad8\\u7b49\\u4e13\\u4e1a\\u5b66\\u9662', u'\\u5fb7\\u56fd', u'', u'\\u516c\\u7acb\\u5927\\u5b66', 'http://kaoshi.edu.sina.com.cn/abroad/10307.html']"
       ]
      },
      {
       "output_type": "stream",
       "stream": "stdout",
       "text": [
        "\n",
        "['12250', u'University of Delaware', u'\\u7279\\u62c9\\u534e\\u5927\\u5b66', u'\\u7f8e\\u56fd', u'', u'\\u79c1\\u7acb\\u5927\\u5b66', 'http://kaoshi.edu.sina.com.cn/abroad/10916.html']"
       ]
      },
      {
       "output_type": "stream",
       "stream": "stdout",
       "text": [
        "\n",
        "['12251', 'None', u'\\u6ce2\\u5c14\\u591a\\u56fd\\u7acb\\u7efc\\u5408\\u5927\\u5b66', u'\\u6cd5\\u56fd', u'', u'', u'\\u5927\\u5b66', 'http://kaoshi.edu.sina.com.cn/abroad/276.html']"
       ]
      },
      {
       "output_type": "stream",
       "stream": "stdout",
       "text": [
        "\n",
        "['12252', u'Universit\\xe9 Michel de Montaigne\\uff0c Bordeaux 3', u'\\u7c73\\u6b47\\u5c14?\\u5fb7?\\u8499\\u6cf0\\u6d85\\u2014\\u6ce2\\u5c14\\u591a\\u7b2c\\u4e09\\u5927\\u5b66', u'\\u6cd5\\u56fd', u'', u'\\u516c\\u7acb\\u5927\\u5b66', 'http://kaoshi.edu.sina.com.cn/abroad/10303.html']"
       ]
      },
      {
       "output_type": "stream",
       "stream": "stdout",
       "text": [
        "\n",
        "['12253', 'None', u'\\u4e1c\\u4e9a\\u7ba1\\u7406\\u5b66\\u9662', u'\\u65b0\\u52a0\\u5761', u'', u'', u'\\u5b66\\u9662', 'http://kaoshi.edu.sina.com.cn/abroad/652.html']"
       ]
      },
      {
       "output_type": "stream",
       "stream": "stdout",
       "text": [
        "\n",
        "['12254', u'Kutztown University of Pennsylvania', u'\\u5bbe\\u5915\\u6cd5\\u5c3c\\u4e9a\\u5dde\\u5e93\\u8328\\u6566\\u5927\\u5b66', u'\\u7f8e\\u56fd', u'', u'\\u516c\\u7acb\\u5927\\u5b66', 'http://kaoshi.edu.sina.com.cn/abroad/11078.html']"
       ]
      },
      {
       "output_type": "stream",
       "stream": "stdout",
       "text": [
        "\n",
        "['12255', u'Montanuniversit\\xe4t Leoben', u'\\u83b1\\u5965\\u672c\\u77ff\\u4e1a\\u5927\\u5b66', u'\\u5965\\u5730\\u5229', u'', u'\\u516c\\u7acb\\u5927\\u5b66', 'http://kaoshi.edu.sina.com.cn/abroad/10047.html']"
       ]
      },
      {
       "output_type": "stream",
       "stream": "stdout",
       "text": [
        "\n",
        "['12256', u'University of Notre Dame', u'\\u5723\\u6bcd\\u5927\\u5b66', u'\\u6fb3\\u5927\\u5229\\u4e9a', u'', u'\\u79c1\\u7acb\\u5927\\u5b66', 'http://kaoshi.edu.sina.com.cn/abroad/10008.html']"
       ]
      },
      {
       "output_type": "stream",
       "stream": "stdout",
       "text": [
        "\n",
        "['12257', u'Universit\\xe4t Augsburg', u'\\u5965\\u683c\\u65af\\u5821\\u5927\\u5b66', u'\\u5fb7\\u56fd', u'', u'\\u516c\\u7acb\\u5927\\u5b66', 'http://kaoshi.edu.sina.com.cn/abroad/10308.html']"
       ]
      },
      {
       "output_type": "stream",
       "stream": "stdout",
       "text": [
        "\n",
        "['12258', 'None', u'\\u5170\\u52a0\\u62c9\\u5b66\\u9662', u'\\u52a0\\u62ff\\u5927', u'', u'', u'\\u5927\\u5b66', 'http://kaoshi.edu.sina.com.cn/abroad/163.html']"
       ]
      },
      {
       "output_type": "stream",
       "stream": "stdout",
       "text": [
        "\n",
        "['12259', 'None', u'\\u83ab\\u65af\\u79d1\\u9c8d\\u66fc\\u56fd\\u7acb\\u6280\\u672f\\u5927\\u5b66', u'\\u4fc4\\u7f57\\u65af', u'', u'\\u516c\\u7acb\\u5927\\u5b66', 'http://kaoshi.edu.sina.com.cn/abroad/10783.html']"
       ]
      },
      {
       "output_type": "stream",
       "stream": "stdout",
       "text": [
        "\n",
        "['12260', u'Concordia University College of Alberta', u'\\u5eb7\\u514b\\u8fea\\u5c14\\u5927\\u5b66\\u827e\\u4f2f\\u5854\\u5b66\\u9662', u'\\u52a0\\u62ff\\u5927', u'', u'\\u516c\\u7acb\\u5927\\u5b66', 'http://kaoshi.edu.sina.com.cn/abroad/10192.html']"
       ]
      },
      {
       "output_type": "stream",
       "stream": "stdout",
       "text": [
        "\n",
        "page in: 614\n",
        "['12261', u'Royal College of Surgeons', u'\\u7231\\u5c14\\u5170\\u7687\\u5bb6\\u5916\\u79d1\\u5b66\\u9662', u'\\u7231\\u5c14\\u5170', u'', u'\\u79c1\\u7acb\\u5927\\u5b66', 'http://kaoshi.edu.sina.com.cn/abroad/10455.html']"
       ]
      },
      {
       "output_type": "stream",
       "stream": "stdout",
       "text": [
        "\n",
        "['12262', u'Engineering College of Copenhagen', u'\\u54e5\\u672c\\u54c8\\u6839\\u5de5\\u7a0b\\u5b66\\u9662', u'\\u4e39\\u9ea6', u'', u'\\u516c\\u7acb\\u5927\\u5b66', 'http://kaoshi.edu.sina.com.cn/abroad/10242.html']"
       ]
      },
      {
       "output_type": "stream",
       "stream": "stdout",
       "text": [
        "\n",
        "['12263', u'The University of New south Wales', u'\\u65b0\\u5357\\u5a01\\u5c14\\u58eb\\u5927\\u5b66', u'\\u6fb3\\u5927\\u5229\\u4e9a', u'', u'\\u516c\\u7acb\\u5927\\u5b66', 'http://kaoshi.edu.sina.com.cn/abroad/10003.html']"
       ]
      },
      {
       "output_type": "stream",
       "stream": "stdout",
       "text": [
        "\n",
        "['12264', 'None', u'\\u5927\\u962a\\u6587\\u5316\\u56fd\\u9645\\u5b66\\u9662', u'\\u65e5\\u672c', u'\\u5927\\u962a\\u5e9c', u'\\u8bed\\u8a00\\u5b66\\u9662', 'http://kaoshi.edu.sina.com.cn/abroad/702.html']"
       ]
      },
      {
       "output_type": "stream",
       "stream": "stdout",
       "text": [
        "\n",
        "['12265', u'Royal Danish Academy of Music', u'\\u4e39\\u9ea6\\u7687\\u5bb6\\u97f3\\u4e50\\u5b66\\u9662', u'\\u4e39\\u9ea6', u'', u'\\u516c\\u7acb\\u5927\\u5b66', 'http://kaoshi.edu.sina.com.cn/abroad/10240.html']"
       ]
      },
      {
       "output_type": "stream",
       "stream": "stdout",
       "text": [
        "\n",
        "['12266', u'Manuimu Institute of Technology', u'\\u9a6c\\u52aa\\u8003\\u7406\\u5de5\\u5b66\\u9662', u'\\u65b0\\u897f\\u5170', u'', u'\\u516c\\u7acb\\u5927\\u5b66', 'http://kaoshi.edu.sina.com.cn/abroad/10722.html']"
       ]
      },
      {
       "output_type": "stream",
       "stream": "stdout",
       "text": [
        "\n",
        "['12267', u'Mid-Sweden University College', u'\\u4e2d\\u745e\\u5178\\u5927\\u5b66', u'\\u745e\\u5178', u'', u'\\u516c\\u7acb\\u5927\\u5b66', 'http://kaoshi.edu.sina.com.cn/abroad/10819.html']"
       ]
      },
      {
       "output_type": "stream",
       "stream": "stdout",
       "text": [
        "\n",
        "['12268', u'Hudson County Community College(Jersey City)', u'\\u54c8\\u5fb7\\u68ee\\u793e\\u533a\\u5b66\\u9662(\\u65b0\\u6cfd\\u897f)', u'\\u7f8e\\u56fd', u'', u'\\u516c\\u7acb\\u5927\\u5b66', 'http://kaoshi.edu.sina.com.cn/abroad/11133.html']"
       ]
      },
      {
       "output_type": "stream",
       "stream": "stdout",
       "text": [
        "\n",
        "['12269', u'Stockholm School of Economics', u'\\u65af\\u5fb7\\u54e5\\u5c14\\u6469\\u7ecf\\u6d4e\\u5b66\\u9662', u'\\u745e\\u5178', u'', u'\\u516c\\u7acb\\u5927\\u5b66', 'http://kaoshi.edu.sina.com.cn/abroad/10834.html']"
       ]
      },
      {
       "output_type": "stream",
       "stream": "stdout",
       "text": [
        "\n",
        "['12270', 'None', u'\\u574e\\u57f9\\u95e8\\u7406\\u5de5\\u5b66\\u9662', u'\\u6fb3\\u6d32', u'', u'', u'\\u5927\\u5b66', 'http://kaoshi.edu.sina.com.cn/abroad/431.html']"
       ]
      },
      {
       "output_type": "stream",
       "stream": "stdout",
       "text": [
        "\n",
        "['12271', 'None', u'\\u7f8e\\u7f57\\u65af\\u8bed\\u8a00\\u5b66\\u6821', u'\\u65e5\\u672c', u'', u'', u'\\u8bed\\u8a00\\u5b66\\u9662', 'http://kaoshi.edu.sina.com.cn/abroad/728.html']"
       ]
      },
      {
       "output_type": "stream",
       "stream": "stdout",
       "text": [
        "\n",
        "['12272', u'Maysville Community COIlege (Maysville)', u'\\u739b\\u4e3d\\u7ef4\\u5c14\\u5b66\\u9662(\\u739b\\u4e3d\\u7ef4\\u5c14)', u'\\u7f8e\\u56fd', u'', u'\\u79c1\\u7acb\\u5927\\u5b66', 'http://kaoshi.edu.sina.com.cn/abroad/11012.html']"
       ]
      },
      {
       "output_type": "stream",
       "stream": "stdout",
       "text": [
        "\n",
        "['12273', 'None', u'\\u67cf\\u6797\\u6d2a\\u5821\\u5927\\u5b66', u'\\u5fb7\\u56fd', u'', u'', u'\\u5927\\u5b66', 'http://kaoshi.edu.sina.com.cn/abroad/274.html']"
       ]
      },
      {
       "output_type": "stream",
       "stream": "stdout",
       "text": [
        "\n",
        "['12274', 'None', u'\\u83ab\\u65af\\u79d1\\u56fd\\u7acb\\u5e08\\u8303\\u5927\\u5b66', u'\\u4fc4\\u7f57\\u65af', u'', u'\\u516c\\u7acb\\u5927\\u5b66', 'http://kaoshi.edu.sina.com.cn/abroad/10784.html']"
       ]
      },
      {
       "output_type": "stream",
       "stream": "stdout",
       "text": [
        "\n",
        "['12275', 'None', u'\\u8d39\\u5c14\\u96f7\\u8fea\\u514b\\u68ee\\u5927\\u5b66', u'\\u7f8e\\u56fd', u'', u'', u'\\u5927\\u5b66', 'http://kaoshi.edu.sina.com.cn/abroad/370.html']"
       ]
      },
      {
       "output_type": "stream",
       "stream": "stdout",
       "text": [
        "\n",
        "['12276', u'Cranfield University', u'\\u514b\\u5170\\u83f2\\u5c14\\u5fb7\\u5927\\u5b66', u'\\u82f1\\u56fd', u'', u'\\u516c\\u7acb\\u5927\\u5b66', 'http://kaoshi.edu.sina.com.cn/abroad/10106.html']"
       ]
      },
      {
       "output_type": "stream",
       "stream": "stdout",
       "text": [
        "\n",
        "['12277', 'None', u'\\u7f57\\u5f7b\\u65af\\u7279\\u7406\\u5de5\\u5927\\u5b66', u'\\u7f8e\\u56fd', u'', u'', u'\\u5927\\u5b66', 'http://kaoshi.edu.sina.com.cn/abroad/675.html']"
       ]
      },
      {
       "output_type": "stream",
       "stream": "stdout",
       "text": [
        "\n",
        "['12278', 'None', u'\\u5df4\\u6d1b\\u9a6c\\u793e\\u533a\\u5927\\u5b66', u'\\u7f8e\\u56fd', u'', u'', u'\\u5927\\u5b66', 'http://kaoshi.edu.sina.com.cn/abroad/674.html']"
       ]
      },
      {
       "output_type": "stream",
       "stream": "stdout",
       "text": [
        "\n",
        "['12279', 'None', u'\\u66fc\\u52aa\\u8003\\u7406\\u5de5\\u5b66\\u9662', u'\\u65b0\\u897f\\u5170', u'', u'', u'\\u5927\\u5b66', 'http://kaoshi.edu.sina.com.cn/abroad/55.html']"
       ]
      },
      {
       "output_type": "stream",
       "stream": "stdout",
       "text": [
        "\n",
        "['12280', 'None', u'\\u6885\\u5179\\u5927\\u5b66', u'\\u6cd5\\u56fd', u'', u'', u'\\u804c\\u4e1a\\u6280\\u672f\\u5b66\\u9662', 'http://kaoshi.edu.sina.com.cn/abroad/592.html']"
       ]
      },
      {
       "output_type": "stream",
       "stream": "stdout",
       "text": [
        "\n",
        "page in: 615\n",
        "['12281', u'Brandon University', u'\\u5e03\\u5170\\u767b\\u5927\\u5b66', u'\\u52a0\\u62ff\\u5927', u'', u'\\u516c\\u7acb\\u5927\\u5b66', 'http://kaoshi.edu.sina.com.cn/abroad/10211.html']"
       ]
      },
      {
       "output_type": "stream",
       "stream": "stdout",
       "text": [
        "\n",
        "['12282', u'University of Alaska Fairbanks(Fairbanks)', u'\\u963f\\u62c9\\u65af\\u52a0\\u8d39\\u5c14\\u8d1d\\u514b\\u65af\\u5927\\u5b66(\\u8d39\\u5c14\\u73ed\\u514b)', u'\\u7f8e\\u56fd', u'', u'\\u516c\\u7acb\\u5927\\u5b66', 'http://kaoshi.edu.sina.com.cn/abroad/11235.html']"
       ]
      },
      {
       "output_type": "stream",
       "stream": "stdout",
       "text": [
        "\n",
        "['12283', 'None', u'\\u7231\\u5fb7\\u534e\\u738b\\u5b50\\u5c9b\\u5927\\u5b66', u'\\u52a0\\u62ff\\u5927', u'', u'', u'\\u5927\\u5b66', 'http://kaoshi.edu.sina.com.cn/abroad/327.html']"
       ]
      },
      {
       "output_type": "stream",
       "stream": "stdout",
       "text": [
        "\n",
        "['12284', u'University of Lapland', u'\\u62c9\\u666e\\u5170\\u5927\\u5b66', u'\\u82ac\\u5170', u'', u'\\u516c\\u7acb\\u5927\\u5b66', 'http://kaoshi.edu.sina.com.cn/abroad/10254.html']"
       ]
      },
      {
       "output_type": "stream",
       "stream": "stdout",
       "text": [
        "\n",
        "['12285', 'None', u'\\u82f1\\u56fd\\u6ce2\\u58eb\\u987f\\u5b66\\u9662', u'\\u82f1\\u56fd', u'', u'', u'\\u5ef6\\u7eed\\u6559\\u80b2\\u5b66\\u9662', 'http://kaoshi.edu.sina.com.cn/abroad/478.html']"
       ]
      },
      {
       "output_type": "stream",
       "stream": "stdout",
       "text": [
        "\n",
        "['12286', 'None', u'\\u5170\\u65af\\u5927\\u5b66', u'\\u6cd5\\u56fd', u'', u'', u'\\u5927\\u5b66', 'http://kaoshi.edu.sina.com.cn/abroad/213.html']"
       ]
      },
      {
       "output_type": "stream",
       "stream": "stdout",
       "text": [
        "\n",
        "['12287', u'Evangelische Fachhochschule Freiburg', u'\\u5f17\\u8d56\\u5821\\u65b0\\u6559\\u9ad8\\u7b49\\u4e13\\u4e1a\\u5b66\\u9662', u'\\u5fb7\\u56fd', u'', u'\\u516c\\u7acb\\u5927\\u5b66', 'http://kaoshi.edu.sina.com.cn/abroad/10335.html']"
       ]
      },
      {
       "output_type": "stream",
       "stream": "stdout",
       "text": [
        "\n",
        "['12288', 'None', u'\\u82f1\\u56fd\\u5a01\\u5c14\\u58eb\\u56fd\\u9645\\u5b66\\u4e60\\u4e2d\\u5fc3', u'\\u82f1\\u56fd', u'', u'', u'\\u9884\\u79d1', 'http://kaoshi.edu.sina.com.cn/abroad/739.html']"
       ]
      },
      {
       "output_type": "stream",
       "stream": "stdout",
       "text": [
        "\n",
        "['12289', u'Norwegian Sclaool of Management', u'\\u632a\\u5a01\\u7ba1\\u7406\\u5b66\\u9662', u'\\u632a\\u5a01', u'', u'\\u79c1\\u7acb\\u5927\\u5b66', 'http://kaoshi.edu.sina.com.cn/abroad/10766.html']"
       ]
      },
      {
       "output_type": "stream",
       "stream": "stdout",
       "text": [
        "\n",
        "['12290', u'Universiteit Gent', u'\\u6839\\u7279\\u5927\\u5b66', u'\\u6bd4\\u5229\\u65f6', u'', u'\\u516c\\u7acb\\u5927\\u5b66', 'http://kaoshi.edu.sina.com.cn/abroad/10077.html']"
       ]
      },
      {
       "output_type": "stream",
       "stream": "stdout",
       "text": [
        "\n",
        "['12291', u'University of South Carolina COlambia', u'\\u5357\\u5361\\u7f57\\u6765\\u7eb3\\u5927\\u5b66\\u54e5\\u4f26\\u6bd4\\u4e9a\\u5206\\u6821', u'\\u7f8e\\u56fd', u'', u'\\u516c\\u7acb\\u5927\\u5b66', 'http://kaoshi.edu.sina.com.cn/abroad/10945.html']"
       ]
      },
      {
       "output_type": "stream",
       "stream": "stdout",
       "text": [
        "\n",
        "['12292', u'Linkoping University', u'\\u6797\\u96ea\\u5e73\\u5927\\u5b66', u'\\u745e\\u5178', u'', u'\\u516c\\u7acb\\u5927\\u5b66', 'http://kaoshi.edu.sina.com.cn/abroad/10828.html']"
       ]
      },
      {
       "output_type": "stream",
       "stream": "stdout",
       "text": [
        "\n",
        "['12293', 'None', u'\\u7ebd\\u7ea6\\u79d1\\u6280\\u5927\\u5b66', u'\\u7f8e\\u56fd', u'\\u5965\\u5c14\\u5df4\\u5c3c', u'\\u5927\\u5b66', 'http://kaoshi.edu.sina.com.cn/abroad/39.html']"
       ]
      },
      {
       "output_type": "stream",
       "stream": "stdout",
       "text": [
        "\n",
        "['12294', 'None', u'\\u9ad8\\u4e3d\\u5927\\u5b66', u'\\u97e9\\u56fd', u'', u'', u'\\u5927\\u5b66', 'http://kaoshi.edu.sina.com.cn/abroad/372.html']"
       ]
      },
      {
       "output_type": "stream",
       "stream": "stdout",
       "text": [
        "\n",
        "['12295', 'None', u'\\u5357\\u5e0c\\u574e\\u8d1d\\u5c14\\u5b66\\u9662', u'\\u52a0\\u62ff\\u5927', u'', u'', u'\\u5b66\\u9662', 'http://kaoshi.edu.sina.com.cn/abroad/687.html']"
       ]
      },
      {
       "output_type": "stream",
       "stream": "stdout",
       "text": [
        "\n",
        "['12296', u'Aarhus University', u'\\u5965\\u80e1\\u65af\\u5927\\u5b66', u'\\u4e39\\u9ea6', u'', u'\\u516c\\u7acb\\u5927\\u5b66', 'http://kaoshi.edu.sina.com.cn/abroad/10229.html']"
       ]
      },
      {
       "ename": "WebDriverException",
       "evalue": "Message: 'Can not connect to the ChromeDriver' ",
       "output_type": "pyerr",
       "traceback": [
        "\u001b[1;31m---------------------------------------------------------------------------\u001b[0m\n\u001b[1;31mWebDriverException\u001b[0m                        Traceback (most recent call last)",
        "\u001b[1;32m<ipython-input-6-9a06ef339787>\u001b[0m in \u001b[0;36m<module>\u001b[1;34m()\u001b[0m\n\u001b[0;32m      3\u001b[0m     \u001b[1;32mfor\u001b[0m \u001b[0mpage\u001b[0m \u001b[1;32min\u001b[0m \u001b[0mrange\u001b[0m\u001b[1;33m(\u001b[0m\u001b[1;36m600\u001b[0m\u001b[1;33m,\u001b[0m\u001b[1;36m678\u001b[0m\u001b[1;33m)\u001b[0m\u001b[1;33m:\u001b[0m\u001b[1;33m\u001b[0m\u001b[0m\n\u001b[0;32m      4\u001b[0m         \u001b[1;32mfor\u001b[0m \u001b[0midx\u001b[0m\u001b[1;33m,\u001b[0m\u001b[0mrow\u001b[0m \u001b[1;32min\u001b[0m \u001b[0mcatch_txt\u001b[0m\u001b[1;33m(\u001b[0m\u001b[0mpage\u001b[0m\u001b[1;33m)\u001b[0m\u001b[1;33m:\u001b[0m\u001b[1;33m\u001b[0m\u001b[0m\n\u001b[1;32m----> 5\u001b[1;33m             \u001b[0mschoolinfo\u001b[0m \u001b[1;33m=\u001b[0m \u001b[0mgettext\u001b[0m\u001b[1;33m(\u001b[0m\u001b[0midx\u001b[0m\u001b[1;33m,\u001b[0m \u001b[0mrow\u001b[0m\u001b[1;33m)\u001b[0m\u001b[1;33m\u001b[0m\u001b[0m\n\u001b[0m\u001b[0;32m      6\u001b[0m             \u001b[1;32mprint\u001b[0m \u001b[0mschoolinfo\u001b[0m\u001b[1;33m\u001b[0m\u001b[0m\n\u001b[0;32m      7\u001b[0m             \u001b[0mtemp\u001b[0m\u001b[1;33m.\u001b[0m\u001b[0mappend\u001b[0m\u001b[1;33m(\u001b[0m\u001b[0mschoolinfo\u001b[0m\u001b[1;33m)\u001b[0m\u001b[1;33m\u001b[0m\u001b[0m\n",
        "\u001b[1;32m<ipython-input-5-0936410138dc>\u001b[0m in \u001b[0;36mgettext\u001b[1;34m(idx, row)\u001b[0m\n\u001b[0;32m      3\u001b[0m     \u001b[0mschtext\u001b[0m \u001b[1;33m=\u001b[0m \u001b[0mrow\u001b[0m\u001b[1;33m.\u001b[0m\u001b[0mtext\u001b[0m\u001b[1;33m.\u001b[0m\u001b[0mstrip\u001b[0m\u001b[1;33m(\u001b[0m\u001b[1;33m)\u001b[0m\u001b[1;33m.\u001b[0m\u001b[0msplit\u001b[0m\u001b[1;33m(\u001b[0m\u001b[1;34m'\\n'\u001b[0m\u001b[1;33m)\u001b[0m\u001b[1;33m\u001b[0m\u001b[0m\n\u001b[0;32m      4\u001b[0m     \u001b[0murl\u001b[0m \u001b[1;33m=\u001b[0m \u001b[0mrow\u001b[0m\u001b[1;33m.\u001b[0m\u001b[0mfind\u001b[0m\u001b[1;33m(\u001b[0m\u001b[1;34m'a'\u001b[0m\u001b[1;33m,\u001b[0m \u001b[0mattrs\u001b[0m\u001b[1;33m=\u001b[0m\u001b[1;33m{\u001b[0m\u001b[1;34m'target'\u001b[0m\u001b[1;33m:\u001b[0m \u001b[1;34m\"_blank\"\u001b[0m\u001b[1;33m}\u001b[0m\u001b[1;33m)\u001b[0m\u001b[1;33m.\u001b[0m\u001b[0mget\u001b[0m\u001b[1;33m(\u001b[0m\u001b[1;34m'href'\u001b[0m\u001b[1;33m)\u001b[0m\u001b[1;33m\u001b[0m\u001b[0m\n\u001b[1;32m----> 5\u001b[1;33m     \u001b[0mnameoutput\u001b[0m \u001b[1;33m=\u001b[0m \u001b[0mcontactFrame\u001b[0m\u001b[1;33m(\u001b[0m\u001b[0murl\u001b[0m\u001b[1;33m)\u001b[0m\u001b[1;33m\u001b[0m\u001b[0m\n\u001b[0m\u001b[0;32m      6\u001b[0m     \u001b[0moutput\u001b[0m \u001b[1;33m=\u001b[0m \u001b[1;33m[\u001b[0m\u001b[0mitemid\u001b[0m\u001b[1;33m,\u001b[0m\u001b[0mnameoutput\u001b[0m\u001b[1;33m]\u001b[0m \u001b[1;33m+\u001b[0m \u001b[0mschtext\u001b[0m\u001b[1;33m[\u001b[0m\u001b[1;33m:\u001b[0m\u001b[1;33m-\u001b[0m\u001b[1;36m1\u001b[0m\u001b[1;33m]\u001b[0m \u001b[1;33m+\u001b[0m \u001b[1;33m[\u001b[0m\u001b[0murl\u001b[0m\u001b[1;33m]\u001b[0m\u001b[1;33m\u001b[0m\u001b[0m\n\u001b[0;32m      7\u001b[0m     \u001b[1;32mreturn\u001b[0m \u001b[0moutput\u001b[0m\u001b[1;33m\u001b[0m\u001b[0m\n",
        "\u001b[1;32m<ipython-input-4-fff5d40a74c9>\u001b[0m in \u001b[0;36mcontactFrame\u001b[1;34m(url)\u001b[0m\n\u001b[0;32m      5\u001b[0m     \u001b[0mtxt\u001b[0m \u001b[1;33m=\u001b[0m \u001b[0mename\u001b[0m\u001b[1;33m.\u001b[0m\u001b[0mstrip\u001b[0m\u001b[1;33m(\u001b[0m\u001b[1;33m)\u001b[0m\u001b[1;33m.\u001b[0m\u001b[0msplit\u001b[0m\u001b[1;33m(\u001b[0m\u001b[1;34m'\\n'\u001b[0m\u001b[1;33m)\u001b[0m\u001b[1;33m\u001b[0m\u001b[0m\n\u001b[0;32m      6\u001b[0m     \u001b[1;32mif\u001b[0m \u001b[0mlen\u001b[0m\u001b[1;33m(\u001b[0m\u001b[0mtxt\u001b[0m\u001b[1;33m)\u001b[0m \u001b[1;33m==\u001b[0m \u001b[1;36m1\u001b[0m\u001b[1;33m:\u001b[0m\u001b[1;33m\u001b[0m\u001b[0m\n\u001b[1;32m----> 7\u001b[1;33m         \u001b[0mdriver\u001b[0m \u001b[1;33m=\u001b[0m \u001b[0mwebdriver\u001b[0m\u001b[1;33m.\u001b[0m\u001b[0mChrome\u001b[0m\u001b[1;33m(\u001b[0m\u001b[1;34m'./chromedriver'\u001b[0m\u001b[1;33m)\u001b[0m\u001b[1;33m\u001b[0m\u001b[0m\n\u001b[0m\u001b[0;32m      8\u001b[0m         \u001b[0mdriver\u001b[0m\u001b[1;33m.\u001b[0m\u001b[0mimplicitly_wait\u001b[0m\u001b[1;33m(\u001b[0m\u001b[1;36m30\u001b[0m\u001b[1;33m)\u001b[0m\u001b[1;33m\u001b[0m\u001b[0m\n\u001b[0;32m      9\u001b[0m         \u001b[0mdriver\u001b[0m\u001b[1;33m.\u001b[0m\u001b[0mget\u001b[0m\u001b[1;33m(\u001b[0m\u001b[0murl\u001b[0m\u001b[1;33m)\u001b[0m\u001b[1;33m\u001b[0m\u001b[0m\n",
        "\u001b[1;32m/usr/local/lib/python2.7/dist-packages/selenium/webdriver/chrome/webdriver.pyc\u001b[0m in \u001b[0;36m__init__\u001b[1;34m(self, executable_path, port, chrome_options, service_args, desired_capabilities, service_log_path)\u001b[0m\n\u001b[0;32m     57\u001b[0m         self.service = Service(executable_path, port=port,\n\u001b[0;32m     58\u001b[0m             service_args=service_args, log_path=service_log_path)\n\u001b[1;32m---> 59\u001b[1;33m         \u001b[0mself\u001b[0m\u001b[1;33m.\u001b[0m\u001b[0mservice\u001b[0m\u001b[1;33m.\u001b[0m\u001b[0mstart\u001b[0m\u001b[1;33m(\u001b[0m\u001b[1;33m)\u001b[0m\u001b[1;33m\u001b[0m\u001b[0m\n\u001b[0m\u001b[0;32m     60\u001b[0m \u001b[1;33m\u001b[0m\u001b[0m\n\u001b[0;32m     61\u001b[0m         \u001b[1;32mtry\u001b[0m\u001b[1;33m:\u001b[0m\u001b[1;33m\u001b[0m\u001b[0m\n",
        "\u001b[1;32m/usr/local/lib/python2.7/dist-packages/selenium/webdriver/chrome/service.pyc\u001b[0m in \u001b[0;36mstart\u001b[1;34m(self)\u001b[0m\n\u001b[0;32m     72\u001b[0m             \u001b[0mtime\u001b[0m\u001b[1;33m.\u001b[0m\u001b[0msleep\u001b[0m\u001b[1;33m(\u001b[0m\u001b[1;36m1\u001b[0m\u001b[1;33m)\u001b[0m\u001b[1;33m\u001b[0m\u001b[0m\n\u001b[0;32m     73\u001b[0m             \u001b[1;32mif\u001b[0m \u001b[0mcount\u001b[0m \u001b[1;33m==\u001b[0m \u001b[1;36m30\u001b[0m\u001b[1;33m:\u001b[0m\u001b[1;33m\u001b[0m\u001b[0m\n\u001b[1;32m---> 74\u001b[1;33m                  \u001b[1;32mraise\u001b[0m \u001b[0mWebDriverException\u001b[0m\u001b[1;33m(\u001b[0m\u001b[1;34m\"Can not connect to the ChromeDriver\"\u001b[0m\u001b[1;33m)\u001b[0m\u001b[1;33m\u001b[0m\u001b[0m\n\u001b[0m\u001b[0;32m     75\u001b[0m \u001b[1;33m\u001b[0m\u001b[0m\n\u001b[0;32m     76\u001b[0m     \u001b[1;33m@\u001b[0m\u001b[0mproperty\u001b[0m\u001b[1;33m\u001b[0m\u001b[0m\n",
        "\u001b[1;31mWebDriverException\u001b[0m: Message: 'Can not connect to the ChromeDriver' "
       ]
      },
      {
       "output_type": "stream",
       "stream": "stdout",
       "text": [
        "\n"
       ]
      }
     ],
     "prompt_number": 6
    }
   ],
   "metadata": {}
  }
 ]
}