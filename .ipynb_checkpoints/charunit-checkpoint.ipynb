{
 "metadata": {
  "name": ""
 },
 "nbformat": 3,
 "nbformat_minor": 0,
 "worksheets": [
  {
   "cells": [
    {
     "cell_type": "code",
     "collapsed": false,
     "input": [
      "import os,sys\n",
      "import Image, ImageFont, ImageDraw"
     ],
     "language": "python",
     "metadata": {},
     "outputs": [],
     "prompt_number": 1
    },
    {
     "cell_type": "code",
     "collapsed": false,
     "input": [
      "os.chdir('./yt')\n",
      "!!pwd"
     ],
     "language": "python",
     "metadata": {},
     "outputs": [
      {
       "metadata": {},
       "output_type": "pyout",
       "prompt_number": 2,
       "text": [
        "['/home/arale/aGitBitBucket/expressfee/yt']"
       ]
      }
     ],
     "prompt_number": 2
    },
    {
     "cell_type": "code",
     "collapsed": false,
     "input": [
      "textalpha = set(chr(i) for i in range(65,91))\n",
      "textnum = [str(i) for i in range(10)]\n",
      "textp0 = set(('F','I','J','L','Z'))\n",
      "textp1 = set(('A','E','P','S','T','V','X','Y'))\n",
      "textp2 = set(('M','W'))\n",
      "textalpha -= textp0|textp1|textp2\n",
      "print textalpha\n",
      "print textp0\n",
      "print textp1\n",
      "print textp2\n",
      "print textnum"
     ],
     "language": "python",
     "metadata": {},
     "outputs": [
      {
       "output_type": "stream",
       "stream": "stdout",
       "text": [
        "set(['C', 'B', 'D', 'G', 'H', 'K', 'O', 'N', 'Q', 'R', 'U'])\n",
        "set(['I', 'Z', 'J', 'L', 'F'])\n",
        "set(['A', 'E', 'P', 'S', 'T', 'V', 'Y', 'X'])\n",
        "set(['M', 'W'])\n",
        "['0', '1', '2', '3', '4', '5', '6', '7', '8', '9']\n"
       ]
      }
     ],
     "prompt_number": 76
    },
    {
     "cell_type": "code",
     "collapsed": false,
     "input": [
      "def texttopng(text,width,height, mleft, mtop):\n",
      "    im = Image.new(\"RGB\", (width,height), (255, 255, 255))\n",
      "    dr = ImageDraw.Draw(im)\n",
      "    font = ImageFont.truetype(\"/usr/share/fonts/truetype/msttcorefonts/arialbd.ttf\", 15)\n",
      "    dr.text((mleft, mtop), text, font=font, fill=\"#000000\")\n",
      "#     im.show()\n",
      "    im.save(text + \".png\")"
     ],
     "language": "python",
     "metadata": {},
     "outputs": [],
     "prompt_number": 77
    },
    {
     "cell_type": "code",
     "collapsed": false,
     "input": [
      "map(lambda t:texttopng(t,8,11,0,-3),textp0)\n",
      "map(lambda t:texttopng(t,10,11,0,-3),textp1)\n",
      "map(lambda t:texttopng(t,11,11,0,-3),textalpha)\n",
      "map(lambda t:texttopng(t,13,11,0,-3),textp2)\n",
      "map(lambda t:texttopng(t,8,11,0,-3),textnum)"
     ],
     "language": "python",
     "metadata": {},
     "outputs": [
      {
       "metadata": {},
       "output_type": "pyout",
       "prompt_number": 79,
       "text": [
        "[None, None, None, None, None, None, None, None, None, None]"
       ]
      }
     ],
     "prompt_number": 79
    },
    {
     "cell_type": "code",
     "collapsed": false,
     "input": [],
     "language": "python",
     "metadata": {},
     "outputs": []
    }
   ],
   "metadata": {}
  }
 ]
}