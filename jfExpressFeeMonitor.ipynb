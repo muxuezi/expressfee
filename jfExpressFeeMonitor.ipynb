{
 "metadata": {
  "name": "",
  "signature": "sha256:5289080218f9d840a0943484e8fb59ea054997227d23fb1a4262fd0ac82e7865"
 },
 "nbformat": 3,
 "nbformat_minor": 0,
 "worksheets": [
  {
   "cells": [
    {
     "cell_type": "code",
     "collapsed": false,
     "input": [
      "import pandas as pd"
     ],
     "language": "python",
     "metadata": {},
     "outputs": [],
     "prompt_number": 1
    },
    {
     "cell_type": "code",
     "collapsed": false,
     "input": [
      "dstdict = {u'\u987a\u4e30':'a_fee_sf', u'\u5b85\u6025\u9001':'a_fee_zjs', u'\u5706\u901a':'a_fee_yuantong', u'\u4e2d\u901a':'a_fee_zhongtong'}"
     ],
     "language": "python",
     "metadata": {},
     "outputs": [],
     "prompt_number": 2
    },
    {
     "cell_type": "code",
     "collapsed": false,
     "input": [
      "PROV_FROM = [u'\u6c5f\u82cf\u7701-\u5357\u4eac\u5e02-\u6816\u971e\u533a', u'\u5e7f\u4e1c\u7701-\u5e7f\u5dde\u5e02-\u82b1\u90fd\u533a',u'\u5929\u6d25\u5e02-\u5929\u6d25\u5e02-\u4e1c\u4e3d\u533a', u'\u9655\u897f\u7701-\u897f\u5b89\u5e02-\u65b0\u57ce\u533a', u'\u56db\u5ddd\u7701-\u6210\u90fd\u5e02-\u9f99\u6cc9\u9a7f\u533a']"
     ],
     "language": "python",
     "metadata": {},
     "outputs": [],
     "prompt_number": 3
    },
    {
     "cell_type": "code",
     "collapsed": false,
     "input": [
      "pricename = u'\u79ef\u5206\u5546\u57ce\u7269\u6d41\u4ef7\u683c\u76d1\u6d4b\u7ed3\u679c\u6a21\u677f201404.xlsx'\n",
      "# xls = xlrd.open_workbook(fname, on_demand=True)\n",
      "# rdc_name = xls.sheet_names()[1:]\n",
      "rdc_name = [u'\u5357\u4eac\u5927\u533a\u4ed3\u59cb\u53d1', u'\u5e7f\u5dde\u5927\u533a\u4ed3\u59cb\u53d1', u'\u5929\u6d25\u5927\u533a\u4ed3\u59cb\u53d1', u'\u897f\u5b89\u5927\u533a\u4ed3\u59cb\u53d1', u'\u6210\u90fd\u5927\u533a\u4ed3\u59cb\u53d1']"
     ],
     "language": "python",
     "metadata": {},
     "outputs": [],
     "prompt_number": 6
    },
    {
     "cell_type": "code",
     "collapsed": false,
     "input": [
      "rdc = map(lambda t: pd.read_excel(pricename,t),rdc_name)"
     ],
     "language": "python",
     "metadata": {},
     "outputs": [],
     "prompt_number": 8
    },
    {
     "cell_type": "code",
     "collapsed": false,
     "input": [
      "rdc_dict = dict(zip(rdc_name,rdc))"
     ],
     "language": "python",
     "metadata": {},
     "outputs": [],
     "prompt_number": 9
    },
    {
     "cell_type": "code",
     "collapsed": false,
     "input": [
      "rdc[0].columns"
     ],
     "language": "python",
     "metadata": {},
     "outputs": [
      {
       "metadata": {},
       "output_type": "pyout",
       "prompt_number": 10,
       "text": [
        "Index([u'\u7701\u7f16\u7801', u'\u7701\u540d\u79f0', u'\u5730\u5e02\u7f16\u7801', u'\u5730\u5e02\u540d\u79f0', u'\u533a\u53bf\u7f16\u7801', u'\u533a\u53bf\u540d\u79f0', u'\u79ef\u5206\u7269\u6d41\u4ef7\u683c', u'EMS', u'\u5fb7\u90a6', u'\u97f5\u8fbe', u'\u987a\u4e30', u'\u5b85\u6025\u9001', u'\u5706\u901a', u'\u4e2d\u901a', u'\u68c0\u6d4b\u6700\u4f4e\u4ef7\u683c', u'\u68c0\u6d4b\u7ed3\u679c'], dtype=object)"
       ]
      }
     ],
     "prompt_number": 10
    },
    {
     "cell_type": "code",
     "collapsed": false,
     "input": [
      "def pricefillin(dstname,fname):\n",
      "    rdc_data = open(fname,'r')\n",
      "    rdc_price = rdc_data.readlines()\n",
      "    for idx,x in enumerate(rdc_price):\n",
      "        temp = x.strip().split()\n",
      "        prov = temp[0].split('-')[0]\n",
      "        price = temp[1]\n",
      "        sheetname = rdc_name[idx/31]\n",
      "        print idx, sheetname, prov, price \n",
      "        rdctemp = rdc_dict[sheetname]\n",
      "        criterion = rdctemp[u'\u7701\u540d\u79f0'].map(lambda x: x.startswith(prov.decode('utf8')[:2]))\n",
      "        rdctemp.loc[criterion,dstname] = price"
     ],
     "language": "python",
     "metadata": {},
     "outputs": [],
     "prompt_number": 11
    },
    {
     "cell_type": "code",
     "collapsed": false,
     "input": [
      "for dstname,fname in dstdict.items():\n",
      "    print dstname,fname\n",
      "    pricefillin(dstname,fname)"
     ],
     "language": "python",
     "metadata": {},
     "outputs": [
      {
       "output_type": "stream",
       "stream": "stdout",
       "text": [
        "\u5b85\u6025\u9001 a_fee_zjs\n",
        "0 \u5357\u4eac\u5927\u533a\u4ed3\u59cb\u53d1 \u5b89\u5fbd\u7701 10.0\n",
        "1 \u5357\u4eac\u5927\u533a\u4ed3\u59cb\u53d1 \u5317\u4eac\u5e02 16.0\n",
        "2 \u5357\u4eac\u5927\u533a\u4ed3\u59cb\u53d1 \u798f\u5efa\u7701 16.0\n",
        "3"
       ]
      },
      {
       "output_type": "stream",
       "stream": "stdout",
       "text": [
        " \u5357\u4eac\u5927\u533a\u4ed3\u59cb\u53d1 \u7518\u8083\u7701 18.0\n",
        "4 \u5357\u4eac\u5927\u533a\u4ed3\u59cb\u53d1 \u5e7f\u4e1c\u7701 16.0\n",
        "5"
       ]
      },
      {
       "output_type": "stream",
       "stream": "stdout",
       "text": [
        " \u5357\u4eac\u5927\u533a\u4ed3\u59cb\u53d1 \u5e7f\u897f\u58ee\u65cf\u81ea\u6cbb\u533a 18.0\n",
        "6 \u5357\u4eac\u5927\u533a\u4ed3\u59cb\u53d1 \u8d35\u5dde\u7701 18.0\n",
        "7 \u5357\u4eac\u5927\u533a\u4ed3\u59cb\u53d1 \u6d77\u5357\u7701 18.0\n",
        "8"
       ]
      },
      {
       "output_type": "stream",
       "stream": "stdout",
       "text": [
        " \u5357\u4eac\u5927\u533a\u4ed3\u59cb\u53d1 \u6cb3\u5317\u7701 16.0\n",
        "9 \u5357\u4eac\u5927\u533a\u4ed3\u59cb\u53d1 \u6cb3\u5357\u7701 15.0\n",
        "10 \u5357\u4eac\u5927\u533a\u4ed3\u59cb\u53d1 \u9ed1\u9f99\u6c5f\u7701 18.0\n",
        "11 \u5357\u4eac\u5927\u533a\u4ed3\u59cb\u53d1 \u6e56\u5317\u7701 15.0\n",
        "12"
       ]
      },
      {
       "output_type": "stream",
       "stream": "stdout",
       "text": [
        " \u5357\u4eac\u5927\u533a\u4ed3\u59cb\u53d1 \u6e56\u5357\u7701 16.0\n",
        "13 \u5357\u4eac\u5927\u533a\u4ed3\u59cb\u53d1 \u5409\u6797\u7701 18.0\n",
        "14 \u5357\u4eac\u5927\u533a\u4ed3\u59cb\u53d1 \u6c5f\u82cf\u7701 10.0\n",
        "15"
       ]
      },
      {
       "output_type": "stream",
       "stream": "stdout",
       "text": [
        " \u5357\u4eac\u5927\u533a\u4ed3\u59cb\u53d1 \u6c5f\u897f\u7701 16.0\n",
        "16 \u5357\u4eac\u5927\u533a\u4ed3\u59cb\u53d1 \u8fbd\u5b81\u7701 18.0\n",
        "17 \u5357\u4eac\u5927\u533a\u4ed3\u59cb\u53d1 \u5185\u8499\u53e4\u81ea\u6cbb\u533a 19.0\n",
        "18"
       ]
      },
      {
       "output_type": "stream",
       "stream": "stdout",
       "text": [
        " \u5357\u4eac\u5927\u533a\u4ed3\u59cb\u53d1 \u5b81\u590f\u56de\u65cf\u81ea\u6cbb\u533a 18.0\n",
        "19 \u5357\u4eac\u5927\u533a\u4ed3\u59cb\u53d1 \u9752\u6d77\u7701 18.0\n",
        "20 \u5357\u4eac\u5927\u533a\u4ed3\u59cb\u53d1 \u5c71\u4e1c\u7701 15.0\n",
        "21"
       ]
      },
      {
       "output_type": "stream",
       "stream": "stdout",
       "text": [
        " \u5357\u4eac\u5927\u533a\u4ed3\u59cb\u53d1 \u5c71\u897f\u7701 18.0\n",
        "22 \u5357\u4eac\u5927\u533a\u4ed3\u59cb\u53d1 \u9655\u897f\u7701 18.0\n",
        "23 \u5357\u4eac\u5927\u533a\u4ed3\u59cb\u53d1 \u4e0a\u6d77\u5e02 10.0\n",
        "24"
       ]
      },
      {
       "output_type": "stream",
       "stream": "stdout",
       "text": [
        " \u5357\u4eac\u5927\u533a\u4ed3\u59cb\u53d1 \u56db\u5ddd\u7701 18.0\n",
        "25 \u5357\u4eac\u5927\u533a\u4ed3\u59cb\u53d1 \u5929\u6d25\u5e02 16.0\n",
        "26 \u5357\u4eac\u5927\u533a\u4ed3\u59cb\u53d1 \u897f\u85cf\u81ea\u6cbb\u533a 22.0\n",
        "27 \u5357\u4eac\u5927\u533a\u4ed3\u59cb\u53d1 \u65b0\u7586\u7ef4\u543e\u5c14\u81ea\u6cbb\u533a 19.0\n",
        "28"
       ]
      },
      {
       "output_type": "stream",
       "stream": "stdout",
       "text": [
        " \u5357\u4eac\u5927\u533a\u4ed3\u59cb\u53d1 \u4e91\u5357\u7701 18.0\n",
        "29 \u5357\u4eac\u5927\u533a\u4ed3\u59cb\u53d1 \u6d59\u6c5f\u7701 10.0\n",
        "30 \u5357\u4eac\u5927\u533a\u4ed3\u59cb\u53d1 \u91cd\u5e86\u5e02 18.0\n",
        "31 \u5e7f\u5dde\u5927\u533a\u4ed3\u59cb\u53d1 \u5b89\u5fbd\u7701 18.0\n",
        "32"
       ]
      },
      {
       "output_type": "stream",
       "stream": "stdout",
       "text": [
        " \u5e7f\u5dde\u5927\u533a\u4ed3\u59cb\u53d1 \u5317\u4eac\u5e02 18.0\n",
        "33 \u5e7f\u5dde\u5927\u533a\u4ed3\u59cb\u53d1 \u798f\u5efa\u7701 15.0\n",
        "34 \u5e7f\u5dde\u5927\u533a\u4ed3\u59cb\u53d1 \u7518\u8083\u7701 18.0\n",
        "35 \u5e7f\u5dde\u5927\u533a\u4ed3\u59cb\u53d1 \u5e7f\u4e1c\u7701 7.0\n",
        "36"
       ]
      },
      {
       "output_type": "stream",
       "stream": "stdout",
       "text": [
        " \u5e7f\u5dde\u5927\u533a\u4ed3\u59cb\u53d1 \u5e7f\u897f\u58ee\u65cf\u81ea\u6cbb\u533a 15.0\n",
        "37 \u5e7f\u5dde\u5927\u533a\u4ed3\u59cb\u53d1 \u8d35\u5dde\u7701 16.0\n",
        "38 \u5e7f\u5dde\u5927\u533a\u4ed3\u59cb\u53d1 \u6d77\u5357\u7701 15.0\n",
        "39 \u5e7f\u5dde\u5927\u533a\u4ed3\u59cb\u53d1 \u6cb3\u5317\u7701 18.0\n",
        "40"
       ]
      },
      {
       "output_type": "stream",
       "stream": "stdout",
       "text": [
        " \u5e7f\u5dde\u5927\u533a\u4ed3\u59cb\u53d1 \u6cb3\u5357\u7701 18.0\n",
        "41 \u5e7f\u5dde\u5927\u533a\u4ed3\u59cb\u53d1 \u9ed1\u9f99\u6c5f\u7701 18.0\n",
        "42 \u5e7f\u5dde\u5927\u533a\u4ed3\u59cb\u53d1 \u6e56\u5317\u7701 18.0\n",
        "43 \u5e7f\u5dde\u5927\u533a\u4ed3\u59cb\u53d1 \u6e56\u5357\u7701 15.0\n",
        "44"
       ]
      },
      {
       "output_type": "stream",
       "stream": "stdout",
       "text": [
        " \u5e7f\u5dde\u5927\u533a\u4ed3\u59cb\u53d1 \u5409\u6797\u7701 18.0\n",
        "45 \u5e7f\u5dde\u5927\u533a\u4ed3\u59cb\u53d1 \u6c5f\u82cf\u7701 16.0\n",
        "46 \u5e7f\u5dde\u5927\u533a\u4ed3\u59cb\u53d1 \u6c5f\u897f\u7701 15.0\n",
        "47"
       ]
      },
      {
       "output_type": "stream",
       "stream": "stdout",
       "text": [
        " \u5e7f\u5dde\u5927\u533a\u4ed3\u59cb\u53d1 \u8fbd\u5b81\u7701 18.0\n",
        "48 \u5e7f\u5dde\u5927\u533a\u4ed3\u59cb\u53d1 \u5185\u8499\u53e4\u81ea\u6cbb\u533a 19.0\n",
        "49 \u5e7f\u5dde\u5927\u533a\u4ed3\u59cb\u53d1 \u5b81\u590f\u56de\u65cf\u81ea\u6cbb\u533a 18.0\n",
        "50 \u5e7f\u5dde\u5927\u533a\u4ed3\u59cb\u53d1 \u9752\u6d77\u7701 18.0\n",
        "51"
       ]
      },
      {
       "output_type": "stream",
       "stream": "stdout",
       "text": [
        " \u5e7f\u5dde\u5927\u533a\u4ed3\u59cb\u53d1 \u5c71\u4e1c\u7701 18.0\n",
        "52 \u5e7f\u5dde\u5927\u533a\u4ed3\u59cb\u53d1 \u5c71\u897f\u7701 18.0\n",
        "53 \u5e7f\u5dde\u5927\u533a\u4ed3\u59cb\u53d1 \u9655\u897f\u7701 18.0\n",
        "54 \u5e7f\u5dde\u5927\u533a\u4ed3\u59cb\u53d1 \u4e0a\u6d77\u5e02 16.0\n",
        "55"
       ]
      },
      {
       "output_type": "stream",
       "stream": "stdout",
       "text": [
        " \u5e7f\u5dde\u5927\u533a\u4ed3\u59cb\u53d1 \u56db\u5ddd\u7701 18.0\n",
        "56 \u5e7f\u5dde\u5927\u533a\u4ed3\u59cb\u53d1 \u5929\u6d25\u5e02 18.0\n",
        "57 \u5e7f\u5dde\u5927\u533a\u4ed3\u59cb\u53d1 \u897f\u85cf\u81ea\u6cbb\u533a 24.0\n",
        "58 \u5e7f\u5dde\u5927\u533a\u4ed3\u59cb\u53d1 \u65b0\u7586\u7ef4\u543e\u5c14\u81ea\u6cbb\u533a 23.0\n",
        "59"
       ]
      },
      {
       "output_type": "stream",
       "stream": "stdout",
       "text": [
        " \u5e7f\u5dde\u5927\u533a\u4ed3\u59cb\u53d1 \u4e91\u5357\u7701 18.0\n",
        "60 \u5e7f\u5dde\u5927\u533a\u4ed3\u59cb\u53d1 \u6d59\u6c5f\u7701 16.0\n",
        "61 \u5e7f\u5dde\u5927\u533a\u4ed3\u59cb\u53d1 \u91cd\u5e86\u5e02 18.0\n",
        "62 \u5929\u6d25\u5927\u533a\u4ed3\u59cb\u53d1 \u5b89\u5fbd\u7701 16.0\n",
        "63"
       ]
      },
      {
       "output_type": "stream",
       "stream": "stdout",
       "text": [
        " \u5929\u6d25\u5927\u533a\u4ed3\u59cb\u53d1 \u5317\u4eac\u5e02 12.0\n",
        "64 \u5929\u6d25\u5927\u533a\u4ed3\u59cb\u53d1 \u798f\u5efa\u7701 16.0\n",
        "65 \u5929\u6d25\u5927\u533a\u4ed3\u59cb\u53d1 \u7518\u8083\u7701 18.0\n",
        "66 \u5929\u6d25\u5927\u533a\u4ed3\u59cb\u53d1 \u5e7f\u4e1c\u7701 18.0\n",
        "67"
       ]
      },
      {
       "output_type": "stream",
       "stream": "stdout",
       "text": [
        " \u5929\u6d25\u5927\u533a\u4ed3\u59cb\u53d1 \u5e7f\u897f\u58ee\u65cf\u81ea\u6cbb\u533a 18.0\n",
        "68 \u5929\u6d25\u5927\u533a\u4ed3\u59cb\u53d1 \u8d35\u5dde\u7701 18.0\n",
        "69 \u5929\u6d25\u5927\u533a\u4ed3\u59cb\u53d1 \u6d77\u5357\u7701 18.0\n",
        "70 \u5929\u6d25\u5927\u533a\u4ed3\u59cb\u53d1 \u6cb3\u5317\u7701 12.0\n",
        "71"
       ]
      },
      {
       "output_type": "stream",
       "stream": "stdout",
       "text": [
        " \u5929\u6d25\u5927\u533a\u4ed3\u59cb\u53d1 \u6cb3\u5357\u7701 16.0\n",
        "72 \u5929\u6d25\u5927\u533a\u4ed3\u59cb\u53d1 \u9ed1\u9f99\u6c5f\u7701 16.0\n",
        "73 \u5929\u6d25\u5927\u533a\u4ed3\u59cb\u53d1 \u6e56\u5317\u7701 16.0\n",
        "74 \u5929\u6d25\u5927\u533a\u4ed3\u59cb\u53d1 \u6e56\u5357\u7701 16.0\n",
        "75"
       ]
      },
      {
       "output_type": "stream",
       "stream": "stdout",
       "text": [
        " \u5929\u6d25\u5927\u533a\u4ed3\u59cb\u53d1 \u5409\u6797\u7701 16.0\n",
        "76 \u5929\u6d25\u5927\u533a\u4ed3\u59cb\u53d1 \u6c5f\u82cf\u7701 16.0\n",
        "77 \u5929\u6d25\u5927\u533a\u4ed3\u59cb\u53d1 \u6c5f\u897f\u7701 16.0\n",
        "78 \u5929\u6d25\u5927\u533a\u4ed3\u59cb\u53d1 \u8fbd\u5b81\u7701 16.0\n",
        "79"
       ]
      },
      {
       "output_type": "stream",
       "stream": "stdout",
       "text": [
        " \u5929\u6d25\u5927\u533a\u4ed3\u59cb\u53d1 \u5185\u8499\u53e4\u81ea\u6cbb\u533a 17.0\n",
        "80 \u5929\u6d25\u5927\u533a\u4ed3\u59cb\u53d1 \u5b81\u590f\u56de\u65cf\u81ea\u6cbb\u533a 18.0\n",
        "81 \u5929\u6d25\u5927\u533a\u4ed3\u59cb\u53d1 \u9752\u6d77\u7701 18.0\n",
        "82 \u5929\u6d25\u5927\u533a\u4ed3\u59cb\u53d1 \u5c71\u4e1c\u7701 16.0\n",
        "83"
       ]
      },
      {
       "output_type": "stream",
       "stream": "stdout",
       "text": [
        " \u5929\u6d25\u5927\u533a\u4ed3\u59cb\u53d1 \u5c71\u897f\u7701 16.0\n",
        "84 \u5929\u6d25\u5927\u533a\u4ed3\u59cb\u53d1 \u9655\u897f\u7701 16.0\n",
        "85 \u5929\u6d25\u5927\u533a\u4ed3\u59cb\u53d1 \u4e0a\u6d77\u5e02 16.0\n",
        "86 \u5929\u6d25\u5927\u533a\u4ed3\u59cb\u53d1 \u56db\u5ddd\u7701 16.0\n",
        "87"
       ]
      },
      {
       "output_type": "stream",
       "stream": "stdout",
       "text": [
        " \u5929\u6d25\u5927\u533a\u4ed3\u59cb\u53d1 \u5929\u6d25\u5e02 10.0\n",
        "88 \u5929\u6d25\u5927\u533a\u4ed3\u59cb\u53d1 \u897f\u85cf\u81ea\u6cbb\u533a 22.0\n",
        "89 \u5929\u6d25\u5927\u533a\u4ed3\u59cb\u53d1 \u65b0\u7586\u7ef4\u543e\u5c14\u81ea\u6cbb\u533a 21.0\n",
        "90 \u5929\u6d25\u5927\u533a\u4ed3\u59cb\u53d1 \u4e91\u5357\u7701 18.0\n",
        "91"
       ]
      },
      {
       "output_type": "stream",
       "stream": "stdout",
       "text": [
        " \u5929\u6d25\u5927\u533a\u4ed3\u59cb\u53d1 \u6d59\u6c5f\u7701 16.0\n",
        "92 \u5929\u6d25\u5927\u533a\u4ed3\u59cb\u53d1 \u91cd\u5e86\u5e02 16.0\n",
        "93 \u897f\u5b89\u5927\u533a\u4ed3\u59cb\u53d1 \u5b89\u5fbd\u7701 16.0\n",
        "94 \u897f\u5b89\u5927\u533a\u4ed3\u59cb\u53d1 \u5317\u4eac\u5e02 16.0\n",
        "95"
       ]
      },
      {
       "output_type": "stream",
       "stream": "stdout",
       "text": [
        " \u897f\u5b89\u5927\u533a\u4ed3\u59cb\u53d1 \u798f\u5efa\u7701 18.0\n",
        "96 \u897f\u5b89\u5927\u533a\u4ed3\u59cb\u53d1 \u7518\u8083\u7701 15.0\n",
        "97 \u897f\u5b89\u5927\u533a\u4ed3\u59cb\u53d1 \u5e7f\u4e1c\u7701 18.0\n",
        "98 \u897f\u5b89\u5927\u533a\u4ed3\u59cb\u53d1 \u5e7f\u897f\u58ee\u65cf\u81ea\u6cbb\u533a 18.0\n",
        "99"
       ]
      },
      {
       "output_type": "stream",
       "stream": "stdout",
       "text": [
        " \u897f\u5b89\u5927\u533a\u4ed3\u59cb\u53d1 \u8d35\u5dde\u7701 16.0\n",
        "100 \u897f\u5b89\u5927\u533a\u4ed3\u59cb\u53d1 \u6d77\u5357\u7701 18.0\n",
        "101 \u897f\u5b89\u5927\u533a\u4ed3\u59cb\u53d1 \u6cb3\u5317\u7701 16.0\n",
        "102 \u897f\u5b89\u5927\u533a\u4ed3\u59cb\u53d1 \u6cb3\u5357\u7701 15.0\n",
        "103"
       ]
      },
      {
       "output_type": "stream",
       "stream": "stdout",
       "text": [
        " \u897f\u5b89\u5927\u533a\u4ed3\u59cb\u53d1 \u9ed1\u9f99\u6c5f\u7701 18.0\n",
        "104 \u897f\u5b89\u5927\u533a\u4ed3\u59cb\u53d1 \u6e56\u5317\u7701 16.0\n",
        "105 \u897f\u5b89\u5927\u533a\u4ed3\u59cb\u53d1 \u6e56\u5357\u7701 16.0\n",
        "106 \u897f\u5b89\u5927\u533a\u4ed3\u59cb\u53d1 \u5409\u6797\u7701 18.0\n",
        "107"
       ]
      },
      {
       "output_type": "stream",
       "stream": "stdout",
       "text": [
        " \u897f\u5b89\u5927\u533a\u4ed3\u59cb\u53d1 \u6c5f\u82cf\u7701 16.0\n",
        "108 \u897f\u5b89\u5927\u533a\u4ed3\u59cb\u53d1 \u6c5f\u897f\u7701 16.0\n",
        "109 \u897f\u5b89\u5927\u533a\u4ed3\u59cb\u53d1 \u8fbd\u5b81\u7701 18.0\n",
        "110"
       ]
      },
      {
       "output_type": "stream",
       "stream": "stdout",
       "text": [
        " \u897f\u5b89\u5927\u533a\u4ed3\u59cb\u53d1 \u5185\u8499\u53e4\u81ea\u6cbb\u533a 19.0\n",
        "111 \u897f\u5b89\u5927\u533a\u4ed3\u59cb\u53d1 \u5b81\u590f\u56de\u65cf\u81ea\u6cbb\u533a 15.0\n",
        "112 \u897f\u5b89\u5927\u533a\u4ed3\u59cb\u53d1 \u9752\u6d77\u7701 15.0\n",
        "113 \u897f\u5b89\u5927\u533a\u4ed3\u59cb\u53d1 \u5c71\u4e1c\u7701 16.0\n",
        "114"
       ]
      },
      {
       "output_type": "stream",
       "stream": "stdout",
       "text": [
        " \u897f\u5b89\u5927\u533a\u4ed3\u59cb\u53d1 \u5c71\u897f\u7701 15.0\n",
        "115 \u897f\u5b89\u5927\u533a\u4ed3\u59cb\u53d1 \u9655\u897f\u7701 12.0\n",
        "116 \u897f\u5b89\u5927\u533a\u4ed3\u59cb\u53d1 \u4e0a\u6d77\u5e02 16.0\n",
        "117"
       ]
      },
      {
       "output_type": "stream",
       "stream": "stdout",
       "text": [
        " \u897f\u5b89\u5927\u533a\u4ed3\u59cb\u53d1 \u56db\u5ddd\u7701 16.0\n",
        "118 \u897f\u5b89\u5927\u533a\u4ed3\u59cb\u53d1 \u5929\u6d25\u5e02 16.0\n",
        "119 \u897f\u5b89\u5927\u533a\u4ed3\u59cb\u53d1 \u897f\u85cf\u81ea\u6cbb\u533a 22.0\n",
        "120"
       ]
      },
      {
       "output_type": "stream",
       "stream": "stdout",
       "text": [
        " \u897f\u5b89\u5927\u533a\u4ed3\u59cb\u53d1 \u65b0\u7586\u7ef4\u543e\u5c14\u81ea\u6cbb\u533a 19.0\n",
        "121 \u897f\u5b89\u5927\u533a\u4ed3\u59cb\u53d1 \u4e91\u5357\u7701 18.0\n",
        "122 \u897f\u5b89\u5927\u533a\u4ed3\u59cb\u53d1 \u6d59\u6c5f\u7701 16.0\n",
        "123"
       ]
      },
      {
       "output_type": "stream",
       "stream": "stdout",
       "text": [
        " \u897f\u5b89\u5927\u533a\u4ed3\u59cb\u53d1 \u91cd\u5e86\u5e02 16.0\n",
        "124 \u6210\u90fd\u5927\u533a\u4ed3\u59cb\u53d1 \u5b89\u5fbd\u7701 16.0\n",
        "125 \u6210\u90fd\u5927\u533a\u4ed3\u59cb\u53d1 \u5317\u4eac\u5e02 16.0\n",
        "126"
       ]
      },
      {
       "output_type": "stream",
       "stream": "stdout",
       "text": [
        " \u6210\u90fd\u5927\u533a\u4ed3\u59cb\u53d1 \u798f\u5efa\u7701 18.0\n",
        "127 \u6210\u90fd\u5927\u533a\u4ed3\u59cb\u53d1 \u7518\u8083\u7701 16.0\n",
        "128 \u6210\u90fd\u5927\u533a\u4ed3\u59cb\u53d1 \u5e7f\u4e1c\u7701 18.0\n",
        "129"
       ]
      },
      {
       "output_type": "stream",
       "stream": "stdout",
       "text": [
        " \u6210\u90fd\u5927\u533a\u4ed3\u59cb\u53d1 \u5e7f\u897f\u58ee\u65cf\u81ea\u6cbb\u533a 16.0\n",
        "130 \u6210\u90fd\u5927\u533a\u4ed3\u59cb\u53d1 \u8d35\u5dde\u7701 16.0\n",
        "131 \u6210\u90fd\u5927\u533a\u4ed3\u59cb\u53d1 \u6d77\u5357\u7701 16.0\n",
        "132 \u6210\u90fd\u5927\u533a\u4ed3\u59cb\u53d1 \u6cb3\u5317\u7701 16.0\n",
        "133"
       ]
      },
      {
       "output_type": "stream",
       "stream": "stdout",
       "text": [
        " \u6210\u90fd\u5927\u533a\u4ed3\u59cb\u53d1 \u6cb3\u5357\u7701 16.0\n",
        "134 \u6210\u90fd\u5927\u533a\u4ed3\u59cb\u53d1 \u9ed1\u9f99\u6c5f\u7701 18.0\n",
        "135 \u6210\u90fd\u5927\u533a\u4ed3\u59cb\u53d1 \u6e56\u5317\u7701 16.0\n",
        "136"
       ]
      },
      {
       "output_type": "stream",
       "stream": "stdout",
       "text": [
        " \u6210\u90fd\u5927\u533a\u4ed3\u59cb\u53d1 \u6e56\u5357\u7701 16.0\n",
        "137 \u6210\u90fd\u5927\u533a\u4ed3\u59cb\u53d1 \u5409\u6797\u7701 18.0\n",
        "138 \u6210\u90fd\u5927\u533a\u4ed3\u59cb\u53d1 \u6c5f\u82cf\u7701 16.0\n",
        "139"
       ]
      },
      {
       "output_type": "stream",
       "stream": "stdout",
       "text": [
        " \u6210\u90fd\u5927\u533a\u4ed3\u59cb\u53d1 \u6c5f\u897f\u7701 16.0\n",
        "140 \u6210\u90fd\u5927\u533a\u4ed3\u59cb\u53d1 \u8fbd\u5b81\u7701 18.0\n",
        "141 \u6210\u90fd\u5927\u533a\u4ed3\u59cb\u53d1 \u5185\u8499\u53e4\u81ea\u6cbb\u533a 19.0\n",
        "142 \u6210\u90fd\u5927\u533a\u4ed3\u59cb\u53d1 \u5b81\u590f\u56de\u65cf\u81ea\u6cbb\u533a 18.0\n",
        "143 \u6210\u90fd\u5927\u533a\u4ed3\u59cb\u53d1 \u9752\u6d77\u7701 18.0\n",
        "144"
       ]
      },
      {
       "output_type": "stream",
       "stream": "stdout",
       "text": [
        " \u6210\u90fd\u5927\u533a\u4ed3\u59cb\u53d1 \u5c71\u4e1c\u7701 16.0\n",
        "145 \u6210\u90fd\u5927\u533a\u4ed3\u59cb\u53d1 \u5c71\u897f\u7701 16.0\n",
        "146 \u6210\u90fd\u5927\u533a\u4ed3\u59cb\u53d1 \u9655\u897f\u7701 16.0\n",
        "147 \u6210\u90fd\u5927\u533a\u4ed3\u59cb\u53d1 \u4e0a\u6d77\u5e02 16.0\n",
        "148 \u6210\u90fd\u5927\u533a\u4ed3\u59cb\u53d1 \u56db\u5ddd\u7701 10.0\n",
        "149"
       ]
      },
      {
       "output_type": "stream",
       "stream": "stdout",
       "text": [
        " \u6210\u90fd\u5927\u533a\u4ed3\u59cb\u53d1 \u5929\u6d25\u5e02 16.0\n",
        "150 \u6210\u90fd\u5927\u533a\u4ed3\u59cb\u53d1 \u897f\u85cf\u81ea\u6cbb\u533a 18.0\n",
        "151 \u6210\u90fd\u5927\u533a\u4ed3\u59cb\u53d1 \u65b0\u7586\u7ef4\u543e\u5c14\u81ea\u6cbb\u533a 19.0\n",
        "152 \u6210\u90fd\u5927\u533a\u4ed3\u59cb\u53d1 \u4e91\u5357\u7701 16.0\n",
        "153 \u6210\u90fd\u5927\u533a\u4ed3\u59cb\u53d1 \u6d59\u6c5f\u7701 16.0\n",
        "154"
       ]
      },
      {
       "output_type": "stream",
       "stream": "stdout",
       "text": [
        " \u6210\u90fd\u5927\u533a\u4ed3\u59cb\u53d1 \u91cd\u5e86\u5e02 12.0\n",
        "\u5706\u901a a_fee_yuantong\n",
        "0 \u5357\u4eac\u5927\u533a\u4ed3\u59cb\u53d1 \u897f\u85cf\u81ea\u6cbb\u533a 20\n",
        "1 \u5357\u4eac\u5927\u533a\u4ed3\u59cb\u53d1 \u9655\u897f\u7701 18\n",
        "2 \u5357\u4eac\u5927\u533a\u4ed3\u59cb\u53d1 \u8fbd\u5b81\u7701 18\n",
        "3"
       ]
      },
      {
       "output_type": "stream",
       "stream": "stdout",
       "text": [
        " \u5357\u4eac\u5927\u533a\u4ed3\u59cb\u53d1 \u5c71\u4e1c\u7701 18\n",
        "4 \u5357\u4eac\u5927\u533a\u4ed3\u59cb\u53d1 \u5317\u4eac 18\n",
        "5 \u5357\u4eac\u5927\u533a\u4ed3\u59cb\u53d1 \u5929\u6d25 18\n",
        "6"
       ]
      },
      {
       "output_type": "stream",
       "stream": "stdout",
       "text": [
        " \u5357\u4eac\u5927\u533a\u4ed3\u59cb\u53d1 \u6cb3\u5317\u7701 18\n",
        "7 \u5357\u4eac\u5927\u533a\u4ed3\u59cb\u53d1 \u6c5f\u897f\u7701 18\n",
        "8 \u5357\u4eac\u5927\u533a\u4ed3\u59cb\u53d1 \u5c71\u897f\u7701 18\n",
        "9 \u5357\u4eac\u5927\u533a\u4ed3\u59cb\u53d1 \u5185\u8499\u53e4\u81ea\u6cbb\u533a 20\n",
        "10"
       ]
      },
      {
       "output_type": "stream",
       "stream": "stdout",
       "text": [
        " \u5357\u4eac\u5927\u533a\u4ed3\u59cb\u53d1 \u798f\u5efa\u7701 18\n",
        "11 \u5357\u4eac\u5927\u533a\u4ed3\u59cb\u53d1 \u6e56\u5357\u7701 18\n",
        "12 \u5357\u4eac\u5927\u533a\u4ed3\u59cb\u53d1 \u4e0a\u6d77 10\n",
        "13 \u5357\u4eac\u5927\u533a\u4ed3\u59cb\u53d1 \u6c5f\u82cf\u7701 10\n",
        "14 \u5357\u4eac\u5927\u533a\u4ed3\u59cb\u53d1 \u6d59\u6c5f\u7701 10\n",
        "15"
       ]
      },
      {
       "output_type": "stream",
       "stream": "stdout",
       "text": [
        " \u5357\u4eac\u5927\u533a\u4ed3\u59cb\u53d1 \u5b89\u5fbd\u7701 12\n",
        "16 \u5357\u4eac\u5927\u533a\u4ed3\u59cb\u53d1 \u5409\u6797\u7701 18\n",
        "17 \u5357\u4eac\u5927\u533a\u4ed3\u59cb\u53d1 \u9ed1\u9f99\u6c5f\u7701 18\n",
        "18 \u5357\u4eac\u5927\u533a\u4ed3\u59cb\u53d1 \u5b81\u590f\u56de\u65cf\u81ea\u6cbb\u533a 18\n",
        "19 \u5357\u4eac\u5927\u533a\u4ed3\u59cb\u53d1 \u65b0\u7586\u7ef4\u543e\u5c14\u81ea\u6cbb\u533a 25\n",
        "20"
       ]
      },
      {
       "output_type": "stream",
       "stream": "stdout",
       "text": [
        " \u5357\u4eac\u5927\u533a\u4ed3\u59cb\u53d1 \u8d35\u5dde\u7701 18\n",
        "21 \u5357\u4eac\u5927\u533a\u4ed3\u59cb\u53d1 \u4e91\u5357\u7701 18\n",
        "22 \u5357\u4eac\u5927\u533a\u4ed3\u59cb\u53d1 \u7518\u8083\u7701 18\n",
        "23 \u5357\u4eac\u5927\u533a\u4ed3\u59cb\u53d1 \u9752\u6d77\u7701 18\n",
        "24 \u5357\u4eac\u5927\u533a\u4ed3\u59cb\u53d1 \u5e7f\u897f\u58ee\u65cf\u81ea\u6cbb\u533a 18\n",
        "25"
       ]
      },
      {
       "output_type": "stream",
       "stream": "stdout",
       "text": [
        " \u5357\u4eac\u5927\u533a\u4ed3\u59cb\u53d1 \u6d77\u5357\u7701 18\n",
        "26 \u5357\u4eac\u5927\u533a\u4ed3\u59cb\u53d1 \u6e56\u5317\u7701 18\n",
        "27 \u5357\u4eac\u5927\u533a\u4ed3\u59cb\u53d1 \u91cd\u5e86 18\n",
        "28"
       ]
      },
      {
       "output_type": "stream",
       "stream": "stdout",
       "text": [
        " \u5357\u4eac\u5927\u533a\u4ed3\u59cb\u53d1 \u56db\u5ddd\u7701 18\n",
        "29 \u5357\u4eac\u5927\u533a\u4ed3\u59cb\u53d1 \u6cb3\u5357\u7701 18\n",
        "30 \u5357\u4eac\u5927\u533a\u4ed3\u59cb\u53d1 \u5e7f\u4e1c\u7701 18\n",
        "31 \u5e7f\u5dde\u5927\u533a\u4ed3\u59cb\u53d1 \u897f\u85cf\u81ea\u6cbb\u533a 25\n",
        "32"
       ]
      },
      {
       "output_type": "stream",
       "stream": "stdout",
       "text": [
        " \u5e7f\u5dde\u5927\u533a\u4ed3\u59cb\u53d1 \u9655\u897f\u7701 20\n",
        "33 \u5e7f\u5dde\u5927\u533a\u4ed3\u59cb\u53d1 \u8fbd\u5b81\u7701 20\n",
        "34 \u5e7f\u5dde\u5927\u533a\u4ed3\u59cb\u53d1 \u5c71\u4e1c\u7701 18\n",
        "35 \u5e7f\u5dde\u5927\u533a\u4ed3\u59cb\u53d1 \u5317\u4eac 18\n",
        "36 \u5e7f\u5dde\u5927\u533a\u4ed3\u59cb\u53d1 \u5929\u6d25 18\n",
        "37"
       ]
      },
      {
       "output_type": "stream",
       "stream": "stdout",
       "text": [
        " \u5e7f\u5dde\u5927\u533a\u4ed3\u59cb\u53d1 \u6cb3\u5317\u7701 18\n",
        "38 \u5e7f\u5dde\u5927\u533a\u4ed3\u59cb\u53d1 \u6c5f\u897f\u7701 18\n",
        "39 \u5e7f\u5dde\u5927\u533a\u4ed3\u59cb\u53d1 \u5c71\u897f\u7701 20\n",
        "40 \u5e7f\u5dde\u5927\u533a\u4ed3\u59cb\u53d1 \u5185\u8499\u53e4\u81ea\u6cbb\u533a 25\n",
        "41 \u5e7f\u5dde\u5927\u533a\u4ed3\u59cb\u53d1 \u798f\u5efa\u7701 18\n",
        "42"
       ]
      },
      {
       "output_type": "stream",
       "stream": "stdout",
       "text": [
        " \u5e7f\u5dde\u5927\u533a\u4ed3\u59cb\u53d1 \u6e56\u5357\u7701 18\n",
        "43 \u5e7f\u5dde\u5927\u533a\u4ed3\u59cb\u53d1 \u4e0a\u6d77 18\n",
        "44 \u5e7f\u5dde\u5927\u533a\u4ed3\u59cb\u53d1 \u6c5f\u82cf\u7701 18\n",
        "45 \u5e7f\u5dde\u5927\u533a\u4ed3\u59cb\u53d1 \u6d59\u6c5f\u7701 18\n",
        "46 \u5e7f\u5dde\u5927\u533a\u4ed3\u59cb\u53d1 \u5b89\u5fbd\u7701 18\n",
        "47"
       ]
      },
      {
       "output_type": "stream",
       "stream": "stdout",
       "text": [
        " \u5e7f\u5dde\u5927\u533a\u4ed3\u59cb\u53d1 \u5409\u6797\u7701 20\n",
        "48 \u5e7f\u5dde\u5927\u533a\u4ed3\u59cb\u53d1 \u9ed1\u9f99\u6c5f\u7701 25\n",
        "49 \u5e7f\u5dde\u5927\u533a\u4ed3\u59cb\u53d1 \u5b81\u590f\u56de\u65cf\u81ea\u6cbb\u533a 20\n",
        "50 \u5e7f\u5dde\u5927\u533a\u4ed3\u59cb\u53d1 \u65b0\u7586\u7ef4\u543e\u5c14\u81ea\u6cbb\u533a 25\n",
        "51 \u5e7f\u5dde\u5927\u533a\u4ed3\u59cb\u53d1 \u8d35\u5dde\u7701 20\n",
        "52"
       ]
      },
      {
       "output_type": "stream",
       "stream": "stdout",
       "text": [
        " \u5e7f\u5dde\u5927\u533a\u4ed3\u59cb\u53d1 \u4e91\u5357\u7701 18\n",
        "53 \u5e7f\u5dde\u5927\u533a\u4ed3\u59cb\u53d1 \u7518\u8083\u7701 22\n",
        "54 \u5e7f\u5dde\u5927\u533a\u4ed3\u59cb\u53d1 \u9752\u6d77\u7701 20\n",
        "55 \u5e7f\u5dde\u5927\u533a\u4ed3\u59cb\u53d1 \u5e7f\u897f\u58ee\u65cf\u81ea\u6cbb\u533a 18\n",
        "56 \u5e7f\u5dde\u5927\u533a\u4ed3\u59cb\u53d1 \u6d77\u5357\u7701 18\n",
        "57"
       ]
      },
      {
       "output_type": "stream",
       "stream": "stdout",
       "text": [
        " \u5e7f\u5dde\u5927\u533a\u4ed3\u59cb\u53d1 \u6e56\u5317\u7701 18\n",
        "58 \u5e7f\u5dde\u5927\u533a\u4ed3\u59cb\u53d1 \u91cd\u5e86 18\n",
        "59 \u5e7f\u5dde\u5927\u533a\u4ed3\u59cb\u53d1 \u56db\u5ddd\u7701 18\n",
        "60 \u5e7f\u5dde\u5927\u533a\u4ed3\u59cb\u53d1 \u6cb3\u5357\u7701 18\n",
        "61 \u5e7f\u5dde\u5927\u533a\u4ed3\u59cb\u53d1 \u5e7f\u4e1c\u7701 12\n",
        "62"
       ]
      },
      {
       "output_type": "stream",
       "stream": "stdout",
       "text": [
        " \u5929\u6d25\u5927\u533a\u4ed3\u59cb\u53d1 \u897f\u85cf\u81ea\u6cbb\u533a 25\n",
        "63 \u5929\u6d25\u5927\u533a\u4ed3\u59cb\u53d1 \u9655\u897f\u7701 18\n",
        "64 \u5929\u6d25\u5927\u533a\u4ed3\u59cb\u53d1 \u8fbd\u5b81\u7701 18\n",
        "65 \u5929\u6d25\u5927\u533a\u4ed3\u59cb\u53d1 \u5c71\u4e1c\u7701 18\n",
        "66 \u5929\u6d25\u5927\u533a\u4ed3\u59cb\u53d1 \u5317\u4eac 12\n",
        "67"
       ]
      },
      {
       "output_type": "stream",
       "stream": "stdout",
       "text": [
        " \u5929\u6d25\u5927\u533a\u4ed3\u59cb\u53d1 \u5929\u6d25 10\n",
        "68 \u5929\u6d25\u5927\u533a\u4ed3\u59cb\u53d1 \u6cb3\u5317\u7701 12\n",
        "69 \u5929\u6d25\u5927\u533a\u4ed3\u59cb\u53d1 \u6c5f\u897f\u7701 18\n",
        "70 \u5929\u6d25\u5927\u533a\u4ed3\u59cb\u53d1 \u5c71\u897f\u7701 18\n",
        "71 \u5929\u6d25\u5927\u533a\u4ed3\u59cb\u53d1 \u5185\u8499\u53e4\u81ea\u6cbb\u533a 18\n",
        "72"
       ]
      },
      {
       "output_type": "stream",
       "stream": "stdout",
       "text": [
        " \u5929\u6d25\u5927\u533a\u4ed3\u59cb\u53d1 \u798f\u5efa\u7701 18\n",
        "73 \u5929\u6d25\u5927\u533a\u4ed3\u59cb\u53d1 \u6e56\u5357\u7701 18\n",
        "74 \u5929\u6d25\u5927\u533a\u4ed3\u59cb\u53d1 \u4e0a\u6d77 18\n",
        "75 \u5929\u6d25\u5927\u533a\u4ed3\u59cb\u53d1 \u6c5f\u82cf\u7701 18\n",
        "76 \u5929\u6d25\u5927\u533a\u4ed3\u59cb\u53d1 \u6d59\u6c5f\u7701 18\n",
        "77"
       ]
      },
      {
       "output_type": "stream",
       "stream": "stdout",
       "text": [
        " \u5929\u6d25\u5927\u533a\u4ed3\u59cb\u53d1 \u5b89\u5fbd\u7701 18\n",
        "78 \u5929\u6d25\u5927\u533a\u4ed3\u59cb\u53d1 \u5409\u6797\u7701 18\n",
        "79 \u5929\u6d25\u5927\u533a\u4ed3\u59cb\u53d1 \u9ed1\u9f99\u6c5f\u7701 18\n",
        "80 \u5929\u6d25\u5927\u533a\u4ed3\u59cb\u53d1 \u5b81\u590f\u56de\u65cf\u81ea\u6cbb\u533a 20\n",
        "81 \u5929\u6d25\u5927\u533a\u4ed3\u59cb\u53d1 \u65b0\u7586\u7ef4\u543e\u5c14\u81ea\u6cbb\u533a 25\n",
        "82"
       ]
      },
      {
       "output_type": "stream",
       "stream": "stdout",
       "text": [
        " \u5929\u6d25\u5927\u533a\u4ed3\u59cb\u53d1 \u8d35\u5dde\u7701 20\n",
        "83 \u5929\u6d25\u5927\u533a\u4ed3\u59cb\u53d1 \u4e91\u5357\u7701 20\n",
        "84 \u5929\u6d25\u5927\u533a\u4ed3\u59cb\u53d1 \u7518\u8083\u7701 20\n",
        "85 \u5929\u6d25\u5927\u533a\u4ed3\u59cb\u53d1 \u9752\u6d77\u7701 20\n",
        "86 \u5929\u6d25\u5927\u533a\u4ed3\u59cb\u53d1 \u5e7f\u897f\u58ee\u65cf\u81ea\u6cbb\u533a 20\n",
        "87"
       ]
      },
      {
       "output_type": "stream",
       "stream": "stdout",
       "text": [
        " \u5929\u6d25\u5927\u533a\u4ed3\u59cb\u53d1 \u6d77\u5357\u7701 20\n",
        "88 \u5929\u6d25\u5927\u533a\u4ed3\u59cb\u53d1 \u6e56\u5317\u7701 18\n",
        "89 \u5929\u6d25\u5927\u533a\u4ed3\u59cb\u53d1 \u91cd\u5e86 18\n",
        "90 \u5929\u6d25\u5927\u533a\u4ed3\u59cb\u53d1 \u56db\u5ddd\u7701 18\n",
        "91 \u5929\u6d25\u5927\u533a\u4ed3\u59cb\u53d1 \u6cb3\u5357\u7701 18\n",
        "92"
       ]
      },
      {
       "output_type": "stream",
       "stream": "stdout",
       "text": [
        " \u5929\u6d25\u5927\u533a\u4ed3\u59cb\u53d1 \u5e7f\u4e1c\u7701 18\n",
        "93 \u897f\u5b89\u5927\u533a\u4ed3\u59cb\u53d1 \u897f\u85cf\u81ea\u6cbb\u533a 22\n",
        "94 \u897f\u5b89\u5927\u533a\u4ed3\u59cb\u53d1 \u9655\u897f\u7701 18\n",
        "95 \u897f\u5b89\u5927\u533a\u4ed3\u59cb\u53d1 \u8fbd\u5b81\u7701 18\n",
        "96 \u897f\u5b89\u5927\u533a\u4ed3\u59cb\u53d1 \u5c71\u4e1c\u7701 18\n",
        "97"
       ]
      },
      {
       "output_type": "stream",
       "stream": "stdout",
       "text": [
        " \u897f\u5b89\u5927\u533a\u4ed3\u59cb\u53d1 \u5317\u4eac 18\n",
        "98 \u897f\u5b89\u5927\u533a\u4ed3\u59cb\u53d1 \u5929\u6d25 18\n",
        "99 \u897f\u5b89\u5927\u533a\u4ed3\u59cb\u53d1 \u6cb3\u5317\u7701 18\n",
        "100 \u897f\u5b89\u5927\u533a\u4ed3\u59cb\u53d1 \u6c5f\u897f\u7701 18\n",
        "101 \u897f\u5b89\u5927\u533a\u4ed3\u59cb\u53d1 \u5c71\u897f\u7701 18\n",
        "102"
       ]
      },
      {
       "output_type": "stream",
       "stream": "stdout",
       "text": [
        " \u897f\u5b89\u5927\u533a\u4ed3\u59cb\u53d1 \u5185\u8499\u53e4\u81ea\u6cbb\u533a 18\n",
        "103 \u897f\u5b89\u5927\u533a\u4ed3\u59cb\u53d1 \u798f\u5efa\u7701 18\n",
        "104 \u897f\u5b89\u5927\u533a\u4ed3\u59cb\u53d1 \u6e56\u5357\u7701 18\n",
        "105 \u897f\u5b89\u5927\u533a\u4ed3\u59cb\u53d1 \u4e0a\u6d77 18\n",
        "106 \u897f\u5b89\u5927\u533a\u4ed3\u59cb\u53d1 \u6c5f\u82cf\u7701 18\n",
        "107"
       ]
      },
      {
       "output_type": "stream",
       "stream": "stdout",
       "text": [
        " \u897f\u5b89\u5927\u533a\u4ed3\u59cb\u53d1 \u6d59\u6c5f\u7701 18\n",
        "108 \u897f\u5b89\u5927\u533a\u4ed3\u59cb\u53d1 \u5b89\u5fbd\u7701 18\n",
        "109 \u897f\u5b89\u5927\u533a\u4ed3\u59cb\u53d1 \u5409\u6797\u7701 18\n",
        "110 \u897f\u5b89\u5927\u533a\u4ed3\u59cb\u53d1 \u9ed1\u9f99\u6c5f\u7701 18\n",
        "111 \u897f\u5b89\u5927\u533a\u4ed3\u59cb\u53d1 \u5b81\u590f\u56de\u65cf\u81ea\u6cbb\u533a 18\n",
        "112"
       ]
      },
      {
       "output_type": "stream",
       "stream": "stdout",
       "text": [
        " \u897f\u5b89\u5927\u533a\u4ed3\u59cb\u53d1 \u65b0\u7586\u7ef4\u543e\u5c14\u81ea\u6cbb\u533a 20\n",
        "113 \u897f\u5b89\u5927\u533a\u4ed3\u59cb\u53d1 \u8d35\u5dde\u7701 18\n",
        "114 \u897f\u5b89\u5927\u533a\u4ed3\u59cb\u53d1 \u4e91\u5357\u7701 18\n",
        "115 \u897f\u5b89\u5927\u533a\u4ed3\u59cb\u53d1 \u7518\u8083\u7701 18\n",
        "116 \u897f\u5b89\u5927\u533a\u4ed3\u59cb\u53d1 \u9752\u6d77\u7701 18\n",
        "117"
       ]
      },
      {
       "output_type": "stream",
       "stream": "stdout",
       "text": [
        " \u897f\u5b89\u5927\u533a\u4ed3\u59cb\u53d1 \u5e7f\u897f\u58ee\u65cf\u81ea\u6cbb\u533a 18\n",
        "118 \u897f\u5b89\u5927\u533a\u4ed3\u59cb\u53d1 \u6d77\u5357\u7701 18\n",
        "119 \u897f\u5b89\u5927\u533a\u4ed3\u59cb\u53d1 \u6e56\u5317\u7701 18\n",
        "120 \u897f\u5b89\u5927\u533a\u4ed3\u59cb\u53d1 \u91cd\u5e86 18\n",
        "121 \u897f\u5b89\u5927\u533a\u4ed3\u59cb\u53d1 \u56db\u5ddd\u7701 18\n",
        "122"
       ]
      },
      {
       "output_type": "stream",
       "stream": "stdout",
       "text": [
        " \u897f\u5b89\u5927\u533a\u4ed3\u59cb\u53d1 \u6cb3\u5357\u7701 18\n",
        "123 \u897f\u5b89\u5927\u533a\u4ed3\u59cb\u53d1 \u5e7f\u4e1c\u7701 18\n",
        "124 \u6210\u90fd\u5927\u533a\u4ed3\u59cb\u53d1 \u897f\u85cf\u81ea\u6cbb\u533a 22\n",
        "125 \u6210\u90fd\u5927\u533a\u4ed3\u59cb\u53d1 \u9655\u897f\u7701 18\n",
        "126 \u6210\u90fd\u5927\u533a\u4ed3\u59cb\u53d1 \u8fbd\u5b81\u7701 22\n",
        "127"
       ]
      },
      {
       "output_type": "stream",
       "stream": "stdout",
       "text": [
        " \u6210\u90fd\u5927\u533a\u4ed3\u59cb\u53d1 \u5c71\u4e1c\u7701 18\n",
        "128 \u6210\u90fd\u5927\u533a\u4ed3\u59cb\u53d1 \u5317\u4eac 18\n",
        "129 \u6210\u90fd\u5927\u533a\u4ed3\u59cb\u53d1 \u5929\u6d25 18\n",
        "130 \u6210\u90fd\u5927\u533a\u4ed3\u59cb\u53d1 \u6cb3\u5317\u7701 18\n",
        "131 \u6210\u90fd\u5927\u533a\u4ed3\u59cb\u53d1 \u6c5f\u897f\u7701 18\n",
        "132"
       ]
      },
      {
       "output_type": "stream",
       "stream": "stdout",
       "text": [
        " \u6210\u90fd\u5927\u533a\u4ed3\u59cb\u53d1 \u5c71\u897f\u7701 18\n",
        "133 \u6210\u90fd\u5927\u533a\u4ed3\u59cb\u53d1 \u5185\u8499\u53e4\u81ea\u6cbb\u533a 22\n",
        "134 \u6210\u90fd\u5927\u533a\u4ed3\u59cb\u53d1 \u798f\u5efa\u7701 18\n",
        "135 \u6210\u90fd\u5927\u533a\u4ed3\u59cb\u53d1 \u6e56\u5357\u7701 18\n",
        "136"
       ]
      },
      {
       "output_type": "stream",
       "stream": "stdout",
       "text": [
        " \u6210\u90fd\u5927\u533a\u4ed3\u59cb\u53d1 \u4e0a\u6d77 18\n",
        "137 \u6210\u90fd\u5927\u533a\u4ed3\u59cb\u53d1 \u6c5f\u82cf\u7701 18\n",
        "138 \u6210\u90fd\u5927\u533a\u4ed3\u59cb\u53d1 \u6d59\u6c5f\u7701 18\n",
        "139 \u6210\u90fd\u5927\u533a\u4ed3\u59cb\u53d1 \u5b89\u5fbd\u7701 18\n",
        "140"
       ]
      },
      {
       "output_type": "stream",
       "stream": "stdout",
       "text": [
        " \u6210\u90fd\u5927\u533a\u4ed3\u59cb\u53d1 \u5409\u6797\u7701 22\n",
        "141 \u6210\u90fd\u5927\u533a\u4ed3\u59cb\u53d1 \u9ed1\u9f99\u6c5f\u7701 22\n",
        "142 \u6210\u90fd\u5927\u533a\u4ed3\u59cb\u53d1 \u5b81\u590f\u56de\u65cf\u81ea\u6cbb\u533a 18\n",
        "143 \u6210\u90fd\u5927\u533a\u4ed3\u59cb\u53d1 \u65b0\u7586\u7ef4\u543e\u5c14\u81ea\u6cbb\u533a 22\n",
        "144"
       ]
      },
      {
       "output_type": "stream",
       "stream": "stdout",
       "text": [
        " \u6210\u90fd\u5927\u533a\u4ed3\u59cb\u53d1 \u8d35\u5dde\u7701 18\n",
        "145 \u6210\u90fd\u5927\u533a\u4ed3\u59cb\u53d1 \u4e91\u5357\u7701 18\n",
        "146 \u6210\u90fd\u5927\u533a\u4ed3\u59cb\u53d1 \u7518\u8083\u7701 18\n",
        "147 "
       ]
      },
      {
       "output_type": "stream",
       "stream": "stdout",
       "text": [
        "\u6210\u90fd\u5927\u533a\u4ed3\u59cb\u53d1 \u9752\u6d77\u7701 18\n",
        "148 \u6210\u90fd\u5927\u533a\u4ed3\u59cb\u53d1 \u5e7f\u897f\u58ee\u65cf\u81ea\u6cbb\u533a 18\n",
        "149 \u6210\u90fd\u5927\u533a\u4ed3\u59cb\u53d1 \u6d77\u5357\u7701 18\n",
        "150"
       ]
      },
      {
       "output_type": "stream",
       "stream": "stdout",
       "text": [
        " \u6210\u90fd\u5927\u533a\u4ed3\u59cb\u53d1 \u6e56\u5317\u7701 18\n",
        "151 \u6210\u90fd\u5927\u533a\u4ed3\u59cb\u53d1 \u91cd\u5e86 12\n",
        "152 \u6210\u90fd\u5927\u533a\u4ed3\u59cb\u53d1 \u56db\u5ddd\u7701 12\n",
        "153 \u6210\u90fd\u5927\u533a\u4ed3\u59cb\u53d1 \u6cb3\u5357\u7701 18\n",
        "154 \u6210\u90fd\u5927\u533a\u4ed3\u59cb\u53d1 \u5e7f\u4e1c\u7701 18\n",
        "\u987a\u4e30"
       ]
      },
      {
       "output_type": "stream",
       "stream": "stdout",
       "text": [
        " a_fee_sf\n",
        "0 \u5357\u4eac\u5927\u533a\u4ed3\u59cb\u53d1 \u5b89\u5fbd 14\n",
        "1 \u5357\u4eac\u5927\u533a\u4ed3\u59cb\u53d1 \u5317\u4eac 18\n",
        "2 \u5357\u4eac\u5927\u533a\u4ed3\u59cb\u53d1 \u798f\u5efa 18\n",
        "3 \u5357\u4eac\u5927\u533a\u4ed3\u59cb\u53d1 \u7518\u8083 18\n",
        "4 \u5357\u4eac\u5927\u533a\u4ed3\u59cb\u53d1 \u5e7f\u4e1c 18\n",
        "5"
       ]
      },
      {
       "output_type": "stream",
       "stream": "stdout",
       "text": [
        " \u5357\u4eac\u5927\u533a\u4ed3\u59cb\u53d1 \u5e7f\u897f 18\n",
        "6 \u5357\u4eac\u5927\u533a\u4ed3\u59cb\u53d1 \u8d35\u5dde 18\n",
        "7 \u5357\u4eac\u5927\u533a\u4ed3\u59cb\u53d1 \u6d77\u5357 18\n",
        "8 \u5357\u4eac\u5927\u533a\u4ed3\u59cb\u53d1 \u6cb3\u5317 18\n",
        "9"
       ]
      },
      {
       "output_type": "stream",
       "stream": "stdout",
       "text": [
        " \u5357\u4eac\u5927\u533a\u4ed3\u59cb\u53d1 \u6cb3\u5357 18\n",
        "10 \u5357\u4eac\u5927\u533a\u4ed3\u59cb\u53d1 \u9ed1\u9f99\u6c5f 18\n",
        "11 \u5357\u4eac\u5927\u533a\u4ed3\u59cb\u53d1 \u6e56\u5317 18\n",
        "12"
       ]
      },
      {
       "output_type": "stream",
       "stream": "stdout",
       "text": [
        " \u5357\u4eac\u5927\u533a\u4ed3\u59cb\u53d1 \u6e56\u5357 18\n",
        "13 \u5357\u4eac\u5927\u533a\u4ed3\u59cb\u53d1 \u5409\u6797 18\n",
        "14 \u5357\u4eac\u5927\u533a\u4ed3\u59cb\u53d1 \u6c5f\u82cf 12\n",
        "15"
       ]
      },
      {
       "output_type": "stream",
       "stream": "stdout",
       "text": [
        " \u5357\u4eac\u5927\u533a\u4ed3\u59cb\u53d1 \u6c5f\u897f 18\n",
        "16 \u5357\u4eac\u5927\u533a\u4ed3\u59cb\u53d1 \u8fbd\u5b81 18\n",
        "17 \u5357\u4eac\u5927\u533a\u4ed3\u59cb\u53d1 \u5185\u8499\u53e4 18\n",
        "18 \u5357\u4eac\u5927\u533a\u4ed3\u59cb\u53d1 \u5b81\u590f 18\n",
        "19"
       ]
      },
      {
       "output_type": "stream",
       "stream": "stdout",
       "text": [
        " \u5357\u4eac\u5927\u533a\u4ed3\u59cb\u53d1 \u9752\u6d77 18\n",
        "20 \u5357\u4eac\u5927\u533a\u4ed3\u59cb\u53d1 \u5c71\u4e1c 18\n",
        "21 \u5357\u4eac\u5927\u533a\u4ed3\u59cb\u53d1 \u5c71\u897f 18\n",
        "22 \u5357\u4eac\u5927\u533a\u4ed3\u59cb\u53d1 \u9655\u897f 18\n",
        "23 \u5357\u4eac\u5927\u533a\u4ed3\u59cb\u53d1 \u4e0a\u6d77 12\n",
        "24"
       ]
      },
      {
       "output_type": "stream",
       "stream": "stdout",
       "text": [
        " \u5357\u4eac\u5927\u533a\u4ed3\u59cb\u53d1 \u56db\u5ddd 18\n",
        "25 \u5357\u4eac\u5927\u533a\u4ed3\u59cb\u53d1 \u5929\u6d25 18\n",
        "26 \u5357\u4eac\u5927\u533a\u4ed3\u59cb\u53d1 \u897f\u85cf 24\n",
        "27 \u5357\u4eac\u5927\u533a\u4ed3\u59cb\u53d1 \u65b0\u7586 20\n",
        "28"
       ]
      },
      {
       "output_type": "stream",
       "stream": "stdout",
       "text": [
        " \u5357\u4eac\u5927\u533a\u4ed3\u59cb\u53d1 \u4e91\u5357 18\n",
        "29 \u5357\u4eac\u5927\u533a\u4ed3\u59cb\u53d1 \u6d59\u6c5f 12\n",
        "30 \u5357\u4eac\u5927\u533a\u4ed3\u59cb\u53d1 \u91cd\u5e86 18\n",
        "31 \u5e7f\u5dde\u5927\u533a\u4ed3\u59cb\u53d1 \u5b89\u5fbd 18\n",
        "32"
       ]
      },
      {
       "output_type": "stream",
       "stream": "stdout",
       "text": [
        " \u5e7f\u5dde\u5927\u533a\u4ed3\u59cb\u53d1 \u5317\u4eac 18\n",
        "33 \u5e7f\u5dde\u5927\u533a\u4ed3\u59cb\u53d1 \u798f\u5efa 22\n",
        "34 \u5e7f\u5dde\u5927\u533a\u4ed3\u59cb\u53d1 \u7518\u8083 18\n",
        "35"
       ]
      },
      {
       "output_type": "stream",
       "stream": "stdout",
       "text": [
        " \u5e7f\u5dde\u5927\u533a\u4ed3\u59cb\u53d1 \u5e7f\u4e1c 13\n",
        "36 \u5e7f\u5dde\u5927\u533a\u4ed3\u59cb\u53d1 \u5e7f\u897f 22\n",
        "37 \u5e7f\u5dde\u5927\u533a\u4ed3\u59cb\u53d1 \u8d35\u5dde 18\n",
        "38"
       ]
      },
      {
       "output_type": "stream",
       "stream": "stdout",
       "text": [
        " \u5e7f\u5dde\u5927\u533a\u4ed3\u59cb\u53d1 \u6d77\u5357 18\n",
        "39 \u5e7f\u5dde\u5927\u533a\u4ed3\u59cb\u53d1 \u6cb3\u5317 18\n",
        "40 \u5e7f\u5dde\u5927\u533a\u4ed3\u59cb\u53d1 \u6cb3\u5357 18\n",
        "41 \u5e7f\u5dde\u5927\u533a\u4ed3\u59cb\u53d1 \u9ed1\u9f99\u6c5f 20\n",
        "42 \u5e7f\u5dde\u5927\u533a\u4ed3\u59cb\u53d1 \u6e56\u5317 18\n",
        "43"
       ]
      },
      {
       "output_type": "stream",
       "stream": "stdout",
       "text": [
        " \u5e7f\u5dde\u5927\u533a\u4ed3\u59cb\u53d1 \u6e56\u5357 18\n",
        "44 \u5e7f\u5dde\u5927\u533a\u4ed3\u59cb\u53d1 \u5409\u6797 20\n",
        "45 \u5e7f\u5dde\u5927\u533a\u4ed3\u59cb\u53d1 \u6c5f\u82cf 18\n",
        "46 \u5e7f\u5dde\u5927\u533a\u4ed3\u59cb\u53d1 \u6c5f\u897f 18\n",
        "47 \u5e7f\u5dde\u5927\u533a\u4ed3\u59cb\u53d1 \u8fbd\u5b81 18\n",
        "48"
       ]
      },
      {
       "output_type": "stream",
       "stream": "stdout",
       "text": [
        " \u5e7f\u5dde\u5927\u533a\u4ed3\u59cb\u53d1 \u5185\u8499\u53e4 18\n",
        "49 \u5e7f\u5dde\u5927\u533a\u4ed3\u59cb\u53d1 \u5b81\u590f 18\n",
        "50 \u5e7f\u5dde\u5927\u533a\u4ed3\u59cb\u53d1 \u9752\u6d77 18\n",
        "51 \u5e7f\u5dde\u5927\u533a\u4ed3\u59cb\u53d1 \u5c71\u4e1c 18\n",
        "52 \u5e7f\u5dde\u5927\u533a\u4ed3\u59cb\u53d1 \u5c71\u897f 18\n",
        "53"
       ]
      },
      {
       "output_type": "stream",
       "stream": "stdout",
       "text": [
        " \u5e7f\u5dde\u5927\u533a\u4ed3\u59cb\u53d1 \u9655\u897f 18\n",
        "54 \u5e7f\u5dde\u5927\u533a\u4ed3\u59cb\u53d1 \u4e0a\u6d77 18\n",
        "55 \u5e7f\u5dde\u5927\u533a\u4ed3\u59cb\u53d1 \u56db\u5ddd 18\n",
        "56"
       ]
      },
      {
       "output_type": "stream",
       "stream": "stdout",
       "text": [
        " \u5e7f\u5dde\u5927\u533a\u4ed3\u59cb\u53d1 \u5929\u6d25 18\n",
        "57 \u5e7f\u5dde\u5927\u533a\u4ed3\u59cb\u53d1 \u897f\u85cf 26\n",
        "58 \u5e7f\u5dde\u5927\u533a\u4ed3\u59cb\u53d1 \u65b0\u7586 22\n",
        "59 \u5e7f\u5dde\u5927\u533a\u4ed3\u59cb\u53d1 \u4e91\u5357 18\n",
        "60"
       ]
      },
      {
       "output_type": "stream",
       "stream": "stdout",
       "text": [
        " \u5e7f\u5dde\u5927\u533a\u4ed3\u59cb\u53d1 \u6d59\u6c5f 18\n",
        "61 \u5e7f\u5dde\u5927\u533a\u4ed3\u59cb\u53d1 \u91cd\u5e86 18\n",
        "62 \u5929\u6d25\u5927\u533a\u4ed3\u59cb\u53d1 \u5b89\u5fbd 18\n",
        "63 \u5929\u6d25\u5927\u533a\u4ed3\u59cb\u53d1 \u5317\u4eac 18\n",
        "64"
       ]
      },
      {
       "output_type": "stream",
       "stream": "stdout",
       "text": [
        " \u5929\u6d25\u5927\u533a\u4ed3\u59cb\u53d1 \u798f\u5efa 18\n",
        "65 \u5929\u6d25\u5927\u533a\u4ed3\u59cb\u53d1 \u7518\u8083 18\n",
        "66 \u5929\u6d25\u5927\u533a\u4ed3\u59cb\u53d1 \u5e7f\u4e1c 18\n",
        "67 \u5929\u6d25\u5927\u533a\u4ed3\u59cb\u53d1 \u5e7f\u897f 18\n",
        "68"
       ]
      },
      {
       "output_type": "stream",
       "stream": "stdout",
       "text": [
        " \u5929\u6d25\u5927\u533a\u4ed3\u59cb\u53d1 \u8d35\u5dde 18\n",
        "69 \u5929\u6d25\u5927\u533a\u4ed3\u59cb\u53d1 \u6d77\u5357 18\n",
        "70 \u5929\u6d25\u5927\u533a\u4ed3\u59cb\u53d1 \u6cb3\u5317 14\n",
        "71 \u5929\u6d25\u5927\u533a\u4ed3\u59cb\u53d1 \u6cb3\u5357 18\n",
        "72"
       ]
      },
      {
       "output_type": "stream",
       "stream": "stdout",
       "text": [
        " \u5929\u6d25\u5927\u533a\u4ed3\u59cb\u53d1 \u9ed1\u9f99\u6c5f 18\n",
        "73 \u5929\u6d25\u5927\u533a\u4ed3\u59cb\u53d1 \u6e56\u5317 18\n",
        "74 \u5929\u6d25\u5927\u533a\u4ed3\u59cb\u53d1 \u6e56\u5357 18\n",
        "75 \u5929\u6d25\u5927\u533a\u4ed3\u59cb\u53d1 \u5409\u6797 18\n",
        "76"
       ]
      },
      {
       "output_type": "stream",
       "stream": "stdout",
       "text": [
        " \u5929\u6d25\u5927\u533a\u4ed3\u59cb\u53d1 \u6c5f\u82cf 18\n",
        "77 \u5929\u6d25\u5927\u533a\u4ed3\u59cb\u53d1 \u6c5f\u897f 18\n",
        "78 \u5929\u6d25\u5927\u533a\u4ed3\u59cb\u53d1 \u8fbd\u5b81 18\n",
        "79 \u5929\u6d25\u5927\u533a\u4ed3\u59cb\u53d1 \u5185\u8499\u53e4 18\n",
        "80"
       ]
      },
      {
       "output_type": "stream",
       "stream": "stdout",
       "text": [
        " \u5929\u6d25\u5927\u533a\u4ed3\u59cb\u53d1 \u5b81\u590f 18\n",
        "81 \u5929\u6d25\u5927\u533a\u4ed3\u59cb\u53d1 \u9752\u6d77 18\n",
        "82 \u5929\u6d25\u5927\u533a\u4ed3\u59cb\u53d1 \u5c71\u4e1c 18\n",
        "83 \u5929\u6d25\u5927\u533a\u4ed3\u59cb\u53d1 \u5c71\u897f 18\n",
        "84"
       ]
      },
      {
       "output_type": "stream",
       "stream": "stdout",
       "text": [
        " \u5929\u6d25\u5927\u533a\u4ed3\u59cb\u53d1 \u9655\u897f 18\n",
        "85 \u5929\u6d25\u5927\u533a\u4ed3\u59cb\u53d1 \u4e0a\u6d77 18\n",
        "86 \u5929\u6d25\u5927\u533a\u4ed3\u59cb\u53d1 \u56db\u5ddd 18\n",
        "87 \u5929\u6d25\u5927\u533a\u4ed3\u59cb\u53d1 \u5929\u6d25 13\n",
        "88"
       ]
      },
      {
       "output_type": "stream",
       "stream": "stdout",
       "text": [
        " \u5929\u6d25\u5927\u533a\u4ed3\u59cb\u53d1 \u897f\u85cf 24\n",
        "89 \u5929\u6d25\u5927\u533a\u4ed3\u59cb\u53d1 \u65b0\u7586 20\n",
        "90 \u5929\u6d25\u5927\u533a\u4ed3\u59cb\u53d1 \u4e91\u5357 18\n",
        "91 \u5929\u6d25\u5927\u533a\u4ed3\u59cb\u53d1 \u6d59\u6c5f 18\n",
        "92"
       ]
      },
      {
       "output_type": "stream",
       "stream": "stdout",
       "text": [
        " \u5929\u6d25\u5927\u533a\u4ed3\u59cb\u53d1 \u91cd\u5e86 18\n",
        "93 \u897f\u5b89\u5927\u533a\u4ed3\u59cb\u53d1 \u5b89\u5fbd 18\n",
        "94 \u897f\u5b89\u5927\u533a\u4ed3\u59cb\u53d1 \u5317\u4eac 18\n",
        "95 \u897f\u5b89\u5927\u533a\u4ed3\u59cb\u53d1 \u798f\u5efa 18\n",
        "96"
       ]
      },
      {
       "output_type": "stream",
       "stream": "stdout",
       "text": [
        " \u897f\u5b89\u5927\u533a\u4ed3\u59cb\u53d1 \u7518\u8083 22\n",
        "97 \u897f\u5b89\u5927\u533a\u4ed3\u59cb\u53d1 \u5e7f\u4e1c 18\n",
        "98 \u897f\u5b89\u5927\u533a\u4ed3\u59cb\u53d1 \u5e7f\u897f 18\n",
        "99 \u897f\u5b89\u5927\u533a\u4ed3\u59cb\u53d1 \u8d35\u5dde 18\n",
        "100"
       ]
      },
      {
       "output_type": "stream",
       "stream": "stdout",
       "text": [
        " \u897f\u5b89\u5927\u533a\u4ed3\u59cb\u53d1 \u6d77\u5357 18\n",
        "101 \u897f\u5b89\u5927\u533a\u4ed3\u59cb\u53d1 \u6cb3\u5317 18\n",
        "102 \u897f\u5b89\u5927\u533a\u4ed3\u59cb\u53d1 \u6cb3\u5357 22\n",
        "103"
       ]
      },
      {
       "output_type": "stream",
       "stream": "stdout",
       "text": [
        " \u897f\u5b89\u5927\u533a\u4ed3\u59cb\u53d1 \u9ed1\u9f99\u6c5f 18\n",
        "104 \u897f\u5b89\u5927\u533a\u4ed3\u59cb\u53d1 \u6e56\u5317 18\n",
        "105 \u897f\u5b89\u5927\u533a\u4ed3\u59cb\u53d1 \u6e56\u5357 18\n",
        "106 \u897f\u5b89\u5927\u533a\u4ed3\u59cb\u53d1 \u5409\u6797 18\n",
        "107"
       ]
      },
      {
       "output_type": "stream",
       "stream": "stdout",
       "text": [
        " \u897f\u5b89\u5927\u533a\u4ed3\u59cb\u53d1 \u6c5f\u82cf 18\n",
        "108 \u897f\u5b89\u5927\u533a\u4ed3\u59cb\u53d1 \u6c5f\u897f 18\n",
        "109 \u897f\u5b89\u5927\u533a\u4ed3\u59cb\u53d1 \u8fbd\u5b81 18\n",
        "110 \u897f\u5b89\u5927\u533a\u4ed3\u59cb\u53d1 \u5185\u8499\u53e4 18\n",
        "111"
       ]
      },
      {
       "output_type": "stream",
       "stream": "stdout",
       "text": [
        " \u897f\u5b89\u5927\u533a\u4ed3\u59cb\u53d1 \u5b81\u590f 22\n",
        "112 \u897f\u5b89\u5927\u533a\u4ed3\u59cb\u53d1 \u9752\u6d77 18\n",
        "113 \u897f\u5b89\u5927\u533a\u4ed3\u59cb\u53d1 \u5c71\u4e1c 18\n",
        "114 \u897f\u5b89\u5927\u533a\u4ed3\u59cb\u53d1 \u5c71\u897f 18\n",
        "115"
       ]
      },
      {
       "output_type": "stream",
       "stream": "stdout",
       "text": [
        " \u897f\u5b89\u5927\u533a\u4ed3\u59cb\u53d1 \u9655\u897f 13\n",
        "116 \u897f\u5b89\u5927\u533a\u4ed3\u59cb\u53d1 \u4e0a\u6d77 18\n",
        "117 \u897f\u5b89\u5927\u533a\u4ed3\u59cb\u53d1 \u56db\u5ddd 18\n",
        "118 \u897f\u5b89\u5927\u533a\u4ed3\u59cb\u53d1 \u5929\u6d25 18\n",
        "119"
       ]
      },
      {
       "output_type": "stream",
       "stream": "stdout",
       "text": [
        " \u897f\u5b89\u5927\u533a\u4ed3\u59cb\u53d1 \u897f\u85cf 24\n",
        "120 \u897f\u5b89\u5927\u533a\u4ed3\u59cb\u53d1 \u65b0\u7586 18\n",
        "121 \u897f\u5b89\u5927\u533a\u4ed3\u59cb\u53d1 \u4e91\u5357 18\n",
        "122"
       ]
      },
      {
       "output_type": "stream",
       "stream": "stdout",
       "text": [
        " \u897f\u5b89\u5927\u533a\u4ed3\u59cb\u53d1 \u6d59\u6c5f 18\n",
        "123 \u897f\u5b89\u5927\u533a\u4ed3\u59cb\u53d1 \u91cd\u5e86 18\n",
        "124 \u6210\u90fd\u5927\u533a\u4ed3\u59cb\u53d1 \u5b89\u5fbd 18\n",
        "125 \u6210\u90fd\u5927\u533a\u4ed3\u59cb\u53d1 \u5317\u4eac 18\n",
        "126"
       ]
      },
      {
       "output_type": "stream",
       "stream": "stdout",
       "text": [
        " \u6210\u90fd\u5927\u533a\u4ed3\u59cb\u53d1 \u798f\u5efa 18\n",
        "127 \u6210\u90fd\u5927\u533a\u4ed3\u59cb\u53d1 \u7518\u8083 18\n",
        "128 \u6210\u90fd\u5927\u533a\u4ed3\u59cb\u53d1 \u5e7f\u4e1c 18\n",
        "129 \u6210\u90fd\u5927\u533a\u4ed3\u59cb\u53d1 \u5e7f\u897f 18\n",
        "130"
       ]
      },
      {
       "output_type": "stream",
       "stream": "stdout",
       "text": [
        " \u6210\u90fd\u5927\u533a\u4ed3\u59cb\u53d1 \u8d35\u5dde 18\n",
        "131 \u6210\u90fd\u5927\u533a\u4ed3\u59cb\u53d1 \u6d77\u5357 18\n",
        "132 \u6210\u90fd\u5927\u533a\u4ed3\u59cb\u53d1 \u6cb3\u5317 18\n",
        "133 \u6210\u90fd\u5927\u533a\u4ed3\u59cb\u53d1 \u6cb3\u5357 18\n",
        "134 \u6210\u90fd\u5927\u533a\u4ed3\u59cb\u53d1 \u9ed1\u9f99\u6c5f 18\n",
        "135"
       ]
      },
      {
       "output_type": "stream",
       "stream": "stdout",
       "text": [
        " \u6210\u90fd\u5927\u533a\u4ed3\u59cb\u53d1 \u6e56\u5317 18\n",
        "136 \u6210\u90fd\u5927\u533a\u4ed3\u59cb\u53d1 \u6e56\u5357 18\n",
        "137 \u6210\u90fd\u5927\u533a\u4ed3\u59cb\u53d1 \u5409\u6797 18\n",
        "138 \u6210\u90fd\u5927\u533a\u4ed3\u59cb\u53d1 \u6c5f\u82cf 18\n",
        "139"
       ]
      },
      {
       "output_type": "stream",
       "stream": "stdout",
       "text": [
        " \u6210\u90fd\u5927\u533a\u4ed3\u59cb\u53d1 \u6c5f\u897f 18\n",
        "140 \u6210\u90fd\u5927\u533a\u4ed3\u59cb\u53d1 \u8fbd\u5b81 18\n",
        "141 \u6210\u90fd\u5927\u533a\u4ed3\u59cb\u53d1 \u5185\u8499\u53e4 18\n",
        "142 \u6210\u90fd\u5927\u533a\u4ed3\u59cb\u53d1 \u5b81\u590f 18\n",
        "143"
       ]
      },
      {
       "output_type": "stream",
       "stream": "stdout",
       "text": [
        " \u6210\u90fd\u5927\u533a\u4ed3\u59cb\u53d1 \u9752\u6d77 18\n",
        "144 \u6210\u90fd\u5927\u533a\u4ed3\u59cb\u53d1 \u5c71\u4e1c 18\n",
        "145 \u6210\u90fd\u5927\u533a\u4ed3\u59cb\u53d1 \u5c71\u897f 18\n",
        "146 \u6210\u90fd\u5927\u533a\u4ed3\u59cb\u53d1 \u9655\u897f 18\n",
        "147"
       ]
      },
      {
       "output_type": "stream",
       "stream": "stdout",
       "text": [
        " \u6210\u90fd\u5927\u533a\u4ed3\u59cb\u53d1 \u4e0a\u6d77 18\n",
        "148 \u6210\u90fd\u5927\u533a\u4ed3\u59cb\u53d1 \u56db\u5ddd 13\n",
        "149 \u6210\u90fd\u5927\u533a\u4ed3\u59cb\u53d1 \u5929\u6d25 18\n",
        "150 \u6210\u90fd\u5927\u533a\u4ed3\u59cb\u53d1 \u897f\u85cf 22\n",
        "151"
       ]
      },
      {
       "output_type": "stream",
       "stream": "stdout",
       "text": [
        " \u6210\u90fd\u5927\u533a\u4ed3\u59cb\u53d1 \u65b0\u7586 18\n",
        "152 \u6210\u90fd\u5927\u533a\u4ed3\u59cb\u53d1 \u4e91\u5357 18\n",
        "153 \u6210\u90fd\u5927\u533a\u4ed3\u59cb\u53d1 \u6d59\u6c5f 18\n",
        "154 \u6210\u90fd\u5927\u533a\u4ed3\u59cb\u53d1 \u91cd\u5e86 14\n",
        "\u4e2d\u901a"
       ]
      },
      {
       "output_type": "stream",
       "stream": "stdout",
       "text": [
        " a_fee_zhongtong\n",
        "0 \u5357\u4eac\u5927\u533a\u4ed3\u59cb\u53d1 \u5b89\u5fbd 8\n",
        "1 \u5357\u4eac\u5927\u533a\u4ed3\u59cb\u53d1 \u5317\u4eac 12\n",
        "2 \u5357\u4eac\u5927\u533a\u4ed3\u59cb\u53d1 \u798f\u5efa 12\n",
        "3 \u5357\u4eac\u5927\u533a\u4ed3\u59cb\u53d1 \u7518\u8083 16\n",
        "4"
       ]
      },
      {
       "output_type": "stream",
       "stream": "stdout",
       "text": [
        " \u5357\u4eac\u5927\u533a\u4ed3\u59cb\u53d1 \u5e7f\u4e1c 10\n",
        "5 \u5357\u4eac\u5927\u533a\u4ed3\u59cb\u53d1 \u5e7f\u897f 10\n",
        "6 \u5357\u4eac\u5927\u533a\u4ed3\u59cb\u53d1 \u8d35\u5dde 12\n",
        "7"
       ]
      },
      {
       "output_type": "stream",
       "stream": "stdout",
       "text": [
        " \u5357\u4eac\u5927\u533a\u4ed3\u59cb\u53d1 \u6d77\u5357 13\n",
        "8 \u5357\u4eac\u5927\u533a\u4ed3\u59cb\u53d1 \u6cb3\u5317 12\n",
        "9 \u5357\u4eac\u5927\u533a\u4ed3\u59cb\u53d1 \u6cb3\u5357 12\n",
        "10 \u5357\u4eac\u5927\u533a\u4ed3\u59cb\u53d1 \u9ed1\u9f99\u6c5f 15\n",
        "11 \u5357\u4eac\u5927\u533a\u4ed3\u59cb\u53d1 \u6e56\u5317 12\n",
        "12"
       ]
      },
      {
       "output_type": "stream",
       "stream": "stdout",
       "text": [
        " \u5357\u4eac\u5927\u533a\u4ed3\u59cb\u53d1 \u6e56\u5357 12\n",
        "13 \u5357\u4eac\u5927\u533a\u4ed3\u59cb\u53d1 \u5409\u6797 15\n",
        "14 \u5357\u4eac\u5927\u533a\u4ed3\u59cb\u53d1 \u6c5f\u82cf 8\n",
        "15 \u5357\u4eac\u5927\u533a\u4ed3\u59cb\u53d1 \u6c5f\u897f 12\n",
        "16"
       ]
      },
      {
       "output_type": "stream",
       "stream": "stdout",
       "text": [
        " \u5357\u4eac\u5927\u533a\u4ed3\u59cb\u53d1 \u8fbd\u5b81 15\n",
        "17 \u5357\u4eac\u5927\u533a\u4ed3\u59cb\u53d1 \u5185\u8499\u53e4 15\n",
        "18 \u5357\u4eac\u5927\u533a\u4ed3\u59cb\u53d1 \u5b81\u590f 15\n",
        "19"
       ]
      },
      {
       "output_type": "stream",
       "stream": "stdout",
       "text": [
        " \u5357\u4eac\u5927\u533a\u4ed3\u59cb\u53d1 \u9752\u6d77 16\n",
        "20 \u5357\u4eac\u5927\u533a\u4ed3\u59cb\u53d1 \u5c71\u4e1c 10\n",
        "21 \u5357\u4eac\u5927\u533a\u4ed3\u59cb\u53d1 \u5c71\u897f 12\n",
        "22 \u5357\u4eac\u5927\u533a\u4ed3\u59cb\u53d1 \u9655\u897f 12\n",
        "23"
       ]
      },
      {
       "output_type": "stream",
       "stream": "stdout",
       "text": [
        " \u5357\u4eac\u5927\u533a\u4ed3\u59cb\u53d1 \u4e0a\u6d77 8\n",
        "24 \u5357\u4eac\u5927\u533a\u4ed3\u59cb\u53d1 \u56db\u5ddd 13\n",
        "25 \u5357\u4eac\u5927\u533a\u4ed3\u59cb\u53d1 \u5929\u6d25 10\n",
        "26 \u5357\u4eac\u5927\u533a\u4ed3\u59cb\u53d1 \u897f\u85cf 20\n",
        "27"
       ]
      },
      {
       "output_type": "stream",
       "stream": "stdout",
       "text": [
        " \u5357\u4eac\u5927\u533a\u4ed3\u59cb\u53d1 \u65b0\u7586 20\n",
        "28 \u5357\u4eac\u5927\u533a\u4ed3\u59cb\u53d1 \u4e91\u5357 13\n",
        "29 \u5357\u4eac\u5927\u533a\u4ed3\u59cb\u53d1 \u6d59\u6c5f 8\n",
        "30 \u5357\u4eac\u5927\u533a\u4ed3\u59cb\u53d1 \u91cd\u5e86 13\n",
        "31"
       ]
      },
      {
       "output_type": "stream",
       "stream": "stdout",
       "text": [
        " \u5e7f\u5dde\u5927\u533a\u4ed3\u59cb\u53d1 \u5b89\u5fbd 15\n",
        "32 \u5e7f\u5dde\u5927\u533a\u4ed3\u59cb\u53d1 \u5317\u4eac 12\n",
        "33 \u5e7f\u5dde\u5927\u533a\u4ed3\u59cb\u53d1 \u798f\u5efa 10\n",
        "34 \u5e7f\u5dde\u5927\u533a\u4ed3\u59cb\u53d1 \u7518\u8083 16\n",
        "35"
       ]
      },
      {
       "output_type": "stream",
       "stream": "stdout",
       "text": [
        " \u5e7f\u5dde\u5927\u533a\u4ed3\u59cb\u53d1 \u5e7f\u4e1c 8\n",
        "36 \u5e7f\u5dde\u5927\u533a\u4ed3\u59cb\u53d1 \u5e7f\u897f 15\n",
        "37 \u5e7f\u5dde\u5927\u533a\u4ed3\u59cb\u53d1 \u8d35\u5dde 15\n",
        "38 \u5e7f\u5dde\u5927\u533a\u4ed3\u59cb\u53d1 \u6d77\u5357 10\n",
        "39"
       ]
      },
      {
       "output_type": "stream",
       "stream": "stdout",
       "text": [
        " \u5e7f\u5dde\u5927\u533a\u4ed3\u59cb\u53d1 \u6cb3\u5317 13\n",
        "40 \u5e7f\u5dde\u5927\u533a\u4ed3\u59cb\u53d1 \u6cb3\u5357 13\n",
        "41 \u5e7f\u5dde\u5927\u533a\u4ed3\u59cb\u53d1 \u9ed1\u9f99\u6c5f 16\n",
        "42 \u5e7f\u5dde\u5927\u533a\u4ed3\u59cb\u53d1 \u6e56\u5317 12\n",
        "43"
       ]
      },
      {
       "output_type": "stream",
       "stream": "stdout",
       "text": [
        " \u5e7f\u5dde\u5927\u533a\u4ed3\u59cb\u53d1 \u6e56\u5357 12\n",
        "44 \u5e7f\u5dde\u5927\u533a\u4ed3\u59cb\u53d1 \u5409\u6797 16\n",
        "45 \u5e7f\u5dde\u5927\u533a\u4ed3\u59cb\u53d1 \u6c5f\u82cf 10\n",
        "46 \u5e7f\u5dde\u5927\u533a\u4ed3\u59cb\u53d1 \u6c5f\u897f 11\n",
        "47"
       ]
      },
      {
       "output_type": "stream",
       "stream": "stdout",
       "text": [
        " \u5e7f\u5dde\u5927\u533a\u4ed3\u59cb\u53d1 \u8fbd\u5b81 16\n",
        "48 \u5e7f\u5dde\u5927\u533a\u4ed3\u59cb\u53d1 \u5185\u8499\u53e4 16\n",
        "49 \u5e7f\u5dde\u5927\u533a\u4ed3\u59cb\u53d1 \u5b81\u590f 16\n",
        "50"
       ]
      },
      {
       "output_type": "stream",
       "stream": "stdout",
       "text": [
        " \u5e7f\u5dde\u5927\u533a\u4ed3\u59cb\u53d1 \u9752\u6d77 16\n",
        "51 \u5e7f\u5dde\u5927\u533a\u4ed3\u59cb\u53d1 \u5c71\u4e1c 13\n",
        "52 \u5e7f\u5dde\u5927\u533a\u4ed3\u59cb\u53d1 \u5c71\u897f 15\n",
        "53 \u5e7f\u5dde\u5927\u533a\u4ed3\u59cb\u53d1 \u9655\u897f 15\n",
        "54"
       ]
      },
      {
       "output_type": "stream",
       "stream": "stdout",
       "text": [
        " \u5e7f\u5dde\u5927\u533a\u4ed3\u59cb\u53d1 \u4e0a\u6d77 10\n",
        "55 \u5e7f\u5dde\u5927\u533a\u4ed3\u59cb\u53d1 \u56db\u5ddd 13\n",
        "56 \u5e7f\u5dde\u5927\u533a\u4ed3\u59cb\u53d1 \u5929\u6d25 12\n",
        "57"
       ]
      },
      {
       "output_type": "stream",
       "stream": "stdout",
       "text": [
        " \u5e7f\u5dde\u5927\u533a\u4ed3\u59cb\u53d1 \u897f\u85cf 20\n",
        "58 \u5e7f\u5dde\u5927\u533a\u4ed3\u59cb\u53d1 \u65b0\u7586 18\n",
        "59 \u5e7f\u5dde\u5927\u533a\u4ed3\u59cb\u53d1 \u4e91\u5357 13\n",
        "60 \u5e7f\u5dde\u5927\u533a\u4ed3\u59cb\u53d1 \u6d59\u6c5f 10\n",
        "61 \u5e7f\u5dde\u5927\u533a\u4ed3\u59cb\u53d1 \u91cd\u5e86 15\n",
        "62"
       ]
      },
      {
       "output_type": "stream",
       "stream": "stdout",
       "text": [
        " \u5929\u6d25\u5927\u533a\u4ed3\u59cb\u53d1 \u5b89\u5fbd 12\n",
        "63 \u5929\u6d25\u5927\u533a\u4ed3\u59cb\u53d1 \u5317\u4eac 8\n",
        "64 \u5929\u6d25\u5927\u533a\u4ed3\u59cb\u53d1 \u798f\u5efa 12\n",
        "65 \u5929\u6d25\u5927\u533a\u4ed3\u59cb\u53d1 \u7518\u8083 15\n",
        "66"
       ]
      },
      {
       "output_type": "stream",
       "stream": "stdout",
       "text": [
        " \u5929\u6d25\u5927\u533a\u4ed3\u59cb\u53d1 \u5e7f\u4e1c 12\n",
        "67 \u5929\u6d25\u5927\u533a\u4ed3\u59cb\u53d1 \u5e7f\u897f 15\n",
        "68 \u5929\u6d25\u5927\u533a\u4ed3\u59cb\u53d1 \u8d35\u5dde 15\n",
        "69 \u5929\u6d25\u5927\u533a\u4ed3\u59cb\u53d1 \u6d77\u5357 15\n",
        "70"
       ]
      },
      {
       "output_type": "stream",
       "stream": "stdout",
       "text": [
        " \u5929\u6d25\u5927\u533a\u4ed3\u59cb\u53d1 \u6cb3\u5317 8\n",
        "71 \u5929\u6d25\u5927\u533a\u4ed3\u59cb\u53d1 \u6cb3\u5357 10\n",
        "72 \u5929\u6d25\u5927\u533a\u4ed3\u59cb\u53d1 \u9ed1\u9f99\u6c5f 10\n",
        "73 \u5929\u6d25\u5927\u533a\u4ed3\u59cb\u53d1 \u6e56\u5317 12\n",
        "74"
       ]
      },
      {
       "output_type": "stream",
       "stream": "stdout",
       "text": [
        " \u5929\u6d25\u5927\u533a\u4ed3\u59cb\u53d1 \u6e56\u5357 12\n",
        "75 \u5929\u6d25\u5927\u533a\u4ed3\u59cb\u53d1 \u5409\u6797 12\n",
        "76 \u5929\u6d25\u5927\u533a\u4ed3\u59cb\u53d1 \u6c5f\u82cf 10\n",
        "77 \u5929\u6d25\u5927\u533a\u4ed3\u59cb\u53d1 \u6c5f\u897f 12\n",
        "78"
       ]
      },
      {
       "output_type": "stream",
       "stream": "stdout",
       "text": [
        " \u5929\u6d25\u5927\u533a\u4ed3\u59cb\u53d1 \u8fbd\u5b81 12\n",
        "79 \u5929\u6d25\u5927\u533a\u4ed3\u59cb\u53d1 \u5185\u8499\u53e4 15\n",
        "80 \u5929\u6d25\u5927\u533a\u4ed3\u59cb\u53d1 \u5b81\u590f 18\n",
        "81 \u5929\u6d25\u5927\u533a\u4ed3\u59cb\u53d1 \u9752\u6d77 15\n",
        "82"
       ]
      },
      {
       "output_type": "stream",
       "stream": "stdout",
       "text": [
        " \u5929\u6d25\u5927\u533a\u4ed3\u59cb\u53d1 \u5c71\u4e1c 10\n",
        "83 \u5929\u6d25\u5927\u533a\u4ed3\u59cb\u53d1 \u5c71\u897f 10\n",
        "84 \u5929\u6d25\u5927\u533a\u4ed3\u59cb\u53d1 \u9655\u897f 12\n",
        "85 \u5929\u6d25\u5927\u533a\u4ed3\u59cb\u53d1 \u4e0a\u6d77 10\n",
        "86"
       ]
      },
      {
       "output_type": "stream",
       "stream": "stdout",
       "text": [
        " \u5929\u6d25\u5927\u533a\u4ed3\u59cb\u53d1 \u56db\u5ddd 12\n",
        "87 \u5929\u6d25\u5927\u533a\u4ed3\u59cb\u53d1 \u5929\u6d25 8\n",
        "88 \u5929\u6d25\u5927\u533a\u4ed3\u59cb\u53d1 \u897f\u85cf 18\n",
        "89 \u5929\u6d25\u5927\u533a\u4ed3\u59cb\u53d1 \u65b0\u7586 15\n",
        "90"
       ]
      },
      {
       "output_type": "stream",
       "stream": "stdout",
       "text": [
        " \u5929\u6d25\u5927\u533a\u4ed3\u59cb\u53d1 \u4e91\u5357 12\n",
        "91 \u5929\u6d25\u5927\u533a\u4ed3\u59cb\u53d1 \u6d59\u6c5f 10\n",
        "92 \u5929\u6d25\u5927\u533a\u4ed3\u59cb\u53d1 \u91cd\u5e86 12\n",
        "93 \u897f\u5b89\u5927\u533a\u4ed3\u59cb\u53d1 \u5b89\u5fbd 15\n",
        "94"
       ]
      },
      {
       "output_type": "stream",
       "stream": "stdout",
       "text": [
        " \u897f\u5b89\u5927\u533a\u4ed3\u59cb\u53d1 \u5317\u4eac 12\n",
        "95 \u897f\u5b89\u5927\u533a\u4ed3\u59cb\u53d1 \u798f\u5efa 10\n",
        "96 \u897f\u5b89\u5927\u533a\u4ed3\u59cb\u53d1 \u7518\u8083 15\n",
        "97 \u897f\u5b89\u5927\u533a\u4ed3\u59cb\u53d1 \u5e7f\u4e1c 10\n",
        "98"
       ]
      },
      {
       "output_type": "stream",
       "stream": "stdout",
       "text": [
        " \u897f\u5b89\u5927\u533a\u4ed3\u59cb\u53d1 \u5e7f\u897f 15\n",
        "99 \u897f\u5b89\u5927\u533a\u4ed3\u59cb\u53d1 \u8d35\u5dde 12\n",
        "100 \u897f\u5b89\u5927\u533a\u4ed3\u59cb\u53d1 \u6d77\u5357 12\n",
        "101 \u897f\u5b89\u5927\u533a\u4ed3\u59cb\u53d1 \u6cb3\u5317 10\n",
        "102"
       ]
      },
      {
       "output_type": "stream",
       "stream": "stdout",
       "text": [
        " \u897f\u5b89\u5927\u533a\u4ed3\u59cb\u53d1 \u6cb3\u5357 10\n",
        "103 \u897f\u5b89\u5927\u533a\u4ed3\u59cb\u53d1 \u9ed1\u9f99\u6c5f 12\n",
        "104 \u897f\u5b89\u5927\u533a\u4ed3\u59cb\u53d1 \u6e56\u5317 15\n",
        "105 \u897f\u5b89\u5927\u533a\u4ed3\u59cb\u53d1 \u6e56\u5357 15\n",
        "106"
       ]
      },
      {
       "output_type": "stream",
       "stream": "stdout",
       "text": [
        " \u897f\u5b89\u5927\u533a\u4ed3\u59cb\u53d1 \u5409\u6797 12\n",
        "107 \u897f\u5b89\u5927\u533a\u4ed3\u59cb\u53d1 \u6c5f\u82cf 12\n",
        "108 \u897f\u5b89\u5927\u533a\u4ed3\u59cb\u53d1 \u6c5f\u897f 15\n",
        "109 \u897f\u5b89\u5927\u533a\u4ed3\u59cb\u53d1 \u8fbd\u5b81 12\n",
        "110"
       ]
      },
      {
       "output_type": "stream",
       "stream": "stdout",
       "text": [
        " \u897f\u5b89\u5927\u533a\u4ed3\u59cb\u53d1 \u5185\u8499\u53e4 12\n",
        "111 \u897f\u5b89\u5927\u533a\u4ed3\u59cb\u53d1 \u5b81\u590f 15\n",
        "112 \u897f\u5b89\u5927\u533a\u4ed3\u59cb\u53d1 \u9752\u6d77 12\n",
        "113 \u897f\u5b89\u5927\u533a\u4ed3\u59cb\u53d1 \u5c71\u4e1c 10\n",
        "114"
       ]
      },
      {
       "output_type": "stream",
       "stream": "stdout",
       "text": [
        " \u897f\u5b89\u5927\u533a\u4ed3\u59cb\u53d1 \u5c71\u897f 10\n",
        "115 \u897f\u5b89\u5927\u533a\u4ed3\u59cb\u53d1 \u9655\u897f 8\n",
        "116 \u897f\u5b89\u5927\u533a\u4ed3\u59cb\u53d1 \u4e0a\u6d77 10\n",
        "117"
       ]
      },
      {
       "output_type": "stream",
       "stream": "stdout",
       "text": [
        " \u897f\u5b89\u5927\u533a\u4ed3\u59cb\u53d1 \u56db\u5ddd 10\n",
        "118 \u897f\u5b89\u5927\u533a\u4ed3\u59cb\u53d1 \u5929\u6d25 11\n",
        "119 \u897f\u5b89\u5927\u533a\u4ed3\u59cb\u53d1 \u897f\u85cf 18\n",
        "120 \u897f\u5b89\u5927\u533a\u4ed3\u59cb\u53d1 \u65b0\u7586 12\n",
        "121"
       ]
      },
      {
       "output_type": "stream",
       "stream": "stdout",
       "text": [
        " \u897f\u5b89\u5927\u533a\u4ed3\u59cb\u53d1 \u4e91\u5357 12\n",
        "122 \u897f\u5b89\u5927\u533a\u4ed3\u59cb\u53d1 \u6d59\u6c5f 12\n",
        "123 \u897f\u5b89\u5927\u533a\u4ed3\u59cb\u53d1 \u91cd\u5e86 10\n",
        "124 \u6210\u90fd\u5927\u533a\u4ed3\u59cb\u53d1 \u5b89\u5fbd 15\n",
        "125"
       ]
      },
      {
       "output_type": "stream",
       "stream": "stdout",
       "text": [
        " \u6210\u90fd\u5927\u533a\u4ed3\u59cb\u53d1 \u5317\u4eac 12\n",
        "126 \u6210\u90fd\u5927\u533a\u4ed3\u59cb\u53d1 \u798f\u5efa 15\n",
        "127 \u6210\u90fd\u5927\u533a\u4ed3\u59cb\u53d1 \u7518\u8083 18\n",
        "128 \u6210\u90fd\u5927\u533a\u4ed3\u59cb\u53d1 \u5e7f\u4e1c 12\n",
        "129"
       ]
      },
      {
       "output_type": "stream",
       "stream": "stdout",
       "text": [
        " \u6210\u90fd\u5927\u533a\u4ed3\u59cb\u53d1 \u5e7f\u897f 15\n",
        "130 \u6210\u90fd\u5927\u533a\u4ed3\u59cb\u53d1 \u8d35\u5dde 10\n",
        "131 \u6210\u90fd\u5927\u533a\u4ed3\u59cb\u53d1 \u6d77\u5357 15\n",
        "132 \u6210\u90fd\u5927\u533a\u4ed3\u59cb\u53d1 \u6cb3\u5317 12\n",
        "133"
       ]
      },
      {
       "output_type": "stream",
       "stream": "stdout",
       "text": [
        " \u6210\u90fd\u5927\u533a\u4ed3\u59cb\u53d1 \u6cb3\u5357 12\n",
        "134 \u6210\u90fd\u5927\u533a\u4ed3\u59cb\u53d1 \u9ed1\u9f99\u6c5f 15\n",
        "135 \u6210\u90fd\u5927\u533a\u4ed3\u59cb\u53d1 \u6e56\u5317 15\n",
        "136 \u6210\u90fd\u5927\u533a\u4ed3\u59cb\u53d1 \u6e56\u5357 15\n",
        "137"
       ]
      },
      {
       "output_type": "stream",
       "stream": "stdout",
       "text": [
        " \u6210\u90fd\u5927\u533a\u4ed3\u59cb\u53d1 \u5409\u6797 15\n",
        "138 \u6210\u90fd\u5927\u533a\u4ed3\u59cb\u53d1 \u6c5f\u82cf 12\n",
        "139 \u6210\u90fd\u5927\u533a\u4ed3\u59cb\u53d1 \u6c5f\u897f 15\n",
        "140 \u6210\u90fd\u5927\u533a\u4ed3\u59cb\u53d1 \u8fbd\u5b81 15\n",
        "141"
       ]
      },
      {
       "output_type": "stream",
       "stream": "stdout",
       "text": [
        " \u6210\u90fd\u5927\u533a\u4ed3\u59cb\u53d1 \u5185\u8499\u53e4 15\n",
        "142 \u6210\u90fd\u5927\u533a\u4ed3\u59cb\u53d1 \u5b81\u590f 15\n",
        "143 \u6210\u90fd\u5927\u533a\u4ed3\u59cb\u53d1 \u9752\u6d77 12\n",
        "144 \u6210\u90fd\u5927\u533a\u4ed3\u59cb\u53d1 \u5c71\u4e1c 12\n",
        "145"
       ]
      },
      {
       "output_type": "stream",
       "stream": "stdout",
       "text": [
        " \u6210\u90fd\u5927\u533a\u4ed3\u59cb\u53d1 \u5c71\u897f 15\n",
        "146 \u6210\u90fd\u5927\u533a\u4ed3\u59cb\u53d1 \u9655\u897f 10\n",
        "147 \u6210\u90fd\u5927\u533a\u4ed3\u59cb\u53d1 \u4e0a\u6d77 12\n",
        "148 \u6210\u90fd\u5927\u533a\u4ed3\u59cb\u53d1 \u56db\u5ddd 10\n",
        "149"
       ]
      },
      {
       "output_type": "stream",
       "stream": "stdout",
       "text": [
        " \u6210\u90fd\u5927\u533a\u4ed3\u59cb\u53d1 \u5929\u6d25 12\n",
        "150 \u6210\u90fd\u5927\u533a\u4ed3\u59cb\u53d1 \u897f\u85cf 18\n",
        "151 \u6210\u90fd\u5927\u533a\u4ed3\u59cb\u53d1 \u65b0\u7586 18\n",
        "152"
       ]
      },
      {
       "output_type": "stream",
       "stream": "stdout",
       "text": [
        " \u6210\u90fd\u5927\u533a\u4ed3\u59cb\u53d1 \u4e91\u5357 10\n",
        "153 \u6210\u90fd\u5927\u533a\u4ed3\u59cb\u53d1 \u6d59\u6c5f 12\n",
        "154 \u6210\u90fd\u5927\u533a\u4ed3\u59cb\u53d1 \u91cd\u5e86 10\n"
       ]
      }
     ],
     "prompt_number": 12
    },
    {
     "cell_type": "code",
     "collapsed": false,
     "input": [
      "writer = pd.ExcelWriter(u'\u79ef\u5206\u5546\u57ce\u7269\u6d41\u4ef7\u683c\u76d1\u6d4b\u7ed3\u679c201404.xlsx')\n",
      "def wrtxlsx(key):\n",
      "    print key,rdc_dict[key]\n",
      "    rdc_dict[key].to_excel(writer, sheet_name=key, index=False)\n",
      "map(wrtxlsx,rdc_name)"
     ],
     "language": "python",
     "metadata": {},
     "outputs": [
      {
       "output_type": "stream",
       "stream": "stdout",
       "text": [
        "\u5357\u4eac\u5927\u533a\u4ed3\u59cb\u53d1 <class 'pandas.core.frame.DataFrame'>\n",
        "Int64Index: 3325 entries, 0 to 3324\n",
        "Data columns (total 16 columns):\n",
        "\u7701\u7f16\u7801       3325  non-null values\n",
        "\u7701\u540d\u79f0       3325  non-null values\n",
        "\u5730\u5e02\u7f16\u7801      3325  non-null values\n",
        "\u5730\u5e02\u540d\u79f0      3325  non-null values\n",
        "\u533a\u53bf\u7f16\u7801      3325  non-null values\n",
        "\u533a\u53bf\u540d\u79f0      3325  non-null values\n",
        "\u79ef\u5206\u7269\u6d41\u4ef7\u683c    0  non-null values\n",
        "EMS       3325  non-null values\n",
        "\u5fb7\u90a6        1496  non-null values\n",
        "\u97f5\u8fbe        3325  non-null values\n",
        "\u987a\u4e30        3325  non-null values\n",
        "\u5b85\u6025\u9001       3325  non-null values\n",
        "\u5706\u901a        3325  non-null values\n",
        "\u4e2d\u901a        3325  non-null values\n",
        "\u68c0\u6d4b\u6700\u4f4e\u4ef7\u683c    3325  non-null values\n",
        "\u68c0\u6d4b\u7ed3\u679c      3325  non-null values\n",
        "dtypes: float64(12), object(4)\n",
        "\u5e7f\u5dde\u5927\u533a\u4ed3\u59cb\u53d1"
       ]
      },
      {
       "output_type": "stream",
       "stream": "stdout",
       "text": [
        " <class 'pandas.core.frame.DataFrame'>\n",
        "Int64Index: 3325 entries, 0 to 3324\n",
        "Data columns (total 16 columns):\n",
        "\u7701\u7f16\u7801       3325  non-null values\n",
        "\u7701\u540d\u79f0       3325  non-null values\n",
        "\u5730\u5e02\u7f16\u7801      3325  non-null values\n",
        "\u5730\u5e02\u540d\u79f0      3325  non-null values\n",
        "\u533a\u53bf\u7f16\u7801      3325  non-null values\n",
        "\u533a\u53bf\u540d\u79f0      3325  non-null values\n",
        "\u79ef\u5206\u7269\u6d41\u4ef7\u683c    0  non-null values\n",
        "EMS       3325  non-null values\n",
        "\u5fb7\u90a6        1493  non-null values\n",
        "\u97f5\u8fbe        3325  non-null values\n",
        "\u987a\u4e30        3325  non-null values\n",
        "\u5b85\u6025\u9001       3325  non-null values\n",
        "\u5706\u901a        3325  non-null values\n",
        "\u4e2d\u901a        3325  non-null values\n",
        "\u68c0\u6d4b\u6700\u4f4e\u4ef7\u683c    3325  non-null values\n",
        "\u68c0\u6d4b\u7ed3\u679c      3325  non-null values\n",
        "dtypes: float64(12), object(4)\n",
        "\u5929\u6d25\u5927\u533a\u4ed3\u59cb\u53d1"
       ]
      },
      {
       "output_type": "stream",
       "stream": "stdout",
       "text": [
        " <class 'pandas.core.frame.DataFrame'>\n",
        "Int64Index: 3325 entries, 0 to 3324\n",
        "Data columns (total 16 columns):\n",
        "\u7701\u7f16\u7801       3325  non-null values\n",
        "\u7701\u540d\u79f0       3325  non-null values\n",
        "\u5730\u5e02\u7f16\u7801      3325  non-null values\n",
        "\u5730\u5e02\u540d\u79f0      3325  non-null values\n",
        "\u533a\u53bf\u7f16\u7801      3325  non-null values\n",
        "\u533a\u53bf\u540d\u79f0      3325  non-null values\n",
        "\u79ef\u5206\u7269\u6d41\u4ef7\u683c    0  non-null values\n",
        "EMS       3325  non-null values\n",
        "\u5fb7\u90a6        1503  non-null values\n",
        "\u97f5\u8fbe        3325  non-null values\n",
        "\u987a\u4e30        3325  non-null values\n",
        "\u5b85\u6025\u9001       3325  non-null values\n",
        "\u5706\u901a        3325  non-null values\n",
        "\u4e2d\u901a        3325  non-null values\n",
        "\u68c0\u6d4b\u6700\u4f4e\u4ef7\u683c    3325  non-null values\n",
        "\u68c0\u6d4b\u7ed3\u679c      3325  non-null values\n",
        "dtypes: float64(12), object(4)\n",
        "\u897f\u5b89\u5927\u533a\u4ed3\u59cb\u53d1"
       ]
      },
      {
       "output_type": "stream",
       "stream": "stdout",
       "text": [
        " <class 'pandas.core.frame.DataFrame'>\n",
        "Int64Index: 3325 entries, 0 to 3324\n",
        "Data columns (total 16 columns):\n",
        "\u7701\u7f16\u7801       3325  non-null values\n",
        "\u7701\u540d\u79f0       3325  non-null values\n",
        "\u5730\u5e02\u7f16\u7801      3325  non-null values\n",
        "\u5730\u5e02\u540d\u79f0      3325  non-null values\n",
        "\u533a\u53bf\u7f16\u7801      3325  non-null values\n",
        "\u533a\u53bf\u540d\u79f0      3325  non-null values\n",
        "\u79ef\u5206\u7269\u6d41\u4ef7\u683c    0  non-null values\n",
        "EMS       3325  non-null values\n",
        "\u5fb7\u90a6        0  non-null values\n",
        "\u97f5\u8fbe        3325  non-null values\n",
        "\u987a\u4e30        3325  non-null values\n",
        "\u5b85\u6025\u9001       3325  non-null values\n",
        "\u5706\u901a        3325  non-null values\n",
        "\u4e2d\u901a        3325  non-null values\n",
        "\u68c0\u6d4b\u6700\u4f4e\u4ef7\u683c    3325  non-null values\n",
        "\u68c0\u6d4b\u7ed3\u679c      3325  non-null values\n",
        "dtypes: float64(12), object(4)\n",
        "\u6210\u90fd\u5927\u533a\u4ed3\u59cb\u53d1"
       ]
      },
      {
       "output_type": "stream",
       "stream": "stdout",
       "text": [
        " <class 'pandas.core.frame.DataFrame'>\n",
        "Int64Index: 3325 entries, 0 to 3324\n",
        "Data columns (total 16 columns):\n",
        "\u7701\u7f16\u7801       3325  non-null values\n",
        "\u7701\u540d\u79f0       3325  non-null values\n",
        "\u5730\u5e02\u7f16\u7801      3325  non-null values\n",
        "\u5730\u5e02\u540d\u79f0      3325  non-null values\n",
        "\u533a\u53bf\u7f16\u7801      3325  non-null values\n",
        "\u533a\u53bf\u540d\u79f0      3325  non-null values\n",
        "\u79ef\u5206\u7269\u6d41\u4ef7\u683c    0  non-null values\n",
        "EMS       3325  non-null values\n",
        "\u5fb7\u90a6        1498  non-null values\n",
        "\u97f5\u8fbe        3325  non-null values\n",
        "\u987a\u4e30        3325  non-null values\n",
        "\u5b85\u6025\u9001       3325  non-null values\n",
        "\u5706\u901a        3325  non-null values\n",
        "\u4e2d\u901a        3325  non-null values\n",
        "\u68c0\u6d4b\u6700\u4f4e\u4ef7\u683c    3325  non-null values\n",
        "\u68c0\u6d4b\u7ed3\u679c      3325  non-null values\n",
        "dtypes: float64(12), object(4)\n"
       ]
      },
      {
       "metadata": {},
       "output_type": "pyout",
       "prompt_number": 13,
       "text": [
        "[None, None, None, None, None]"
       ]
      }
     ],
     "prompt_number": 13
    },
    {
     "cell_type": "code",
     "collapsed": false,
     "input": [
      "writer.save()"
     ],
     "language": "python",
     "metadata": {},
     "outputs": [],
     "prompt_number": 14
    },
    {
     "cell_type": "code",
     "collapsed": false,
     "input": [],
     "language": "python",
     "metadata": {},
     "outputs": []
    }
   ],
   "metadata": {}
  }
 ]
}