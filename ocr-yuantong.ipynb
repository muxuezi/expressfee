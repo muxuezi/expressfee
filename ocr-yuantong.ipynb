{
 "metadata": {
  "name": "",
  "signature": "sha256:fe99b4e9f35b827fc06b643fae257889ca5f481e704ec5ed7811beb5b00e4637"
 },
 "nbformat": 3,
 "nbformat_minor": 0,
 "worksheets": [
  {
   "cells": [
    {
     "cell_type": "code",
     "collapsed": false,
     "input": [
      "# coding: utf-8\n",
      "from selenium import webdriver\n",
      "from selenium.webdriver.common.keys import Keys\n",
      "from selenium.webdriver.support.ui import Select\n",
      "from selenium.common.exceptions import NoSuchElementException\n",
      "import time\n",
      "import os\n",
      "from PIL import Image"
     ],
     "language": "python",
     "metadata": {},
     "outputs": [],
     "prompt_number": 1
    },
    {
     "cell_type": "code",
     "collapsed": false,
     "input": [
      "# PROV_FROM = [u'\u6c5f\u82cf\u7701-\u5357\u4eac\u5e02-\u6816\u971e\u533a', u'\u5e7f\u4e1c\u7701-\u5e7f\u5dde\u5e02-\u82b1\u90fd\u533a',u'\u5929\u6d25\u5e02-\u5929\u6d25\u5e02-\u4e1c\u4e3d\u533a', u'\u9655\u897f\u7701-\u897f\u5b89\u5e02-\u65b0\u57ce\u533a', u'\u56db\u5ddd\u7701-\u6210\u90fd\u5e02-\u9f99\u6cc9\u9a7f\u533a']\n",
      "PROV_FROM = [u'\u5317\u4eac-\u5317\u4eac\u5e02-\u4e1c\u57ce\u533a']\n",
      "class Dstfee(object):\n",
      "\n",
      "    \"\"\"docstring for ClassName\"\"\"\n",
      "\n",
      "    def __init__(self, url, addressfrom):\n",
      "        self.url = url\n",
      "        self.driver = webdriver.Chrome('./chromedriver')\n",
      "        self.addressfrom = addressfrom\n",
      "        self.PROV_TO = [arrivedCityName.strip() for arrivedCityName in open('yuantongprov', 'rb').readlines()]\n",
      "\n",
      "    def extract_and_ocr(self,dst,leftx,lefty,width,height):\n",
      "        image_file = 'screenshot.png'\n",
      "        png_file = 'captcha.png'\n",
      "        img = Image.open(image_file)\n",
      "        box = (leftx,lefty, leftx+width, lefty+height)\n",
      "        img = img.crop(box)\n",
      "        img0 = img.convert(\"L\")\n",
      "        img1 = img0.point(lambda i: 0 if i < 120 else 255)\n",
      "        img1.save(png_file)\n",
      "        tatt=os.popen(\"./rpred.py -Q 4 -m %s.pyrnn.gz %s\" % (dst,png_file))\n",
      "        return tatt.read()[-5:-1]\n",
      "\n",
      "    def getfeeyuantong(self,addressfrom, addressto):\n",
      "        def tempcapchar():\n",
      "            self.driver.save_screenshot('screenshot.png')\n",
      "            dst,leftx,lefty,width,height = 'yuantong',  572,  534, 57, 22\n",
      "            code = self.extract_and_ocr(dst,leftx,lefty,width,height)\n",
      "            self.driver.find_element_by_id(\"Verfity\").clear()\n",
      "            self.driver.find_element_by_id(\"Verfity\").send_keys(code)\n",
      "            self.driver.find_element_by_xpath(\"//div/li/a/span\").click()\n",
      "        \n",
      "        addressfrom_prv, addressfrom_cty, addressfrom_are = addressfrom.split('-')\n",
      "        addressto_prv, addressto_cty, addressto_are = addressto.split('-')\n",
      "        \n",
      "        def loadpage():\n",
      "            self.driver.get(self.url)\n",
      "            Select(self.driver.find_element_by_id(\"selPro\")).select_by_visible_text(addressfrom_prv)\n",
      "            Select(self.driver.find_element_by_id(\"selCity\")).select_by_visible_text(addressfrom_cty)\n",
      "            Select(self.driver.find_element_by_id(\"selDis\")).select_by_visible_text(addressfrom_are)\n",
      "            Select(self.driver.find_element_by_id(\"desPro\")).select_by_visible_text(addressto_prv)\n",
      "            Select(self.driver.find_element_by_id(\"desCity\")).select_by_visible_text(addressto_cty)\n",
      "            Select(self.driver.find_element_by_id(\"desDis\")).select_by_visible_text(addressto_are)\n",
      "            self.driver.find_element_by_id(\"txtexpressWeight\").clear()\n",
      "            self.driver.find_element_by_id(\"txtexpressWeight\").send_keys(\"1\")\n",
      "            \n",
      "        loadpage()\n",
      "        tempcapchar()\n",
      "        while True:\n",
      "            try:\n",
      "                lufei = self.driver.find_element_by_id(\"verfityFont\")\n",
      "            except NoSuchElementException:\n",
      "                break\n",
      "            else:\n",
      "                time.sleep(1)\n",
      "                if lufei.text:\n",
      "                    loadpage()\n",
      "                    tempcapchar()\n",
      "                else:\n",
      "                    break\n",
      "        try:\n",
      "            ft = self.driver.find_element_by_xpath('//*[@id=\"labprice\"]/span/span')\n",
      "            return ft.text.strip()\n",
      "        except NoSuchElementException:\n",
      "            return 'None'\n",
      "        \n",
      "    def feeoutput(self,fee):\n",
      "        def getfeex(addressto):\n",
      "            self.driver.implicitly_wait(3)\n",
      "            addressto = unicode(addressto.decode(\"utf-8\"))\n",
      "            self.driver.get(self.url)\n",
      "            fees = fee(self.addressfrom, addressto)\n",
      "            return fees\n",
      "        for idx,addressto in enumerate(self.PROV_TO):\n",
      "            fees = getfeex(addressto)\n",
      "            print idx, addressto, fees\n",
      "\n",
      "def main():      \n",
      "        def last(add):\n",
      "          url = \"http://www.yto.net.cn/cn/service/standardPrice.html\"\n",
      "          dstfee = Dstfee(url,add)\n",
      "          dstfee.feeoutput(dstfee.getfeeyuantong)\n",
      "        map(last,PROV_FROM)\n",
      "if __name__ == '__main__':\n",
      "    main()"
     ],
     "language": "python",
     "metadata": {},
     "outputs": [
      {
       "output_type": "stream",
       "stream": "stdout",
       "text": [
        "0 \u5b89\u5fbd\u7701-\u5408\u80a5\u5e02-\u8700\u5c71\u533a 18\n",
        "1"
       ]
      },
      {
       "output_type": "stream",
       "stream": "stdout",
       "text": [
        " \u5317\u4eac-\u5317\u4eac\u5e02-\u4e1c\u57ce\u533a 10\n",
        "2"
       ]
      },
      {
       "output_type": "stream",
       "stream": "stdout",
       "text": [
        " \u798f\u5efa\u7701-\u5b81\u5fb7\u5e02-\u8549\u57ce\u533a 18\n",
        "3"
       ]
      },
      {
       "output_type": "stream",
       "stream": "stdout",
       "text": [
        " \u7518\u8083\u7701-\u5609\u5cea\u5173\u5e02-\u5609\u5cea\u5173\u5e02 18\n",
        "4"
       ]
      },
      {
       "output_type": "stream",
       "stream": "stdout",
       "text": [
        " \u5e7f\u4e1c\u7701-\u5e7f\u5dde\u5e02-\u8354\u6e7e\u533a 18\n",
        "5"
       ]
      },
      {
       "output_type": "stream",
       "stream": "stdout",
       "text": [
        " \u5e7f\u897f\u58ee\u65cf\u81ea\u6cbb\u533a-\u5357\u5b81\u5e02-\u5174\u5b81\u533a 18\n",
        "6"
       ]
      },
      {
       "output_type": "stream",
       "stream": "stdout",
       "text": [
        " \u8d35\u5dde\u7701-\u8d35\u9633\u5e02-\u5357\u660e\u533a 18\n",
        "7"
       ]
      },
      {
       "output_type": "stream",
       "stream": "stdout",
       "text": [
        " \u6d77\u5357\u7701-\u4e09\u4e9a\u5e02-\u5e02\u8f96\u533a 18\n",
        "8"
       ]
      },
      {
       "output_type": "stream",
       "stream": "stdout",
       "text": [
        " \u6cb3\u5317\u7701-\u90a2\u53f0\u5e02-\u6865\u4e1c\u533a 10\n",
        "9"
       ]
      },
      {
       "output_type": "stream",
       "stream": "stdout",
       "text": [
        " \u6cb3\u5357\u7701-\u90d1\u5dde\u5e02-\u4e2d\u539f\u533a 18\n",
        "10"
       ]
      },
      {
       "output_type": "stream",
       "stream": "stdout",
       "text": [
        " \u9ed1\u9f99\u6c5f\u7701-\u54c8\u5c14\u6ee8\u5e02-\u9053\u91cc\u533a 18\n",
        "11"
       ]
      },
      {
       "output_type": "stream",
       "stream": "stdout",
       "text": [
        " \u6e56\u5317\u7701-\u6b66\u6c49\u5e02-\u6c5f\u5cb8\u533a 18\n",
        "12"
       ]
      },
      {
       "output_type": "stream",
       "stream": "stdout",
       "text": [
        " \u6e56\u5357\u7701-\u682a\u6d32\u5e02-\u8377\u5858\u533a 18\n",
        "13"
       ]
      },
      {
       "output_type": "stream",
       "stream": "stdout",
       "text": [
        " \u5409\u6797\u7701-\u957f\u6625\u5e02-\u5357\u5173\u533a 18\n",
        "14"
       ]
      },
      {
       "output_type": "stream",
       "stream": "stdout",
       "text": [
        " \u6c5f\u82cf\u7701-\u76d0\u57ce\u5e02-\u4ead\u6e56\u533a 18\n",
        "15"
       ]
      },
      {
       "output_type": "stream",
       "stream": "stdout",
       "text": [
        " \u6c5f\u897f\u7701-\u666f\u5fb7\u9547\u5e02-\u73e0\u5c71\u533a 18\n",
        "16"
       ]
      },
      {
       "output_type": "stream",
       "stream": "stdout",
       "text": [
        " \u8fbd\u5b81\u7701-\u94c1\u5cad\u5e02-\u94c1\u5cad\u53bf 18\n",
        "17"
       ]
      },
      {
       "output_type": "stream",
       "stream": "stdout",
       "text": [
        " \u5185\u8499\u53e4\u81ea\u6cbb\u533a-\u547c\u548c\u6d69\u7279\u5e02-\u6258\u514b\u6258\u53bf 18\n",
        "18"
       ]
      },
      {
       "output_type": "stream",
       "stream": "stdout",
       "text": [
        " \u5b81\u590f\u56de\u65cf\u81ea\u6cbb\u533a-\u94f6\u5ddd\u5e02-\u5174\u5e86\u533a 18\n",
        "19"
       ]
      },
      {
       "output_type": "stream",
       "stream": "stdout",
       "text": [
        " \u9752\u6d77\u7701-\u679c\u6d1b\u85cf\u65cf\u81ea\u6cbb\u5dde-\u739b\u6c81\u53bf 18\n",
        "20"
       ]
      },
      {
       "output_type": "stream",
       "stream": "stdout",
       "text": [
        " \u5c71\u4e1c\u7701-\u83cf\u6cfd\u5e02-\u7261\u4e39\u533a 18\n",
        "21"
       ]
      },
      {
       "output_type": "stream",
       "stream": "stdout",
       "text": [
        " \u5c71\u897f\u7701-\u592a\u539f\u5e02-\u674f\u82b1\u5cad\u533a 18\n",
        "22"
       ]
      },
      {
       "output_type": "stream",
       "stream": "stdout",
       "text": [
        " \u9655\u897f\u7701-\u897f\u5b89\u5e02-\u65b0\u57ce\u533a 18\n",
        "23"
       ]
      },
      {
       "output_type": "stream",
       "stream": "stdout",
       "text": [
        " \u4e0a\u6d77-\u4e0a\u6d77\u5e02-\u9ec4\u6d66\u533a 18\n",
        "24"
       ]
      },
      {
       "output_type": "stream",
       "stream": "stdout",
       "text": [
        " \u56db\u5ddd\u7701-\u6210\u90fd\u5e02-\u9526\u6c5f\u533a 18\n",
        "25"
       ]
      },
      {
       "output_type": "stream",
       "stream": "stdout",
       "text": [
        " \u5929\u6d25-\u5929\u6d25\u5e02-\u548c\u5e73\u533a 12\n",
        "26"
       ]
      },
      {
       "output_type": "stream",
       "stream": "stdout",
       "text": [
        " \u897f\u85cf\u81ea\u6cbb\u533a-\u62c9\u8428\u5e02-\u57ce\u5173\u533a 20\n",
        "27"
       ]
      },
      {
       "output_type": "stream",
       "stream": "stdout",
       "text": [
        " \u65b0\u7586\u7ef4\u543e\u5c14\u81ea\u6cbb\u533a-\u4e4c\u9c81\u6728\u9f50\u5e02-\u5929\u5c71\u533a 20\n",
        "28"
       ]
      },
      {
       "output_type": "stream",
       "stream": "stdout",
       "text": [
        " \u4e91\u5357\u7701-\u897f\u53cc\u7248\u7eb3\u50a3\u65cf\u81ea\u6cbb\u5dde-\u666f\u6d2a\u5e02 18\n",
        "29"
       ]
      },
      {
       "output_type": "stream",
       "stream": "stdout",
       "text": [
        " \u6d59\u6c5f\u7701-\u676d\u5dde\u5e02-\u4e0a\u57ce\u533a 18\n",
        "30"
       ]
      },
      {
       "output_type": "stream",
       "stream": "stdout",
       "text": [
        " \u91cd\u5e86-\u91cd\u5e86\u5e02-\u5f00\u53bf 18\n"
       ]
      }
     ],
     "prompt_number": 7
    },
    {
     "cell_type": "code",
     "collapsed": false,
     "input": [],
     "language": "python",
     "metadata": {},
     "outputs": []
    }
   ],
   "metadata": {}
  }
 ]
}