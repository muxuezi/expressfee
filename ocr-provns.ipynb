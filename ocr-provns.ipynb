{
 "metadata": {
  "name": "",
  "signature": "sha256:760af32b40da1b7728fb26e37c5733162d677826ce34e372af44b9d8ff535ed1"
 },
 "nbformat": 3,
 "nbformat_minor": 0,
 "worksheets": [
  {
   "cells": [
    {
     "cell_type": "code",
     "collapsed": false,
     "input": [
      "import collections\n",
      "f = open('zhongtongdata.txt')"
     ],
     "language": "python",
     "metadata": {},
     "outputs": [],
     "prompt_number": 1
    },
    {
     "cell_type": "code",
     "collapsed": false,
     "input": [
      "temp = []\n",
      "lab = collections.Counter()\n",
      "for x in f.readlines():\n",
      "    head = x.split('-')[0]\n",
      "    if lab[head] < 1 : \n",
      "        temp.append(x)\n",
      "        print x\n",
      "    lab[head] +=1"
     ],
     "language": "python",
     "metadata": {},
     "outputs": [
      {
       "output_type": "stream",
       "stream": "stdout",
       "text": [
        "\u4e91\u5357-\u6606\u660e\u5e02-None\n",
        "\n",
        "\u6d59\u6c5f-\u8862\u5dde\u5e02-None\n",
        "\n",
        "\u9752\u6d77-\u7389\u6811\u85cf\u65cf\u81ea\u6cbb\u5dde-None\n",
        "\n",
        "\u6c5f\u82cf-\u5f90\u5dde\u5e02-None\n",
        "\n",
        "\u8d35\u5dde-\u9ed4\u5357\u5e03\u4f9d\u65cf\u82d7\u65cf\u81ea\u6cbb\u5dde-None\n",
        "\n",
        "\u798f\u5efa-\u9f99\u5ca9\u5e02-None\n",
        "\n",
        "\u5e7f\u4e1c-\u6f6e\u5dde\u5e02-None\n",
        "\n",
        "\u7518\u8083-\u767d\u94f6\u5e02-None\n",
        "\n",
        "\u6cb3\u5357-\u90d1\u5dde\u5e02-None\n",
        "\n",
        "\u65b0\u7586-\u548c\u7530\u5730\u533a-None\n",
        "\n",
        "\u6cb3\u5317-\u5eca\u574a\u5e02-None\n",
        "\n",
        "\u9655\u897f-\u5b89\u5eb7\u5e02-None\n",
        "\n",
        "\u5b81\u590f-\u4e2d\u536b\u5e02-None\n",
        "\n",
        "\u5c71\u897f-\u9633\u6cc9\u5e02-None\n",
        "\n",
        "\u897f\u85cf-\u963f\u91cc\u5730\u533a-None\n",
        "\n",
        "\u6c5f\u897f-\u9e70\u6f6d\u5e02-None\n",
        "\n",
        "\u6d77\u5357-\u4e09\u4e9a\u5e02-None\n",
        "\n",
        "\u8fbd\u5b81-\u5927\u8fde\u5e02-None\n",
        "\n",
        "\u5409\u6797-\u8fbd\u6e90\u5e02-None\n",
        "\n",
        "\u6e56\u5317-\u5341\u5830\u5e02-None\n",
        "\n",
        "\u56db\u5ddd-\u6210\u90fd\u5e02-None\n",
        "\n",
        "\u5185\u8499\u53e4-\u9102\u5c14\u591a\u65af\u5e02-None\n",
        "\n",
        "\u5c71\u4e1c-\u4e1c\u8425\u5e02-None\n",
        "\n",
        "\u9ed1\u9f99\u6c5f-\u9e21\u897f\u5e02-None\n",
        "\n",
        "\u5b89\u5fbd-\u5ba3\u57ce\u5e02-None\n",
        "\n",
        "\u5e7f\u897f-\u5317\u6d77\u5e02-None\n",
        "\n"
       ]
      }
     ],
     "prompt_number": 2
    },
    {
     "cell_type": "code",
     "collapsed": false,
     "input": [
      "with open('zhongtongprov', 'wb') as f:\n",
      "    map(lambda x: f.write(x),temp)"
     ],
     "language": "python",
     "metadata": {},
     "outputs": [],
     "prompt_number": 3
    },
    {
     "cell_type": "code",
     "collapsed": false,
     "input": [],
     "language": "python",
     "metadata": {},
     "outputs": []
    }
   ],
   "metadata": {}
  }
 ]
}