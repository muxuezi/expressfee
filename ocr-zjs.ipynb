{
 "metadata": {
  "name": "",
  "signature": "sha256:0c3e0826680a6e58f95d7f4700d0b21c7b90a9f296601afb12ac76aafa55d82f"
 },
 "nbformat": 3,
 "nbformat_minor": 0,
 "worksheets": [
  {
   "cells": [
    {
     "cell_type": "code",
     "collapsed": false,
     "input": [
      "# coding: utf-8\n",
      "from selenium import webdriver\n",
      "from selenium.webdriver.common.keys import Keys\n",
      "from selenium.webdriver.support.ui import Select\n",
      "from selenium.common.exceptions import NoSuchElementException\n",
      "import time\n",
      "import os\n",
      "from PIL import Image"
     ],
     "language": "python",
     "metadata": {},
     "outputs": [],
     "prompt_number": 4
    },
    {
     "cell_type": "code",
     "collapsed": false,
     "input": [
      "# PROV_FROM = [u'\u6c5f\u82cf\u7701-\u5357\u4eac\u5e02-\u6816\u971e\u533a', u'\u5e7f\u4e1c\u7701-\u5e7f\u5dde\u5e02-\u82b1\u90fd\u533a',u'\u5929\u6d25\u5e02-\u5929\u6d25\u5e02-\u4e1c\u4e3d\u533a', u'\u9655\u897f\u7701-\u897f\u5b89\u5e02-\u65b0\u57ce\u533a', u'\u56db\u5ddd\u7701-\u6210\u90fd\u5e02-\u9f99\u6cc9\u9a7f\u533a']\n",
      "PROV_FROM = [u'\u5317\u4eac\u5e02-\u5317\u4eac\u5e02-\u4e1c\u57ce\u533a']\n",
      "class Dstfee(object):\n",
      "\n",
      "    \"\"\"docstring for ClassName\"\"\"\n",
      "\n",
      "    def __init__(self, url, addressfrom):\n",
      "        self.url = url\n",
      "        self.driver = webdriver.Chrome('./chromedriver')\n",
      "        self.addressfrom = addressfrom\n",
      "        self.PROV_TO = [arrivedCityName.strip() for arrivedCityName in open('zjsprovn', 'rb').readlines()]\n",
      "\n",
      "    def extract_and_ocr(self,dst,leftx,lefty,width,height):\n",
      "        image_file = 'screenshot.png'\n",
      "        img = Image.open(image_file)\n",
      "        box = (leftx,lefty, leftx+width, lefty+height)\n",
      "        img = img.crop(box)\n",
      "        img.save('captcha.png')\n",
      "        tatt=os.popen(\"./rpred.py -Q 4 -m %s.pyrnn.gz captcha.png\" % dst)\n",
      "        return tatt.read()[-5:-1]\n",
      "        \n",
      "    def getfeezjs(self,addressfrom, addressto):\n",
      "        def tempcapchar():\n",
      "            self.driver.save_screenshot('screenshot.png')\n",
      "            dst,leftx,lefty,width,height = 'zjs',470,565,60,20\n",
      "            code = self.extract_and_ocr(dst,leftx,lefty,width,height)\n",
      "#             code = raw_input('capchar?')\n",
      "            self.driver.find_element_by_id(\"ValidateTxt\").clear()\n",
      "            self.driver.find_element_by_id(\"ValidateTxt\").send_keys(code)\n",
      "            self.driver.find_element_by_id(\"Button1\").click()\n",
      "\n",
      "        addressfrom_prv, addressfrom_cty, addressfrom_are = addressfrom.split('-')\n",
      "        addressto_prv, addressto_cty, addressto_are = addressto.split('-')\n",
      "        Select(self.driver.find_element_by_id(\"ctl00_Content1_Price_Province\")).select_by_visible_text(addressfrom_prv)\n",
      "        Select(self.driver.find_element_by_id(\"City\")).select_by_visible_text(addressfrom_cty)\n",
      "        Select(self.driver.find_element_by_id(\"Area\")).select_by_visible_text(addressfrom_are)\n",
      "        Select(self.driver.find_element_by_id(\"ctl00_Content1_Price_RProvince\")).select_by_visible_text(addressto_prv)\n",
      "        Select(self.driver.find_element_by_id(\"RCity\")).select_by_visible_text(addressto_cty)\n",
      "        if addressto_are != 'None':\n",
      "            Select(self.driver.find_element_by_id(\"RArea\")).select_by_visible_text(addressto_are)\n",
      "        self.driver.find_element_by_id(\"ctl00_Content1_Price_ZhongLiang\").clear()\n",
      "        self.driver.find_element_by_id(\"ctl00_Content1_Price_ZhongLiang\").send_keys(\"1\")\n",
      "        tempcapchar()\n",
      "        while True:\n",
      "            try:\n",
      "                lufei = self.driver.find_element_by_xpath('//*[@id=\"Result\"]/font')\n",
      "            except NoSuchElementException:\n",
      "                break\n",
      "            else:\n",
      "                time.sleep(1)\n",
      "                if u'\u672c\u516c\u53f8\u6682\u672a\u5f00\u901a\u4e24\u5730\u95f4\u5feb\u9012\u670d\u52a1' in lufei.text: return 'None'\n",
      "                else: tempcapchar()\n",
      "        def tryfee(k):\n",
      "            try:\n",
      "                ft = self.driver.find_element_by_xpath('//*[@id=\"Result\"]/table/tbody/tr[%s]/td[4]' % k)\n",
      "                return ft.text\n",
      "            except NoSuchElementException:\n",
      "                return 'None'\n",
      "        if tryfee('3') != 'None':return tryfee('3')\n",
      "        elif tryfee('2') != 'None':return tryfee('2')\n",
      "        else:return 'None'\n",
      "\n",
      "    def feeoutput(self,fee):\n",
      "        def getfeex(addressto):\n",
      "            self.driver.implicitly_wait(3)\n",
      "            addressto = unicode(addressto.decode(\"utf-8\"))\n",
      "            self.driver.get(self.url)\n",
      "            fees = fee(self.addressfrom, addressto)\n",
      "            return fees\n",
      "        for idx,addressto in enumerate(self.PROV_TO):\n",
      "            fees = getfeex(addressto)\n",
      "            print idx, addressto, fees\n",
      "\n",
      "\n",
      "def main():      \n",
      "    def last(add):\n",
      "        url = \"http://www.zjs.com.cn/WS_Business/WS_Business_price_internal.aspx?id=6\"\n",
      "        dstfee = Dstfee(url,add)\n",
      "        dstfee.feeoutput(dstfee.getfeezjs)\n",
      "    map(last,PROV_FROM)\n",
      "    \n",
      "if __name__ == '__main__':\n",
      "    main()"
     ],
     "language": "python",
     "metadata": {},
     "outputs": [
      {
       "output_type": "stream",
       "stream": "stdout",
       "text": [
        "0 \u4e91\u5357\u7701-\u6606\u660e\u5e02-\u5448\u8d21\u533a 18.0\n",
        "1"
       ]
      },
      {
       "output_type": "stream",
       "stream": "stdout",
       "text": [
        " \u4e91\u5357\u7701-\u6606\u660e\u5e02-\u4e1c\u5ddd\u533a 18.0\n",
        "2"
       ]
      },
      {
       "output_type": "stream",
       "stream": "stdout",
       "text": [
        " \u6d59\u6c5f\u7701-\u676d\u5dde\u5e02-\u897f\u6e56\u533a 16.0\n",
        "3"
       ]
      },
      {
       "output_type": "stream",
       "stream": "stdout",
       "text": [
        " \u6d59\u6c5f\u7701-\u676d\u5dde\u5e02-\u4e0b\u57ce\u533a 16.0\n"
       ]
      },
      {
       "ename": "NoSuchElementException",
       "evalue": "Message: u'Could not locate element with visible text: \\u5317\\u4eac\\u5e02' ",
       "output_type": "pyerr",
       "traceback": [
        "\u001b[1;31m---------------------------------------------------------------------------\u001b[0m\n\u001b[1;31mNoSuchElementException\u001b[0m                    Traceback (most recent call last)",
        "\u001b[1;32m<ipython-input-8-7a2e2ae254eb>\u001b[0m in \u001b[0;36m<module>\u001b[1;34m()\u001b[0m\n\u001b[0;32m     81\u001b[0m \u001b[1;33m\u001b[0m\u001b[0m\n\u001b[0;32m     82\u001b[0m \u001b[1;32mif\u001b[0m \u001b[0m__name__\u001b[0m \u001b[1;33m==\u001b[0m \u001b[1;34m'__main__'\u001b[0m\u001b[1;33m:\u001b[0m\u001b[1;33m\u001b[0m\u001b[0m\n\u001b[1;32m---> 83\u001b[1;33m     \u001b[0mmain\u001b[0m\u001b[1;33m(\u001b[0m\u001b[1;33m)\u001b[0m\u001b[1;33m\u001b[0m\u001b[0m\n\u001b[0m",
        "\u001b[1;32m<ipython-input-8-7a2e2ae254eb>\u001b[0m in \u001b[0;36mmain\u001b[1;34m()\u001b[0m\n\u001b[0;32m     78\u001b[0m         \u001b[0mdstfee\u001b[0m \u001b[1;33m=\u001b[0m \u001b[0mDstfee\u001b[0m\u001b[1;33m(\u001b[0m\u001b[0murl\u001b[0m\u001b[1;33m,\u001b[0m\u001b[0madd\u001b[0m\u001b[1;33m)\u001b[0m\u001b[1;33m\u001b[0m\u001b[0m\n\u001b[0;32m     79\u001b[0m         \u001b[0mdstfee\u001b[0m\u001b[1;33m.\u001b[0m\u001b[0mfeeoutput\u001b[0m\u001b[1;33m(\u001b[0m\u001b[0mdstfee\u001b[0m\u001b[1;33m.\u001b[0m\u001b[0mgetfeezjs\u001b[0m\u001b[1;33m)\u001b[0m\u001b[1;33m\u001b[0m\u001b[0m\n\u001b[1;32m---> 80\u001b[1;33m     \u001b[0mmap\u001b[0m\u001b[1;33m(\u001b[0m\u001b[0mlast\u001b[0m\u001b[1;33m,\u001b[0m\u001b[0mPROV_FROM\u001b[0m\u001b[1;33m)\u001b[0m\u001b[1;33m\u001b[0m\u001b[0m\n\u001b[0m\u001b[0;32m     81\u001b[0m \u001b[1;33m\u001b[0m\u001b[0m\n\u001b[0;32m     82\u001b[0m \u001b[1;32mif\u001b[0m \u001b[0m__name__\u001b[0m \u001b[1;33m==\u001b[0m \u001b[1;34m'__main__'\u001b[0m\u001b[1;33m:\u001b[0m\u001b[1;33m\u001b[0m\u001b[0m\n",
        "\u001b[1;32m<ipython-input-8-7a2e2ae254eb>\u001b[0m in \u001b[0;36mlast\u001b[1;34m(add)\u001b[0m\n\u001b[0;32m     77\u001b[0m         \u001b[0murl\u001b[0m \u001b[1;33m=\u001b[0m \u001b[1;34m\"http://www.zjs.com.cn/WS_Business/WS_Business_price_internal.aspx?id=6\"\u001b[0m\u001b[1;33m\u001b[0m\u001b[0m\n\u001b[0;32m     78\u001b[0m         \u001b[0mdstfee\u001b[0m \u001b[1;33m=\u001b[0m \u001b[0mDstfee\u001b[0m\u001b[1;33m(\u001b[0m\u001b[0murl\u001b[0m\u001b[1;33m,\u001b[0m\u001b[0madd\u001b[0m\u001b[1;33m)\u001b[0m\u001b[1;33m\u001b[0m\u001b[0m\n\u001b[1;32m---> 79\u001b[1;33m         \u001b[0mdstfee\u001b[0m\u001b[1;33m.\u001b[0m\u001b[0mfeeoutput\u001b[0m\u001b[1;33m(\u001b[0m\u001b[0mdstfee\u001b[0m\u001b[1;33m.\u001b[0m\u001b[0mgetfeezjs\u001b[0m\u001b[1;33m)\u001b[0m\u001b[1;33m\u001b[0m\u001b[0m\n\u001b[0m\u001b[0;32m     80\u001b[0m     \u001b[0mmap\u001b[0m\u001b[1;33m(\u001b[0m\u001b[0mlast\u001b[0m\u001b[1;33m,\u001b[0m\u001b[0mPROV_FROM\u001b[0m\u001b[1;33m)\u001b[0m\u001b[1;33m\u001b[0m\u001b[0m\n\u001b[0;32m     81\u001b[0m \u001b[1;33m\u001b[0m\u001b[0m\n",
        "\u001b[1;32m<ipython-input-8-7a2e2ae254eb>\u001b[0m in \u001b[0;36mfeeoutput\u001b[1;34m(self, fee)\u001b[0m\n\u001b[0;32m     69\u001b[0m             \u001b[1;32mreturn\u001b[0m \u001b[0mfees\u001b[0m\u001b[1;33m\u001b[0m\u001b[0m\n\u001b[0;32m     70\u001b[0m         \u001b[1;32mfor\u001b[0m \u001b[0midx\u001b[0m\u001b[1;33m,\u001b[0m\u001b[0maddressto\u001b[0m \u001b[1;32min\u001b[0m \u001b[0menumerate\u001b[0m\u001b[1;33m(\u001b[0m\u001b[0mself\u001b[0m\u001b[1;33m.\u001b[0m\u001b[0mPROV_TO\u001b[0m\u001b[1;33m)\u001b[0m\u001b[1;33m:\u001b[0m\u001b[1;33m\u001b[0m\u001b[0m\n\u001b[1;32m---> 71\u001b[1;33m             \u001b[0mfees\u001b[0m \u001b[1;33m=\u001b[0m \u001b[0mgetfeex\u001b[0m\u001b[1;33m(\u001b[0m\u001b[0maddressto\u001b[0m\u001b[1;33m)\u001b[0m\u001b[1;33m\u001b[0m\u001b[0m\n\u001b[0m\u001b[0;32m     72\u001b[0m             \u001b[1;32mprint\u001b[0m \u001b[0midx\u001b[0m\u001b[1;33m,\u001b[0m \u001b[0maddressto\u001b[0m\u001b[1;33m,\u001b[0m \u001b[0mfees\u001b[0m\u001b[1;33m\u001b[0m\u001b[0m\n\u001b[0;32m     73\u001b[0m \u001b[1;33m\u001b[0m\u001b[0m\n",
        "\u001b[1;32m<ipython-input-8-7a2e2ae254eb>\u001b[0m in \u001b[0;36mgetfeex\u001b[1;34m(addressto)\u001b[0m\n\u001b[0;32m     66\u001b[0m             \u001b[0maddressto\u001b[0m \u001b[1;33m=\u001b[0m \u001b[0municode\u001b[0m\u001b[1;33m(\u001b[0m\u001b[0maddressto\u001b[0m\u001b[1;33m.\u001b[0m\u001b[0mdecode\u001b[0m\u001b[1;33m(\u001b[0m\u001b[1;34m\"utf-8\"\u001b[0m\u001b[1;33m)\u001b[0m\u001b[1;33m)\u001b[0m\u001b[1;33m\u001b[0m\u001b[0m\n\u001b[0;32m     67\u001b[0m             \u001b[0mself\u001b[0m\u001b[1;33m.\u001b[0m\u001b[0mdriver\u001b[0m\u001b[1;33m.\u001b[0m\u001b[0mget\u001b[0m\u001b[1;33m(\u001b[0m\u001b[0mself\u001b[0m\u001b[1;33m.\u001b[0m\u001b[0murl\u001b[0m\u001b[1;33m)\u001b[0m\u001b[1;33m\u001b[0m\u001b[0m\n\u001b[1;32m---> 68\u001b[1;33m             \u001b[0mfees\u001b[0m \u001b[1;33m=\u001b[0m \u001b[0mfee\u001b[0m\u001b[1;33m(\u001b[0m\u001b[0mself\u001b[0m\u001b[1;33m.\u001b[0m\u001b[0maddressfrom\u001b[0m\u001b[1;33m,\u001b[0m \u001b[0maddressto\u001b[0m\u001b[1;33m)\u001b[0m\u001b[1;33m\u001b[0m\u001b[0m\n\u001b[0m\u001b[0;32m     69\u001b[0m             \u001b[1;32mreturn\u001b[0m \u001b[0mfees\u001b[0m\u001b[1;33m\u001b[0m\u001b[0m\n\u001b[0;32m     70\u001b[0m         \u001b[1;32mfor\u001b[0m \u001b[0midx\u001b[0m\u001b[1;33m,\u001b[0m\u001b[0maddressto\u001b[0m \u001b[1;32min\u001b[0m \u001b[0menumerate\u001b[0m\u001b[1;33m(\u001b[0m\u001b[0mself\u001b[0m\u001b[1;33m.\u001b[0m\u001b[0mPROV_TO\u001b[0m\u001b[1;33m)\u001b[0m\u001b[1;33m:\u001b[0m\u001b[1;33m\u001b[0m\u001b[0m\n",
        "\u001b[1;32m<ipython-input-8-7a2e2ae254eb>\u001b[0m in \u001b[0;36mgetfeezjs\u001b[1;34m(self, addressfrom, addressto)\u001b[0m\n\u001b[0;32m     33\u001b[0m         \u001b[0maddressto_prv\u001b[0m\u001b[1;33m,\u001b[0m \u001b[0maddressto_cty\u001b[0m\u001b[1;33m,\u001b[0m \u001b[0maddressto_are\u001b[0m \u001b[1;33m=\u001b[0m \u001b[0maddressto\u001b[0m\u001b[1;33m.\u001b[0m\u001b[0msplit\u001b[0m\u001b[1;33m(\u001b[0m\u001b[1;34m'-'\u001b[0m\u001b[1;33m)\u001b[0m\u001b[1;33m\u001b[0m\u001b[0m\n\u001b[0;32m     34\u001b[0m         \u001b[0mSelect\u001b[0m\u001b[1;33m(\u001b[0m\u001b[0mself\u001b[0m\u001b[1;33m.\u001b[0m\u001b[0mdriver\u001b[0m\u001b[1;33m.\u001b[0m\u001b[0mfind_element_by_id\u001b[0m\u001b[1;33m(\u001b[0m\u001b[1;34m\"ctl00_Content1_Price_Province\"\u001b[0m\u001b[1;33m)\u001b[0m\u001b[1;33m)\u001b[0m\u001b[1;33m.\u001b[0m\u001b[0mselect_by_visible_text\u001b[0m\u001b[1;33m(\u001b[0m\u001b[0maddressfrom_prv\u001b[0m\u001b[1;33m)\u001b[0m\u001b[1;33m\u001b[0m\u001b[0m\n\u001b[1;32m---> 35\u001b[1;33m         \u001b[0mSelect\u001b[0m\u001b[1;33m(\u001b[0m\u001b[0mself\u001b[0m\u001b[1;33m.\u001b[0m\u001b[0mdriver\u001b[0m\u001b[1;33m.\u001b[0m\u001b[0mfind_element_by_id\u001b[0m\u001b[1;33m(\u001b[0m\u001b[1;34m\"City\"\u001b[0m\u001b[1;33m)\u001b[0m\u001b[1;33m)\u001b[0m\u001b[1;33m.\u001b[0m\u001b[0mselect_by_visible_text\u001b[0m\u001b[1;33m(\u001b[0m\u001b[0maddressfrom_cty\u001b[0m\u001b[1;33m)\u001b[0m\u001b[1;33m\u001b[0m\u001b[0m\n\u001b[0m\u001b[0;32m     36\u001b[0m         \u001b[0mSelect\u001b[0m\u001b[1;33m(\u001b[0m\u001b[0mself\u001b[0m\u001b[1;33m.\u001b[0m\u001b[0mdriver\u001b[0m\u001b[1;33m.\u001b[0m\u001b[0mfind_element_by_id\u001b[0m\u001b[1;33m(\u001b[0m\u001b[1;34m\"Area\"\u001b[0m\u001b[1;33m)\u001b[0m\u001b[1;33m)\u001b[0m\u001b[1;33m.\u001b[0m\u001b[0mselect_by_visible_text\u001b[0m\u001b[1;33m(\u001b[0m\u001b[0maddressfrom_are\u001b[0m\u001b[1;33m)\u001b[0m\u001b[1;33m\u001b[0m\u001b[0m\n\u001b[0;32m     37\u001b[0m         \u001b[0mSelect\u001b[0m\u001b[1;33m(\u001b[0m\u001b[0mself\u001b[0m\u001b[1;33m.\u001b[0m\u001b[0mdriver\u001b[0m\u001b[1;33m.\u001b[0m\u001b[0mfind_element_by_id\u001b[0m\u001b[1;33m(\u001b[0m\u001b[1;34m\"ctl00_Content1_Price_RProvince\"\u001b[0m\u001b[1;33m)\u001b[0m\u001b[1;33m)\u001b[0m\u001b[1;33m.\u001b[0m\u001b[0mselect_by_visible_text\u001b[0m\u001b[1;33m(\u001b[0m\u001b[0maddressto_prv\u001b[0m\u001b[1;33m)\u001b[0m\u001b[1;33m\u001b[0m\u001b[0m\n",
        "\u001b[1;32m/usr/local/lib/python2.7/dist-packages/selenium/webdriver/support/select.pyc\u001b[0m in \u001b[0;36mselect_by_visible_text\u001b[1;34m(self, text)\u001b[0m\n\u001b[0;32m    134\u001b[0m \u001b[1;33m\u001b[0m\u001b[0m\n\u001b[0;32m    135\u001b[0m         \u001b[1;32mif\u001b[0m \u001b[0mmatched\u001b[0m \u001b[1;33m!=\u001b[0m \u001b[0mTrue\u001b[0m\u001b[1;33m:\u001b[0m\u001b[1;33m\u001b[0m\u001b[0m\n\u001b[1;32m--> 136\u001b[1;33m             \u001b[1;32mraise\u001b[0m \u001b[0mNoSuchElementException\u001b[0m\u001b[1;33m(\u001b[0m\u001b[1;34m\"Could not locate element with visible text: %s\"\u001b[0m \u001b[1;33m%\u001b[0m \u001b[0mtext\u001b[0m\u001b[1;33m)\u001b[0m\u001b[1;33m\u001b[0m\u001b[0m\n\u001b[0m\u001b[0;32m    137\u001b[0m \u001b[1;33m\u001b[0m\u001b[0m\n\u001b[0;32m    138\u001b[0m     \u001b[1;32mdef\u001b[0m \u001b[0mdeselect_all\u001b[0m\u001b[1;33m(\u001b[0m\u001b[0mself\u001b[0m\u001b[1;33m)\u001b[0m\u001b[1;33m:\u001b[0m\u001b[1;33m\u001b[0m\u001b[0m\n",
        "\u001b[1;31mNoSuchElementException\u001b[0m: Message: u'Could not locate element with visible text: \\u5317\\u4eac\\u5e02' "
       ]
      }
     ],
     "prompt_number": 8
    },
    {
     "cell_type": "code",
     "collapsed": false,
     "input": [],
     "language": "python",
     "metadata": {},
     "outputs": []
    }
   ],
   "metadata": {}
  }
 ]
}