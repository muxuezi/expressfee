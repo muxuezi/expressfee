{
 "metadata": {
  "name": ""
 },
 "nbformat": 3,
 "nbformat_minor": 0,
 "worksheets": [
  {
   "cells": [
    {
     "cell_type": "code",
     "collapsed": false,
     "input": [
      "import os,sys\n",
      "import Image, ImageFont, ImageDraw"
     ],
     "language": "python",
     "metadata": {},
     "outputs": [],
     "prompt_number": 1
    },
    {
     "cell_type": "code",
     "collapsed": false,
     "input": [
      "os.chdir('./ytunit')\n",
      "!!pwd"
     ],
     "language": "python",
     "metadata": {},
     "outputs": [
      {
       "metadata": {},
       "output_type": "pyout",
       "prompt_number": 2,
       "text": [
        "['/home/arale/aGitBitBucket/expressfee/ytunit']"
       ]
      }
     ],
     "prompt_number": 2
    },
    {
     "cell_type": "code",
     "collapsed": false,
     "input": [
      "textalpha = set(chr(i) for i in range(65,91))\n",
      "textnum = [str(i) for i in range(10)]\n",
      "# textp0 = set(('F','I','J','L','Z'))\n",
      "# textp1 = set(('A','E','P','S','T','V','X','Y'))\n",
      "# textp2 = set(('M','W'))\n",
      "# textalpha -= textp0|textp1|textp2\n",
      "# print textalpha\n",
      "# print textp0\n",
      "# print textp1\n",
      "# print textp2\n",
      "# print textnum"
     ],
     "language": "python",
     "metadata": {},
     "outputs": [],
     "prompt_number": 3
    },
    {
     "cell_type": "code",
     "collapsed": false,
     "input": [
      "def texttopng(text,width,height, mleft, mtop):\n",
      "    im = Image.new(\"RGB\", (width,height), (255, 255, 255))\n",
      "    dr = ImageDraw.Draw(im)\n",
      "    font = ImageFont.truetype(\"/usr/share/fonts/truetype/msttcorefonts/arialbd.ttf\", 15)\n",
      "    dr.text((mleft, mtop), text, font=font, fill=\"#000000\")\n",
      "#     im.show()\n",
      "    im.save(text + \".png\")"
     ],
     "language": "python",
     "metadata": {},
     "outputs": [],
     "prompt_number": 4
    },
    {
     "cell_type": "code",
     "collapsed": false,
     "input": [
      "map(lambda t:texttopng(t,13,11,0,-3),textalpha)\n",
      "# map(lambda t:texttopng(t,8,11,0,-3),textp0)\n",
      "# map(lambda t:texttopng(t,10,11,0,-3),textp1)\n",
      "# map(lambda t:texttopng(t,11,11,0,-3),textalpha)\n",
      "# map(lambda t:texttopng(t,13,11,0,-3),textp2)\n",
      "map(lambda t:texttopng(t,8,11,0,-3),textnum)"
     ],
     "language": "python",
     "metadata": {},
     "outputs": [
      {
       "metadata": {},
       "output_type": "pyout",
       "prompt_number": 5,
       "text": [
        "[None, None, None, None, None, None, None, None, None, None]"
       ]
      }
     ],
     "prompt_number": 5
    }
   ],
   "metadata": {}
  }
 ]
}