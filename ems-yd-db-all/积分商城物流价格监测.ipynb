{
 "metadata": {
  "name": "",
  "signature": "sha256:e95d6f808740b9fbde69cad94a5af64378deffbac6d07da3eda8871825a41f1a"
 },
 "nbformat": 3,
 "nbformat_minor": 0,
 "worksheets": [
  {
   "cells": [
    {
     "cell_type": "code",
     "collapsed": false,
     "input": [
      "import pandas as pd"
     ],
     "language": "python",
     "metadata": {},
     "outputs": [],
     "prompt_number": 1
    },
    {
     "cell_type": "code",
     "collapsed": false,
     "input": [
      "dstdict = {u'\u987a\u4e30':'sf-bj', u'\u5b85\u6025\u9001':'zjs-bj', u'\u5706\u901a':'yuantong-bj', u'EMS':'ems-bj',u'\u97f5\u8fbe':'yd-bj'}"
     ],
     "language": "python",
     "metadata": {},
     "outputs": [],
     "prompt_number": 2
    },
    {
     "cell_type": "code",
     "collapsed": false,
     "input": [
      "# PROV_FROM = [u'\u6c5f\u82cf\u7701-\u5357\u4eac\u5e02-\u6816\u971e\u533a', u'\u5e7f\u4e1c\u7701-\u5e7f\u5dde\u5e02-\u82b1\u90fd\u533a',u'\u5929\u6d25\u5e02-\u5929\u6d25\u5e02-\u4e1c\u4e3d\u533a', u'\u9655\u897f\u7701-\u897f\u5b89\u5e02-\u65b0\u57ce\u533a', u'\u56db\u5ddd\u7701-\u6210\u90fd\u5e02-\u9f99\u6cc9\u9a7f\u533a']"
     ],
     "language": "python",
     "metadata": {},
     "outputs": [],
     "prompt_number": 3
    },
    {
     "cell_type": "code",
     "collapsed": false,
     "input": [
      "# pricename = u'\u79ef\u5206\u5546\u57ce\u7269\u6d41\u4ef7\u683c\u76d1\u6d4b\u7ed3\u679c\u6a21\u677f201404.xlsx'\n",
      "pricename = u'\u5927\u533a\u4ed3\u7269\u6d41\u4ef7\u683c\u76d1\u6d4b\u7ed3\u679c201404.xlsx'\n",
      "# xls = xlrd.open_workbook(fname, on_demand=True)\n",
      "# rdc_name = xls.sheet_names()[1:]\n",
      "# rdc_name = [u'\u5357\u4eac\u5927\u533a\u4ed3\u59cb\u53d1', u'\u5e7f\u5dde\u5927\u533a\u4ed3\u59cb\u53d1', u'\u5929\u6d25\u5927\u533a\u4ed3\u59cb\u53d1', u'\u897f\u5b89\u5927\u533a\u4ed3\u59cb\u53d1', u'\u6210\u90fd\u5927\u533a\u4ed3\u59cb\u53d1']\n",
      "rdc_name  = [u'\u5706\u901a\uff08\u4e2d\u5fc3\u4ed3\uff09']"
     ],
     "language": "python",
     "metadata": {},
     "outputs": [],
     "prompt_number": 4
    },
    {
     "cell_type": "code",
     "collapsed": false,
     "input": [
      "rdc = map(lambda t: pd.read_excel(pricename,t),rdc_name)"
     ],
     "language": "python",
     "metadata": {},
     "outputs": [],
     "prompt_number": 5
    },
    {
     "cell_type": "code",
     "collapsed": false,
     "input": [
      "rdc_dict = dict(zip(rdc_name,rdc))"
     ],
     "language": "python",
     "metadata": {},
     "outputs": [],
     "prompt_number": 6
    },
    {
     "cell_type": "code",
     "collapsed": false,
     "input": [
      "rdc[0].columns"
     ],
     "language": "python",
     "metadata": {},
     "outputs": [
      {
       "metadata": {},
       "output_type": "pyout",
       "prompt_number": 7,
       "text": [
        "Index([u'\u7701\u7f16\u7801', u'\u7701\u540d\u79f0', u'\u5730\u5e02\u7f16\u7801', u'\u5730\u5e02\u540d\u79f0', u'\u533a\u53bf\u7f16\u7801', u'\u533a\u53bf\u540d\u79f0', u'\u7269\u6d41\u5546\u7f16\u7801', u'\u7269\u6d41\u5546\u540d\u79f0', u'\u4ed3\u5e93\u7f16\u7801', u'\u4ed3\u5e93\u540d\u79f0', u'\u7ed3\u7b97\u4ef7', u'EMS', u'\u987a\u4e30', u'\u5b85\u6025\u9001', u'\u97f5\u8fbe', u'\u5706\u901a', u'\u6700\u4f4e\u76d1\u6d4b\u4ef7\u683c', u'\u76d1\u6d4b\u7ed3\u679c'], dtype='object')"
       ]
      }
     ],
     "prompt_number": 7
    },
    {
     "cell_type": "code",
     "collapsed": false,
     "input": [
      "def pricefillin(dstname,fname):\n",
      "    rdc_data = open(fname,'r')\n",
      "    rdc_price = rdc_data.readlines()\n",
      "    for idx,x in enumerate(rdc_price):\n",
      "        temp = x.strip().split()\n",
      "        prov = temp[0].split('-')[0]\n",
      "        price = temp[1]\n",
      "        sheetname = rdc_name[idx/31]\n",
      "        print idx, sheetname, prov, price \n",
      "        rdctemp = rdc_dict[sheetname]\n",
      "        criterion = rdctemp[u'\u7701\u540d\u79f0'].map(lambda x: x.startswith(prov.decode('utf8')[:2]))\n",
      "        rdctemp.loc[criterion,dstname] = price"
     ],
     "language": "python",
     "metadata": {},
     "outputs": [],
     "prompt_number": 8
    },
    {
     "cell_type": "code",
     "collapsed": false,
     "input": [
      "for dstname,fname in dstdict.items():\n",
      "    print dstname,fname\n",
      "    pricefillin(dstname,fname)"
     ],
     "language": "python",
     "metadata": {},
     "outputs": [],
     "prompt_number": 13
    },
    {
     "cell_type": "code",
     "collapsed": false,
     "input": [
      "writer = pd.ExcelWriter(u'\u79ef\u5206\u5546\u57ce\u4e2d\u5fc3\u4ed3\u7269\u6d41\u4ef7\u683c\u76d1\u6d4b\u7ed3\u679c201404.xlsx')\n",
      "def wrtxlsx(key):\n",
      "    print key,rdc_dict[key]\n",
      "    rdc_dict[key].to_excel(writer, sheet_name=key, index=False)\n",
      "map(wrtxlsx,rdc_name)"
     ],
     "language": "python",
     "metadata": {},
     "outputs": [],
     "prompt_number": 12
    },
    {
     "cell_type": "code",
     "collapsed": false,
     "input": [
      "writer.save()"
     ],
     "language": "python",
     "metadata": {},
     "outputs": [],
     "prompt_number": 11
    },
    {
     "cell_type": "code",
     "collapsed": false,
     "input": [],
     "language": "python",
     "metadata": {},
     "outputs": []
    }
   ],
   "metadata": {}
  }
 ]
}