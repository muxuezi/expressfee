{
 "metadata": {
  "name": "",
  "signature": "sha256:8a3ce8de0a09ec414a3cec66814e57ed2f08867c6ade5bcfce11105ac5524aef"
 },
 "nbformat": 3,
 "nbformat_minor": 0,
 "worksheets": [
  {
   "cells": [
    {
     "cell_type": "code",
     "collapsed": false,
     "input": [
      "from selenium import webdriver\n",
      "from selenium.webdriver.common.keys import Keys\n",
      "from selenium.webdriver.support.ui import Select\n",
      "from selenium.common.exceptions import NoSuchElementException\n",
      "import pyperclip\n",
      "url = \"http://apps.webofknowledge.com/Search.do?product=WOS&SID=N1Au9YITo63eKzMHEhp&search_mode=Refine&prID=6b9b6b1e-51af-4b5d-9437-a90c8f3d4ee9\"\n",
      "driver = webdriver.Chrome('./chromedriver')\n",
      "driver.get(url)"
     ],
     "language": "python",
     "metadata": {},
     "outputs": [],
     "prompt_number": 10
    },
    {
     "cell_type": "code",
     "collapsed": false,
     "input": [
      "driver.find_element_by_id('needMoreForNatural').click()\n",
      "df = driver.find_element_by_class_name('paragraph')"
     ],
     "language": "python",
     "metadata": {},
     "outputs": [],
     "prompt_number": 11
    },
    {
     "cell_type": "code",
     "collapsed": false,
     "input": [
      "with open(searchedfname,'w') as f:\n",
      "    for p in df.text.split('\\n')[:-1]:\n",
      "        f.write(p+'\\n')"
     ],
     "language": "python",
     "metadata": {},
     "outputs": [],
     "prompt_number": 18
    },
    {
     "cell_type": "code",
     "collapsed": false,
     "input": [],
     "language": "python",
     "metadata": {},
     "outputs": []
    }
   ],
   "metadata": {}
  }
 ]
}