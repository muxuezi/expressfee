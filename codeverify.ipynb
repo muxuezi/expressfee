{
 "metadata": {
  "name": "",
  "signature": "sha256:3606af183ddfa09057cdb8beb6f484afacfbcc7eba4f0ef6e92bcb7f3a6c209a"
 },
 "nbformat": 3,
 "nbformat_minor": 0,
 "worksheets": [
  {
   "cells": [
    {
     "cell_type": "code",
     "collapsed": false,
     "input": [
      "import os\n",
      "f=os.popen(\"ocropus-rpred -Q 4 -m zhongtong.pyrnn.gz captcha.png\")\n",
      "tt = f.read()"
     ],
     "language": "python",
     "metadata": {},
     "outputs": [],
     "prompt_number": 1
    },
    {
     "cell_type": "code",
     "collapsed": false,
     "input": [
      "tt"
     ],
     "language": "python",
     "metadata": {},
     "outputs": [
      {
       "metadata": {},
       "output_type": "pyout",
       "prompt_number": 2,
       "text": [
        "'\\n########## /usr/local/bin/ocropus-rpred -Q 4 -m zhongtong.pyrnn.gz capt\\n\\n#inputs 1\\n# loading object zhongtong.pyrnn.gz\\ncaptcha.png : 7593\\n'"
       ]
      }
     ],
     "prompt_number": 2
    },
    {
     "cell_type": "code",
     "collapsed": false,
     "input": [
      "def yuantongpng(f):\n",
      "    img = Image.open(f)\n",
      "    img0 = img.convert(\"L\")\n",
      "    img0.show()\n",
      "    img1 = img0.point(lambda i: 0 if i < 120 else 255)\n",
      "    img1.save(f)\n",
      "    \n",
      "map(pngtrans,glob.glob('*.png'))"
     ],
     "language": "python",
     "metadata": {},
     "outputs": []
    },
    {
     "cell_type": "code",
     "collapsed": false,
     "input": [
      "def pngtrans(f):\n",
      "# f = 'captcha.png'\n",
      "    img = Image.open(f)\n",
      "    img1 = img.crop((15,0,30,25))\n",
      "    img2 = img.crop((30,0,45,25))\n",
      "    img3 = img.crop((45,0,60,25))\n",
      "    img1 = img1.offset(xoffset=0,yoffset=2)\n",
      "    img2 = img2.offset(xoffset=0,yoffset=-2)\n",
      "    img3 = img3.offset(xoffset=0,yoffset=1)\n",
      "    img.paste(img1,box=(15,0))\n",
      "    img.paste(img2,box=(30,0))\n",
      "    img.paste(img3,box=(45,0))\n",
      "    img0 = img.crop((0,6,60,22))\n",
      "#     img0.show()\n",
      "    img0.save(f)\n",
      "    \n",
      "map(pngtrans,glob.glob('*.png'))"
     ],
     "language": "python",
     "metadata": {},
     "outputs": [
      {
       "metadata": {},
       "output_type": "pyout",
       "prompt_number": 69,
       "text": [
        "[None, None]"
       ]
      }
     ],
     "prompt_number": 69
    },
    {
     "cell_type": "code",
     "collapsed": false,
     "input": [
      "f = 'captcha.png'\n",
      "img = Image.open(f)\n",
      "img1 = img.crop((15,0,30,25))\n",
      "img1.crop()"
     ],
     "language": "python",
     "metadata": {},
     "outputs": [
      {
       "metadata": {},
       "output_type": "pyout",
       "prompt_number": 5,
       "text": [
        "<PIL.Image.Image image mode=RGB size=15x25 at 0x7F61A40617A0>"
       ]
      }
     ],
     "prompt_number": 5
    },
    {
     "cell_type": "code",
     "collapsed": false,
     "input": [
      "import urllib\n",
      "import random\n",
      "import Image\n",
      "import os\n",
      "import glob"
     ],
     "language": "python",
     "metadata": {},
     "outputs": [],
     "prompt_number": 1
    },
    {
     "cell_type": "code",
     "collapsed": false,
     "input": [
      "class somcode(object):\n",
      "\n",
      "    def __init__(self, url, fname, pieces):\n",
      "        self.url = url\n",
      "        self.fname = fname\n",
      "        self.pieces = pieces\n",
      "\n",
      "    def download(self):\n",
      "        map(lambda i:file('./' + self.fname + \"/%04d.aspx\" % random.randrange(10000), \"wb\")\n",
      "            .write(urllib.urlopen(url).read()), range(self.pieces))\n",
      "\n",
      "# url = 'http://ows-dfppe.sf-express.com/ows-dfp/html/validateCode?name=RATEENQUIRY'\n",
      "# fname = 'sf'\n",
      "# url = 'http://www.zjs.com.cn/VerifyImg.aspx'\n",
      "# fname = 'zjs'        \n",
      "# url = 'http://www.yto.net.cn/Controller/ValidateCode.aspx'\n",
      "# fname = 'yt'\n",
      "\n",
      "url = 'http://www.zto.cn/CheckCode.aspx'\n",
      "fname = 'zhongtong'\n",
      "pieces = 100\n",
      "\n",
      "ytRec = somcode(url, fname, pieces)\n",
      "ytRec.download()"
     ],
     "language": "python",
     "metadata": {},
     "outputs": [
      {
       "output_type": "stream",
       "stream": "stdout",
       "text": [
        "convert.im6: unable to open image `*.aspx': \u6ca1\u6709\u90a3\u4e2a\u6587\u4ef6\u6216\u76ee\u5f55 @ error/blob.c/OpenBlob/2638.\r\n",
        "convert.im6: no decode delegate for this image format `*.aspx' @ error/constitute.c/ReadImage/544.\r\n",
        "convert.im6: no images defined `a.png' @ error/convert.c/ConvertImageCommand/3044.\r\n"
       ]
      }
     ],
     "prompt_number": 3
    },
    {
     "cell_type": "code",
     "collapsed": false,
     "input": [
      "# f = './zjs/0170.aspx'\n",
      "# img = Image.open(f)\n",
      "# source = img.convert(\"RGB\")\n",
      "# for x in range(60):\n",
      "#     for y in range(20):\n",
      "#         if source.getpixel((x,y)) != (255, 255, 255):\n",
      "#             print source.getpixel((x,y))"
     ],
     "language": "python",
     "metadata": {},
     "outputs": [],
     "prompt_number": 4
    },
    {
     "cell_type": "code",
     "collapsed": false,
     "input": [
      "# class Codecutting(object):\n",
      "\n",
      "#     def __init__(self, fname, width, height, marginleft, margintop):\n",
      "#         self.fname = fname\n",
      "#         self.ffont = fname + 'font'\n",
      "#         self.width = width\n",
      "#         self.height = height\n",
      "#         self.marginleft = marginleft\n",
      "#         self.margintop = margintop\n",
      "        \n",
      "#     def clearf(self,f):\n",
      "#         f = \"./\" + self.fname + '/' + f\n",
      "#         img = Image.open(f)\n",
      "#         img = img.convert(\"RGB\")\n",
      "#         source = img.split()\n",
      "#         img = source[1].point(lambda i: 255 if i > 100 else i)\n",
      "#         img.save(os.path.splitext(f)[0] + '.png')\n",
      "        \n",
      "#     def cutascii(self, f):\n",
      "#         f = \"./\" + self.fname + '/' + f\n",
      "#         for i in range(4):\n",
      "#             x = marginleft + i * width\n",
      "#             y = margintop\n",
      "#             img.crop(\n",
      "#                 (x, y, x + width, y + height)).save(\"./\" + self.ffont + \"/%04d.png\" %\n",
      "#                                                     random.randrange(10000))\n",
      "#     def readfile(self):\n",
      "#         return filter(lambda f: f.endswith(\".aspx\"), os.listdir(\"./\" + self.fname))\n",
      "\n",
      "#     def cutall(self):\n",
      "#         map(lambda f: self.cutascii(f), self.readfile())\n",
      "        \n",
      "#     def clearall(self):\n",
      "#         map(lambda f: self.clearf(f), self.readfile())\n",
      "\n",
      "# fname = 'yt'\n",
      "# widths = [8,10,11,13]\n",
      "# height = 11\n",
      "# marginleft = 8\n",
      "# margintop = 7\n",
      "\n",
      "# ytcut = Codecutting(fname, width, height, marginleft, margintop)\n",
      "# ytcut.clearall()\n",
      "# # ytcut.cutall()\n",
      "# print 'KO'"
     ],
     "language": "python",
     "metadata": {},
     "outputs": [],
     "prompt_number": 23
    },
    {
     "cell_type": "code",
     "collapsed": false,
     "input": [
      "# # data verify\n",
      "# class dataverify(object):\n",
      "#     def __init__(self, fname, widths, height, marginleft, margintop, intervals):\n",
      "#         self.fname = fname\n",
      "#         self.widtsh = widths\n",
      "#         self.height = height\n",
      "#         self.marginleft = marginleft\n",
      "#         self.margintop = margintop\n",
      "        \n",
      "#     def fontset(self):\n",
      "#         fontMods = []\n",
      "#         for i in filter(lambda x:x != 1, range(10)):\n",
      "#             fontMods.append((str(i), Image.open(\"./ytunit/%d.png\" % i).convert('1')))\n",
      "#         for i in filter(lambda x:x != 8, range(26)):\n",
      "#             c = chr(ord('A') + i)\n",
      "#             fontMods.append((c, Image.open(\"./ytunit/%s.png\" % c).convert('1')))\n",
      "#         return fontMods\n",
      "        \n",
      "#     def recognize(self,imgfile):\n",
      "#         fontMods = self.fontset()\n",
      "#         im = Image.open(imgfile)\n",
      "#         im = im.convert('1')\n",
      "#         result = [\"./ytfont/\"]\n",
      "#         for i in range(4):\n",
      "#             points = []\n",
      "#             for interval in intervals:\n",
      "#                 for width in widths:\n",
      "#                     x = marginleft + i * (interval + width)\n",
      "#                     y = margintop\n",
      "#                     target = im.crop((x, y, x + width, y + height))\n",
      "#                     for mod in fontMods:\n",
      "#                         diffs = 0\n",
      "#                         for yi in range(height):\n",
      "#                             for xi in range(min(width,mod[1].size[0])):\n",
      "#                                 if mod[1].getpixel((xi, yi)) != target.getpixel((xi, yi)):\n",
      "#                                     diffs += 1\n",
      "#                         points.append((diffs, mod[0]))\n",
      "#             points.sort()\n",
      "#             result.append(points[0][1])\n",
      "#         result = ''.join(str(i) for i in result) + \".png\"\n",
      "#         im.save(result)\n",
      "        \n",
      "#     def writeresult(self):\n",
      "#         for imgfile in os.listdir(self.fname):\n",
      "#             if imgfile.endswith(\".png\"):\n",
      "#                 imgfile = self.fname+imgfile\n",
      "#                 self.recognize(imgfile)\n",
      "\n",
      "# fname = './yt/'                \n",
      "# widths = [8,9,13]\n",
      "# height = 11\n",
      "# marginleft = 8\n",
      "# margintop = 7\n",
      "# intervals = [0,1]\n",
      "\n",
      "# datav = dataverify(fname, widths, height, marginleft, margintop, intervals)\n",
      "# datav.writeresult()\n",
      "\n",
      "# print 'KO'"
     ],
     "language": "python",
     "metadata": {},
     "outputs": [
      {
       "output_type": "stream",
       "stream": "stdout",
       "text": [
        "KO\n"
       ]
      }
     ],
     "prompt_number": 14
    }
   ],
   "metadata": {}
  }
 ]
}