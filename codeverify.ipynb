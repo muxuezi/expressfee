{
 "metadata": {
  "name": ""
 },
 "nbformat": 3,
 "nbformat_minor": 0,
 "worksheets": [
  {
   "cells": [
    {
     "cell_type": "code",
     "collapsed": false,
     "input": [
      "import urllib\n",
      "import random\n",
      "import Image\n",
      "import os"
     ],
     "language": "python",
     "metadata": {},
     "outputs": [],
     "prompt_number": 2
    },
    {
     "cell_type": "code",
     "collapsed": false,
     "input": [
      "class Recognition(object):\n",
      "\n",
      "    def __init__(self, url, fname, pieces):\n",
      "        self.url = url\n",
      "        self.fname = fname\n",
      "        self.pieces = pieces\n",
      "\n",
      "    def recognit(self):\n",
      "        map(lambda i:file('./' + self.fname + \"/%04d.aspx\" % random.randrange(10000), \"wb\")\n",
      "            .write(urllib.urlopen(url).read()), range(self.pieces))\n",
      "        \n",
      "url = 'http://www.yto.net.cn/Controller/ValidateCode.aspx'\n",
      "fname = 'yt'\n",
      "font = 'Arail Bold 15px'\n",
      "pieces = 50\n",
      "\n",
      "ytRec = Recognition(url, fname, pieces)\n",
      "ytRec.recognit()"
     ],
     "language": "python",
     "metadata": {},
     "outputs": [],
     "prompt_number": 2
    },
    {
     "cell_type": "code",
     "collapsed": false,
     "input": [
      "class Codecutting(object):\n",
      "\n",
      "    def __init__(self, fname, width, height, marginleft, margintop):\n",
      "        self.fname = fname\n",
      "        self.ffont = fname + 'font'\n",
      "        self.width = width\n",
      "        self.height = height\n",
      "        self.marginleft = marginleft\n",
      "        self.margintop = margintop\n",
      "        \n",
      "    def clearf(self,f):\n",
      "        f = \"./\" + self.fname + '/' + f\n",
      "        img = Image.open(f)\n",
      "        img = img.convert(\"RGB\")\n",
      "        source = img.split()\n",
      "        img = source[1].point(lambda i: 255 if i > 100 else i)\n",
      "        img.save(os.path.splitext(f)[0] + '.png')\n",
      "        \n",
      "    def cutascii(self, f):\n",
      "        f = \"./\" + self.fname + '/' + f\n",
      "        for i in range(4):\n",
      "            x = marginleft + i * width\n",
      "            y = margintop\n",
      "            img.crop(\n",
      "                (x, y, x + width, y + height)).save(\"./\" + self.ffont + \"/%04d.png\" %\n",
      "                                                    random.randrange(10000))\n",
      "    def readfile(self):\n",
      "        return filter(lambda f: f.endswith(\".aspx\"), os.listdir(\"./\" + self.fname))\n",
      "\n",
      "    def cutall(self):\n",
      "        map(lambda f: self.cutascii(f), self.readfile())\n",
      "        \n",
      "    def clearall(self):\n",
      "        map(lambda f: self.clearf(f), self.readfile())\n",
      "\n",
      "fname = 'yt'\n",
      "widths = [8,10,11,13]\n",
      "height = 11\n",
      "marginleft = 8\n",
      "margintop = 7\n",
      "\n",
      "ytcut = Codecutting(fname, width, height, marginleft, margintop)\n",
      "ytcut.clearall()\n",
      "# ytcut.cutall()\n",
      "print 'KO'"
     ],
     "language": "python",
     "metadata": {},
     "outputs": [
      {
       "output_type": "stream",
       "stream": "stdout",
       "text": [
        "KO\n"
       ]
      }
     ],
     "prompt_number": 67
    },
    {
     "cell_type": "code",
     "collapsed": false,
     "input": [
      "# load font modules  (char, image)\n",
      "widths = range(7,15)\n",
      "height = 11\n",
      "marginlefts = 8\n",
      "margintop = 7\n",
      "intervals = [0,1]\n",
      "fontMods = []\n",
      "for i in range(10):\n",
      "    fontMods.append((str(i), Image.open(\"./ytunit/%d.png\" % i).convert('1')))\n",
      "for i in range(26):\n",
      "    c = chr(ord('A') + i)\n",
      "    fontMods.append((c, Image.open(\"./ytunit/%s.png\" % c).convert('1')))\n",
      "def recognize(f):\n",
      "    im = Image.open(f)\n",
      "    im = im.convert('1')\n",
      "    result = [\"./ytfont/\"]\n",
      "    for i in range(4):\n",
      "        points = []\n",
      "        for interval in intervals:\n",
      "            for width in widths:\n",
      "                x = marginleft + i * (interval + width)\n",
      "                y = margintop\n",
      "                target = im.crop((x, y, x + width, y + height))\n",
      "                for mod in fontMods:\n",
      "                    diffs = 0\n",
      "                    for yi in range(11):\n",
      "                        for xi in range(min(width,mod[1].size[0])):\n",
      "                            if mod[1].getpixel((xi, yi)) != target.getpixel((xi, yi)):\n",
      "                                diffs += 1\n",
      "                    points.append((diffs, mod[0]))\n",
      "        points.sort()\n",
      "        result.append(points[0][1])\n",
      "    result = ''.join(str(i) for i in result) + \".png\"\n",
      "    im.save(result);\n",
      "\n",
      "for imgfile in os.listdir(\"./yt\"):\n",
      "    if imgfile.endswith(\".png\"):\n",
      "        imgfile = \"./yt/\"+imgfile\n",
      "        recognize(imgfile)\n",
      "print 'KO'"
     ],
     "language": "python",
     "metadata": {},
     "outputs": [
      {
       "output_type": "stream",
       "stream": "stdout",
       "text": [
        "KO\n"
       ]
      }
     ],
     "prompt_number": 66
    }
   ],
   "metadata": {}
  }
 ]
}